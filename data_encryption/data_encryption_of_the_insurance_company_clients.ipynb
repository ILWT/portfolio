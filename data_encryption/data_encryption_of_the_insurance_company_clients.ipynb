{
 "cells": [
  {
   "cell_type": "markdown",
   "metadata": {
    "id": "lLa4rHfaiTyG",
    "toc": true
   },
   "source": [
    "<h1>Содержание<span class=\"tocSkip\"></span></h1>\n",
    "<div class=\"toc\"><ul class=\"toc-item\"><li><span><a href=\"#Загрузка-данных\" data-toc-modified-id=\"Загрузка-данных-1\"><span class=\"toc-item-num\">1&nbsp;&nbsp;</span>Загрузка данных</a></span></li><li><span><a href=\"#Умножение-матриц\" data-toc-modified-id=\"Умножение-матриц-2\"><span class=\"toc-item-num\">2&nbsp;&nbsp;</span>Умножение матриц</a></span></li><li><span><a href=\"#Алгоритм-преобразования\" data-toc-modified-id=\"Алгоритм-преобразования-3\"><span class=\"toc-item-num\">3&nbsp;&nbsp;</span>Алгоритм преобразования</a></span></li><li><span><a href=\"#Проверка-алгоритма\" data-toc-modified-id=\"Проверка-алгоритма-4\"><span class=\"toc-item-num\">4&nbsp;&nbsp;</span>Проверка алгоритма</a></span></li></ul></div>"
   ]
  },
  {
   "cell_type": "markdown",
   "metadata": {
    "id": "By4oiuoViTyX"
   },
   "source": [
    "# Защита персональных данных клиентов"
   ]
  },
  {
   "cell_type": "markdown",
   "metadata": {
    "id": "lxNXAIuriTya"
   },
   "source": [
    "Нам нужно защитить данные клиентов страховой компании. Необходимо разработать такой метод преобразования данных, чтобы по ним было сложно восстановить персональную информацию, и обосновать корректность его работы.\n",
    "\n",
    "Нужно защитить данные, чтобы при преобразовании качество моделей машинного обучения не ухудшилось. Подбирать наилучшую модель в данной задаче не требуется."
   ]
  },
  {
   "cell_type": "markdown",
   "metadata": {},
   "source": [
    "## План работы"
   ]
  },
  {
   "cell_type": "markdown",
   "metadata": {},
   "source": [
    "1) Загрузить и изучить данные.\n",
    "2) Ответить на вопрос и обосновать решение: \n",
    " Признаки умножают на обратимую матрицу. Изменится ли качество линейной регрессии?\n",
    " - Изменится. Привести примеры матриц.\n",
    " - Не изменится. Указать, как связаны параметры линейной регрессии в исходной задаче и в преобразованной.\n",
    "3) Предложить алгоритм преобразования данных для решения задачи. Обосновать, почему качество линейной регрессии не поменяется.\n",
    "4) Запрограммировать этот алгоритм, применив матричные операции. Проверить, что качество линейной регрессии из sklearn не отличается до и после преобразования. Применять метрику R2."
   ]
  },
  {
   "cell_type": "markdown",
   "metadata": {
    "id": "axtGC0b3iTyb"
   },
   "source": [
    "## Загрузка данных"
   ]
  },
  {
   "cell_type": "code",
   "execution_count": 1,
   "metadata": {
    "id": "m_E6K31JiTyc"
   },
   "outputs": [],
   "source": [
    "import pandas as pd\n",
    "import numpy as np\n",
    "\n",
    "from sklearn.model_selection import train_test_split\n",
    "from sklearn.linear_model import LinearRegression\n",
    "from sklearn.metrics import r2_score"
   ]
  },
  {
   "cell_type": "code",
   "execution_count": 2,
   "metadata": {
    "id": "GUd7ae98i41w"
   },
   "outputs": [],
   "source": [
    "try:\n",
    "    df = pd.read_csv('/datasets/insurance.csv')\n",
    "except:\n",
    "    df = pd.read_csv('https://code.s3.yandex.net/datasets/insurance.csv')"
   ]
  },
  {
   "cell_type": "markdown",
   "metadata": {},
   "source": [
    "Изучим данные:"
   ]
  },
  {
   "cell_type": "code",
   "execution_count": 3,
   "metadata": {
    "colab": {
     "base_uri": "https://localhost:8080/"
    },
    "id": "Jy3SwD8gkqIj",
    "outputId": "3a710fd1-db5d-4954-9156-0f84708cf5aa"
   },
   "outputs": [
    {
     "name": "stdout",
     "output_type": "stream",
     "text": [
      "   Пол  Возраст  Зарплата  Члены семьи  Страховые выплаты\n",
      "0    1     41.0   49600.0            1                  0\n",
      "1    0     46.0   38000.0            1                  1\n",
      "2    0     29.0   21000.0            0                  0\n",
      "3    0     21.0   41700.0            2                  0\n",
      "4    1     28.0   26100.0            0                  0\n"
     ]
    }
   ],
   "source": [
    "print(df.head())"
   ]
  },
  {
   "cell_type": "code",
   "execution_count": 4,
   "metadata": {
    "colab": {
     "base_uri": "https://localhost:8080/"
    },
    "id": "kl2jXtnel3_f",
    "outputId": "31184052-109c-4c5d-b2a7-5f98579141e2"
   },
   "outputs": [
    {
     "name": "stdout",
     "output_type": "stream",
     "text": [
      "<class 'pandas.core.frame.DataFrame'>\n",
      "RangeIndex: 5000 entries, 0 to 4999\n",
      "Data columns (total 5 columns):\n",
      " #   Column             Non-Null Count  Dtype  \n",
      "---  ------             --------------  -----  \n",
      " 0   Пол                5000 non-null   int64  \n",
      " 1   Возраст            5000 non-null   float64\n",
      " 2   Зарплата           5000 non-null   float64\n",
      " 3   Члены семьи        5000 non-null   int64  \n",
      " 4   Страховые выплаты  5000 non-null   int64  \n",
      "dtypes: float64(2), int64(3)\n",
      "memory usage: 195.4 KB\n"
     ]
    }
   ],
   "source": [
    "df.info()"
   ]
  },
  {
   "cell_type": "markdown",
   "metadata": {},
   "source": [
    "Изменим типы данных, где необходимо:"
   ]
  },
  {
   "cell_type": "code",
   "execution_count": 5,
   "metadata": {
    "id": "-aGniXT3l4Dv"
   },
   "outputs": [],
   "source": [
    "df['Возраст'] = df['Возраст'].astype('int')\n",
    "df['Зарплата'] = df['Зарплата'].astype('int')"
   ]
  },
  {
   "cell_type": "code",
   "execution_count": 6,
   "metadata": {
    "colab": {
     "base_uri": "https://localhost:8080/"
    },
    "id": "Z-vEWqN2l4GM",
    "outputId": "610658a0-fdd5-46c2-c48d-817c5c497b26"
   },
   "outputs": [
    {
     "name": "stdout",
     "output_type": "stream",
     "text": [
      "<class 'pandas.core.frame.DataFrame'>\n",
      "RangeIndex: 5000 entries, 0 to 4999\n",
      "Data columns (total 5 columns):\n",
      " #   Column             Non-Null Count  Dtype\n",
      "---  ------             --------------  -----\n",
      " 0   Пол                5000 non-null   int64\n",
      " 1   Возраст            5000 non-null   int64\n",
      " 2   Зарплата           5000 non-null   int64\n",
      " 3   Члены семьи        5000 non-null   int64\n",
      " 4   Страховые выплаты  5000 non-null   int64\n",
      "dtypes: int64(5)\n",
      "memory usage: 195.4 KB\n"
     ]
    }
   ],
   "source": [
    "df.info()"
   ]
  },
  {
   "cell_type": "markdown",
   "metadata": {},
   "source": [
    "Проверим на дубликаты:"
   ]
  },
  {
   "cell_type": "code",
   "execution_count": 7,
   "metadata": {
    "colab": {
     "base_uri": "https://localhost:8080/",
     "height": 423
    },
    "id": "epAVmrPNl4Im",
    "outputId": "0bb8b269-3a51-4c25-c8f1-66791e591909"
   },
   "outputs": [
    {
     "data": {
      "text/html": [
       "<div>\n",
       "<style scoped>\n",
       "    .dataframe tbody tr th:only-of-type {\n",
       "        vertical-align: middle;\n",
       "    }\n",
       "\n",
       "    .dataframe tbody tr th {\n",
       "        vertical-align: top;\n",
       "    }\n",
       "\n",
       "    .dataframe thead th {\n",
       "        text-align: right;\n",
       "    }\n",
       "</style>\n",
       "<table border=\"1\" class=\"dataframe\">\n",
       "  <thead>\n",
       "    <tr style=\"text-align: right;\">\n",
       "      <th></th>\n",
       "      <th>Пол</th>\n",
       "      <th>Возраст</th>\n",
       "      <th>Зарплата</th>\n",
       "      <th>Члены семьи</th>\n",
       "      <th>Страховые выплаты</th>\n",
       "    </tr>\n",
       "  </thead>\n",
       "  <tbody>\n",
       "    <tr>\n",
       "      <th>281</th>\n",
       "      <td>1</td>\n",
       "      <td>39</td>\n",
       "      <td>48100</td>\n",
       "      <td>1</td>\n",
       "      <td>0</td>\n",
       "    </tr>\n",
       "    <tr>\n",
       "      <th>488</th>\n",
       "      <td>1</td>\n",
       "      <td>24</td>\n",
       "      <td>32900</td>\n",
       "      <td>1</td>\n",
       "      <td>0</td>\n",
       "    </tr>\n",
       "    <tr>\n",
       "      <th>513</th>\n",
       "      <td>0</td>\n",
       "      <td>31</td>\n",
       "      <td>37400</td>\n",
       "      <td>2</td>\n",
       "      <td>0</td>\n",
       "    </tr>\n",
       "    <tr>\n",
       "      <th>718</th>\n",
       "      <td>1</td>\n",
       "      <td>22</td>\n",
       "      <td>32600</td>\n",
       "      <td>1</td>\n",
       "      <td>0</td>\n",
       "    </tr>\n",
       "    <tr>\n",
       "      <th>785</th>\n",
       "      <td>0</td>\n",
       "      <td>20</td>\n",
       "      <td>35800</td>\n",
       "      <td>0</td>\n",
       "      <td>0</td>\n",
       "    </tr>\n",
       "    <tr>\n",
       "      <th>...</th>\n",
       "      <td>...</td>\n",
       "      <td>...</td>\n",
       "      <td>...</td>\n",
       "      <td>...</td>\n",
       "      <td>...</td>\n",
       "    </tr>\n",
       "    <tr>\n",
       "      <th>4793</th>\n",
       "      <td>1</td>\n",
       "      <td>24</td>\n",
       "      <td>37800</td>\n",
       "      <td>0</td>\n",
       "      <td>0</td>\n",
       "    </tr>\n",
       "    <tr>\n",
       "      <th>4902</th>\n",
       "      <td>1</td>\n",
       "      <td>35</td>\n",
       "      <td>38700</td>\n",
       "      <td>1</td>\n",
       "      <td>0</td>\n",
       "    </tr>\n",
       "    <tr>\n",
       "      <th>4935</th>\n",
       "      <td>1</td>\n",
       "      <td>19</td>\n",
       "      <td>32700</td>\n",
       "      <td>0</td>\n",
       "      <td>0</td>\n",
       "    </tr>\n",
       "    <tr>\n",
       "      <th>4945</th>\n",
       "      <td>1</td>\n",
       "      <td>21</td>\n",
       "      <td>45800</td>\n",
       "      <td>0</td>\n",
       "      <td>0</td>\n",
       "    </tr>\n",
       "    <tr>\n",
       "      <th>4965</th>\n",
       "      <td>0</td>\n",
       "      <td>22</td>\n",
       "      <td>40100</td>\n",
       "      <td>1</td>\n",
       "      <td>0</td>\n",
       "    </tr>\n",
       "  </tbody>\n",
       "</table>\n",
       "<p>153 rows × 5 columns</p>\n",
       "</div>"
      ],
      "text/plain": [
       "      Пол  Возраст  Зарплата  Члены семьи  Страховые выплаты\n",
       "281     1       39     48100            1                  0\n",
       "488     1       24     32900            1                  0\n",
       "513     0       31     37400            2                  0\n",
       "718     1       22     32600            1                  0\n",
       "785     0       20     35800            0                  0\n",
       "...   ...      ...       ...          ...                ...\n",
       "4793    1       24     37800            0                  0\n",
       "4902    1       35     38700            1                  0\n",
       "4935    1       19     32700            0                  0\n",
       "4945    1       21     45800            0                  0\n",
       "4965    0       22     40100            1                  0\n",
       "\n",
       "[153 rows x 5 columns]"
      ]
     },
     "execution_count": 7,
     "metadata": {},
     "output_type": "execute_result"
    }
   ],
   "source": [
    "df[df.duplicated()]"
   ]
  },
  {
   "cell_type": "markdown",
   "metadata": {
    "id": "ziSpEMSlmlgm"
   },
   "source": [
    "Так как мы не знаем, соответствует ли распределение выборки распределению генеральной совокупности, оставим дубликаты."
   ]
  },
  {
   "cell_type": "markdown",
   "metadata": {},
   "source": [
    "Выведем статистику по данным:"
   ]
  },
  {
   "cell_type": "code",
   "execution_count": 8,
   "metadata": {
    "colab": {
     "base_uri": "https://localhost:8080/",
     "height": 300
    },
    "id": "A_Yobwsum0Ri",
    "outputId": "863dc2d2-53cc-4fe3-b30c-34910ff407ef"
   },
   "outputs": [
    {
     "data": {
      "text/html": [
       "<div>\n",
       "<style scoped>\n",
       "    .dataframe tbody tr th:only-of-type {\n",
       "        vertical-align: middle;\n",
       "    }\n",
       "\n",
       "    .dataframe tbody tr th {\n",
       "        vertical-align: top;\n",
       "    }\n",
       "\n",
       "    .dataframe thead th {\n",
       "        text-align: right;\n",
       "    }\n",
       "</style>\n",
       "<table border=\"1\" class=\"dataframe\">\n",
       "  <thead>\n",
       "    <tr style=\"text-align: right;\">\n",
       "      <th></th>\n",
       "      <th>Пол</th>\n",
       "      <th>Возраст</th>\n",
       "      <th>Зарплата</th>\n",
       "      <th>Члены семьи</th>\n",
       "      <th>Страховые выплаты</th>\n",
       "    </tr>\n",
       "  </thead>\n",
       "  <tbody>\n",
       "    <tr>\n",
       "      <th>count</th>\n",
       "      <td>5000.000000</td>\n",
       "      <td>5000.000000</td>\n",
       "      <td>5000.000000</td>\n",
       "      <td>5000.000000</td>\n",
       "      <td>5000.000000</td>\n",
       "    </tr>\n",
       "    <tr>\n",
       "      <th>mean</th>\n",
       "      <td>0.499000</td>\n",
       "      <td>30.952800</td>\n",
       "      <td>39916.359400</td>\n",
       "      <td>1.194200</td>\n",
       "      <td>0.148000</td>\n",
       "    </tr>\n",
       "    <tr>\n",
       "      <th>std</th>\n",
       "      <td>0.500049</td>\n",
       "      <td>8.440807</td>\n",
       "      <td>9900.082063</td>\n",
       "      <td>1.091387</td>\n",
       "      <td>0.463183</td>\n",
       "    </tr>\n",
       "    <tr>\n",
       "      <th>min</th>\n",
       "      <td>0.000000</td>\n",
       "      <td>18.000000</td>\n",
       "      <td>5300.000000</td>\n",
       "      <td>0.000000</td>\n",
       "      <td>0.000000</td>\n",
       "    </tr>\n",
       "    <tr>\n",
       "      <th>25%</th>\n",
       "      <td>0.000000</td>\n",
       "      <td>24.000000</td>\n",
       "      <td>33300.000000</td>\n",
       "      <td>0.000000</td>\n",
       "      <td>0.000000</td>\n",
       "    </tr>\n",
       "    <tr>\n",
       "      <th>50%</th>\n",
       "      <td>0.000000</td>\n",
       "      <td>30.000000</td>\n",
       "      <td>40200.000000</td>\n",
       "      <td>1.000000</td>\n",
       "      <td>0.000000</td>\n",
       "    </tr>\n",
       "    <tr>\n",
       "      <th>75%</th>\n",
       "      <td>1.000000</td>\n",
       "      <td>37.000000</td>\n",
       "      <td>46600.000000</td>\n",
       "      <td>2.000000</td>\n",
       "      <td>0.000000</td>\n",
       "    </tr>\n",
       "    <tr>\n",
       "      <th>max</th>\n",
       "      <td>1.000000</td>\n",
       "      <td>65.000000</td>\n",
       "      <td>79000.000000</td>\n",
       "      <td>6.000000</td>\n",
       "      <td>5.000000</td>\n",
       "    </tr>\n",
       "  </tbody>\n",
       "</table>\n",
       "</div>"
      ],
      "text/plain": [
       "               Пол      Возраст      Зарплата  Члены семьи  Страховые выплаты\n",
       "count  5000.000000  5000.000000   5000.000000  5000.000000        5000.000000\n",
       "mean      0.499000    30.952800  39916.359400     1.194200           0.148000\n",
       "std       0.500049     8.440807   9900.082063     1.091387           0.463183\n",
       "min       0.000000    18.000000   5300.000000     0.000000           0.000000\n",
       "25%       0.000000    24.000000  33300.000000     0.000000           0.000000\n",
       "50%       0.000000    30.000000  40200.000000     1.000000           0.000000\n",
       "75%       1.000000    37.000000  46600.000000     2.000000           0.000000\n",
       "max       1.000000    65.000000  79000.000000     6.000000           5.000000"
      ]
     },
     "execution_count": 8,
     "metadata": {},
     "output_type": "execute_result"
    }
   ],
   "source": [
    "df.describe()"
   ]
  },
  {
   "cell_type": "markdown",
   "metadata": {},
   "source": [
    "Видим, что аномалий в данных нет."
   ]
  },
  {
   "cell_type": "markdown",
   "metadata": {
    "id": "AdUq18k-iTye"
   },
   "source": [
    "## Умножение матриц"
   ]
  },
  {
   "cell_type": "markdown",
   "metadata": {},
   "source": [
    "Разработаем алгоритм шифрования и докажем его эффективность:"
   ]
  },
  {
   "cell_type": "markdown",
   "metadata": {
    "id": "CLQlBxVjiTyh"
   },
   "source": [
    "Обозначения:\n",
    "\n",
    "- $X$ — матрица признаков (нулевой столбец состоит из единиц)\n",
    "\n",
    "- $y$ — вектор целевого признака\n",
    "\n",
    "- $P$ — матрица, на которую умножаются признаки\n",
    "\n",
    "- $w$ — вектор весов линейной регрессии (нулевой элемент равен сдвигу)"
   ]
  },
  {
   "cell_type": "markdown",
   "metadata": {
    "id": "sFsgDi1_iTyj"
   },
   "source": [
    "Предсказания:\n",
    "\n",
    "$$\n",
    "a = Xw\n",
    "$$\n",
    "\n",
    "Задача обучения:\n",
    "\n",
    "$$\n",
    "w = \\arg\\min_w MSE(Xw, y)\n",
    "$$\n",
    "\n",
    "Формула обучения:\n",
    "\n",
    "$$\n",
    "w = (X^T X)^{-1} X^T y\n",
    "$$"
   ]
  },
  {
   "cell_type": "markdown",
   "metadata": {
    "id": "OVAxrFTliTyl"
   },
   "source": [
    "**Ответ:** Качество не должно измениться, т. к. предсказания у двух моделей будут одинаковыми, т. е. $XPw_1 = Xw$\n",
    "\n",
    "**Обоснование:**\n",
    "1. Найдем веса линейной регрессии на зашифрованных данных \\\n",
    "$X P w_1 = y_1$\\\n",
    "$(XP)^T X P w_1 = (XP)^T y_1$\\\n",
    "$w_1 = ((XP)^T XP)^{-1} (XP)^T y_1$\n",
    "2. Преобразуем полученное выражение \\\n",
    "$w_1 = (P^T X^T XP)^{-1} P^T X^T y_1$\\\n",
    "$w_1 = ((P^T X^T X) P)^{-1} P^T X^T y_1$\\\n",
    "$w_1 = P^{-1} (P^T X^T X)^{-1} P^T X^T y_1$\\\n",
    "$w_1 = P^{-1} (P^T (X^T X))^{-1} P^T X^T y_1$\\\n",
    "$w_1 = P^{-1} (X^T X)^{-1} (P^T)^{-1} P^T X^T y_1$\\\n",
    "$w_1 = P^{-1} (X^T X)^{-1} I X^T y_1$\\\n",
    "$w_1 = P^{-1} (X^T X)^{-1} X^T y_1$\n",
    "3. Выведем равенство $X_1 w_1 = Xw$, где $X_1 = XP, y = y_1$\\\n",
    "$X_1 w_1 = XPw_1 = XP P^{-1} (X^T X)^{-1} X^T y_1$\\\n",
    "$X_1 w_1 = X I (X^T X)^{-1} X^T y_1$\\\n",
    "$X_1 w_1 = X (X^T X)^{-1} X^T y_1 = Xw$"
   ]
  },
  {
   "cell_type": "markdown",
   "metadata": {
    "id": "a4AbzZKWAJuR"
   },
   "source": [
    "Размерности весов исходной задачи и весов, полученных из зашифрованных данных, одинаковы."
   ]
  },
  {
   "cell_type": "markdown",
   "metadata": {
    "id": "ppT86uzziTym"
   },
   "source": [
    "## Алгоритм преобразования"
   ]
  },
  {
   "cell_type": "markdown",
   "metadata": {
    "id": "Rbd975XoiTyn"
   },
   "source": [
    "**Алгоритм**\n",
    "\n",
    "Для создания зашифрованных данных умножим справа исходный датафрейм на случайную квадратную матрицу P, полученных из данных нормального распределения.\n",
    "Далее рассчитаем предсказания на исходных и зашифрованных данных, рассчитаем метрики R2 и сравним их."
   ]
  },
  {
   "cell_type": "markdown",
   "metadata": {
    "id": "qYPDvZSJiTyo"
   },
   "source": [
    "**Обоснование**\n",
    "\n",
    "Данная трансформация не должна привести к снижению качества, исходя из п. 2."
   ]
  },
  {
   "cell_type": "markdown",
   "metadata": {
    "id": "q_I_mgsliTyp"
   },
   "source": [
    "## Проверка алгоритма"
   ]
  },
  {
   "cell_type": "code",
   "execution_count": 9,
   "metadata": {
    "id": "J5xSuDTM7xKo"
   },
   "outputs": [
    {
     "name": "stdout",
     "output_type": "stream",
     "text": [
      "Матрица обратима\n"
     ]
    }
   ],
   "source": [
    "X = df.drop('Страховые выплаты', axis=1)\n",
    "y = df['Страховые выплаты']\n",
    "\n",
    "# создадим случайную матрицу\n",
    "P = np.random.normal(size=(X.shape[1], X.shape[1]))\n",
    "\n",
    "# проверим матрицу на обратимость\n",
    "try:\n",
    "    P_inverse = np.linalg.inv(P)\n",
    "    print('Матрица обратима')\n",
    "except:\n",
    "    print('Матрица необратима')"
   ]
  },
  {
   "cell_type": "markdown",
   "metadata": {},
   "source": [
    "Разобьем датасет на выборки и умножим признаки на обратимую матрицу."
   ]
  },
  {
   "cell_type": "code",
   "execution_count": 10,
   "metadata": {
    "id": "um-W_Iro8VgH"
   },
   "outputs": [],
   "source": [
    "X_train, X_valid, y_train, y_valid = train_test_split(X, y, test_size=0.25, random_state=0)\n",
    "X_train_encrypted = X_train @ P\n",
    "X_valid_encrypted = X_valid @ P"
   ]
  },
  {
   "cell_type": "markdown",
   "metadata": {},
   "source": [
    "Создадим модель линейной регрессии и обучим ее."
   ]
  },
  {
   "cell_type": "markdown",
   "metadata": {},
   "source": [
    "Модель до шифрования:"
   ]
  },
  {
   "cell_type": "code",
   "execution_count": 11,
   "metadata": {
    "colab": {
     "base_uri": "https://localhost:8080/"
    },
    "id": "uq3Rqbkf8Vlj",
    "outputId": "0f43ed81-26e6-4107-d06c-34d4a5a33aff"
   },
   "outputs": [
    {
     "name": "stdout",
     "output_type": "stream",
     "text": [
      "0.3879\n"
     ]
    }
   ],
   "source": [
    "model = LinearRegression()\n",
    "model.fit(X_train, y_train)\n",
    "predictions = model.predict(X_valid)\n",
    "score = r2_score(y_valid, predictions)\n",
    "print(score.round(4))"
   ]
  },
  {
   "cell_type": "markdown",
   "metadata": {},
   "source": [
    "Модель после шифрования:"
   ]
  },
  {
   "cell_type": "code",
   "execution_count": 12,
   "metadata": {
    "colab": {
     "base_uri": "https://localhost:8080/"
    },
    "id": "zaUtrtOa8Vri",
    "outputId": "6cd4472f-ca25-4297-ce9b-61801cf3c673",
    "scrolled": false
   },
   "outputs": [
    {
     "name": "stdout",
     "output_type": "stream",
     "text": [
      "0.3879\n"
     ]
    }
   ],
   "source": [
    "model_encrypted = LinearRegression()\n",
    "model_encrypted.fit(X_train_encrypted, y_train)\n",
    "predictions_encrypted = model_encrypted.predict(X_valid_encrypted)\n",
    "score_encrypted = r2_score(y_valid, predictions_encrypted)\n",
    "print(score_encrypted.round(4))"
   ]
  },
  {
   "cell_type": "markdown",
   "metadata": {
    "id": "dBstMXTF_nai"
   },
   "source": [
    "Мы видим, что качество модели не изменилось."
   ]
  },
  {
   "cell_type": "markdown",
   "metadata": {},
   "source": [
    "## Вывод"
   ]
  },
  {
   "cell_type": "markdown",
   "metadata": {},
   "source": [
    "Мы разработали алгоритм шифрования данных и математически доказали, что эффективность модели линейной регрессии на зашифрованных данных не изменится по сравнению с исходными.\n",
    "Мы также обучили модель на датасете до и после шифрования и убедились в идентичности результатов, применив метрику R2."
   ]
  }
 ],
 "metadata": {
  "ExecuteTimeLog": [
   {
    "duration": 1769,
    "start_time": "2023-01-26T08:32:24.213Z"
   },
   {
    "duration": 42,
    "start_time": "2023-01-26T08:32:25.985Z"
   },
   {
    "duration": 9,
    "start_time": "2023-01-26T08:32:26.029Z"
   },
   {
    "duration": 17,
    "start_time": "2023-01-26T08:32:26.041Z"
   },
   {
    "duration": 30,
    "start_time": "2023-01-26T08:32:26.061Z"
   },
   {
    "duration": 49,
    "start_time": "2023-01-26T08:32:26.096Z"
   },
   {
    "duration": 27,
    "start_time": "2023-01-26T08:32:26.147Z"
   },
   {
    "duration": 32,
    "start_time": "2023-01-26T08:32:26.176Z"
   },
   {
    "duration": 1001,
    "start_time": "2023-01-26T08:32:26.214Z"
   },
   {
    "duration": 12,
    "start_time": "2023-01-26T08:32:27.293Z"
   },
   {
    "duration": 104,
    "start_time": "2023-01-26T08:32:27.308Z"
   },
   {
    "duration": 28,
    "start_time": "2023-01-26T08:32:27.413Z"
   },
   {
    "duration": 11,
    "start_time": "2023-01-26T08:32:27.443Z"
   },
   {
    "duration": 12,
    "start_time": "2023-01-26T08:38:56.977Z"
   },
   {
    "duration": 1673,
    "start_time": "2023-01-27T10:30:24.269Z"
   },
   {
    "duration": 47,
    "start_time": "2023-01-27T10:30:25.944Z"
   },
   {
    "duration": 8,
    "start_time": "2023-01-27T10:30:25.993Z"
   },
   {
    "duration": 26,
    "start_time": "2023-01-27T10:30:26.003Z"
   },
   {
    "duration": 29,
    "start_time": "2023-01-27T10:30:26.031Z"
   },
   {
    "duration": 17,
    "start_time": "2023-01-27T10:30:26.062Z"
   },
   {
    "duration": 25,
    "start_time": "2023-01-27T10:30:26.081Z"
   },
   {
    "duration": 41,
    "start_time": "2023-01-27T10:30:26.107Z"
   },
   {
    "duration": 11,
    "start_time": "2023-01-27T10:30:26.150Z"
   },
   {
    "duration": 10,
    "start_time": "2023-01-27T10:30:26.165Z"
   },
   {
    "duration": 106,
    "start_time": "2023-01-27T10:30:26.246Z"
   },
   {
    "duration": 13,
    "start_time": "2023-01-27T10:30:26.356Z"
   },
   {
    "duration": 12,
    "start_time": "2023-01-27T10:30:47.707Z"
   }
  ],
  "colab": {
   "provenance": []
  },
  "kernelspec": {
   "display_name": "Python 3 (ipykernel)",
   "language": "python",
   "name": "python3"
  },
  "language_info": {
   "codemirror_mode": {
    "name": "ipython",
    "version": 3
   },
   "file_extension": ".py",
   "mimetype": "text/x-python",
   "name": "python",
   "nbconvert_exporter": "python",
   "pygments_lexer": "ipython3",
   "version": "3.10.12"
  },
  "toc": {
   "base_numbering": 1,
   "nav_menu": {},
   "number_sections": true,
   "sideBar": true,
   "skip_h1_title": true,
   "title_cell": "Содержание",
   "title_sidebar": "Contents",
   "toc_cell": true,
   "toc_position": {
    "height": "calc(100% - 180px)",
    "left": "10px",
    "top": "150px",
    "width": "165px"
   },
   "toc_section_display": true,
   "toc_window_display": true
  }
 },
 "nbformat": 4,
 "nbformat_minor": 1
}
