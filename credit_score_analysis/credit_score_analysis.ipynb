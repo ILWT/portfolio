{
 "cells": [
  {
   "cell_type": "markdown",
   "metadata": {},
   "source": [
    "# Исследование надёжности заёмщиков\n",
    "\n",
    "Заказчик — кредитный отдел банка. Нужно разобраться, влияет ли семейное положение, количество детей и уровень дохода клиента, а также цель кредита на факт погашения в срок. Входные данные от банка — статистика о платёжеспособности клиентов.\n",
    "\n",
    "Результаты исследования будут учтены при построении модели **кредитного скоринга**."
   ]
  },
  {
   "cell_type": "markdown",
   "metadata": {},
   "source": [
    "План работы:\n",
    "1) Загрузить и изучить данные\n",
    "2) Провести предобработку данных (обработка пропусков, аномалий, дубликатов)\n",
    "3) Исследовать данные и проанализировать, есть ли зависимость между следующими параметрами и возвратом кредита в срок:\n",
    "     - количество детей\n",
    "     - семейное положение\n",
    "     - уровень дохода\n",
    "     - цель кредита"
   ]
  },
  {
   "cell_type": "markdown",
   "metadata": {},
   "source": [
    "### Шаг 1. Изучение файла с данными"
   ]
  },
  {
   "cell_type": "code",
   "execution_count": 1,
   "metadata": {},
   "outputs": [],
   "source": [
    "import pandas as pd\n",
    "import seaborn as sns\n",
    "import matplotlib.pyplot as plt\n",
    "\n",
    "from pymystem3 import Mystem\n",
    "\n",
    "#код для вывода нескольких значений в одной ячейке\n",
    "from IPython.core.interactiveshell import InteractiveShell\n",
    "InteractiveShell.ast_node_interactivity = \"all\"\n",
    "\n",
    "# скрываем предупреждения\n",
    "import warnings\n",
    "warnings.filterwarnings('ignore')"
   ]
  },
  {
   "cell_type": "code",
   "execution_count": 2,
   "metadata": {
    "scrolled": false
   },
   "outputs": [
    {
     "name": "stdout",
     "output_type": "stream",
     "text": [
      "<class 'pandas.core.frame.DataFrame'>\n",
      "RangeIndex: 21525 entries, 0 to 21524\n",
      "Data columns (total 12 columns):\n",
      " #   Column            Non-Null Count  Dtype  \n",
      "---  ------            --------------  -----  \n",
      " 0   children          21525 non-null  int64  \n",
      " 1   days_employed     19351 non-null  float64\n",
      " 2   dob_years         21525 non-null  int64  \n",
      " 3   education         21525 non-null  object \n",
      " 4   education_id      21525 non-null  int64  \n",
      " 5   family_status     21525 non-null  object \n",
      " 6   family_status_id  21525 non-null  int64  \n",
      " 7   gender            21525 non-null  object \n",
      " 8   income_type       21525 non-null  object \n",
      " 9   debt              21525 non-null  int64  \n",
      " 10  total_income      19351 non-null  float64\n",
      " 11  purpose           21525 non-null  object \n",
      "dtypes: float64(2), int64(5), object(5)\n",
      "memory usage: 2.0+ MB\n"
     ]
    }
   ],
   "source": [
    "df = pd.read_csv('data.csv')\n",
    "\n",
    "df.info()"
   ]
  },
  {
   "cell_type": "markdown",
   "metadata": {},
   "source": [
    "Также выведем первые 10 строк датафрейма для наглядного ознакомления с их содержанием."
   ]
  },
  {
   "cell_type": "code",
   "execution_count": 3,
   "metadata": {
    "scrolled": true
   },
   "outputs": [
    {
     "data": {
      "text/html": [
       "<div>\n",
       "<style scoped>\n",
       "    .dataframe tbody tr th:only-of-type {\n",
       "        vertical-align: middle;\n",
       "    }\n",
       "\n",
       "    .dataframe tbody tr th {\n",
       "        vertical-align: top;\n",
       "    }\n",
       "\n",
       "    .dataframe thead th {\n",
       "        text-align: right;\n",
       "    }\n",
       "</style>\n",
       "<table border=\"1\" class=\"dataframe\">\n",
       "  <thead>\n",
       "    <tr style=\"text-align: right;\">\n",
       "      <th></th>\n",
       "      <th>children</th>\n",
       "      <th>days_employed</th>\n",
       "      <th>dob_years</th>\n",
       "      <th>education</th>\n",
       "      <th>education_id</th>\n",
       "      <th>family_status</th>\n",
       "      <th>family_status_id</th>\n",
       "      <th>gender</th>\n",
       "      <th>income_type</th>\n",
       "      <th>debt</th>\n",
       "      <th>total_income</th>\n",
       "      <th>purpose</th>\n",
       "    </tr>\n",
       "  </thead>\n",
       "  <tbody>\n",
       "    <tr>\n",
       "      <th>0</th>\n",
       "      <td>1</td>\n",
       "      <td>-8437.673028</td>\n",
       "      <td>42</td>\n",
       "      <td>высшее</td>\n",
       "      <td>0</td>\n",
       "      <td>женат / замужем</td>\n",
       "      <td>0</td>\n",
       "      <td>F</td>\n",
       "      <td>сотрудник</td>\n",
       "      <td>0</td>\n",
       "      <td>253875.639453</td>\n",
       "      <td>покупка жилья</td>\n",
       "    </tr>\n",
       "    <tr>\n",
       "      <th>1</th>\n",
       "      <td>1</td>\n",
       "      <td>-4024.803754</td>\n",
       "      <td>36</td>\n",
       "      <td>среднее</td>\n",
       "      <td>1</td>\n",
       "      <td>женат / замужем</td>\n",
       "      <td>0</td>\n",
       "      <td>F</td>\n",
       "      <td>сотрудник</td>\n",
       "      <td>0</td>\n",
       "      <td>112080.014102</td>\n",
       "      <td>приобретение автомобиля</td>\n",
       "    </tr>\n",
       "    <tr>\n",
       "      <th>2</th>\n",
       "      <td>0</td>\n",
       "      <td>-5623.422610</td>\n",
       "      <td>33</td>\n",
       "      <td>Среднее</td>\n",
       "      <td>1</td>\n",
       "      <td>женат / замужем</td>\n",
       "      <td>0</td>\n",
       "      <td>M</td>\n",
       "      <td>сотрудник</td>\n",
       "      <td>0</td>\n",
       "      <td>145885.952297</td>\n",
       "      <td>покупка жилья</td>\n",
       "    </tr>\n",
       "    <tr>\n",
       "      <th>3</th>\n",
       "      <td>3</td>\n",
       "      <td>-4124.747207</td>\n",
       "      <td>32</td>\n",
       "      <td>среднее</td>\n",
       "      <td>1</td>\n",
       "      <td>женат / замужем</td>\n",
       "      <td>0</td>\n",
       "      <td>M</td>\n",
       "      <td>сотрудник</td>\n",
       "      <td>0</td>\n",
       "      <td>267628.550329</td>\n",
       "      <td>дополнительное образование</td>\n",
       "    </tr>\n",
       "    <tr>\n",
       "      <th>4</th>\n",
       "      <td>0</td>\n",
       "      <td>340266.072047</td>\n",
       "      <td>53</td>\n",
       "      <td>среднее</td>\n",
       "      <td>1</td>\n",
       "      <td>гражданский брак</td>\n",
       "      <td>1</td>\n",
       "      <td>F</td>\n",
       "      <td>пенсионер</td>\n",
       "      <td>0</td>\n",
       "      <td>158616.077870</td>\n",
       "      <td>сыграть свадьбу</td>\n",
       "    </tr>\n",
       "    <tr>\n",
       "      <th>5</th>\n",
       "      <td>0</td>\n",
       "      <td>-926.185831</td>\n",
       "      <td>27</td>\n",
       "      <td>высшее</td>\n",
       "      <td>0</td>\n",
       "      <td>гражданский брак</td>\n",
       "      <td>1</td>\n",
       "      <td>M</td>\n",
       "      <td>компаньон</td>\n",
       "      <td>0</td>\n",
       "      <td>255763.565419</td>\n",
       "      <td>покупка жилья</td>\n",
       "    </tr>\n",
       "    <tr>\n",
       "      <th>6</th>\n",
       "      <td>0</td>\n",
       "      <td>-2879.202052</td>\n",
       "      <td>43</td>\n",
       "      <td>высшее</td>\n",
       "      <td>0</td>\n",
       "      <td>женат / замужем</td>\n",
       "      <td>0</td>\n",
       "      <td>F</td>\n",
       "      <td>компаньон</td>\n",
       "      <td>0</td>\n",
       "      <td>240525.971920</td>\n",
       "      <td>операции с жильем</td>\n",
       "    </tr>\n",
       "    <tr>\n",
       "      <th>7</th>\n",
       "      <td>0</td>\n",
       "      <td>-152.779569</td>\n",
       "      <td>50</td>\n",
       "      <td>СРЕДНЕЕ</td>\n",
       "      <td>1</td>\n",
       "      <td>женат / замужем</td>\n",
       "      <td>0</td>\n",
       "      <td>M</td>\n",
       "      <td>сотрудник</td>\n",
       "      <td>0</td>\n",
       "      <td>135823.934197</td>\n",
       "      <td>образование</td>\n",
       "    </tr>\n",
       "    <tr>\n",
       "      <th>8</th>\n",
       "      <td>2</td>\n",
       "      <td>-6929.865299</td>\n",
       "      <td>35</td>\n",
       "      <td>ВЫСШЕЕ</td>\n",
       "      <td>0</td>\n",
       "      <td>гражданский брак</td>\n",
       "      <td>1</td>\n",
       "      <td>F</td>\n",
       "      <td>сотрудник</td>\n",
       "      <td>0</td>\n",
       "      <td>95856.832424</td>\n",
       "      <td>на проведение свадьбы</td>\n",
       "    </tr>\n",
       "    <tr>\n",
       "      <th>9</th>\n",
       "      <td>0</td>\n",
       "      <td>-2188.756445</td>\n",
       "      <td>41</td>\n",
       "      <td>среднее</td>\n",
       "      <td>1</td>\n",
       "      <td>женат / замужем</td>\n",
       "      <td>0</td>\n",
       "      <td>M</td>\n",
       "      <td>сотрудник</td>\n",
       "      <td>0</td>\n",
       "      <td>144425.938277</td>\n",
       "      <td>покупка жилья для семьи</td>\n",
       "    </tr>\n",
       "  </tbody>\n",
       "</table>\n",
       "</div>"
      ],
      "text/plain": [
       "   children  days_employed  dob_years education  education_id  \\\n",
       "0         1   -8437.673028         42    высшее             0   \n",
       "1         1   -4024.803754         36   среднее             1   \n",
       "2         0   -5623.422610         33   Среднее             1   \n",
       "3         3   -4124.747207         32   среднее             1   \n",
       "4         0  340266.072047         53   среднее             1   \n",
       "5         0    -926.185831         27    высшее             0   \n",
       "6         0   -2879.202052         43    высшее             0   \n",
       "7         0    -152.779569         50   СРЕДНЕЕ             1   \n",
       "8         2   -6929.865299         35    ВЫСШЕЕ             0   \n",
       "9         0   -2188.756445         41   среднее             1   \n",
       "\n",
       "      family_status  family_status_id gender income_type  debt   total_income  \\\n",
       "0   женат / замужем                 0      F   сотрудник     0  253875.639453   \n",
       "1   женат / замужем                 0      F   сотрудник     0  112080.014102   \n",
       "2   женат / замужем                 0      M   сотрудник     0  145885.952297   \n",
       "3   женат / замужем                 0      M   сотрудник     0  267628.550329   \n",
       "4  гражданский брак                 1      F   пенсионер     0  158616.077870   \n",
       "5  гражданский брак                 1      M   компаньон     0  255763.565419   \n",
       "6   женат / замужем                 0      F   компаньон     0  240525.971920   \n",
       "7   женат / замужем                 0      M   сотрудник     0  135823.934197   \n",
       "8  гражданский брак                 1      F   сотрудник     0   95856.832424   \n",
       "9   женат / замужем                 0      M   сотрудник     0  144425.938277   \n",
       "\n",
       "                      purpose  \n",
       "0               покупка жилья  \n",
       "1     приобретение автомобиля  \n",
       "2               покупка жилья  \n",
       "3  дополнительное образование  \n",
       "4             сыграть свадьбу  \n",
       "5               покупка жилья  \n",
       "6           операции с жильем  \n",
       "7                 образование  \n",
       "8       на проведение свадьбы  \n",
       "9     покупка жилья для семьи  "
      ]
     },
     "execution_count": 3,
     "metadata": {},
     "output_type": "execute_result"
    }
   ],
   "source": [
    "df.head(10)"
   ]
  },
  {
   "cell_type": "markdown",
   "metadata": {},
   "source": [
    "В таблице 12 столбцов. Тип данных во всех столбцах — object."
   ]
  },
  {
   "cell_type": "markdown",
   "metadata": {},
   "source": [
    "Согласно документации к данным:\n",
    "\n",
    "* `children` — количество детей в семье;\n",
    "* `days_employed` — общий трудовой стаж в днях;\n",
    "* `dob_years` — возраст клиента в годах;\n",
    "* `education` — уровень образования клиента;\n",
    "* `education_id` — идентификатор уровня образования;\n",
    "* `family_status` — семейное положение;\n",
    "* `family_status_id` — идентификатор семейного положения;\n",
    "* `gender` — пол клиента;\n",
    "* `income_type` — тип занятости;\n",
    "* `debt` — имел ли задолженность по возврату кредитов;\n",
    "* `total_income` — ежемесячный доход;\n",
    "* `purpose` — цель получения кредита."
   ]
  },
  {
   "cell_type": "markdown",
   "metadata": {},
   "source": [
    "**Вывод**"
   ]
  },
  {
   "cell_type": "markdown",
   "metadata": {},
   "source": [
    "В названиях столбцов проблем нет. Однако встречаются пропуски в данных (столбцы `days_employed` и `total_income`). Исходя из того, что в этих столбцах одинаковое количество пропусков, возможно они относятся к безработным заемщикам. Мы проверим эту гипотезу далее на основе данных столбца `income_type`.\n",
    "\n",
    "Также из потенциальных проблем мы видим следующие:\n",
    "* отрицательные и слишком большие значения в столбце `days_employed`, также в этом столбце значения имеют тип `float64`, хотя количество дней может быть только целочисленным. Однако данный столбец нам не понадобится для анализа, поэтому ограничимся изменением формата данных;\n",
    "* данные об образовании - `education` -  записаны в разных регистрах;\n",
    "* значения цели кредита - `purpose` - не стандартизованы.\n"
   ]
  },
  {
   "cell_type": "markdown",
   "metadata": {},
   "source": [
    "## Шаг 2. Предобработка данных"
   ]
  },
  {
   "cell_type": "markdown",
   "metadata": {},
   "source": [
    "### Обработка пропусков"
   ]
  },
  {
   "cell_type": "code",
   "execution_count": 4,
   "metadata": {
    "scrolled": true
   },
   "outputs": [
    {
     "data": {
      "text/plain": [
       "children               0\n",
       "days_employed       2174\n",
       "dob_years              0\n",
       "education              0\n",
       "education_id           0\n",
       "family_status          0\n",
       "family_status_id       0\n",
       "gender                 0\n",
       "income_type            0\n",
       "debt                   0\n",
       "total_income        2174\n",
       "purpose                0\n",
       "dtype: int64"
      ]
     },
     "execution_count": 4,
     "metadata": {},
     "output_type": "execute_result"
    }
   ],
   "source": [
    "df.isna().sum() #выводим суммы пропущенных значений по столбцам"
   ]
  },
  {
   "cell_type": "markdown",
   "metadata": {},
   "source": [
    "Убедимся, что в столбцах `days_employed` и `total_income` значения пропущены в одинаковых строках."
   ]
  },
  {
   "cell_type": "code",
   "execution_count": 5,
   "metadata": {
    "scrolled": true
   },
   "outputs": [
    {
     "name": "stdout",
     "output_type": "stream",
     "text": [
      "Число пропущенных значений в столбце \"total_income\" в датафрейме с нулевыми значениями по столбцу \"days_employed\" 2174\n"
     ]
    }
   ],
   "source": [
    "df_days_employed_na = df[df['days_employed'].isna() == True]\n",
    "df_days_employed_na_total_income_na = df_days_employed_na['total_income'].isna().sum()\n",
    "print(f'Число пропущенных значений в столбце \"total_income\" в датафрейме с нулевыми значениями по столбцу \"days_employed\" {df_days_employed_na_total_income_na}')"
   ]
  },
  {
   "cell_type": "markdown",
   "metadata": {},
   "source": [
    "Проверим гипотезу о том, что пропущенные значения в количестве дней трудового стажа и дохода отражены по безработным заемщикам. Для этого посмотрим первые значения датафрейма с пропущенными значениями."
   ]
  },
  {
   "cell_type": "code",
   "execution_count": 6,
   "metadata": {
    "scrolled": true
   },
   "outputs": [
    {
     "data": {
      "text/plain": [
       "income_type\n",
       "госслужащий         147\n",
       "компаньон           508\n",
       "пенсионер           413\n",
       "предприниматель       1\n",
       "сотрудник          1105\n",
       "Name: income_type, dtype: int64"
      ]
     },
     "execution_count": 6,
     "metadata": {},
     "output_type": "execute_result"
    }
   ],
   "source": [
    "df_days_employed_na.groupby('income_type')['income_type'].count()"
   ]
  },
  {
   "cell_type": "markdown",
   "metadata": {},
   "source": [
    "**Вывод**"
   ]
  },
  {
   "cell_type": "markdown",
   "metadata": {},
   "source": [
    "Наша гипотеза не подвердилась. \n",
    "Можно предположить, что пропуски являются полностью случайными (MCAR), то есть не зависят от значения других столбцов.\n",
    "Строки с пропущенными значениями составляют приблизительно 10% от общего количества строк, что достаточно много. \n",
    "\n",
    "Наиболее адекватной альтернативой удалению пропущенных значений является их замена медианными значениями дохода в зависимости от его категории. Однако это может исказить результаты исследования, поэтому мы исключим строки с пропущенными значениями для проверки гипотезы о зависимости дохода и вероятности возврата кредита.\n",
    "\n",
    "\n",
    "Вместе с тем стоит обратить внимание кредитного отдела на данные пропуски. Они наиболее вероятно связаны с неполнотой базы данных либо ошибкой при выгрузке, т. к. данная информация является обязательной при предоставлении кредита.\n",
    "\n",
    "Заменим пропущенные значения в столбце `days_employed` на 0, столбца `total_income` на -1, чтобы в дальнейшим удалить строки с пропущенными значениями в `total_income` из анализа зависимости дохода и вероятности возврата кредита."
   ]
  },
  {
   "cell_type": "code",
   "execution_count": 7,
   "metadata": {
    "scrolled": false
   },
   "outputs": [
    {
     "data": {
      "text/plain": [
       "children            0\n",
       "days_employed       0\n",
       "dob_years           0\n",
       "education           0\n",
       "education_id        0\n",
       "family_status       0\n",
       "family_status_id    0\n",
       "gender              0\n",
       "income_type         0\n",
       "debt                0\n",
       "total_income        0\n",
       "purpose             0\n",
       "dtype: int64"
      ]
     },
     "execution_count": 7,
     "metadata": {},
     "output_type": "execute_result"
    }
   ],
   "source": [
    "df['days_employed'] = df['days_employed'].fillna(0)\n",
    "df['total_income'] = df['total_income'].fillna(-1)\n",
    "\n",
    "df.isna().sum() #убеждаемся, что пропущенные значения отсутствуют"
   ]
  },
  {
   "cell_type": "markdown",
   "metadata": {},
   "source": [
    "Убедимся, что все значения \"0\" в столбце `total_income` являются заполненными пропусками в данных, для того чтобы мы могли отбросить строки с этими значениями при анализе параметров, не зависящих от дохода."
   ]
  },
  {
   "cell_type": "code",
   "execution_count": 8,
   "metadata": {},
   "outputs": [
    {
     "data": {
      "text/plain": [
       "0"
      ]
     },
     "execution_count": 8,
     "metadata": {},
     "output_type": "execute_result"
    }
   ],
   "source": [
    "df[df['total_income'] == 0]['total_income'].count()"
   ]
  },
  {
   "cell_type": "markdown",
   "metadata": {},
   "source": [
    "### Замена типов данных"
   ]
  },
  {
   "cell_type": "markdown",
   "metadata": {},
   "source": [
    "В столбце `days_employed` встречаются отрицательные и слишком большие значения. Кроме того, данные представлены в формате вещественных чисел. Для начала переведем данные в целочисленный формат, для этого используем метод `astype`."
   ]
  },
  {
   "cell_type": "code",
   "execution_count": 9,
   "metadata": {},
   "outputs": [],
   "source": [
    "try:\n",
    "    df['days_employed'] = df['days_employed'].astype(int)\n",
    "except:\n",
    "    print('Ошибка')"
   ]
  },
  {
   "cell_type": "markdown",
   "metadata": {},
   "source": [
    "Далее проанализируем распределение значений с помощью гистограммы:"
   ]
  },
  {
   "cell_type": "code",
   "execution_count": 10,
   "metadata": {},
   "outputs": [
    {
     "data": {
      "text/plain": [
       "<AxesSubplot:xlabel='days_employed'>"
      ]
     },
     "execution_count": 10,
     "metadata": {},
     "output_type": "execute_result"
    },
    {
     "data": {
      "image/png": "[encoded data removed]",
      "text/plain": [
       "<Figure size 640x480 with 1 Axes>"
      ]
     },
     "metadata": {},
     "output_type": "display_data"
    }
   ],
   "source": [
    "%matplotlib inline\n",
    "sns.distplot(a=df[\"days_employed\"], hist=True, kde=False, rug=True, axlabel='days_employed')"
   ]
  },
  {
   "cell_type": "markdown",
   "metadata": {},
   "source": [
    "Мы видим большой отрыв группы значений от основной массы. Разделим данные значения на 1000."
   ]
  },
  {
   "cell_type": "code",
   "execution_count": 11,
   "metadata": {},
   "outputs": [],
   "source": [
    "#значения больше 10 000 делим на 1000\n",
    "df.loc[df['days_employed'] > 100000, 'days_employed'] = df.loc[df['days_employed'] > 100000, 'days_employed']/1000"
   ]
  },
  {
   "cell_type": "code",
   "execution_count": 12,
   "metadata": {},
   "outputs": [
    {
     "data": {
      "text/plain": [
       "<AxesSubplot:xlabel='days_employed'>"
      ]
     },
     "execution_count": 12,
     "metadata": {},
     "output_type": "execute_result"
    },
    {
     "data": {
      "image/png": "[encoded data removed]",
      "text/plain": [
       "<Figure size 640x480 with 1 Axes>"
      ]
     },
     "metadata": {},
     "output_type": "display_data"
    }
   ],
   "source": [
    "sns.distplot(a=df[\"days_employed\"], hist=True, kde=False, rug=False)"
   ]
  },
  {
   "cell_type": "markdown",
   "metadata": {},
   "source": [
    "Избавимся от отрицательных значений."
   ]
  },
  {
   "cell_type": "code",
   "execution_count": 13,
   "metadata": {},
   "outputs": [],
   "source": [
    "df['days_employed'] = df['days_employed'].abs()"
   ]
  },
  {
   "cell_type": "markdown",
   "metadata": {},
   "source": [
    "Посмотрим информацию об обновленных данных."
   ]
  },
  {
   "cell_type": "code",
   "execution_count": 14,
   "metadata": {},
   "outputs": [
    {
     "data": {
      "text/plain": [
       "<AxesSubplot:xlabel='days_employed'>"
      ]
     },
     "execution_count": 14,
     "metadata": {},
     "output_type": "execute_result"
    },
    {
     "data": {
      "text/plain": [
       "16335    18388.0\n",
       "4299     17615.0\n",
       "7329     16593.0\n",
       "17838    16264.0\n",
       "16825    16119.0\n",
       "3974     15835.0\n",
       "1539     15785.0\n",
       "4321     15773.0\n",
       "7731     15618.0\n",
       "15675    15410.0\n",
       "Name: days_employed, dtype: float64"
      ]
     },
     "execution_count": 14,
     "metadata": {},
     "output_type": "execute_result"
    },
    {
     "data": {
      "image/png": "[encoded data removed]",
      "text/plain": [
       "<Figure size 640x480 with 1 Axes>"
      ]
     },
     "metadata": {},
     "output_type": "display_data"
    }
   ],
   "source": [
    "sns.distplot( a=df[\"days_employed\"], hist=True, kde=False, rug=False)\n",
    "df['days_employed'].sort_values(ascending=False).head(10)"
   ]
  },
  {
   "cell_type": "markdown",
   "metadata": {},
   "source": [
    "Распределение стало более правдоподобным, однако по-прежнему присутствует достаточно много очень больших значений. С учетом того, что данный столбец не будет в дальнейшем использоваться в анализе, мы можем оставить данные в таком виде."
   ]
  },
  {
   "cell_type": "markdown",
   "metadata": {},
   "source": [
    "Также переведем данные в столбце `total_income` в формат int."
   ]
  },
  {
   "cell_type": "code",
   "execution_count": 15,
   "metadata": {
    "scrolled": true
   },
   "outputs": [
    {
     "data": {
      "text/plain": [
       "0    253875\n",
       "1    112080\n",
       "2    145885\n",
       "3    267628\n",
       "4    158616\n",
       "5    255763\n",
       "6    240525\n",
       "7    135823\n",
       "8     95856\n",
       "9    144425\n",
       "Name: total_income, dtype: int64"
      ]
     },
     "execution_count": 15,
     "metadata": {},
     "output_type": "execute_result"
    }
   ],
   "source": [
    "df['total_income'] = df['total_income'].astype('int')\n",
    "df['total_income'].head(10)"
   ]
  },
  {
   "cell_type": "markdown",
   "metadata": {},
   "source": [
    "Заменим значения \"0\" и \"1\" в столбце `debt` на значения типа bool."
   ]
  },
  {
   "cell_type": "code",
   "execution_count": 16,
   "metadata": {},
   "outputs": [
    {
     "data": {
      "text/plain": [
       "debt\n",
       "0    19784\n",
       "1     1741\n",
       "Name: count, dtype: int64"
      ]
     },
     "execution_count": 16,
     "metadata": {},
     "output_type": "execute_result"
    },
    {
     "data": {
      "text/plain": [
       "debt\n",
       "False    19784\n",
       "True      1741\n",
       "Name: count, dtype: int64"
      ]
     },
     "execution_count": 16,
     "metadata": {},
     "output_type": "execute_result"
    }
   ],
   "source": [
    "df['debt'].value_counts() #вывод значений для последующей проверки\n",
    "\n",
    "df.loc[df['debt'] == 1, 'debt'] = True\n",
    "df.loc[df['debt'] == 0, 'debt'] = False\n",
    "\n",
    "df['debt'].value_counts()"
   ]
  },
  {
   "cell_type": "markdown",
   "metadata": {},
   "source": [
    "**Вывод**"
   ]
  },
  {
   "cell_type": "markdown",
   "metadata": {},
   "source": [
    "Мы обработали значения в столбце `days_employed`. Мы произвели следующие операции:\n",
    "\n",
    "* Привели значения к целочисленному формату для корректного отражения количества дней\n",
    "* Обработали группу аномально выделяющихся значений, поделив их на 1000\n",
    "* Избавились от отрицательных значений, применив функцию модуля\n",
    "\n",
    "С учетом того, что данные из столбца не являются необходимыми для целей данного анализа, работа по их обработке завершена."
   ]
  },
  {
   "cell_type": "markdown",
   "metadata": {},
   "source": [
    "### Обработка дубликатов"
   ]
  },
  {
   "cell_type": "markdown",
   "metadata": {},
   "source": [
    "Для поиска неявных дубликатов посмотрим на распределение значений в необходимых для анализа столбцах:"
   ]
  },
  {
   "cell_type": "code",
   "execution_count": 17,
   "metadata": {
    "scrolled": true
   },
   "outputs": [
    {
     "name": "stdout",
     "output_type": "stream",
     "text": [
      "Число полных дубликатов: 54\n"
     ]
    }
   ],
   "source": [
    "full_duplicates_number = df.duplicated().sum() #выявляем число полных дубликатов\n",
    "print(f'Число полных дубликатов: {full_duplicates_number}')"
   ]
  },
  {
   "cell_type": "code",
   "execution_count": 18,
   "metadata": {
    "scrolled": true
   },
   "outputs": [
    {
     "name": "stdout",
     "output_type": "stream",
     "text": [
      "children\n",
      " 0     14149\n",
      " 1      4818\n",
      " 2      2055\n",
      " 3       330\n",
      " 20       76\n",
      "-1        47\n",
      " 4        41\n",
      " 5         9\n",
      "Name: count, dtype: int64\n",
      "\n",
      "dob_years\n",
      "35    617\n",
      "40    609\n",
      "41    607\n",
      "34    603\n",
      "38    598\n",
      "42    597\n",
      "33    581\n",
      "39    573\n",
      "31    560\n",
      "36    555\n",
      "44    547\n",
      "29    545\n",
      "30    540\n",
      "48    538\n",
      "37    537\n",
      "50    514\n",
      "43    513\n",
      "32    510\n",
      "49    508\n",
      "28    503\n",
      "45    497\n",
      "27    493\n",
      "56    487\n",
      "52    484\n",
      "47    480\n",
      "54    479\n",
      "46    475\n",
      "58    461\n",
      "57    460\n",
      "53    459\n",
      "51    448\n",
      "59    444\n",
      "55    443\n",
      "26    408\n",
      "60    377\n",
      "25    357\n",
      "61    355\n",
      "62    352\n",
      "63    269\n",
      "64    265\n",
      "24    264\n",
      "23    254\n",
      "65    194\n",
      "22    183\n",
      "66    183\n",
      "67    167\n",
      "21    111\n",
      "0     101\n",
      "68     99\n",
      "69     85\n",
      "70     65\n",
      "71     58\n",
      "20     51\n",
      "72     33\n",
      "19     14\n",
      "73      8\n",
      "74      6\n",
      "75      1\n",
      "Name: count, dtype: int64\n",
      "\n",
      "education\n",
      "среднее                13750\n",
      "высшее                  4718\n",
      "СРЕДНЕЕ                  772\n",
      "Среднее                  711\n",
      "неоконченное высшее      668\n",
      "ВЫСШЕЕ                   274\n",
      "Высшее                   268\n",
      "начальное                250\n",
      "Неоконченное высшее       47\n",
      "НЕОКОНЧЕННОЕ ВЫСШЕЕ       29\n",
      "НАЧАЛЬНОЕ                 17\n",
      "Начальное                 15\n",
      "ученая степень             4\n",
      "Ученая степень             1\n",
      "УЧЕНАЯ СТЕПЕНЬ             1\n",
      "Name: count, dtype: int64\n",
      "\n",
      "family_status\n",
      "женат / замужем          12380\n",
      "гражданский брак          4177\n",
      "Не женат / не замужем     2813\n",
      "в разводе                 1195\n",
      "вдовец / вдова             960\n",
      "Name: count, dtype: int64\n",
      "\n",
      "income_type\n",
      "сотрудник          11119\n",
      "компаньон           5085\n",
      "пенсионер           3856\n",
      "госслужащий         1459\n",
      "безработный            2\n",
      "предприниматель        2\n",
      "студент                1\n",
      "в декрете              1\n",
      "Name: count, dtype: int64\n",
      "\n",
      "purpose\n",
      "свадьба                                   797\n",
      "на проведение свадьбы                     777\n",
      "сыграть свадьбу                           774\n",
      "операции с недвижимостью                  676\n",
      "покупка коммерческой недвижимости         664\n",
      "покупка жилья для сдачи                   653\n",
      "операции с жильем                         653\n",
      "операции с коммерческой недвижимостью     651\n",
      "покупка жилья                             647\n",
      "жилье                                     647\n",
      "покупка жилья для семьи                   641\n",
      "строительство собственной недвижимости    635\n",
      "недвижимость                              634\n",
      "операции со своей недвижимостью           630\n",
      "строительство жилой недвижимости          626\n",
      "покупка недвижимости                      624\n",
      "строительство недвижимости                620\n",
      "покупка своего жилья                      620\n",
      "ремонт жилью                              612\n",
      "покупка жилой недвижимости                607\n",
      "на покупку своего автомобиля              505\n",
      "заняться высшим образованием              496\n",
      "автомобиль                                495\n",
      "сделка с подержанным автомобилем          489\n",
      "свой автомобиль                           480\n",
      "на покупку подержанного автомобиля        479\n",
      "автомобили                                478\n",
      "на покупку автомобиля                     472\n",
      "дополнительное образование                462\n",
      "приобретение автомобиля                   462\n",
      "сделка с автомобилем                      455\n",
      "высшее образование                        453\n",
      "образование                               447\n",
      "получение дополнительного образования     447\n",
      "получение образования                     443\n",
      "профильное образование                    436\n",
      "получение высшего образования             426\n",
      "заняться образованием                     412\n",
      "Name: count, dtype: int64\n",
      "\n"
     ]
    }
   ],
   "source": [
    "for column in ['children', 'dob_years', 'education', 'family_status', 'income_type', 'purpose']:\n",
    "    print(df[column].value_counts())\n",
    "    print()"
   ]
  },
  {
   "cell_type": "markdown",
   "metadata": {},
   "source": [
    "В столбце `education` присутствуют неявные повторы, связанные с регистром. Приведем все значения к нижнему регистру."
   ]
  },
  {
   "cell_type": "code",
   "execution_count": 19,
   "metadata": {},
   "outputs": [],
   "source": [
    "df['education'] = df['education'].str.lower()"
   ]
  },
  {
   "cell_type": "markdown",
   "metadata": {},
   "source": [
    "Проверим получившийся результат:"
   ]
  },
  {
   "cell_type": "code",
   "execution_count": 20,
   "metadata": {},
   "outputs": [
    {
     "data": {
      "text/plain": [
       "education\n",
       "среднее                15233\n",
       "высшее                  5260\n",
       "неоконченное высшее      744\n",
       "начальное                282\n",
       "ученая степень             6\n",
       "Name: count, dtype: int64"
      ]
     },
     "execution_count": 20,
     "metadata": {},
     "output_type": "execute_result"
    }
   ],
   "source": [
    "df['education'].value_counts()"
   ]
  },
  {
   "cell_type": "markdown",
   "metadata": {},
   "source": [
    "В столбце `children` наблюдаем аномальные данные:\n",
    "* большое количество записей с 20 детьми, при том, что в остальных записях количество детей не превышает 5;\n",
    "* наличие значений -1.\n",
    "\n",
    "Предположим, что данные искажения связаны с опечатками, и \"20\" должно означать \"2\", а \"-1\" - \"1\".\n",
    "Заменим значения на указанные."
   ]
  },
  {
   "cell_type": "code",
   "execution_count": 21,
   "metadata": {},
   "outputs": [],
   "source": [
    "df.loc[df['children'] == 20, 'children'] = 2\n",
    "df.loc[df['children'] == -1, 'children'] = 1"
   ]
  },
  {
   "cell_type": "markdown",
   "metadata": {},
   "source": [
    "Проверим результат:"
   ]
  },
  {
   "cell_type": "code",
   "execution_count": 22,
   "metadata": {},
   "outputs": [
    {
     "data": {
      "text/plain": [
       "children\n",
       "0    14149\n",
       "1     4865\n",
       "2     2131\n",
       "3      330\n",
       "4       41\n",
       "5        9\n",
       "Name: count, dtype: int64"
      ]
     },
     "execution_count": 22,
     "metadata": {},
     "output_type": "execute_result"
    }
   ],
   "source": [
    " df['children'].value_counts()"
   ]
  },
  {
   "cell_type": "markdown",
   "metadata": {},
   "source": [
    "Теперь займемся полными дубликатами."
   ]
  },
  {
   "cell_type": "code",
   "execution_count": 23,
   "metadata": {
    "scrolled": true
   },
   "outputs": [
    {
     "name": "stdout",
     "output_type": "stream",
     "text": [
      "Число полных дубликатов: 71\n"
     ]
    }
   ],
   "source": [
    "full_duplicates_number = df.duplicated().sum() #выявляем число полных дубликатов\n",
    "print(f'Число полных дубликатов: {full_duplicates_number}')"
   ]
  },
  {
   "cell_type": "markdown",
   "metadata": {},
   "source": [
    "С учетом большого количества данных, в том числе высокодисперсных, содержащихся в одной строке, можем сделать вывод, что выявленные дубликаты действительно являются ошибками, а не одинаковыми данными по разным кредитам."
   ]
  },
  {
   "cell_type": "code",
   "execution_count": 24,
   "metadata": {},
   "outputs": [],
   "source": [
    "df = df.drop_duplicates().reset_index(drop=True) #удаляем полные дубликаты"
   ]
  },
  {
   "cell_type": "code",
   "execution_count": 25,
   "metadata": {
    "scrolled": true
   },
   "outputs": [
    {
     "name": "stdout",
     "output_type": "stream",
     "text": [
      "Число полных дубликатов после удаления: 0\n"
     ]
    }
   ],
   "source": [
    "full_duplicates_number = df.duplicated().sum()\n",
    "print(f'Число полных дубликатов после удаления: {full_duplicates_number}') #убеждаемся, что все полные дубликаты удалены"
   ]
  },
  {
   "cell_type": "markdown",
   "metadata": {},
   "source": [
    "**Вывод**"
   ]
  },
  {
   "cell_type": "markdown",
   "metadata": {},
   "source": [
    "Мы обнаружили два типа повторов: явные и неявные. Проблему с явными повторами мы решили, удалив дублирующиеся строки.\n",
    "\n",
    "\n",
    "Неявные повторы обнаружены нами в столбцах `education`, `purpose` и `children`. Значения в столбце `education` мы поправили, приведя их к нижнему регистру. Значения в столбце `children` заменили на значения, которые наиболее вероятно имелись в виду при заполнении. Проблему со значениями в столбце `purpose` мы решим с помощью лемматизации.\n",
    "\n",
    "Т. к. данные столбцов заполняются сотрудниками фронт-офиса на основе предоставленных документов при обработке заявки от клиента, необходимо оптимизировать данный процесс, введя требование для сотрудников указывать значения в данных столбцах в рамках заранее установленных значений (например, введя ограничения в системе на доступные для выбора варианты) вместо ручного ввода. Это поможет структурировать данные и избежать путаницы."
   ]
  },
  {
   "cell_type": "markdown",
   "metadata": {},
   "source": [
    "### Лемматизация"
   ]
  },
  {
   "cell_type": "markdown",
   "metadata": {},
   "source": [
    "Для начала определим итоговые цели кредита, по которым мы хотим разделить имеющиеся данные:"
   ]
  },
  {
   "cell_type": "code",
   "execution_count": 26,
   "metadata": {},
   "outputs": [],
   "source": [
    "m = Mystem()"
   ]
  },
  {
   "cell_type": "code",
   "execution_count": 27,
   "metadata": {},
   "outputs": [
    {
     "data": {
      "text/plain": [
       "[(' ', 33570),\n",
       " (',', 21453),\n",
       " ('недвижимость', 6351),\n",
       " ('покупка', 5897),\n",
       " ('жилье', 4460),\n",
       " ('автомобиль', 4306),\n",
       " ('образование', 4013),\n",
       " ('с', 2918),\n",
       " ('операция', 2604),\n",
       " ('свадьба', 2324),\n",
       " ('свой', 2230),\n",
       " ('на', 2222),\n",
       " ('строительство', 1878),\n",
       " ('высокий', 1374),\n",
       " ('получение', 1314),\n",
       " ('коммерческий', 1311),\n",
       " ('для', 1289),\n",
       " ('жилой', 1230),\n",
       " ('сделка', 941),\n",
       " ('дополнительный', 906),\n",
       " ('заниматься', 904),\n",
       " ('подержать', 853),\n",
       " ('проведение', 768),\n",
       " ('сыграть', 765),\n",
       " ('сдача', 651),\n",
       " ('семья', 638),\n",
       " ('собственный', 635),\n",
       " ('со', 627),\n",
       " ('ремонт', 607),\n",
       " ('приобретение', 461),\n",
       " ('профильный', 436),\n",
       " ('подержанный', 111),\n",
       " ('\\n', 1)]"
      ]
     },
     "execution_count": 27,
     "metadata": {},
     "output_type": "execute_result"
    }
   ],
   "source": [
    "#объединяем в одну строку список значений столбца purpose и лемматизируем их\n",
    "purpose_lemmatized = m.lemmatize(','.join(df['purpose']))\n",
    "\n",
    "#выводим самые часто встречающиеся слова\n",
    "from collections import Counter\n",
    "Counter(purpose_lemmatized).most_common()"
   ]
  },
  {
   "cell_type": "markdown",
   "metadata": {},
   "source": [
    "Таким образом мы можем выделить следующие основные типы кредитов:\n",
    "* ипотека\n",
    "* автокредиты\n",
    "* на образование\n",
    "* на свадьбу\n",
    "\n",
    "Для присвоения данных значений строкам напишем функцию, которая будет принимать значение столбца `purpose` и с помощью лемматизации возвращать один из видов кредитов, определенных выше."
   ]
  },
  {
   "cell_type": "code",
   "execution_count": 28,
   "metadata": {},
   "outputs": [],
   "source": [
    "def loan_type(purpose):\n",
    "        lemma = m.lemmatize(purpose)\n",
    "        if 'недвижимость' in lemma or 'жилье' in lemma:\n",
    "            return 'ипотека'\n",
    "        elif 'автомобиль' in lemma:\n",
    "            return 'автокредит'\n",
    "        elif 'образование' in lemma:\n",
    "            return 'на образование'\n",
    "        elif 'свадьба'in lemma:\n",
    "            return 'на свадьбу'"
   ]
  },
  {
   "cell_type": "code",
   "execution_count": 29,
   "metadata": {
    "scrolled": false
   },
   "outputs": [
    {
     "data": {
      "text/html": [
       "<div>\n",
       "<style scoped>\n",
       "    .dataframe tbody tr th:only-of-type {\n",
       "        vertical-align: middle;\n",
       "    }\n",
       "\n",
       "    .dataframe tbody tr th {\n",
       "        vertical-align: top;\n",
       "    }\n",
       "\n",
       "    .dataframe thead th {\n",
       "        text-align: right;\n",
       "    }\n",
       "</style>\n",
       "<table border=\"1\" class=\"dataframe\">\n",
       "  <thead>\n",
       "    <tr style=\"text-align: right;\">\n",
       "      <th></th>\n",
       "      <th>children</th>\n",
       "      <th>days_employed</th>\n",
       "      <th>dob_years</th>\n",
       "      <th>education</th>\n",
       "      <th>education_id</th>\n",
       "      <th>family_status</th>\n",
       "      <th>family_status_id</th>\n",
       "      <th>gender</th>\n",
       "      <th>income_type</th>\n",
       "      <th>debt</th>\n",
       "      <th>total_income</th>\n",
       "      <th>purpose</th>\n",
       "      <th>purpose_type</th>\n",
       "    </tr>\n",
       "  </thead>\n",
       "  <tbody>\n",
       "    <tr>\n",
       "      <th>0</th>\n",
       "      <td>1</td>\n",
       "      <td>8437.000</td>\n",
       "      <td>42</td>\n",
       "      <td>высшее</td>\n",
       "      <td>0</td>\n",
       "      <td>женат / замужем</td>\n",
       "      <td>0</td>\n",
       "      <td>F</td>\n",
       "      <td>сотрудник</td>\n",
       "      <td>False</td>\n",
       "      <td>253875</td>\n",
       "      <td>покупка жилья</td>\n",
       "      <td>ипотека</td>\n",
       "    </tr>\n",
       "    <tr>\n",
       "      <th>1</th>\n",
       "      <td>1</td>\n",
       "      <td>4024.000</td>\n",
       "      <td>36</td>\n",
       "      <td>среднее</td>\n",
       "      <td>1</td>\n",
       "      <td>женат / замужем</td>\n",
       "      <td>0</td>\n",
       "      <td>F</td>\n",
       "      <td>сотрудник</td>\n",
       "      <td>False</td>\n",
       "      <td>112080</td>\n",
       "      <td>приобретение автомобиля</td>\n",
       "      <td>автокредит</td>\n",
       "    </tr>\n",
       "    <tr>\n",
       "      <th>2</th>\n",
       "      <td>0</td>\n",
       "      <td>5623.000</td>\n",
       "      <td>33</td>\n",
       "      <td>среднее</td>\n",
       "      <td>1</td>\n",
       "      <td>женат / замужем</td>\n",
       "      <td>0</td>\n",
       "      <td>M</td>\n",
       "      <td>сотрудник</td>\n",
       "      <td>False</td>\n",
       "      <td>145885</td>\n",
       "      <td>покупка жилья</td>\n",
       "      <td>ипотека</td>\n",
       "    </tr>\n",
       "    <tr>\n",
       "      <th>3</th>\n",
       "      <td>3</td>\n",
       "      <td>4124.000</td>\n",
       "      <td>32</td>\n",
       "      <td>среднее</td>\n",
       "      <td>1</td>\n",
       "      <td>женат / замужем</td>\n",
       "      <td>0</td>\n",
       "      <td>M</td>\n",
       "      <td>сотрудник</td>\n",
       "      <td>False</td>\n",
       "      <td>267628</td>\n",
       "      <td>дополнительное образование</td>\n",
       "      <td>на образование</td>\n",
       "    </tr>\n",
       "    <tr>\n",
       "      <th>4</th>\n",
       "      <td>0</td>\n",
       "      <td>340.266</td>\n",
       "      <td>53</td>\n",
       "      <td>среднее</td>\n",
       "      <td>1</td>\n",
       "      <td>гражданский брак</td>\n",
       "      <td>1</td>\n",
       "      <td>F</td>\n",
       "      <td>пенсионер</td>\n",
       "      <td>False</td>\n",
       "      <td>158616</td>\n",
       "      <td>сыграть свадьбу</td>\n",
       "      <td>на свадьбу</td>\n",
       "    </tr>\n",
       "    <tr>\n",
       "      <th>5</th>\n",
       "      <td>0</td>\n",
       "      <td>926.000</td>\n",
       "      <td>27</td>\n",
       "      <td>высшее</td>\n",
       "      <td>0</td>\n",
       "      <td>гражданский брак</td>\n",
       "      <td>1</td>\n",
       "      <td>M</td>\n",
       "      <td>компаньон</td>\n",
       "      <td>False</td>\n",
       "      <td>255763</td>\n",
       "      <td>покупка жилья</td>\n",
       "      <td>ипотека</td>\n",
       "    </tr>\n",
       "    <tr>\n",
       "      <th>6</th>\n",
       "      <td>0</td>\n",
       "      <td>2879.000</td>\n",
       "      <td>43</td>\n",
       "      <td>высшее</td>\n",
       "      <td>0</td>\n",
       "      <td>женат / замужем</td>\n",
       "      <td>0</td>\n",
       "      <td>F</td>\n",
       "      <td>компаньон</td>\n",
       "      <td>False</td>\n",
       "      <td>240525</td>\n",
       "      <td>операции с жильем</td>\n",
       "      <td>ипотека</td>\n",
       "    </tr>\n",
       "    <tr>\n",
       "      <th>7</th>\n",
       "      <td>0</td>\n",
       "      <td>152.000</td>\n",
       "      <td>50</td>\n",
       "      <td>среднее</td>\n",
       "      <td>1</td>\n",
       "      <td>женат / замужем</td>\n",
       "      <td>0</td>\n",
       "      <td>M</td>\n",
       "      <td>сотрудник</td>\n",
       "      <td>False</td>\n",
       "      <td>135823</td>\n",
       "      <td>образование</td>\n",
       "      <td>на образование</td>\n",
       "    </tr>\n",
       "    <tr>\n",
       "      <th>8</th>\n",
       "      <td>2</td>\n",
       "      <td>6929.000</td>\n",
       "      <td>35</td>\n",
       "      <td>высшее</td>\n",
       "      <td>0</td>\n",
       "      <td>гражданский брак</td>\n",
       "      <td>1</td>\n",
       "      <td>F</td>\n",
       "      <td>сотрудник</td>\n",
       "      <td>False</td>\n",
       "      <td>95856</td>\n",
       "      <td>на проведение свадьбы</td>\n",
       "      <td>на свадьбу</td>\n",
       "    </tr>\n",
       "    <tr>\n",
       "      <th>9</th>\n",
       "      <td>0</td>\n",
       "      <td>2188.000</td>\n",
       "      <td>41</td>\n",
       "      <td>среднее</td>\n",
       "      <td>1</td>\n",
       "      <td>женат / замужем</td>\n",
       "      <td>0</td>\n",
       "      <td>M</td>\n",
       "      <td>сотрудник</td>\n",
       "      <td>False</td>\n",
       "      <td>144425</td>\n",
       "      <td>покупка жилья для семьи</td>\n",
       "      <td>ипотека</td>\n",
       "    </tr>\n",
       "  </tbody>\n",
       "</table>\n",
       "</div>"
      ],
      "text/plain": [
       "   children  days_employed  dob_years education  education_id  \\\n",
       "0         1       8437.000         42    высшее             0   \n",
       "1         1       4024.000         36   среднее             1   \n",
       "2         0       5623.000         33   среднее             1   \n",
       "3         3       4124.000         32   среднее             1   \n",
       "4         0        340.266         53   среднее             1   \n",
       "5         0        926.000         27    высшее             0   \n",
       "6         0       2879.000         43    высшее             0   \n",
       "7         0        152.000         50   среднее             1   \n",
       "8         2       6929.000         35    высшее             0   \n",
       "9         0       2188.000         41   среднее             1   \n",
       "\n",
       "      family_status  family_status_id gender income_type   debt  total_income  \\\n",
       "0   женат / замужем                 0      F   сотрудник  False        253875   \n",
       "1   женат / замужем                 0      F   сотрудник  False        112080   \n",
       "2   женат / замужем                 0      M   сотрудник  False        145885   \n",
       "3   женат / замужем                 0      M   сотрудник  False        267628   \n",
       "4  гражданский брак                 1      F   пенсионер  False        158616   \n",
       "5  гражданский брак                 1      M   компаньон  False        255763   \n",
       "6   женат / замужем                 0      F   компаньон  False        240525   \n",
       "7   женат / замужем                 0      M   сотрудник  False        135823   \n",
       "8  гражданский брак                 1      F   сотрудник  False         95856   \n",
       "9   женат / замужем                 0      M   сотрудник  False        144425   \n",
       "\n",
       "                      purpose    purpose_type  \n",
       "0               покупка жилья         ипотека  \n",
       "1     приобретение автомобиля      автокредит  \n",
       "2               покупка жилья         ипотека  \n",
       "3  дополнительное образование  на образование  \n",
       "4             сыграть свадьбу      на свадьбу  \n",
       "5               покупка жилья         ипотека  \n",
       "6           операции с жильем         ипотека  \n",
       "7                 образование  на образование  \n",
       "8       на проведение свадьбы      на свадьбу  \n",
       "9     покупка жилья для семьи         ипотека  "
      ]
     },
     "execution_count": 29,
     "metadata": {},
     "output_type": "execute_result"
    }
   ],
   "source": [
    "df['purpose_type'] = df['purpose'].apply(loan_type) #применим функцию к столбцу с целью кредита\n",
    "df.head(10) #выведем первые 10 строк датафрейма для проверки"
   ]
  },
  {
   "cell_type": "markdown",
   "metadata": {},
   "source": [
    "Убедимся, что количество значений в новом столбце равно общему количеству строк для проверки того, что мы покрыли все строки при присвоении типа кредита:"
   ]
  },
  {
   "cell_type": "code",
   "execution_count": 30,
   "metadata": {},
   "outputs": [
    {
     "name": "stdout",
     "output_type": "stream",
     "text": [
      "Количество равно, ошибок нет\n"
     ]
    }
   ],
   "source": [
    "if df['purpose_type'].count() == df['purpose'].count():\n",
    "    print(\"Количество равно, ошибок нет\")\n",
    "else:\n",
    "    print(\"Ошибка\")"
   ]
  },
  {
   "cell_type": "markdown",
   "metadata": {},
   "source": [
    "### Категоризация данных"
   ]
  },
  {
   "cell_type": "markdown",
   "metadata": {},
   "source": [
    "Для дальнейшего анализа нам необходимо категоризировать данные в следующих столбцах:\n",
    "* `children`\n",
    "* `total_income`"
   ]
  },
  {
   "cell_type": "markdown",
   "metadata": {},
   "source": [
    "#### Количество детей"
   ]
  },
  {
   "cell_type": "markdown",
   "metadata": {},
   "source": [
    "Начнем с `children`. Разделим значения на следующие категории:\n",
    "\n",
    "* клиенты без детей\n",
    "* клиенты с 1-2 детьми\n",
    "* многодетные клиенты (3 и более детей)"
   ]
  },
  {
   "cell_type": "code",
   "execution_count": 31,
   "metadata": {},
   "outputs": [
    {
     "data": {
      "text/html": [
       "<div>\n",
       "<style scoped>\n",
       "    .dataframe tbody tr th:only-of-type {\n",
       "        vertical-align: middle;\n",
       "    }\n",
       "\n",
       "    .dataframe tbody tr th {\n",
       "        vertical-align: top;\n",
       "    }\n",
       "\n",
       "    .dataframe thead th {\n",
       "        text-align: right;\n",
       "    }\n",
       "</style>\n",
       "<table border=\"1\" class=\"dataframe\">\n",
       "  <thead>\n",
       "    <tr style=\"text-align: right;\">\n",
       "      <th></th>\n",
       "      <th>children_category</th>\n",
       "      <th>children_category_id</th>\n",
       "    </tr>\n",
       "  </thead>\n",
       "  <tbody>\n",
       "    <tr>\n",
       "      <th>0</th>\n",
       "      <td>бездетные</td>\n",
       "      <td>0</td>\n",
       "    </tr>\n",
       "    <tr>\n",
       "      <th>1</th>\n",
       "      <td>с 1-2 детьми</td>\n",
       "      <td>1</td>\n",
       "    </tr>\n",
       "    <tr>\n",
       "      <th>2</th>\n",
       "      <td>многодетные</td>\n",
       "      <td>2</td>\n",
       "    </tr>\n",
       "  </tbody>\n",
       "</table>\n",
       "</div>"
      ],
      "text/plain": [
       "  children_category  children_category_id\n",
       "0         бездетные                     0\n",
       "1      с 1-2 детьми                     1\n",
       "2       многодетные                     2"
      ]
     },
     "execution_count": 31,
     "metadata": {},
     "output_type": "execute_result"
    }
   ],
   "source": [
    "#создадим словарь\n",
    "children_category_dict = pd.DataFrame(columns=['children_category', 'children_category_id'],\n",
    "                                     data=[\n",
    "                                         [\"бездетные\", 0],\n",
    "                                         [\"с 1-2 детьми\", 1],\n",
    "                                         [\"многодетные\", 2]\n",
    "                                     ])\n",
    "#и выведем его на экран\n",
    "children_category_dict"
   ]
  },
  {
   "cell_type": "markdown",
   "metadata": {},
   "source": [
    "Напишем функцию для категоризации клиентов по количеству детей:"
   ]
  },
  {
   "cell_type": "code",
   "execution_count": 32,
   "metadata": {},
   "outputs": [],
   "source": [
    "def children_category(children):\n",
    "    if children == 0:\n",
    "        return 0\n",
    "    elif 0 < children < 3:\n",
    "        return 1\n",
    "    elif 3 <= children:\n",
    "        return 2"
   ]
  },
  {
   "cell_type": "code",
   "execution_count": 33,
   "metadata": {},
   "outputs": [
    {
     "data": {
      "text/html": [
       "<div>\n",
       "<style scoped>\n",
       "    .dataframe tbody tr th:only-of-type {\n",
       "        vertical-align: middle;\n",
       "    }\n",
       "\n",
       "    .dataframe tbody tr th {\n",
       "        vertical-align: top;\n",
       "    }\n",
       "\n",
       "    .dataframe thead th {\n",
       "        text-align: right;\n",
       "    }\n",
       "</style>\n",
       "<table border=\"1\" class=\"dataframe\">\n",
       "  <thead>\n",
       "    <tr style=\"text-align: right;\">\n",
       "      <th></th>\n",
       "      <th>children</th>\n",
       "      <th>days_employed</th>\n",
       "      <th>dob_years</th>\n",
       "      <th>education</th>\n",
       "      <th>education_id</th>\n",
       "      <th>family_status</th>\n",
       "      <th>family_status_id</th>\n",
       "      <th>gender</th>\n",
       "      <th>income_type</th>\n",
       "      <th>debt</th>\n",
       "      <th>total_income</th>\n",
       "      <th>purpose</th>\n",
       "      <th>purpose_type</th>\n",
       "      <th>children_category_id</th>\n",
       "    </tr>\n",
       "  </thead>\n",
       "  <tbody>\n",
       "    <tr>\n",
       "      <th>0</th>\n",
       "      <td>1</td>\n",
       "      <td>8437.000</td>\n",
       "      <td>42</td>\n",
       "      <td>высшее</td>\n",
       "      <td>0</td>\n",
       "      <td>женат / замужем</td>\n",
       "      <td>0</td>\n",
       "      <td>F</td>\n",
       "      <td>сотрудник</td>\n",
       "      <td>False</td>\n",
       "      <td>253875</td>\n",
       "      <td>покупка жилья</td>\n",
       "      <td>ипотека</td>\n",
       "      <td>1</td>\n",
       "    </tr>\n",
       "    <tr>\n",
       "      <th>1</th>\n",
       "      <td>1</td>\n",
       "      <td>4024.000</td>\n",
       "      <td>36</td>\n",
       "      <td>среднее</td>\n",
       "      <td>1</td>\n",
       "      <td>женат / замужем</td>\n",
       "      <td>0</td>\n",
       "      <td>F</td>\n",
       "      <td>сотрудник</td>\n",
       "      <td>False</td>\n",
       "      <td>112080</td>\n",
       "      <td>приобретение автомобиля</td>\n",
       "      <td>автокредит</td>\n",
       "      <td>1</td>\n",
       "    </tr>\n",
       "    <tr>\n",
       "      <th>2</th>\n",
       "      <td>0</td>\n",
       "      <td>5623.000</td>\n",
       "      <td>33</td>\n",
       "      <td>среднее</td>\n",
       "      <td>1</td>\n",
       "      <td>женат / замужем</td>\n",
       "      <td>0</td>\n",
       "      <td>M</td>\n",
       "      <td>сотрудник</td>\n",
       "      <td>False</td>\n",
       "      <td>145885</td>\n",
       "      <td>покупка жилья</td>\n",
       "      <td>ипотека</td>\n",
       "      <td>0</td>\n",
       "    </tr>\n",
       "    <tr>\n",
       "      <th>3</th>\n",
       "      <td>3</td>\n",
       "      <td>4124.000</td>\n",
       "      <td>32</td>\n",
       "      <td>среднее</td>\n",
       "      <td>1</td>\n",
       "      <td>женат / замужем</td>\n",
       "      <td>0</td>\n",
       "      <td>M</td>\n",
       "      <td>сотрудник</td>\n",
       "      <td>False</td>\n",
       "      <td>267628</td>\n",
       "      <td>дополнительное образование</td>\n",
       "      <td>на образование</td>\n",
       "      <td>2</td>\n",
       "    </tr>\n",
       "    <tr>\n",
       "      <th>4</th>\n",
       "      <td>0</td>\n",
       "      <td>340.266</td>\n",
       "      <td>53</td>\n",
       "      <td>среднее</td>\n",
       "      <td>1</td>\n",
       "      <td>гражданский брак</td>\n",
       "      <td>1</td>\n",
       "      <td>F</td>\n",
       "      <td>пенсионер</td>\n",
       "      <td>False</td>\n",
       "      <td>158616</td>\n",
       "      <td>сыграть свадьбу</td>\n",
       "      <td>на свадьбу</td>\n",
       "      <td>0</td>\n",
       "    </tr>\n",
       "  </tbody>\n",
       "</table>\n",
       "</div>"
      ],
      "text/plain": [
       "   children  days_employed  dob_years education  education_id  \\\n",
       "0         1       8437.000         42    высшее             0   \n",
       "1         1       4024.000         36   среднее             1   \n",
       "2         0       5623.000         33   среднее             1   \n",
       "3         3       4124.000         32   среднее             1   \n",
       "4         0        340.266         53   среднее             1   \n",
       "\n",
       "      family_status  family_status_id gender income_type   debt  total_income  \\\n",
       "0   женат / замужем                 0      F   сотрудник  False        253875   \n",
       "1   женат / замужем                 0      F   сотрудник  False        112080   \n",
       "2   женат / замужем                 0      M   сотрудник  False        145885   \n",
       "3   женат / замужем                 0      M   сотрудник  False        267628   \n",
       "4  гражданский брак                 1      F   пенсионер  False        158616   \n",
       "\n",
       "                      purpose    purpose_type  children_category_id  \n",
       "0               покупка жилья         ипотека                     1  \n",
       "1     приобретение автомобиля      автокредит                     1  \n",
       "2               покупка жилья         ипотека                     0  \n",
       "3  дополнительное образование  на образование                     2  \n",
       "4             сыграть свадьбу      на свадьбу                     0  "
      ]
     },
     "execution_count": 33,
     "metadata": {},
     "output_type": "execute_result"
    }
   ],
   "source": [
    "#применим функцию к столбцу children\n",
    "df['children_category_id'] = df['children'].apply(children_category) \n",
    "df.head() #проверим результаты"
   ]
  },
  {
   "cell_type": "markdown",
   "metadata": {},
   "source": [
    "Выведем частоту распределения по категориям:"
   ]
  },
  {
   "cell_type": "code",
   "execution_count": 34,
   "metadata": {},
   "outputs": [
    {
     "data": {
      "text/plain": [
       "children_category_id\n",
       "0    14091\n",
       "1     6983\n",
       "2      380\n",
       "Name: count, dtype: int64"
      ]
     },
     "execution_count": 34,
     "metadata": {},
     "output_type": "execute_result"
    }
   ],
   "source": [
    "df['children_category_id'].value_counts()"
   ]
  },
  {
   "cell_type": "markdown",
   "metadata": {},
   "source": [
    "Далее категоризируем значения столбца `total_income`.\n",
    "Для начала посмотрим на распределение значений:"
   ]
  },
  {
   "cell_type": "code",
   "execution_count": 35,
   "metadata": {
    "scrolled": false
   },
   "outputs": [
    {
     "data": {
      "text/plain": [
       "<AxesSubplot:xlabel='total_income'>"
      ]
     },
     "execution_count": 35,
     "metadata": {},
     "output_type": "execute_result"
    },
    {
     "data": {
      "image/png": "[encoded data removed]",
      "text/plain": [
       "<Figure size 640x480 with 1 Axes>"
      ]
     },
     "metadata": {},
     "output_type": "display_data"
    }
   ],
   "source": [
    "sns.distplot( a=df[\"total_income\"], hist=True, kde=False, rug=True)"
   ]
  },
  {
   "cell_type": "code",
   "execution_count": 36,
   "metadata": {},
   "outputs": [
    {
     "data": {
      "text/plain": [
       "12390    2265604\n",
       "19548    2200852\n",
       "9159     1726276\n",
       "20742    1715018\n",
       "17137    1711309\n",
       "Name: total_income, dtype: int64"
      ]
     },
     "execution_count": 36,
     "metadata": {},
     "output_type": "execute_result"
    }
   ],
   "source": [
    "#выведем топ значений по столбцу\n",
    "df[\"total_income\"].sort_values(ascending=False).head()"
   ]
  },
  {
   "cell_type": "markdown",
   "metadata": {},
   "source": [
    "Т. к. экстремальные значения единичны, такое распределение выглядит правдоподобным, с данными можно работать."
   ]
  },
  {
   "cell_type": "code",
   "execution_count": 37,
   "metadata": {},
   "outputs": [
    {
     "data": {
      "text/plain": [
       "135781.0"
      ]
     },
     "execution_count": 37,
     "metadata": {},
     "output_type": "execute_result"
    },
    {
     "data": {
      "text/plain": [
       "151010.40281532583"
      ]
     },
     "execution_count": 37,
     "metadata": {},
     "output_type": "execute_result"
    }
   ],
   "source": [
    "#посчитаем медиану и среднее\n",
    "df[\"total_income\"].median()\n",
    "df[\"total_income\"].mean()"
   ]
  },
  {
   "cell_type": "markdown",
   "metadata": {},
   "source": [
    "Для категоризации данных корректнее использовать медиану, т. к. она не подвержена влиянию аномально высоких значений."
   ]
  },
  {
   "cell_type": "markdown",
   "metadata": {},
   "source": [
    "Выделим следующие категории заемщиков:\n",
    "* **низкий уровень дохода** (ниже половины медианы включительно)\n",
    "* **уровень дохода ниже среднего** (от половины медианы до медианы включительно)\n",
    "* **уровень дохода выше среднего** (от медианы до 2 медиан включительно)\n",
    "* **высокий уровень дохода** (выше двух медиан)"
   ]
  },
  {
   "cell_type": "code",
   "execution_count": 38,
   "metadata": {},
   "outputs": [
    {
     "data": {
      "text/html": [
       "<div>\n",
       "<style scoped>\n",
       "    .dataframe tbody tr th:only-of-type {\n",
       "        vertical-align: middle;\n",
       "    }\n",
       "\n",
       "    .dataframe tbody tr th {\n",
       "        vertical-align: top;\n",
       "    }\n",
       "\n",
       "    .dataframe thead th {\n",
       "        text-align: right;\n",
       "    }\n",
       "</style>\n",
       "<table border=\"1\" class=\"dataframe\">\n",
       "  <thead>\n",
       "    <tr style=\"text-align: right;\">\n",
       "      <th></th>\n",
       "      <th>total_income_category</th>\n",
       "      <th>total_income_category_id</th>\n",
       "    </tr>\n",
       "  </thead>\n",
       "  <tbody>\n",
       "    <tr>\n",
       "      <th>0</th>\n",
       "      <td>низкий</td>\n",
       "      <td>0</td>\n",
       "    </tr>\n",
       "    <tr>\n",
       "      <th>1</th>\n",
       "      <td>ниже среднего</td>\n",
       "      <td>1</td>\n",
       "    </tr>\n",
       "    <tr>\n",
       "      <th>2</th>\n",
       "      <td>выше среднего</td>\n",
       "      <td>2</td>\n",
       "    </tr>\n",
       "    <tr>\n",
       "      <th>3</th>\n",
       "      <td>высокий</td>\n",
       "      <td>3</td>\n",
       "    </tr>\n",
       "  </tbody>\n",
       "</table>\n",
       "</div>"
      ],
      "text/plain": [
       "  total_income_category  total_income_category_id\n",
       "0                низкий                         0\n",
       "1         ниже среднего                         1\n",
       "2         выше среднего                         2\n",
       "3               высокий                         3"
      ]
     },
     "execution_count": 38,
     "metadata": {},
     "output_type": "execute_result"
    }
   ],
   "source": [
    "#создадим словарь\n",
    "total_income_category_dict = pd.DataFrame(columns=[\n",
    "    'total_income_category', 'total_income_category_id'],\n",
    "                                     data=[\n",
    "                                         [\"низкий\", 0],\n",
    "                                         [\"ниже среднего\", 1],\n",
    "                                         [\"выше среднего\", 2],\n",
    "                                         [\"высокий\", 3]\n",
    "                                     ])\n",
    "#и выведем его на экран\n",
    "total_income_category_dict"
   ]
  },
  {
   "cell_type": "markdown",
   "metadata": {},
   "source": [
    "Напишем функцию для категоризации:"
   ]
  },
  {
   "cell_type": "code",
   "execution_count": 39,
   "metadata": {},
   "outputs": [],
   "source": [
    "median = df[\"total_income\"].median() #сохраним в переменную значение медианы столбца total_income\n",
    "\n",
    "def total_income_category(total_income):\n",
    "    if total_income <= (median / 2):\n",
    "        return 0\n",
    "    elif (median / 2) < total_income <= median:\n",
    "        return 1\n",
    "    elif median < total_income <= (median * 2):\n",
    "        return 2\n",
    "    elif (median * 2) < total_income:\n",
    "        return 3"
   ]
  },
  {
   "cell_type": "code",
   "execution_count": 40,
   "metadata": {},
   "outputs": [
    {
     "data": {
      "text/html": [
       "<div>\n",
       "<style scoped>\n",
       "    .dataframe tbody tr th:only-of-type {\n",
       "        vertical-align: middle;\n",
       "    }\n",
       "\n",
       "    .dataframe tbody tr th {\n",
       "        vertical-align: top;\n",
       "    }\n",
       "\n",
       "    .dataframe thead th {\n",
       "        text-align: right;\n",
       "    }\n",
       "</style>\n",
       "<table border=\"1\" class=\"dataframe\">\n",
       "  <thead>\n",
       "    <tr style=\"text-align: right;\">\n",
       "      <th></th>\n",
       "      <th>children</th>\n",
       "      <th>days_employed</th>\n",
       "      <th>dob_years</th>\n",
       "      <th>education</th>\n",
       "      <th>education_id</th>\n",
       "      <th>family_status</th>\n",
       "      <th>family_status_id</th>\n",
       "      <th>gender</th>\n",
       "      <th>income_type</th>\n",
       "      <th>debt</th>\n",
       "      <th>total_income</th>\n",
       "      <th>purpose</th>\n",
       "      <th>purpose_type</th>\n",
       "      <th>children_category_id</th>\n",
       "      <th>total_income_category_id</th>\n",
       "    </tr>\n",
       "  </thead>\n",
       "  <tbody>\n",
       "    <tr>\n",
       "      <th>0</th>\n",
       "      <td>1</td>\n",
       "      <td>8437.000</td>\n",
       "      <td>42</td>\n",
       "      <td>высшее</td>\n",
       "      <td>0</td>\n",
       "      <td>женат / замужем</td>\n",
       "      <td>0</td>\n",
       "      <td>F</td>\n",
       "      <td>сотрудник</td>\n",
       "      <td>False</td>\n",
       "      <td>253875</td>\n",
       "      <td>покупка жилья</td>\n",
       "      <td>ипотека</td>\n",
       "      <td>1</td>\n",
       "      <td>2</td>\n",
       "    </tr>\n",
       "    <tr>\n",
       "      <th>1</th>\n",
       "      <td>1</td>\n",
       "      <td>4024.000</td>\n",
       "      <td>36</td>\n",
       "      <td>среднее</td>\n",
       "      <td>1</td>\n",
       "      <td>женат / замужем</td>\n",
       "      <td>0</td>\n",
       "      <td>F</td>\n",
       "      <td>сотрудник</td>\n",
       "      <td>False</td>\n",
       "      <td>112080</td>\n",
       "      <td>приобретение автомобиля</td>\n",
       "      <td>автокредит</td>\n",
       "      <td>1</td>\n",
       "      <td>1</td>\n",
       "    </tr>\n",
       "    <tr>\n",
       "      <th>2</th>\n",
       "      <td>0</td>\n",
       "      <td>5623.000</td>\n",
       "      <td>33</td>\n",
       "      <td>среднее</td>\n",
       "      <td>1</td>\n",
       "      <td>женат / замужем</td>\n",
       "      <td>0</td>\n",
       "      <td>M</td>\n",
       "      <td>сотрудник</td>\n",
       "      <td>False</td>\n",
       "      <td>145885</td>\n",
       "      <td>покупка жилья</td>\n",
       "      <td>ипотека</td>\n",
       "      <td>0</td>\n",
       "      <td>2</td>\n",
       "    </tr>\n",
       "    <tr>\n",
       "      <th>3</th>\n",
       "      <td>3</td>\n",
       "      <td>4124.000</td>\n",
       "      <td>32</td>\n",
       "      <td>среднее</td>\n",
       "      <td>1</td>\n",
       "      <td>женат / замужем</td>\n",
       "      <td>0</td>\n",
       "      <td>M</td>\n",
       "      <td>сотрудник</td>\n",
       "      <td>False</td>\n",
       "      <td>267628</td>\n",
       "      <td>дополнительное образование</td>\n",
       "      <td>на образование</td>\n",
       "      <td>2</td>\n",
       "      <td>2</td>\n",
       "    </tr>\n",
       "    <tr>\n",
       "      <th>4</th>\n",
       "      <td>0</td>\n",
       "      <td>340.266</td>\n",
       "      <td>53</td>\n",
       "      <td>среднее</td>\n",
       "      <td>1</td>\n",
       "      <td>гражданский брак</td>\n",
       "      <td>1</td>\n",
       "      <td>F</td>\n",
       "      <td>пенсионер</td>\n",
       "      <td>False</td>\n",
       "      <td>158616</td>\n",
       "      <td>сыграть свадьбу</td>\n",
       "      <td>на свадьбу</td>\n",
       "      <td>0</td>\n",
       "      <td>2</td>\n",
       "    </tr>\n",
       "    <tr>\n",
       "      <th>5</th>\n",
       "      <td>0</td>\n",
       "      <td>926.000</td>\n",
       "      <td>27</td>\n",
       "      <td>высшее</td>\n",
       "      <td>0</td>\n",
       "      <td>гражданский брак</td>\n",
       "      <td>1</td>\n",
       "      <td>M</td>\n",
       "      <td>компаньон</td>\n",
       "      <td>False</td>\n",
       "      <td>255763</td>\n",
       "      <td>покупка жилья</td>\n",
       "      <td>ипотека</td>\n",
       "      <td>0</td>\n",
       "      <td>2</td>\n",
       "    </tr>\n",
       "    <tr>\n",
       "      <th>6</th>\n",
       "      <td>0</td>\n",
       "      <td>2879.000</td>\n",
       "      <td>43</td>\n",
       "      <td>высшее</td>\n",
       "      <td>0</td>\n",
       "      <td>женат / замужем</td>\n",
       "      <td>0</td>\n",
       "      <td>F</td>\n",
       "      <td>компаньон</td>\n",
       "      <td>False</td>\n",
       "      <td>240525</td>\n",
       "      <td>операции с жильем</td>\n",
       "      <td>ипотека</td>\n",
       "      <td>0</td>\n",
       "      <td>2</td>\n",
       "    </tr>\n",
       "    <tr>\n",
       "      <th>7</th>\n",
       "      <td>0</td>\n",
       "      <td>152.000</td>\n",
       "      <td>50</td>\n",
       "      <td>среднее</td>\n",
       "      <td>1</td>\n",
       "      <td>женат / замужем</td>\n",
       "      <td>0</td>\n",
       "      <td>M</td>\n",
       "      <td>сотрудник</td>\n",
       "      <td>False</td>\n",
       "      <td>135823</td>\n",
       "      <td>образование</td>\n",
       "      <td>на образование</td>\n",
       "      <td>0</td>\n",
       "      <td>2</td>\n",
       "    </tr>\n",
       "    <tr>\n",
       "      <th>8</th>\n",
       "      <td>2</td>\n",
       "      <td>6929.000</td>\n",
       "      <td>35</td>\n",
       "      <td>высшее</td>\n",
       "      <td>0</td>\n",
       "      <td>гражданский брак</td>\n",
       "      <td>1</td>\n",
       "      <td>F</td>\n",
       "      <td>сотрудник</td>\n",
       "      <td>False</td>\n",
       "      <td>95856</td>\n",
       "      <td>на проведение свадьбы</td>\n",
       "      <td>на свадьбу</td>\n",
       "      <td>1</td>\n",
       "      <td>1</td>\n",
       "    </tr>\n",
       "    <tr>\n",
       "      <th>9</th>\n",
       "      <td>0</td>\n",
       "      <td>2188.000</td>\n",
       "      <td>41</td>\n",
       "      <td>среднее</td>\n",
       "      <td>1</td>\n",
       "      <td>женат / замужем</td>\n",
       "      <td>0</td>\n",
       "      <td>M</td>\n",
       "      <td>сотрудник</td>\n",
       "      <td>False</td>\n",
       "      <td>144425</td>\n",
       "      <td>покупка жилья для семьи</td>\n",
       "      <td>ипотека</td>\n",
       "      <td>0</td>\n",
       "      <td>2</td>\n",
       "    </tr>\n",
       "  </tbody>\n",
       "</table>\n",
       "</div>"
      ],
      "text/plain": [
       "   children  days_employed  dob_years education  education_id  \\\n",
       "0         1       8437.000         42    высшее             0   \n",
       "1         1       4024.000         36   среднее             1   \n",
       "2         0       5623.000         33   среднее             1   \n",
       "3         3       4124.000         32   среднее             1   \n",
       "4         0        340.266         53   среднее             1   \n",
       "5         0        926.000         27    высшее             0   \n",
       "6         0       2879.000         43    высшее             0   \n",
       "7         0        152.000         50   среднее             1   \n",
       "8         2       6929.000         35    высшее             0   \n",
       "9         0       2188.000         41   среднее             1   \n",
       "\n",
       "      family_status  family_status_id gender income_type   debt  total_income  \\\n",
       "0   женат / замужем                 0      F   сотрудник  False        253875   \n",
       "1   женат / замужем                 0      F   сотрудник  False        112080   \n",
       "2   женат / замужем                 0      M   сотрудник  False        145885   \n",
       "3   женат / замужем                 0      M   сотрудник  False        267628   \n",
       "4  гражданский брак                 1      F   пенсионер  False        158616   \n",
       "5  гражданский брак                 1      M   компаньон  False        255763   \n",
       "6   женат / замужем                 0      F   компаньон  False        240525   \n",
       "7   женат / замужем                 0      M   сотрудник  False        135823   \n",
       "8  гражданский брак                 1      F   сотрудник  False         95856   \n",
       "9   женат / замужем                 0      M   сотрудник  False        144425   \n",
       "\n",
       "                      purpose    purpose_type  children_category_id  \\\n",
       "0               покупка жилья         ипотека                     1   \n",
       "1     приобретение автомобиля      автокредит                     1   \n",
       "2               покупка жилья         ипотека                     0   \n",
       "3  дополнительное образование  на образование                     2   \n",
       "4             сыграть свадьбу      на свадьбу                     0   \n",
       "5               покупка жилья         ипотека                     0   \n",
       "6           операции с жильем         ипотека                     0   \n",
       "7                 образование  на образование                     0   \n",
       "8       на проведение свадьбы      на свадьбу                     1   \n",
       "9     покупка жилья для семьи         ипотека                     0   \n",
       "\n",
       "   total_income_category_id  \n",
       "0                         2  \n",
       "1                         1  \n",
       "2                         2  \n",
       "3                         2  \n",
       "4                         2  \n",
       "5                         2  \n",
       "6                         2  \n",
       "7                         2  \n",
       "8                         1  \n",
       "9                         2  "
      ]
     },
     "execution_count": 40,
     "metadata": {},
     "output_type": "execute_result"
    },
    {
     "data": {
      "text/plain": [
       "total_income_category_id\n",
       "0    3432\n",
       "Name: count, dtype: int64"
      ]
     },
     "execution_count": 40,
     "metadata": {},
     "output_type": "execute_result"
    },
    {
     "data": {
      "text/plain": [
       "total_income_category_id\n",
       "3    2105\n",
       "Name: count, dtype: int64"
      ]
     },
     "execution_count": 40,
     "metadata": {},
     "output_type": "execute_result"
    }
   ],
   "source": [
    "#применим формулу к столбцу total_income\n",
    "df['total_income_category_id'] = df['total_income'].apply(total_income_category)\n",
    "\n",
    "#проверим получившийся результат\n",
    "df.head(10)\n",
    "\n",
    "#также убедимся в корректном распределении \"низкой\" и \"высокой\" категорий:\n",
    "df[df['total_income'] < (median / 2)]['total_income_category_id'].value_counts()\n",
    "df[df['total_income'] > (median * 2)]['total_income_category_id'].value_counts()"
   ]
  },
  {
   "cell_type": "code",
   "execution_count": 41,
   "metadata": {},
   "outputs": [
    {
     "data": {
      "text/plain": [
       "total_income_category_id\n",
       "2    8622\n",
       "1    7295\n",
       "0    3432\n",
       "3    2105\n",
       "Name: count, dtype: int64"
      ]
     },
     "execution_count": 41,
     "metadata": {},
     "output_type": "execute_result"
    }
   ],
   "source": [
    "#посмотрим распределение по категориям\n",
    "df['total_income_category_id'].value_counts()"
   ]
  },
  {
   "cell_type": "code",
   "execution_count": 42,
   "metadata": {},
   "outputs": [
    {
     "name": "stdout",
     "output_type": "stream",
     "text": [
      "Количество распределенных значений совпадает с общим количеством, ошибок нет\n"
     ]
    }
   ],
   "source": [
    "#сверим общее количество распределенных значений\n",
    "\n",
    "if df['total_income_category_id'].value_counts().sum() == len(df['total_income_category_id']):\n",
    "    print('Количество распределенных значений совпадает с общим количеством, ошибок нет')\n",
    "else:\n",
    "    print('ошибка')"
   ]
  },
  {
   "cell_type": "markdown",
   "metadata": {},
   "source": [
    "Выведем данные в столбцах `education` и `family_status` в словари."
   ]
  },
  {
   "cell_type": "code",
   "execution_count": 43,
   "metadata": {},
   "outputs": [
    {
     "data": {
      "text/html": [
       "<div>\n",
       "<style scoped>\n",
       "    .dataframe tbody tr th:only-of-type {\n",
       "        vertical-align: middle;\n",
       "    }\n",
       "\n",
       "    .dataframe tbody tr th {\n",
       "        vertical-align: top;\n",
       "    }\n",
       "\n",
       "    .dataframe thead th {\n",
       "        text-align: right;\n",
       "    }\n",
       "</style>\n",
       "<table border=\"1\" class=\"dataframe\">\n",
       "  <thead>\n",
       "    <tr style=\"text-align: right;\">\n",
       "      <th></th>\n",
       "      <th>education</th>\n",
       "      <th>education_id</th>\n",
       "    </tr>\n",
       "  </thead>\n",
       "  <tbody>\n",
       "    <tr>\n",
       "      <th>0</th>\n",
       "      <td>высшее</td>\n",
       "      <td>0</td>\n",
       "    </tr>\n",
       "    <tr>\n",
       "      <th>1</th>\n",
       "      <td>среднее</td>\n",
       "      <td>1</td>\n",
       "    </tr>\n",
       "    <tr>\n",
       "      <th>2</th>\n",
       "      <td>неоконченное высшее</td>\n",
       "      <td>2</td>\n",
       "    </tr>\n",
       "    <tr>\n",
       "      <th>3</th>\n",
       "      <td>начальное</td>\n",
       "      <td>3</td>\n",
       "    </tr>\n",
       "    <tr>\n",
       "      <th>4</th>\n",
       "      <td>ученая степень</td>\n",
       "      <td>4</td>\n",
       "    </tr>\n",
       "  </tbody>\n",
       "</table>\n",
       "</div>"
      ],
      "text/plain": [
       "             education  education_id\n",
       "0               высшее             0\n",
       "1              среднее             1\n",
       "2  неоконченное высшее             2\n",
       "3            начальное             3\n",
       "4       ученая степень             4"
      ]
     },
     "execution_count": 43,
     "metadata": {},
     "output_type": "execute_result"
    }
   ],
   "source": [
    "education_dict = df[['education','education_id']]\n",
    "#удалим дубликаты\n",
    "education_dict = education_dict.drop_duplicates().reset_index(drop=True)\n",
    "#выведем словарь\n",
    "education_dict"
   ]
  },
  {
   "cell_type": "code",
   "execution_count": 44,
   "metadata": {},
   "outputs": [
    {
     "data": {
      "text/html": [
       "<div>\n",
       "<style scoped>\n",
       "    .dataframe tbody tr th:only-of-type {\n",
       "        vertical-align: middle;\n",
       "    }\n",
       "\n",
       "    .dataframe tbody tr th {\n",
       "        vertical-align: top;\n",
       "    }\n",
       "\n",
       "    .dataframe thead th {\n",
       "        text-align: right;\n",
       "    }\n",
       "</style>\n",
       "<table border=\"1\" class=\"dataframe\">\n",
       "  <thead>\n",
       "    <tr style=\"text-align: right;\">\n",
       "      <th></th>\n",
       "      <th>family_status</th>\n",
       "      <th>family_status_id</th>\n",
       "    </tr>\n",
       "  </thead>\n",
       "  <tbody>\n",
       "    <tr>\n",
       "      <th>0</th>\n",
       "      <td>женат / замужем</td>\n",
       "      <td>0</td>\n",
       "    </tr>\n",
       "    <tr>\n",
       "      <th>1</th>\n",
       "      <td>гражданский брак</td>\n",
       "      <td>1</td>\n",
       "    </tr>\n",
       "    <tr>\n",
       "      <th>2</th>\n",
       "      <td>вдовец / вдова</td>\n",
       "      <td>2</td>\n",
       "    </tr>\n",
       "    <tr>\n",
       "      <th>3</th>\n",
       "      <td>в разводе</td>\n",
       "      <td>3</td>\n",
       "    </tr>\n",
       "    <tr>\n",
       "      <th>4</th>\n",
       "      <td>Не женат / не замужем</td>\n",
       "      <td>4</td>\n",
       "    </tr>\n",
       "  </tbody>\n",
       "</table>\n",
       "</div>"
      ],
      "text/plain": [
       "           family_status  family_status_id\n",
       "0        женат / замужем                 0\n",
       "1       гражданский брак                 1\n",
       "2         вдовец / вдова                 2\n",
       "3              в разводе                 3\n",
       "4  Не женат / не замужем                 4"
      ]
     },
     "execution_count": 44,
     "metadata": {},
     "output_type": "execute_result"
    }
   ],
   "source": [
    "family_status_dict = df[['family_status', 'family_status_id']]\n",
    "#удалим дубликаты\n",
    "family_status_dict = family_status_dict.drop_duplicates().reset_index(drop=True)\n",
    "#выведем словарь\n",
    "family_status_dict"
   ]
  },
  {
   "cell_type": "code",
   "execution_count": 45,
   "metadata": {},
   "outputs": [
    {
     "data": {
      "text/html": [
       "<div>\n",
       "<style scoped>\n",
       "    .dataframe tbody tr th:only-of-type {\n",
       "        vertical-align: middle;\n",
       "    }\n",
       "\n",
       "    .dataframe tbody tr th {\n",
       "        vertical-align: top;\n",
       "    }\n",
       "\n",
       "    .dataframe thead th {\n",
       "        text-align: right;\n",
       "    }\n",
       "</style>\n",
       "<table border=\"1\" class=\"dataframe\">\n",
       "  <thead>\n",
       "    <tr style=\"text-align: right;\">\n",
       "      <th></th>\n",
       "      <th>family_status_id</th>\n",
       "      <th>debt</th>\n",
       "      <th>purpose_type</th>\n",
       "      <th>children_category_id</th>\n",
       "      <th>total_income_category_id</th>\n",
       "    </tr>\n",
       "  </thead>\n",
       "  <tbody>\n",
       "    <tr>\n",
       "      <th>0</th>\n",
       "      <td>0</td>\n",
       "      <td>False</td>\n",
       "      <td>ипотека</td>\n",
       "      <td>1</td>\n",
       "      <td>2</td>\n",
       "    </tr>\n",
       "    <tr>\n",
       "      <th>1</th>\n",
       "      <td>0</td>\n",
       "      <td>False</td>\n",
       "      <td>автокредит</td>\n",
       "      <td>1</td>\n",
       "      <td>1</td>\n",
       "    </tr>\n",
       "    <tr>\n",
       "      <th>2</th>\n",
       "      <td>0</td>\n",
       "      <td>False</td>\n",
       "      <td>ипотека</td>\n",
       "      <td>0</td>\n",
       "      <td>2</td>\n",
       "    </tr>\n",
       "    <tr>\n",
       "      <th>3</th>\n",
       "      <td>0</td>\n",
       "      <td>False</td>\n",
       "      <td>на образование</td>\n",
       "      <td>2</td>\n",
       "      <td>2</td>\n",
       "    </tr>\n",
       "    <tr>\n",
       "      <th>4</th>\n",
       "      <td>1</td>\n",
       "      <td>False</td>\n",
       "      <td>на свадьбу</td>\n",
       "      <td>0</td>\n",
       "      <td>2</td>\n",
       "    </tr>\n",
       "  </tbody>\n",
       "</table>\n",
       "</div>"
      ],
      "text/plain": [
       "   family_status_id   debt    purpose_type  children_category_id  \\\n",
       "0                 0  False         ипотека                     1   \n",
       "1                 0  False      автокредит                     1   \n",
       "2                 0  False         ипотека                     0   \n",
       "3                 0  False  на образование                     2   \n",
       "4                 1  False      на свадьбу                     0   \n",
       "\n",
       "   total_income_category_id  \n",
       "0                         2  \n",
       "1                         1  \n",
       "2                         2  \n",
       "3                         2  \n",
       "4                         2  "
      ]
     },
     "execution_count": 45,
     "metadata": {},
     "output_type": "execute_result"
    }
   ],
   "source": [
    "#создадим датафрейм со столбцами, необходимыми для дальнейшего анализа\n",
    "data = df[['family_status_id', 'debt', 'purpose_type', 'children_category_id',\n",
    "       'total_income_category_id']]\n",
    "data.head()"
   ]
  },
  {
   "cell_type": "markdown",
   "metadata": {},
   "source": [
    "**Вывод**"
   ]
  },
  {
   "cell_type": "markdown",
   "metadata": {},
   "source": [
    "Мы категоризировали данные в столбцах `children` и `total_income` для удобства дальнейшего анализа и присвоили каждой категории идентификатор.\n",
    "Данные о соответствии категорий и идентификаторов мы вывели в отдельные словари (`children_category_dict` и `total_income_category_dict`).\n",
    "\n",
    "Также мы выделили отдельные словари для столбцов `education` и `family_status` и их идентификаторов (`education_dict` и `family_status_dict`)."
   ]
  },
  {
   "cell_type": "markdown",
   "metadata": {},
   "source": [
    "## Шаг 3. Выявление зависимостей"
   ]
  },
  {
   "cell_type": "markdown",
   "metadata": {},
   "source": [
    "- Есть ли зависимость между наличием детей и возвратом кредита в срок?"
   ]
  },
  {
   "cell_type": "markdown",
   "metadata": {},
   "source": [
    "Для дальнейшего анализа нам потребуется столбец `debt`. Убедимся, что он содержит только значения \"0\" и \"1\"."
   ]
  },
  {
   "cell_type": "code",
   "execution_count": 46,
   "metadata": {},
   "outputs": [
    {
     "data": {
      "text/plain": [
       "debt\n",
       "False    19713\n",
       "True      1741\n",
       "Name: count, dtype: int64"
      ]
     },
     "execution_count": 46,
     "metadata": {},
     "output_type": "execute_result"
    }
   ],
   "source": [
    "data['debt'].value_counts()"
   ]
  },
  {
   "cell_type": "code",
   "execution_count": 47,
   "metadata": {},
   "outputs": [
    {
     "data": {
      "text/html": [
       "<div>\n",
       "<style scoped>\n",
       "    .dataframe tbody tr th:only-of-type {\n",
       "        vertical-align: middle;\n",
       "    }\n",
       "\n",
       "    .dataframe tbody tr th {\n",
       "        vertical-align: top;\n",
       "    }\n",
       "\n",
       "    .dataframe thead th {\n",
       "        text-align: right;\n",
       "    }\n",
       "</style>\n",
       "<table border=\"1\" class=\"dataframe\">\n",
       "  <thead>\n",
       "    <tr style=\"text-align: right;\">\n",
       "      <th></th>\n",
       "      <th>children_category</th>\n",
       "      <th>children_category_id</th>\n",
       "    </tr>\n",
       "  </thead>\n",
       "  <tbody>\n",
       "    <tr>\n",
       "      <th>0</th>\n",
       "      <td>бездетные</td>\n",
       "      <td>0</td>\n",
       "    </tr>\n",
       "    <tr>\n",
       "      <th>1</th>\n",
       "      <td>с 1-2 детьми</td>\n",
       "      <td>1</td>\n",
       "    </tr>\n",
       "    <tr>\n",
       "      <th>2</th>\n",
       "      <td>многодетные</td>\n",
       "      <td>2</td>\n",
       "    </tr>\n",
       "  </tbody>\n",
       "</table>\n",
       "</div>"
      ],
      "text/plain": [
       "  children_category  children_category_id\n",
       "0         бездетные                     0\n",
       "1      с 1-2 детьми                     1\n",
       "2       многодетные                     2"
      ]
     },
     "execution_count": 47,
     "metadata": {},
     "output_type": "execute_result"
    },
    {
     "data": {
      "text/html": [
       "<style type=\"text/css\">\n",
       "</style>\n",
       "<table id=\"T_f5c62\">\n",
       "  <thead>\n",
       "    <tr>\n",
       "      <th class=\"index_name level0\" >debt</th>\n",
       "      <th id=\"T_f5c62_level0_col0\" class=\"col_heading level0 col0\" >False</th>\n",
       "      <th id=\"T_f5c62_level0_col1\" class=\"col_heading level0 col1\" >True</th>\n",
       "      <th id=\"T_f5c62_level0_col2\" class=\"col_heading level0 col2\" >debt_percentage</th>\n",
       "    </tr>\n",
       "    <tr>\n",
       "      <th class=\"index_name level0\" >children_category_id</th>\n",
       "      <th class=\"blank col0\" >&nbsp;</th>\n",
       "      <th class=\"blank col1\" >&nbsp;</th>\n",
       "      <th class=\"blank col2\" >&nbsp;</th>\n",
       "    </tr>\n",
       "  </thead>\n",
       "  <tbody>\n",
       "    <tr>\n",
       "      <th id=\"T_f5c62_level0_row0\" class=\"row_heading level0 row0\" >0</th>\n",
       "      <td id=\"T_f5c62_row0_col0\" class=\"data row0 col0\" >13028</td>\n",
       "      <td id=\"T_f5c62_row0_col1\" class=\"data row0 col1\" >1063</td>\n",
       "      <td id=\"T_f5c62_row0_col2\" class=\"data row0 col2\" >7.5%</td>\n",
       "    </tr>\n",
       "    <tr>\n",
       "      <th id=\"T_f5c62_level0_row1\" class=\"row_heading level0 row1\" >2</th>\n",
       "      <td id=\"T_f5c62_row1_col0\" class=\"data row1 col0\" >349</td>\n",
       "      <td id=\"T_f5c62_row1_col1\" class=\"data row1 col1\" >31</td>\n",
       "      <td id=\"T_f5c62_row1_col2\" class=\"data row1 col2\" >8.2%</td>\n",
       "    </tr>\n",
       "    <tr>\n",
       "      <th id=\"T_f5c62_level0_row2\" class=\"row_heading level0 row2\" >1</th>\n",
       "      <td id=\"T_f5c62_row2_col0\" class=\"data row2 col0\" >6336</td>\n",
       "      <td id=\"T_f5c62_row2_col1\" class=\"data row2 col1\" >647</td>\n",
       "      <td id=\"T_f5c62_row2_col2\" class=\"data row2 col2\" >9.3%</td>\n",
       "    </tr>\n",
       "  </tbody>\n",
       "</table>\n"
      ],
      "text/plain": [
       "<pandas.io.formats.style.Styler at 0x7f98664ebe50>"
      ]
     },
     "execution_count": 47,
     "metadata": {},
     "output_type": "execute_result"
    }
   ],
   "source": [
    "#построим сводную таблицу по столбцам 'children_category_id' и 'debt'.\n",
    "pivot_children = data.pivot_table(\n",
    "    index='children_category_id',\n",
    "    columns='debt',\n",
    "    values='family_status_id', #произвольный столбец\n",
    "    aggfunc='count')\n",
    "\n",
    "#добавим столбец с долей заемщиков, имевших задолженность\n",
    "pivot_children['debt_percentage'] = pivot_children[True] / (pivot_children[True] + pivot_children[False])\n",
    "\n",
    "children_category_dict #выведем на экран словарь\n",
    "\n",
    "\n",
    "#отсортируем сводную таблицу по возрастанию столбца debt_percentage\n",
    "pivot_children = pivot_children.sort_values(by='debt_percentage')\n",
    "\n",
    "#отформатируем значения столбца debt_percentage для отображения в процентах\n",
    "pivot_children_stylized = pivot_children.style.format({'debt_percentage': '{:.1%}'})\n",
    "\n",
    "pivot_children_stylized #выведем сводную таблицу на экран"
   ]
  },
  {
   "cell_type": "code",
   "execution_count": 48,
   "metadata": {
    "scrolled": true
   },
   "outputs": [
    {
     "name": "stdout",
     "output_type": "stream",
     "text": [
      "9.2%\n"
     ]
    }
   ],
   "source": [
    "#попробуем объединить заемщиков категорий 1 и 2 и рассчитать для них долю невозвратов\n",
    "print(\n",
    "    f'''{(pivot_children.loc[1, 1] + pivot_children.loc[2, 1]) / (\n",
    "    (pivot_children.loc[1, 1] + pivot_children.loc[2, 1]) + \n",
    "    (pivot_children.loc[1, 0] + pivot_children.loc[2, 0])\n",
    "):.1%}'''\n",
    ")"
   ]
  },
  {
   "cell_type": "markdown",
   "metadata": {},
   "source": [
    "Доля невозвратов несущественно изменилась при объединении категорий заемщиков с 1-2 и 3 и более детьми. С учетом небольшого количества записей в категории 2 для вывода мы можем использовать объединенные значения."
   ]
  },
  {
   "cell_type": "markdown",
   "metadata": {},
   "source": [
    "**Вывод**"
   ]
  },
  {
   "cell_type": "markdown",
   "metadata": {},
   "source": [
    "Доля заемщиков, имевших задолженность, у которых есть дети (категория 1 + 2) составляет 9.2%, в то время как доля таких заемщиков без детей (категория 0) ниже, и составляет 7.5%.\n",
    "\n",
    "Таким образом мы можем сделать вывод, что вероятность возврата кредита заемщиком, не имеющим детей, выше, чем заемщиком, имеющим детей."
   ]
  },
  {
   "cell_type": "markdown",
   "metadata": {},
   "source": [
    "___"
   ]
  },
  {
   "cell_type": "markdown",
   "metadata": {},
   "source": [
    "- Есть ли зависимость между семейным положением и возвратом кредита в срок?"
   ]
  },
  {
   "cell_type": "code",
   "execution_count": 49,
   "metadata": {},
   "outputs": [
    {
     "data": {
      "text/html": [
       "<div>\n",
       "<style scoped>\n",
       "    .dataframe tbody tr th:only-of-type {\n",
       "        vertical-align: middle;\n",
       "    }\n",
       "\n",
       "    .dataframe tbody tr th {\n",
       "        vertical-align: top;\n",
       "    }\n",
       "\n",
       "    .dataframe thead th {\n",
       "        text-align: right;\n",
       "    }\n",
       "</style>\n",
       "<table border=\"1\" class=\"dataframe\">\n",
       "  <thead>\n",
       "    <tr style=\"text-align: right;\">\n",
       "      <th></th>\n",
       "      <th>family_status</th>\n",
       "      <th>family_status_id</th>\n",
       "    </tr>\n",
       "  </thead>\n",
       "  <tbody>\n",
       "    <tr>\n",
       "      <th>0</th>\n",
       "      <td>женат / замужем</td>\n",
       "      <td>0</td>\n",
       "    </tr>\n",
       "    <tr>\n",
       "      <th>1</th>\n",
       "      <td>гражданский брак</td>\n",
       "      <td>1</td>\n",
       "    </tr>\n",
       "    <tr>\n",
       "      <th>2</th>\n",
       "      <td>вдовец / вдова</td>\n",
       "      <td>2</td>\n",
       "    </tr>\n",
       "    <tr>\n",
       "      <th>3</th>\n",
       "      <td>в разводе</td>\n",
       "      <td>3</td>\n",
       "    </tr>\n",
       "    <tr>\n",
       "      <th>4</th>\n",
       "      <td>Не женат / не замужем</td>\n",
       "      <td>4</td>\n",
       "    </tr>\n",
       "  </tbody>\n",
       "</table>\n",
       "</div>"
      ],
      "text/plain": [
       "           family_status  family_status_id\n",
       "0        женат / замужем                 0\n",
       "1       гражданский брак                 1\n",
       "2         вдовец / вдова                 2\n",
       "3              в разводе                 3\n",
       "4  Не женат / не замужем                 4"
      ]
     },
     "execution_count": 49,
     "metadata": {},
     "output_type": "execute_result"
    },
    {
     "data": {
      "text/html": [
       "<style type=\"text/css\">\n",
       "</style>\n",
       "<table id=\"T_0ab14\">\n",
       "  <thead>\n",
       "    <tr>\n",
       "      <th class=\"index_name level0\" >debt</th>\n",
       "      <th id=\"T_0ab14_level0_col0\" class=\"col_heading level0 col0\" >False</th>\n",
       "      <th id=\"T_0ab14_level0_col1\" class=\"col_heading level0 col1\" >True</th>\n",
       "      <th id=\"T_0ab14_level0_col2\" class=\"col_heading level0 col2\" >debt_percentage</th>\n",
       "    </tr>\n",
       "    <tr>\n",
       "      <th class=\"index_name level0\" >family_status_id</th>\n",
       "      <th class=\"blank col0\" >&nbsp;</th>\n",
       "      <th class=\"blank col1\" >&nbsp;</th>\n",
       "      <th class=\"blank col2\" >&nbsp;</th>\n",
       "    </tr>\n",
       "  </thead>\n",
       "  <tbody>\n",
       "    <tr>\n",
       "      <th id=\"T_0ab14_level0_row0\" class=\"row_heading level0 row0\" >2</th>\n",
       "      <td id=\"T_0ab14_row0_col0\" class=\"data row0 col0\" >896</td>\n",
       "      <td id=\"T_0ab14_row0_col1\" class=\"data row0 col1\" >63</td>\n",
       "      <td id=\"T_0ab14_row0_col2\" class=\"data row0 col2\" >6.6%</td>\n",
       "    </tr>\n",
       "    <tr>\n",
       "      <th id=\"T_0ab14_level0_row1\" class=\"row_heading level0 row1\" >3</th>\n",
       "      <td id=\"T_0ab14_row1_col0\" class=\"data row1 col0\" >1110</td>\n",
       "      <td id=\"T_0ab14_row1_col1\" class=\"data row1 col1\" >85</td>\n",
       "      <td id=\"T_0ab14_row1_col2\" class=\"data row1 col2\" >7.1%</td>\n",
       "    </tr>\n",
       "    <tr>\n",
       "      <th id=\"T_0ab14_level0_row2\" class=\"row_heading level0 row2\" >0</th>\n",
       "      <td id=\"T_0ab14_row2_col0\" class=\"data row2 col0\" >11408</td>\n",
       "      <td id=\"T_0ab14_row2_col1\" class=\"data row2 col1\" >931</td>\n",
       "      <td id=\"T_0ab14_row2_col2\" class=\"data row2 col2\" >7.5%</td>\n",
       "    </tr>\n",
       "    <tr>\n",
       "      <th id=\"T_0ab14_level0_row3\" class=\"row_heading level0 row3\" >1</th>\n",
       "      <td id=\"T_0ab14_row3_col0\" class=\"data row3 col0\" >3763</td>\n",
       "      <td id=\"T_0ab14_row3_col1\" class=\"data row3 col1\" >388</td>\n",
       "      <td id=\"T_0ab14_row3_col2\" class=\"data row3 col2\" >9.3%</td>\n",
       "    </tr>\n",
       "    <tr>\n",
       "      <th id=\"T_0ab14_level0_row4\" class=\"row_heading level0 row4\" >4</th>\n",
       "      <td id=\"T_0ab14_row4_col0\" class=\"data row4 col0\" >2536</td>\n",
       "      <td id=\"T_0ab14_row4_col1\" class=\"data row4 col1\" >274</td>\n",
       "      <td id=\"T_0ab14_row4_col2\" class=\"data row4 col2\" >9.8%</td>\n",
       "    </tr>\n",
       "  </tbody>\n",
       "</table>\n"
      ],
      "text/plain": [
       "<pandas.io.formats.style.Styler at 0x7f98664eb3d0>"
      ]
     },
     "execution_count": 49,
     "metadata": {},
     "output_type": "execute_result"
    }
   ],
   "source": [
    "#построим сводную таблицу по столбцам 'family_status_id' и 'debt'.\n",
    "pivot_family_status = data.pivot_table(\n",
    "    index='family_status_id',\n",
    "    columns='debt',\n",
    "    values='children_category_id', #произвольный столбец\n",
    "    aggfunc='count')\n",
    "\n",
    "#добавим столбец с долей заемщиков, имевших задолженность\n",
    "pivot_family_status['debt_percentage'] = pivot_family_status[True] / (\n",
    "    pivot_family_status[True] + pivot_family_status[False]\n",
    ")\n",
    "\n",
    "family_status_dict #выведем на экран словарь\n",
    "\n",
    "#отсортируем сводную таблицу по возрастанию столбца debt_percentage\n",
    "pivot_family_status = pivot_family_status.sort_values(by='debt_percentage')\n",
    "\n",
    "#отформатируем значения столбца debt_percentage для отображения в процентах\n",
    "pivot_family_status = pivot_family_status.style.format({'debt_percentage': \"{:.1%}\"})\n",
    "\n",
    "pivot_family_status #выведем сводную таблицу на экран"
   ]
  },
  {
   "cell_type": "markdown",
   "metadata": {},
   "source": [
    "**Вывод**"
   ]
  },
  {
   "cell_type": "markdown",
   "metadata": {},
   "source": [
    "Наименьшее количество задолженностей по кредитам встречается у вдов / вдовцов и людей в разводе.\n",
    "Далее следуют женатые люди.\n",
    "Существенное увеличение количества задолженностей встречается у людей в гражданском браке и неженатых людей."
   ]
  },
  {
   "cell_type": "markdown",
   "metadata": {},
   "source": [
    "___"
   ]
  },
  {
   "cell_type": "markdown",
   "metadata": {},
   "source": [
    "- Есть ли зависимость между уровнем дохода и возвратом кредита в срок?"
   ]
  },
  {
   "cell_type": "markdown",
   "metadata": {},
   "source": [
    "Для анализа уровня дохода отфильтруем в датафрейме строки только с заполненными значениями дохода."
   ]
  },
  {
   "cell_type": "code",
   "execution_count": 50,
   "metadata": {},
   "outputs": [
    {
     "data": {
      "text/html": [
       "<div>\n",
       "<style scoped>\n",
       "    .dataframe tbody tr th:only-of-type {\n",
       "        vertical-align: middle;\n",
       "    }\n",
       "\n",
       "    .dataframe tbody tr th {\n",
       "        vertical-align: top;\n",
       "    }\n",
       "\n",
       "    .dataframe thead th {\n",
       "        text-align: right;\n",
       "    }\n",
       "</style>\n",
       "<table border=\"1\" class=\"dataframe\">\n",
       "  <thead>\n",
       "    <tr style=\"text-align: right;\">\n",
       "      <th></th>\n",
       "      <th>family_status_id</th>\n",
       "      <th>debt</th>\n",
       "      <th>purpose_type</th>\n",
       "      <th>children_category_id</th>\n",
       "      <th>total_income_category_id</th>\n",
       "    </tr>\n",
       "  </thead>\n",
       "  <tbody>\n",
       "    <tr>\n",
       "      <th>0</th>\n",
       "      <td>0</td>\n",
       "      <td>False</td>\n",
       "      <td>ипотека</td>\n",
       "      <td>1</td>\n",
       "      <td>2</td>\n",
       "    </tr>\n",
       "    <tr>\n",
       "      <th>1</th>\n",
       "      <td>0</td>\n",
       "      <td>False</td>\n",
       "      <td>автокредит</td>\n",
       "      <td>1</td>\n",
       "      <td>1</td>\n",
       "    </tr>\n",
       "    <tr>\n",
       "      <th>2</th>\n",
       "      <td>0</td>\n",
       "      <td>False</td>\n",
       "      <td>ипотека</td>\n",
       "      <td>0</td>\n",
       "      <td>2</td>\n",
       "    </tr>\n",
       "    <tr>\n",
       "      <th>3</th>\n",
       "      <td>0</td>\n",
       "      <td>False</td>\n",
       "      <td>на образование</td>\n",
       "      <td>2</td>\n",
       "      <td>2</td>\n",
       "    </tr>\n",
       "    <tr>\n",
       "      <th>4</th>\n",
       "      <td>1</td>\n",
       "      <td>False</td>\n",
       "      <td>на свадьбу</td>\n",
       "      <td>0</td>\n",
       "      <td>2</td>\n",
       "    </tr>\n",
       "  </tbody>\n",
       "</table>\n",
       "</div>"
      ],
      "text/plain": [
       "   family_status_id   debt    purpose_type  children_category_id  \\\n",
       "0                 0  False         ипотека                     1   \n",
       "1                 0  False      автокредит                     1   \n",
       "2                 0  False         ипотека                     0   \n",
       "3                 0  False  на образование                     2   \n",
       "4                 1  False      на свадьбу                     0   \n",
       "\n",
       "   total_income_category_id  \n",
       "0                         2  \n",
       "1                         1  \n",
       "2                         2  \n",
       "3                         2  \n",
       "4                         2  "
      ]
     },
     "execution_count": 50,
     "metadata": {},
     "output_type": "execute_result"
    }
   ],
   "source": [
    "df_income = df[df['total_income'] != -1]\n",
    "data_income = df_income[['family_status_id', 'debt', 'purpose_type', 'children_category_id',\n",
    "       'total_income_category_id']].reset_index(drop=True)\n",
    "data_income.head()"
   ]
  },
  {
   "cell_type": "code",
   "execution_count": 51,
   "metadata": {},
   "outputs": [
    {
     "data": {
      "text/html": [
       "<div>\n",
       "<style scoped>\n",
       "    .dataframe tbody tr th:only-of-type {\n",
       "        vertical-align: middle;\n",
       "    }\n",
       "\n",
       "    .dataframe tbody tr th {\n",
       "        vertical-align: top;\n",
       "    }\n",
       "\n",
       "    .dataframe thead th {\n",
       "        text-align: right;\n",
       "    }\n",
       "</style>\n",
       "<table border=\"1\" class=\"dataframe\">\n",
       "  <thead>\n",
       "    <tr style=\"text-align: right;\">\n",
       "      <th></th>\n",
       "      <th>total_income_category</th>\n",
       "      <th>total_income_category_id</th>\n",
       "    </tr>\n",
       "  </thead>\n",
       "  <tbody>\n",
       "    <tr>\n",
       "      <th>0</th>\n",
       "      <td>низкий</td>\n",
       "      <td>0</td>\n",
       "    </tr>\n",
       "    <tr>\n",
       "      <th>1</th>\n",
       "      <td>ниже среднего</td>\n",
       "      <td>1</td>\n",
       "    </tr>\n",
       "    <tr>\n",
       "      <th>2</th>\n",
       "      <td>выше среднего</td>\n",
       "      <td>2</td>\n",
       "    </tr>\n",
       "    <tr>\n",
       "      <th>3</th>\n",
       "      <td>высокий</td>\n",
       "      <td>3</td>\n",
       "    </tr>\n",
       "  </tbody>\n",
       "</table>\n",
       "</div>"
      ],
      "text/plain": [
       "  total_income_category  total_income_category_id\n",
       "0                низкий                         0\n",
       "1         ниже среднего                         1\n",
       "2         выше среднего                         2\n",
       "3               высокий                         3"
      ]
     },
     "execution_count": 51,
     "metadata": {},
     "output_type": "execute_result"
    },
    {
     "data": {
      "text/html": [
       "<style type=\"text/css\">\n",
       "</style>\n",
       "<table id=\"T_96a19\">\n",
       "  <thead>\n",
       "    <tr>\n",
       "      <th class=\"index_name level0\" >debt</th>\n",
       "      <th id=\"T_96a19_level0_col0\" class=\"col_heading level0 col0\" >False</th>\n",
       "      <th id=\"T_96a19_level0_col1\" class=\"col_heading level0 col1\" >True</th>\n",
       "      <th id=\"T_96a19_level0_col2\" class=\"col_heading level0 col2\" >debt_percentage</th>\n",
       "    </tr>\n",
       "    <tr>\n",
       "      <th class=\"index_name level0\" >total_income_category_id</th>\n",
       "      <th class=\"blank col0\" >&nbsp;</th>\n",
       "      <th class=\"blank col1\" >&nbsp;</th>\n",
       "      <th class=\"blank col2\" >&nbsp;</th>\n",
       "    </tr>\n",
       "  </thead>\n",
       "  <tbody>\n",
       "    <tr>\n",
       "      <th id=\"T_96a19_level0_row0\" class=\"row_heading level0 row0\" >0</th>\n",
       "      <td id=\"T_96a19_row0_col0\" class=\"data row0 col0\" >1236</td>\n",
       "      <td id=\"T_96a19_row0_col1\" class=\"data row0 col1\" >93</td>\n",
       "      <td id=\"T_96a19_row0_col2\" class=\"data row0 col2\" >7.0%</td>\n",
       "    </tr>\n",
       "    <tr>\n",
       "      <th id=\"T_96a19_level0_row1\" class=\"row_heading level0 row1\" >3</th>\n",
       "      <td id=\"T_96a19_row1_col0\" class=\"data row1 col0\" >1956</td>\n",
       "      <td id=\"T_96a19_row1_col1\" class=\"data row1 col1\" >149</td>\n",
       "      <td id=\"T_96a19_row1_col2\" class=\"data row1 col2\" >7.1%</td>\n",
       "    </tr>\n",
       "    <tr>\n",
       "      <th id=\"T_96a19_level0_row2\" class=\"row_heading level0 row2\" >2</th>\n",
       "      <td id=\"T_96a19_row2_col0\" class=\"data row2 col0\" >7907</td>\n",
       "      <td id=\"T_96a19_row2_col1\" class=\"data row2 col1\" >715</td>\n",
       "      <td id=\"T_96a19_row2_col2\" class=\"data row2 col2\" >8.3%</td>\n",
       "    </tr>\n",
       "    <tr>\n",
       "      <th id=\"T_96a19_level0_row3\" class=\"row_heading level0 row3\" >1</th>\n",
       "      <td id=\"T_96a19_row3_col0\" class=\"data row3 col0\" >6681</td>\n",
       "      <td id=\"T_96a19_row3_col1\" class=\"data row3 col1\" >614</td>\n",
       "      <td id=\"T_96a19_row3_col2\" class=\"data row3 col2\" >8.4%</td>\n",
       "    </tr>\n",
       "  </tbody>\n",
       "</table>\n"
      ],
      "text/plain": [
       "<pandas.io.formats.style.Styler at 0x7f98651cbe50>"
      ]
     },
     "execution_count": 51,
     "metadata": {},
     "output_type": "execute_result"
    }
   ],
   "source": [
    "#построим сводную таблицу по столбцам 'total_income_category_id' и 'debt'.\n",
    "pivot_total_income = data_income.pivot_table(\n",
    "    index='total_income_category_id',\n",
    "    columns='debt',\n",
    "    values='children_category_id', #произвольный столбец\n",
    "    aggfunc='count')\n",
    "\n",
    "#добавим столбец с долей заемщиков, имевших задолженность\n",
    "pivot_total_income['debt_percentage'] = pivot_total_income[True] / (\n",
    "    pivot_total_income[True] + pivot_total_income[False]\n",
    ")\n",
    "\n",
    "total_income_category_dict #выведем на экран словарь\n",
    "\n",
    "#отсортируем сводную таблицу по возрастанию столбца debt_percentage\n",
    "pivot_total_income = pivot_total_income.sort_values(by='debt_percentage') \n",
    "\n",
    "#отформатируем значения столбца debt_percentage для отображения в процентах\n",
    "pivot_total_income = pivot_total_income.style.format({'debt_percentage': '{:.1%}'})\n",
    "\n",
    "pivot_total_income #выведем сводную таблицу на экран"
   ]
  },
  {
   "cell_type": "markdown",
   "metadata": {},
   "source": [
    "**Вывод**"
   ]
  },
  {
   "cell_type": "markdown",
   "metadata": {},
   "source": [
    "Наименьший уровень возврата среди заемщиков с доходами категорий \"ниже среднего\" и \"выше среднего\", т. е. от половины до двух медиан.\n",
    "Уровень возвратов среди категории заемщиков с высоким и низким уровнем дохода практически одинаковый (около 93%)."
   ]
  },
  {
   "cell_type": "markdown",
   "metadata": {},
   "source": [
    "___"
   ]
  },
  {
   "cell_type": "markdown",
   "metadata": {},
   "source": [
    "- Как разные цели кредита влияют на его возврат в срок?"
   ]
  },
  {
   "cell_type": "code",
   "execution_count": 52,
   "metadata": {},
   "outputs": [
    {
     "data": {
      "text/html": [
       "<style type=\"text/css\">\n",
       "</style>\n",
       "<table id=\"T_6fdf6\">\n",
       "  <thead>\n",
       "    <tr>\n",
       "      <th class=\"index_name level0\" >debt</th>\n",
       "      <th id=\"T_6fdf6_level0_col0\" class=\"col_heading level0 col0\" >False</th>\n",
       "      <th id=\"T_6fdf6_level0_col1\" class=\"col_heading level0 col1\" >True</th>\n",
       "      <th id=\"T_6fdf6_level0_col2\" class=\"col_heading level0 col2\" >debt_percentage</th>\n",
       "    </tr>\n",
       "    <tr>\n",
       "      <th class=\"index_name level0\" >purpose_type</th>\n",
       "      <th class=\"blank col0\" >&nbsp;</th>\n",
       "      <th class=\"blank col1\" >&nbsp;</th>\n",
       "      <th class=\"blank col2\" >&nbsp;</th>\n",
       "    </tr>\n",
       "  </thead>\n",
       "  <tbody>\n",
       "    <tr>\n",
       "      <th id=\"T_6fdf6_level0_row0\" class=\"row_heading level0 row0\" >ипотека</th>\n",
       "      <td id=\"T_6fdf6_row0_col0\" class=\"data row0 col0\" >10029</td>\n",
       "      <td id=\"T_6fdf6_row0_col1\" class=\"data row0 col1\" >782</td>\n",
       "      <td id=\"T_6fdf6_row0_col2\" class=\"data row0 col2\" >7.2%</td>\n",
       "    </tr>\n",
       "    <tr>\n",
       "      <th id=\"T_6fdf6_level0_row1\" class=\"row_heading level0 row1\" >на свадьбу</th>\n",
       "      <td id=\"T_6fdf6_row1_col0\" class=\"data row1 col0\" >2138</td>\n",
       "      <td id=\"T_6fdf6_row1_col1\" class=\"data row1 col1\" >186</td>\n",
       "      <td id=\"T_6fdf6_row1_col2\" class=\"data row1 col2\" >8.0%</td>\n",
       "    </tr>\n",
       "    <tr>\n",
       "      <th id=\"T_6fdf6_level0_row2\" class=\"row_heading level0 row2\" >на образование</th>\n",
       "      <td id=\"T_6fdf6_row2_col0\" class=\"data row2 col0\" >3643</td>\n",
       "      <td id=\"T_6fdf6_row2_col1\" class=\"data row2 col1\" >370</td>\n",
       "      <td id=\"T_6fdf6_row2_col2\" class=\"data row2 col2\" >9.2%</td>\n",
       "    </tr>\n",
       "    <tr>\n",
       "      <th id=\"T_6fdf6_level0_row3\" class=\"row_heading level0 row3\" >автокредит</th>\n",
       "      <td id=\"T_6fdf6_row3_col0\" class=\"data row3 col0\" >3903</td>\n",
       "      <td id=\"T_6fdf6_row3_col1\" class=\"data row3 col1\" >403</td>\n",
       "      <td id=\"T_6fdf6_row3_col2\" class=\"data row3 col2\" >9.4%</td>\n",
       "    </tr>\n",
       "  </tbody>\n",
       "</table>\n"
      ],
      "text/plain": [
       "<pandas.io.formats.style.Styler at 0x7f98651cb160>"
      ]
     },
     "execution_count": 52,
     "metadata": {},
     "output_type": "execute_result"
    }
   ],
   "source": [
    "#построим сводную таблицу по столбцам 'purpose_type' и 'debt'.\n",
    "pivot_purpose = data.pivot_table(\n",
    "    index='purpose_type',\n",
    "    columns='debt',\n",
    "    values='children_category_id', #произвольный столбец\n",
    "    aggfunc='count')\n",
    "\n",
    "#добавим столбец с долей заемщиков, имевших задолженность\n",
    "pivot_purpose['debt_percentage'] = pivot_purpose[True] / (\n",
    "    pivot_purpose[True] + pivot_purpose[False]\n",
    ")\n",
    "\n",
    "#отсортируем сводную таблицу по возрастанию столбца debt_percentage\n",
    "pivot_purpose = pivot_purpose.sort_values(by='debt_percentage')\n",
    "\n",
    "#отформатируем значения столбца debt_percentage для отображения в процентах\n",
    "pivot_purpose = pivot_purpose.style.format({'debt_percentage': '{:.1%}'})\n",
    "\n",
    "#выведем сводную таблицу на экран\n",
    "pivot_purpose"
   ]
  },
  {
   "cell_type": "markdown",
   "metadata": {},
   "source": [
    "**Вывод**"
   ]
  },
  {
   "cell_type": "markdown",
   "metadata": {},
   "source": [
    "Наиболее низкий уровень задолженности - по ипотечным кредитам, что может объясняться риском потери квартиры в случае невозврата.\n",
    "\n",
    "Кредиты на покупку автомобиля и на образование обладают наибольшим уровнем невозвратов."
   ]
  },
  {
   "cell_type": "markdown",
   "metadata": {},
   "source": [
    "## Шаг 4. Общий вывод"
   ]
  },
  {
   "cell_type": "markdown",
   "metadata": {},
   "source": [
    "В рамках исследования мы получили неоднозначные выводы.\n",
    "\n",
    "По **количеству детей**:\n",
    "Доля заемщиков, имевших задолженность, у которых есть дети составляет 9.2%, в то время как доля таких заемщиков без детей ниже, и составляет 7.5%.\n",
    "\n",
    "В зависимости от **семейного положения** вероятность возврата кредита распределяется следующим образом:\n",
    "Наименьшее количество задолженностей по кредитам встречается у вдов / вдовцов и людей в разводе (6.5% и 7.1% соответственно).\n",
    "Далее следуют женатые люди (7.5%).\n",
    "Существенное увеличение количества задолженностей встречается у людей в гражданском браке (9.3%) и неженатых людей (9.8%), то есть людей, которые никогда не были женаты.\n",
    "\n",
    "По **уровню дохода** данные получились следующими:\n",
    "Наименьший уровень невозврата среди заемщиков с доходами категорий \"ниже среднего\" (8.4%) и \"выше среднего\" (8.3%), т. е. от половины до двух медиан.\n",
    "Уровень невозвратов среди категории заемщиков с высоким и низким уровнем дохода практически одинаковый (около 7%).\n",
    "\n",
    "По **цели кредита**:\n",
    "Наиболее низкий уровень задолженности - по ипотечным кредитам (7.2%).\n",
    "\n",
    "Кредиты на покупку автомобиля и на образование обладают наибольшим уровнем возвратов (7.2%).\n",
    "Далее следуют кредиты на свадьбу (7.9%) и кредиты на образование (9.2%) и автокредиты (9.4%)."
   ]
  }
 ],
 "metadata": {
  "ExecuteTimeLog": [
   {
    "duration": 795,
    "start_time": "2021-11-28T16:17:23.502Z"
   },
   {
    "duration": 3,
    "start_time": "2021-11-28T16:17:25.561Z"
   },
   {
    "duration": 121,
    "start_time": "2021-11-28T16:19:58.769Z"
   },
   {
    "duration": 72,
    "start_time": "2021-11-28T16:20:24.057Z"
   },
   {
    "duration": 102,
    "start_time": "2021-11-28T16:22:34.131Z"
   },
   {
    "duration": 602,
    "start_time": "2021-11-28T16:23:08.173Z"
   },
   {
    "duration": 70,
    "start_time": "2021-11-28T16:28:58.381Z"
   },
   {
    "duration": 12,
    "start_time": "2021-11-28T16:29:16.173Z"
   },
   {
    "duration": 27,
    "start_time": "2021-11-28T16:29:23.229Z"
   },
   {
    "duration": 120,
    "start_time": "2021-11-28T16:29:53.684Z"
   },
   {
    "duration": 19,
    "start_time": "2021-11-28T16:59:32.517Z"
   },
   {
    "duration": 28,
    "start_time": "2021-11-28T16:59:36.947Z"
   },
   {
    "duration": 13,
    "start_time": "2021-11-28T16:59:42.412Z"
   },
   {
    "duration": 12,
    "start_time": "2021-11-28T16:59:45.950Z"
   },
   {
    "duration": 13,
    "start_time": "2021-11-28T17:00:29.893Z"
   },
   {
    "duration": 29,
    "start_time": "2021-11-28T17:00:32.557Z"
   },
   {
    "duration": 12,
    "start_time": "2021-11-28T17:00:38.132Z"
   },
   {
    "duration": 42,
    "start_time": "2021-11-28T17:03:54.281Z"
   },
   {
    "duration": 14,
    "start_time": "2021-11-28T17:04:13.985Z"
   },
   {
    "duration": 7,
    "start_time": "2021-11-28T17:04:30.673Z"
   },
   {
    "duration": 35,
    "start_time": "2021-11-28T17:04:40.983Z"
   },
   {
    "duration": 7,
    "start_time": "2021-11-28T17:05:51.359Z"
   },
   {
    "duration": 7,
    "start_time": "2021-11-28T17:05:57.630Z"
   },
   {
    "duration": 50,
    "start_time": "2021-11-28T17:06:03.926Z"
   },
   {
    "duration": 48,
    "start_time": "2021-11-28T17:06:13.222Z"
   },
   {
    "duration": 95,
    "start_time": "2021-11-28T17:07:22.157Z"
   },
   {
    "duration": 11,
    "start_time": "2021-11-28T17:07:26.396Z"
   },
   {
    "duration": 33,
    "start_time": "2021-11-28T17:07:36.443Z"
   },
   {
    "duration": 402,
    "start_time": "2021-11-28T17:07:58.163Z"
   },
   {
    "duration": 11,
    "start_time": "2021-11-28T17:08:26.691Z"
   },
   {
    "duration": 328,
    "start_time": "2021-11-28T17:08:43.323Z"
   },
   {
    "duration": 371,
    "start_time": "2021-11-28T17:08:46.450Z"
   },
   {
    "duration": 10,
    "start_time": "2021-11-28T17:08:53.435Z"
   },
   {
    "duration": 11,
    "start_time": "2021-11-28T17:09:09.498Z"
   },
   {
    "duration": 9,
    "start_time": "2021-11-28T17:09:14.251Z"
   },
   {
    "duration": 12,
    "start_time": "2021-11-28T17:10:28.153Z"
   },
   {
    "duration": 109,
    "start_time": "2021-11-28T17:11:45.679Z"
   },
   {
    "duration": 19,
    "start_time": "2021-11-28T17:12:37.654Z"
   },
   {
    "duration": 5,
    "start_time": "2021-11-28T17:13:04.222Z"
   },
   {
    "duration": 435,
    "start_time": "2021-11-28T17:13:17.829Z"
   },
   {
    "duration": 372,
    "start_time": "2021-11-28T17:13:45.789Z"
   },
   {
    "duration": 7,
    "start_time": "2021-11-28T17:14:04.388Z"
   },
   {
    "duration": 29,
    "start_time": "2021-11-28T17:14:16.117Z"
   },
   {
    "duration": 6,
    "start_time": "2021-11-28T17:14:33.940Z"
   },
   {
    "duration": 6,
    "start_time": "2021-11-28T17:14:40.843Z"
   },
   {
    "duration": 10,
    "start_time": "2021-11-28T17:14:56.178Z"
   },
   {
    "duration": 17,
    "start_time": "2021-11-28T17:15:05.194Z"
   },
   {
    "duration": 8,
    "start_time": "2021-11-28T17:15:08.811Z"
   },
   {
    "duration": 33,
    "start_time": "2021-11-28T17:49:11.840Z"
   },
   {
    "duration": 18,
    "start_time": "2021-11-28T17:49:18.329Z"
   },
   {
    "duration": 32,
    "start_time": "2021-11-28T17:49:32.983Z"
   },
   {
    "duration": 24,
    "start_time": "2021-11-28T17:50:36.473Z"
   },
   {
    "duration": 492,
    "start_time": "2021-11-28T17:57:00.389Z"
   },
   {
    "duration": 391,
    "start_time": "2021-11-28T17:57:25.748Z"
   },
   {
    "duration": 845,
    "start_time": "2021-11-28T17:57:49.165Z"
   },
   {
    "duration": 30,
    "start_time": "2021-11-28T17:57:50.013Z"
   },
   {
    "duration": 438,
    "start_time": "2021-11-28T17:57:50.046Z"
   },
   {
    "duration": -1307,
    "start_time": "2021-11-28T17:57:51.794Z"
   },
   {
    "duration": -1309,
    "start_time": "2021-11-28T17:57:51.797Z"
   },
   {
    "duration": -1310,
    "start_time": "2021-11-28T17:57:51.800Z"
   },
   {
    "duration": -1310,
    "start_time": "2021-11-28T17:57:51.802Z"
   },
   {
    "duration": 363,
    "start_time": "2021-11-28T17:58:22.741Z"
   },
   {
    "duration": 369,
    "start_time": "2021-11-28T17:58:56.180Z"
   },
   {
    "duration": 429,
    "start_time": "2021-11-28T17:59:30.812Z"
   },
   {
    "duration": 386,
    "start_time": "2021-11-28T17:59:37.020Z"
   },
   {
    "duration": 70,
    "start_time": "2021-11-28T17:59:55.884Z"
   },
   {
    "duration": 79,
    "start_time": "2021-11-28T18:00:01.300Z"
   },
   {
    "duration": 72,
    "start_time": "2021-11-28T18:00:05.547Z"
   },
   {
    "duration": 31,
    "start_time": "2021-11-28T18:02:34.695Z"
   },
   {
    "duration": 809,
    "start_time": "2021-11-28T18:02:48.194Z"
   },
   {
    "duration": 30,
    "start_time": "2021-11-28T18:02:49.007Z"
   },
   {
    "duration": 491,
    "start_time": "2021-11-28T18:02:49.040Z"
   },
   {
    "duration": -1290,
    "start_time": "2021-11-28T18:02:50.824Z"
   },
   {
    "duration": -1291,
    "start_time": "2021-11-28T18:02:50.826Z"
   },
   {
    "duration": -1291,
    "start_time": "2021-11-28T18:02:50.828Z"
   },
   {
    "duration": -1291,
    "start_time": "2021-11-28T18:02:50.830Z"
   },
   {
    "duration": 884,
    "start_time": "2021-11-28T18:03:36.956Z"
   },
   {
    "duration": 30,
    "start_time": "2021-11-28T18:03:37.843Z"
   },
   {
    "duration": 19,
    "start_time": "2021-11-28T18:03:37.884Z"
   },
   {
    "duration": 12,
    "start_time": "2021-11-28T18:03:37.906Z"
   },
   {
    "duration": 12,
    "start_time": "2021-11-28T18:03:37.921Z"
   },
   {
    "duration": 95,
    "start_time": "2021-11-28T18:03:37.936Z"
   },
   {
    "duration": 111,
    "start_time": "2021-11-28T18:05:41.048Z"
   },
   {
    "duration": 12,
    "start_time": "2021-11-28T18:06:16.223Z"
   },
   {
    "duration": 8,
    "start_time": "2021-11-28T18:06:25.871Z"
   },
   {
    "duration": 11,
    "start_time": "2021-11-28T18:06:40.584Z"
   },
   {
    "duration": 14,
    "start_time": "2021-11-28T18:07:03.551Z"
   },
   {
    "duration": 18,
    "start_time": "2021-11-28T18:07:07.717Z"
   },
   {
    "duration": 939,
    "start_time": "2021-11-28T18:07:24.415Z"
   },
   {
    "duration": 50,
    "start_time": "2021-11-28T18:07:25.357Z"
   },
   {
    "duration": 20,
    "start_time": "2021-11-28T18:07:25.412Z"
   },
   {
    "duration": 11,
    "start_time": "2021-11-28T18:07:25.435Z"
   },
   {
    "duration": 10,
    "start_time": "2021-11-28T18:07:25.483Z"
   },
   {
    "duration": 53,
    "start_time": "2021-11-28T18:07:25.496Z"
   },
   {
    "duration": 10,
    "start_time": "2021-11-28T18:07:39.072Z"
   },
   {
    "duration": 99,
    "start_time": "2021-11-28T18:07:41.439Z"
   },
   {
    "duration": 8,
    "start_time": "2021-11-28T18:07:56.879Z"
   },
   {
    "duration": 120,
    "start_time": "2021-11-28T18:07:59.247Z"
   },
   {
    "duration": 12,
    "start_time": "2021-11-28T18:08:02.511Z"
   },
   {
    "duration": 33,
    "start_time": "2021-11-28T18:12:40.050Z"
   },
   {
    "duration": 33,
    "start_time": "2021-11-28T18:12:44.769Z"
   },
   {
    "duration": 31,
    "start_time": "2021-11-28T18:13:21.297Z"
   },
   {
    "duration": 69,
    "start_time": "2021-11-28T18:13:45.422Z"
   },
   {
    "duration": 46,
    "start_time": "2021-11-28T18:14:01.238Z"
   },
   {
    "duration": 70,
    "start_time": "2021-11-28T18:14:06.503Z"
   },
   {
    "duration": 43,
    "start_time": "2021-11-28T18:14:44.902Z"
   },
   {
    "duration": 32,
    "start_time": "2021-11-28T18:14:48.135Z"
   },
   {
    "duration": 43,
    "start_time": "2021-11-28T18:14:49.886Z"
   },
   {
    "duration": 47,
    "start_time": "2021-11-28T18:14:54.781Z"
   },
   {
    "duration": 33,
    "start_time": "2021-11-28T18:14:59.158Z"
   },
   {
    "duration": 33,
    "start_time": "2021-11-28T18:15:03.365Z"
   },
   {
    "duration": 44,
    "start_time": "2021-11-28T18:15:25.750Z"
   },
   {
    "duration": 21,
    "start_time": "2021-11-28T18:15:29.254Z"
   },
   {
    "duration": 33,
    "start_time": "2021-11-28T18:15:31.262Z"
   },
   {
    "duration": 35,
    "start_time": "2021-11-28T18:16:33.668Z"
   },
   {
    "duration": 34,
    "start_time": "2021-11-28T18:16:35.395Z"
   },
   {
    "duration": 33,
    "start_time": "2021-11-28T18:17:12.899Z"
   },
   {
    "duration": 33,
    "start_time": "2021-11-28T18:17:56.522Z"
   },
   {
    "duration": 34,
    "start_time": "2021-11-28T18:18:00.379Z"
   },
   {
    "duration": 32,
    "start_time": "2021-11-28T18:18:05.398Z"
   },
   {
    "duration": 839,
    "start_time": "2021-11-28T18:18:48.246Z"
   },
   {
    "duration": 30,
    "start_time": "2021-11-28T18:18:49.088Z"
   },
   {
    "duration": 12,
    "start_time": "2021-11-28T18:18:49.121Z"
   },
   {
    "duration": 8,
    "start_time": "2021-11-28T18:18:49.136Z"
   },
   {
    "duration": 42,
    "start_time": "2021-11-28T18:18:49.146Z"
   },
   {
    "duration": 35,
    "start_time": "2021-11-28T18:18:49.191Z"
   },
   {
    "duration": 56,
    "start_time": "2021-11-28T18:18:49.228Z"
   },
   {
    "duration": 36,
    "start_time": "2021-11-28T18:18:49.287Z"
   },
   {
    "duration": 4,
    "start_time": "2021-11-28T18:18:49.325Z"
   },
   {
    "duration": 32,
    "start_time": "2021-11-28T18:18:55.897Z"
   },
   {
    "duration": 37,
    "start_time": "2021-11-28T18:18:56.536Z"
   },
   {
    "duration": 36,
    "start_time": "2021-11-28T18:19:15.481Z"
   },
   {
    "duration": 809,
    "start_time": "2021-11-28T18:19:33.994Z"
   },
   {
    "duration": 29,
    "start_time": "2021-11-28T18:19:34.807Z"
   },
   {
    "duration": 18,
    "start_time": "2021-11-28T18:19:34.840Z"
   },
   {
    "duration": 10,
    "start_time": "2021-11-28T18:19:34.882Z"
   },
   {
    "duration": 11,
    "start_time": "2021-11-28T18:19:34.895Z"
   },
   {
    "duration": 39,
    "start_time": "2021-11-28T18:19:34.909Z"
   },
   {
    "duration": 63,
    "start_time": "2021-11-28T18:19:34.951Z"
   },
   {
    "duration": 38,
    "start_time": "2021-11-28T18:19:35.017Z"
   },
   {
    "duration": 52,
    "start_time": "2021-11-28T18:19:35.058Z"
   },
   {
    "duration": 1826,
    "start_time": "2021-11-28T18:26:59.365Z"
   },
   {
    "duration": 311,
    "start_time": "2021-11-28T18:27:07.613Z"
   },
   {
    "duration": 311,
    "start_time": "2021-11-28T18:27:57.364Z"
   },
   {
    "duration": 21,
    "start_time": "2021-11-28T18:29:15.674Z"
   },
   {
    "duration": 309,
    "start_time": "2021-11-28T18:29:33.610Z"
   },
   {
    "duration": 22,
    "start_time": "2021-11-28T18:29:40.394Z"
   },
   {
    "duration": 273,
    "start_time": "2021-11-28T18:32:23.535Z"
   },
   {
    "duration": 607,
    "start_time": "2021-11-28T18:32:29.166Z"
   },
   {
    "duration": 353,
    "start_time": "2021-11-28T18:32:32.687Z"
   },
   {
    "duration": 10,
    "start_time": "2021-11-28T18:32:40.046Z"
   },
   {
    "duration": 345,
    "start_time": "2021-11-28T18:36:49.953Z"
   },
   {
    "duration": 18,
    "start_time": "2021-11-28T18:37:02.192Z"
   },
   {
    "duration": 12,
    "start_time": "2021-11-28T18:37:40.800Z"
   },
   {
    "duration": 4,
    "start_time": "2021-11-28T18:48:37.370Z"
   },
   {
    "duration": 13867,
    "start_time": "2021-11-28T18:49:03.755Z"
   },
   {
    "duration": 6,
    "start_time": "2021-11-28T18:51:09.199Z"
   },
   {
    "duration": 7,
    "start_time": "2021-11-28T18:51:11.840Z"
   },
   {
    "duration": 6,
    "start_time": "2021-11-28T18:51:19.847Z"
   },
   {
    "duration": 53,
    "start_time": "2021-11-28T18:52:27.869Z"
   },
   {
    "duration": 4,
    "start_time": "2021-11-28T18:53:17.989Z"
   },
   {
    "duration": 3,
    "start_time": "2021-11-28T18:53:56.675Z"
   },
   {
    "duration": 34,
    "start_time": "2021-11-28T18:54:06.555Z"
   },
   {
    "duration": 4465,
    "start_time": "2021-11-28T18:54:23.851Z"
   },
   {
    "duration": 5,
    "start_time": "2021-11-28T18:54:36.856Z"
   },
   {
    "duration": 5,
    "start_time": "2021-11-28T18:54:49.981Z"
   },
   {
    "duration": 4,
    "start_time": "2021-11-28T18:55:03.412Z"
   },
   {
    "duration": 16770,
    "start_time": "2021-11-28T18:55:03.418Z"
   },
   {
    "duration": 4,
    "start_time": "2021-11-28T18:55:26.874Z"
   },
   {
    "duration": 36,
    "start_time": "2021-11-28T18:55:39.250Z"
   },
   {
    "duration": 4,
    "start_time": "2021-11-28T18:56:20.897Z"
   },
   {
    "duration": 4,
    "start_time": "2021-11-28T18:57:05.176Z"
   },
   {
    "duration": 12057,
    "start_time": "2021-11-28T18:57:15.072Z"
   },
   {
    "duration": 5,
    "start_time": "2021-11-28T18:57:30.809Z"
   },
   {
    "duration": 32,
    "start_time": "2021-11-28T18:57:36.719Z"
   },
   {
    "duration": 381,
    "start_time": "2021-11-28T18:57:57.381Z"
   },
   {
    "duration": 113,
    "start_time": "2021-11-28T18:57:59.761Z"
   },
   {
    "duration": 10,
    "start_time": "2021-11-28T18:58:04.454Z"
   },
   {
    "duration": 322,
    "start_time": "2021-11-28T19:06:04.128Z"
   },
   {
    "duration": 128,
    "start_time": "2021-11-28T19:06:31.945Z"
   },
   {
    "duration": 104,
    "start_time": "2021-11-28T19:06:35.545Z"
   },
   {
    "duration": 490,
    "start_time": "2021-11-28T19:06:46.200Z"
   },
   {
    "duration": 3783,
    "start_time": "2021-11-28T19:06:54.841Z"
   },
   {
    "duration": 6,
    "start_time": "2021-11-28T19:07:07.704Z"
   },
   {
    "duration": 509,
    "start_time": "2021-11-28T19:07:18.946Z"
   },
   {
    "duration": 7,
    "start_time": "2021-11-28T19:08:24.222Z"
   },
   {
    "duration": 26,
    "start_time": "2021-11-28T19:08:30.086Z"
   },
   {
    "duration": 309,
    "start_time": "2021-11-28T19:08:41.502Z"
   },
   {
    "duration": 2386,
    "start_time": "2021-11-28T19:11:06.371Z"
   },
   {
    "duration": 102,
    "start_time": "2021-11-28T19:11:28.106Z"
   },
   {
    "duration": 23,
    "start_time": "2021-11-28T19:11:33.459Z"
   },
   {
    "duration": 27,
    "start_time": "2021-11-28T19:11:44.562Z"
   },
   {
    "duration": 142,
    "start_time": "2021-11-28T19:11:50.321Z"
   },
   {
    "duration": 37,
    "start_time": "2021-11-28T19:11:54.897Z"
   },
   {
    "duration": 11,
    "start_time": "2021-11-28T19:14:08.829Z"
   },
   {
    "duration": 2288,
    "start_time": "2021-11-28T19:18:18.488Z"
   },
   {
    "duration": 2215,
    "start_time": "2021-11-28T19:18:36.393Z"
   },
   {
    "duration": 2558,
    "start_time": "2021-11-28T19:18:42.962Z"
   },
   {
    "duration": 3196,
    "start_time": "2021-11-28T19:19:24.881Z"
   },
   {
    "duration": 3192,
    "start_time": "2021-11-28T19:20:01.393Z"
   },
   {
    "duration": 2798,
    "start_time": "2021-11-28T19:20:12.399Z"
   },
   {
    "duration": 2766,
    "start_time": "2021-11-28T19:20:40.519Z"
   },
   {
    "duration": 2770,
    "start_time": "2021-11-28T19:21:22.318Z"
   },
   {
    "duration": 3111,
    "start_time": "2021-11-28T19:21:57.054Z"
   },
   {
    "duration": 2841,
    "start_time": "2021-11-28T19:23:02.125Z"
   },
   {
    "duration": 2751,
    "start_time": "2021-11-28T19:23:19.140Z"
   },
   {
    "duration": 2610,
    "start_time": "2021-11-28T19:24:49.266Z"
   },
   {
    "duration": 2388,
    "start_time": "2021-11-28T19:25:48.921Z"
   },
   {
    "duration": 3748,
    "start_time": "2021-11-28T19:26:24.505Z"
   },
   {
    "duration": 2354,
    "start_time": "2021-11-28T19:26:35.352Z"
   },
   {
    "duration": 234,
    "start_time": "2021-11-28T19:27:57.541Z"
   },
   {
    "duration": 304,
    "start_time": "2021-11-28T19:27:59.517Z"
   },
   {
    "duration": 3194,
    "start_time": "2021-11-28T19:28:15.326Z"
   },
   {
    "duration": 99,
    "start_time": "2021-11-28T19:28:28.367Z"
   },
   {
    "duration": 25,
    "start_time": "2021-11-28T19:28:30.941Z"
   },
   {
    "duration": 23,
    "start_time": "2021-11-28T19:28:38.687Z"
   },
   {
    "duration": 2906,
    "start_time": "2021-11-28T19:28:58.989Z"
   },
   {
    "duration": 2491,
    "start_time": "2021-11-28T19:29:08.326Z"
   },
   {
    "duration": 5,
    "start_time": "2021-11-28T19:30:52.946Z"
   },
   {
    "duration": 116,
    "start_time": "2021-11-28T19:30:55.226Z"
   },
   {
    "duration": 7,
    "start_time": "2021-11-28T19:32:03.425Z"
   },
   {
    "duration": 975,
    "start_time": "2021-11-28T19:32:49.967Z"
   },
   {
    "duration": 305,
    "start_time": "2021-11-28T19:33:07.153Z"
   },
   {
    "duration": 4,
    "start_time": "2021-11-28T19:33:59.134Z"
   },
   {
    "duration": 692,
    "start_time": "2021-11-28T19:34:03.310Z"
   },
   {
    "duration": 115,
    "start_time": "2021-11-28T19:34:45.573Z"
   },
   {
    "duration": 135,
    "start_time": "2021-11-28T19:34:53.165Z"
   },
   {
    "duration": 5,
    "start_time": "2021-11-28T19:34:57.279Z"
   },
   {
    "duration": 4,
    "start_time": "2021-11-28T19:36:39.211Z"
   },
   {
    "duration": 615,
    "start_time": "2021-11-28T19:36:57.114Z"
   },
   {
    "duration": 5,
    "start_time": "2021-11-28T19:37:50.553Z"
   },
   {
    "duration": 307,
    "start_time": "2021-11-28T19:37:54.938Z"
   },
   {
    "duration": 296,
    "start_time": "2021-11-28T19:38:03.545Z"
   },
   {
    "duration": 1154,
    "start_time": "2021-11-28T19:40:28.549Z"
   },
   {
    "duration": 5,
    "start_time": "2021-11-28T19:40:46.061Z"
   },
   {
    "duration": 4139,
    "start_time": "2021-11-28T19:40:46.902Z"
   },
   {
    "duration": 4001,
    "start_time": "2021-11-28T19:41:11.717Z"
   },
   {
    "duration": 4034,
    "start_time": "2021-11-28T19:41:16.132Z"
   },
   {
    "duration": 4047,
    "start_time": "2021-11-28T19:41:26.197Z"
   },
   {
    "duration": 6,
    "start_time": "2021-11-28T19:42:21.660Z"
   },
   {
    "duration": 3968,
    "start_time": "2021-11-28T19:42:22.122Z"
   },
   {
    "duration": 7,
    "start_time": "2021-11-28T19:43:47.239Z"
   },
   {
    "duration": 5,
    "start_time": "2021-11-28T19:45:35.104Z"
   },
   {
    "duration": 3706,
    "start_time": "2021-11-28T19:45:35.927Z"
   },
   {
    "duration": 153,
    "start_time": "2021-11-28T19:46:13.605Z"
   },
   {
    "duration": 12,
    "start_time": "2021-11-28T19:46:19.383Z"
   },
   {
    "duration": 7,
    "start_time": "2021-11-28T19:46:36.555Z"
   },
   {
    "duration": 8,
    "start_time": "2021-11-28T19:46:38.310Z"
   },
   {
    "duration": 615,
    "start_time": "2021-11-28T19:46:55.817Z"
   },
   {
    "duration": 7,
    "start_time": "2021-11-28T19:46:59.325Z"
   },
   {
    "duration": 6,
    "start_time": "2021-11-28T19:47:08.958Z"
   },
   {
    "duration": 4293,
    "start_time": "2021-11-28T19:47:09.422Z"
   },
   {
    "duration": 7,
    "start_time": "2021-11-28T19:47:13.718Z"
   },
   {
    "duration": 10,
    "start_time": "2021-11-28T19:47:18.429Z"
   },
   {
    "duration": 320,
    "start_time": "2021-11-28T19:47:24.269Z"
   },
   {
    "duration": 10,
    "start_time": "2021-11-28T19:47:27.645Z"
   },
   {
    "duration": 210,
    "start_time": "2021-11-28T20:09:27.200Z"
   },
   {
    "duration": 3,
    "start_time": "2021-11-28T20:09:37.920Z"
   },
   {
    "duration": 3,
    "start_time": "2021-11-28T20:09:42.824Z"
   },
   {
    "duration": 143,
    "start_time": "2021-11-28T20:10:37.839Z"
   },
   {
    "duration": 347,
    "start_time": "2021-11-28T20:12:27.517Z"
   },
   {
    "duration": 801,
    "start_time": "2021-11-28T20:13:38.810Z"
   },
   {
    "duration": 460,
    "start_time": "2021-11-28T20:14:05.554Z"
   },
   {
    "duration": 472,
    "start_time": "2021-11-28T20:15:57.128Z"
   },
   {
    "duration": 300,
    "start_time": "2021-11-28T20:16:02.032Z"
   },
   {
    "duration": 352,
    "start_time": "2021-11-28T20:18:32.254Z"
   },
   {
    "duration": 368,
    "start_time": "2021-11-28T20:38:08.964Z"
   },
   {
    "duration": 4323,
    "start_time": "2021-11-28T20:39:04.654Z"
   },
   {
    "duration": 103,
    "start_time": "2021-11-28T20:50:10.453Z"
   },
   {
    "duration": 20,
    "start_time": "2021-11-28T20:51:29.979Z"
   },
   {
    "duration": 730,
    "start_time": "2021-11-28T20:52:30.802Z"
   },
   {
    "duration": 29,
    "start_time": "2021-11-28T20:52:31.534Z"
   },
   {
    "duration": 25,
    "start_time": "2021-11-28T20:52:31.567Z"
   },
   {
    "duration": 11,
    "start_time": "2021-11-28T20:52:31.595Z"
   },
   {
    "duration": 9,
    "start_time": "2021-11-28T20:52:31.608Z"
   },
   {
    "duration": 64,
    "start_time": "2021-11-28T20:52:31.619Z"
   },
   {
    "duration": 31,
    "start_time": "2021-11-28T20:52:31.686Z"
   },
   {
    "duration": 62,
    "start_time": "2021-11-28T20:52:31.720Z"
   },
   {
    "duration": 32,
    "start_time": "2021-11-28T20:52:31.785Z"
   },
   {
    "duration": 18,
    "start_time": "2021-11-28T20:52:31.820Z"
   },
   {
    "duration": 51,
    "start_time": "2021-11-28T20:52:31.841Z"
   },
   {
    "duration": 14,
    "start_time": "2021-11-28T20:52:31.895Z"
   },
   {
    "duration": 23,
    "start_time": "2021-11-28T20:52:31.911Z"
   },
   {
    "duration": 3208,
    "start_time": "2021-11-28T20:52:31.936Z"
   },
   {
    "duration": 5,
    "start_time": "2021-11-28T20:52:35.146Z"
   },
   {
    "duration": 4039,
    "start_time": "2021-11-28T20:52:35.154Z"
   },
   {
    "duration": 7,
    "start_time": "2021-11-28T20:52:39.195Z"
   },
   {
    "duration": 7713,
    "start_time": "2021-11-28T20:52:39.205Z"
   },
   {
    "duration": 24,
    "start_time": "2021-11-28T20:52:46.921Z"
   },
   {
    "duration": 93,
    "start_time": "2021-11-28T20:53:37.748Z"
   },
   {
    "duration": 5968,
    "start_time": "2021-11-28T20:53:44.603Z"
   },
   {
    "duration": 11210,
    "start_time": "2021-11-28T20:53:57.331Z"
   },
   {
    "duration": 21,
    "start_time": "2021-11-28T20:54:17.130Z"
   },
   {
    "duration": 17,
    "start_time": "2021-11-28T20:54:23.419Z"
   },
   {
    "duration": 998,
    "start_time": "2021-11-28T20:54:32.832Z"
   },
   {
    "duration": 54,
    "start_time": "2021-11-28T20:54:33.834Z"
   },
   {
    "duration": 21,
    "start_time": "2021-11-28T20:54:33.892Z"
   },
   {
    "duration": 14,
    "start_time": "2021-11-28T20:54:33.916Z"
   },
   {
    "duration": 49,
    "start_time": "2021-11-28T20:54:33.933Z"
   },
   {
    "duration": 44,
    "start_time": "2021-11-28T20:54:33.985Z"
   },
   {
    "duration": 73,
    "start_time": "2021-11-28T20:54:34.032Z"
   },
   {
    "duration": 43,
    "start_time": "2021-11-28T20:54:34.110Z"
   },
   {
    "duration": 52,
    "start_time": "2021-11-28T20:54:34.156Z"
   },
   {
    "duration": 20,
    "start_time": "2021-11-28T20:54:34.211Z"
   },
   {
    "duration": 49,
    "start_time": "2021-11-28T20:54:34.234Z"
   },
   {
    "duration": 14,
    "start_time": "2021-11-28T20:54:34.286Z"
   },
   {
    "duration": 15,
    "start_time": "2021-11-28T20:54:34.303Z"
   },
   {
    "duration": 3239,
    "start_time": "2021-11-28T20:54:34.321Z"
   },
   {
    "duration": 4,
    "start_time": "2021-11-28T20:54:37.562Z"
   },
   {
    "duration": 4258,
    "start_time": "2021-11-28T20:54:37.569Z"
   },
   {
    "duration": 9,
    "start_time": "2021-11-28T20:54:41.830Z"
   },
   {
    "duration": 14700,
    "start_time": "2021-11-28T20:54:41.842Z"
   },
   {
    "duration": 19053,
    "start_time": "2021-11-28T20:54:56.545Z"
   },
   {
    "duration": 761,
    "start_time": "2021-11-28T21:03:11.548Z"
   },
   {
    "duration": 10860,
    "start_time": "2021-11-28T21:03:12.312Z"
   },
   {
    "duration": 29035,
    "start_time": "2021-11-28T21:03:23.176Z"
   },
   {
    "duration": 71,
    "start_time": "2021-11-28T21:03:52.214Z"
   },
   {
    "duration": 22,
    "start_time": "2021-11-28T21:03:52.288Z"
   },
   {
    "duration": 10,
    "start_time": "2021-11-28T21:03:52.313Z"
   },
   {
    "duration": 12,
    "start_time": "2021-11-28T21:03:52.383Z"
   },
   {
    "duration": 89,
    "start_time": "2021-11-28T21:03:52.401Z"
   },
   {
    "duration": 49,
    "start_time": "2021-11-28T21:03:52.494Z"
   },
   {
    "duration": 76,
    "start_time": "2021-11-28T21:03:52.547Z"
   },
   {
    "duration": 61,
    "start_time": "2021-11-28T21:03:52.627Z"
   },
   {
    "duration": 24,
    "start_time": "2021-11-28T21:03:52.691Z"
   },
   {
    "duration": 25,
    "start_time": "2021-11-28T21:03:52.718Z"
   },
   {
    "duration": 45,
    "start_time": "2021-11-28T21:03:52.747Z"
   },
   {
    "duration": 13,
    "start_time": "2021-11-28T21:03:52.795Z"
   },
   {
    "duration": 3696,
    "start_time": "2021-11-28T21:03:52.811Z"
   },
   {
    "duration": 6,
    "start_time": "2021-11-28T21:03:56.510Z"
   },
   {
    "duration": 4312,
    "start_time": "2021-11-28T21:03:56.519Z"
   },
   {
    "duration": 11,
    "start_time": "2021-11-28T21:04:00.834Z"
   },
   {
    "duration": 636,
    "start_time": "2021-11-30T16:47:15.507Z"
   },
   {
    "duration": 18,
    "start_time": "2021-11-30T16:47:16.145Z"
   },
   {
    "duration": 36701,
    "start_time": "2021-11-30T16:47:16.165Z"
   },
   {
    "duration": 15388,
    "start_time": "2021-11-30T16:47:52.868Z"
   },
   {
    "duration": 34,
    "start_time": "2021-11-30T16:48:08.259Z"
   },
   {
    "duration": 8,
    "start_time": "2021-11-30T16:48:08.295Z"
   },
   {
    "duration": 9,
    "start_time": "2021-11-30T16:48:08.305Z"
   },
   {
    "duration": 20,
    "start_time": "2021-11-30T16:48:08.317Z"
   },
   {
    "duration": 83,
    "start_time": "2021-11-30T16:48:08.339Z"
   },
   {
    "duration": 75,
    "start_time": "2021-11-30T16:48:08.424Z"
   },
   {
    "duration": 23,
    "start_time": "2021-11-30T16:48:08.501Z"
   },
   {
    "duration": 14,
    "start_time": "2021-11-30T16:48:08.526Z"
   },
   {
    "duration": 14,
    "start_time": "2021-11-30T16:48:08.541Z"
   },
   {
    "duration": 9,
    "start_time": "2021-11-30T16:48:08.556Z"
   },
   {
    "duration": 6,
    "start_time": "2021-11-30T16:48:08.592Z"
   },
   {
    "duration": 2543,
    "start_time": "2021-11-30T16:48:08.600Z"
   },
   {
    "duration": 3,
    "start_time": "2021-11-30T16:48:11.144Z"
   },
   {
    "duration": 3018,
    "start_time": "2021-11-30T16:48:11.149Z"
   },
   {
    "duration": 6,
    "start_time": "2021-11-30T16:48:14.169Z"
   },
   {
    "duration": 23,
    "start_time": "2021-11-30T17:18:56.127Z"
   },
   {
    "duration": 38,
    "start_time": "2021-11-30T17:30:39.831Z"
   },
   {
    "duration": 6,
    "start_time": "2021-11-30T17:32:07.933Z"
   },
   {
    "duration": 27,
    "start_time": "2021-11-30T17:32:11.724Z"
   },
   {
    "duration": 6,
    "start_time": "2021-11-30T17:32:13.750Z"
   },
   {
    "duration": 334,
    "start_time": "2021-11-30T17:33:02.077Z"
   },
   {
    "duration": 168,
    "start_time": "2021-11-30T17:33:25.508Z"
   },
   {
    "duration": 169,
    "start_time": "2021-11-30T17:33:31.835Z"
   },
   {
    "duration": 178,
    "start_time": "2021-11-30T17:34:20.442Z"
   },
   {
    "duration": 190,
    "start_time": "2021-11-30T17:34:25.779Z"
   },
   {
    "duration": 573,
    "start_time": "2021-11-30T17:34:37.473Z"
   },
   {
    "duration": 18,
    "start_time": "2021-11-30T17:34:38.048Z"
   },
   {
    "duration": 7110,
    "start_time": "2021-11-30T17:34:38.068Z"
   },
   {
    "duration": 22232,
    "start_time": "2021-11-30T17:34:45.180Z"
   },
   {
    "duration": 11,
    "start_time": "2021-11-30T17:35:07.413Z"
   },
   {
    "duration": 6,
    "start_time": "2021-11-30T17:35:07.426Z"
   },
   {
    "duration": 7,
    "start_time": "2021-11-30T17:35:07.433Z"
   },
   {
    "duration": 73,
    "start_time": "2021-11-30T17:35:07.442Z"
   },
   {
    "duration": 21,
    "start_time": "2021-11-30T17:35:07.517Z"
   },
   {
    "duration": 29,
    "start_time": "2021-11-30T17:35:07.591Z"
   },
   {
    "duration": 20,
    "start_time": "2021-11-30T17:35:07.622Z"
   },
   {
    "duration": 12,
    "start_time": "2021-11-30T17:35:07.643Z"
   },
   {
    "duration": 46,
    "start_time": "2021-11-30T17:35:07.657Z"
   },
   {
    "duration": 10,
    "start_time": "2021-11-30T17:35:07.705Z"
   },
   {
    "duration": 6,
    "start_time": "2021-11-30T17:35:07.717Z"
   },
   {
    "duration": 6,
    "start_time": "2021-11-30T17:35:07.724Z"
   },
   {
    "duration": 6,
    "start_time": "2021-11-30T17:35:07.731Z"
   },
   {
    "duration": 2742,
    "start_time": "2021-11-30T17:35:07.738Z"
   },
   {
    "duration": 11,
    "start_time": "2021-11-30T17:35:10.482Z"
   },
   {
    "duration": 2960,
    "start_time": "2021-11-30T17:35:10.495Z"
   },
   {
    "duration": 6,
    "start_time": "2021-11-30T17:35:13.457Z"
   },
   {
    "duration": 367,
    "start_time": "2021-11-30T17:42:01.017Z"
   },
   {
    "duration": 3,
    "start_time": "2021-11-30T17:45:43.204Z"
   },
   {
    "duration": 4,
    "start_time": "2021-11-30T17:45:53.659Z"
   },
   {
    "duration": 629,
    "start_time": "2021-11-30T17:47:08.449Z"
   },
   {
    "duration": 63,
    "start_time": "2021-11-30T17:47:33.499Z"
   },
   {
    "duration": 12,
    "start_time": "2021-11-30T17:47:41.488Z"
   },
   {
    "duration": 55,
    "start_time": "2021-11-30T17:48:42.391Z"
   },
   {
    "duration": 52,
    "start_time": "2021-11-30T17:48:53.063Z"
   },
   {
    "duration": 1996,
    "start_time": "2021-11-30T17:48:55.974Z"
   },
   {
    "duration": 816,
    "start_time": "2021-11-30T17:50:27.398Z"
   },
   {
    "duration": 7,
    "start_time": "2021-11-30T17:51:52.925Z"
   },
   {
    "duration": 59,
    "start_time": "2021-11-30T17:53:13.579Z"
   },
   {
    "duration": 514,
    "start_time": "2021-11-30T17:53:23.501Z"
   },
   {
    "duration": 577,
    "start_time": "2021-11-30T17:53:34.292Z"
   },
   {
    "duration": 189,
    "start_time": "2021-11-30T17:56:36.793Z"
   },
   {
    "duration": 8,
    "start_time": "2021-11-30T17:57:15.176Z"
   },
   {
    "duration": 495,
    "start_time": "2021-11-30T17:57:34.015Z"
   },
   {
    "duration": 1695,
    "start_time": "2021-11-30T17:58:51.502Z"
   },
   {
    "duration": 247,
    "start_time": "2021-11-30T18:00:59.444Z"
   },
   {
    "duration": 331,
    "start_time": "2021-11-30T18:04:52.761Z"
   },
   {
    "duration": 1270,
    "start_time": "2021-11-30T18:05:27.777Z"
   },
   {
    "duration": 17,
    "start_time": "2021-11-30T18:05:29.049Z"
   },
   {
    "duration": 7206,
    "start_time": "2021-11-30T18:05:29.068Z"
   },
   {
    "duration": 22554,
    "start_time": "2021-11-30T18:05:36.276Z"
   },
   {
    "duration": 16,
    "start_time": "2021-11-30T18:05:58.832Z"
   },
   {
    "duration": 45,
    "start_time": "2021-11-30T18:05:58.850Z"
   },
   {
    "duration": 12,
    "start_time": "2021-11-30T18:05:58.901Z"
   },
   {
    "duration": 382,
    "start_time": "2021-11-30T18:05:58.916Z"
   },
   {
    "duration": -143,
    "start_time": "2021-11-30T18:05:59.444Z"
   },
   {
    "duration": -144,
    "start_time": "2021-11-30T18:05:59.446Z"
   },
   {
    "duration": -144,
    "start_time": "2021-11-30T18:05:59.447Z"
   },
   {
    "duration": -145,
    "start_time": "2021-11-30T18:05:59.449Z"
   },
   {
    "duration": -145,
    "start_time": "2021-11-30T18:05:59.450Z"
   },
   {
    "duration": -146,
    "start_time": "2021-11-30T18:05:59.452Z"
   },
   {
    "duration": -150,
    "start_time": "2021-11-30T18:05:59.457Z"
   },
   {
    "duration": -152,
    "start_time": "2021-11-30T18:05:59.460Z"
   },
   {
    "duration": -153,
    "start_time": "2021-11-30T18:05:59.462Z"
   },
   {
    "duration": -154,
    "start_time": "2021-11-30T18:05:59.464Z"
   },
   {
    "duration": -156,
    "start_time": "2021-11-30T18:05:59.467Z"
   },
   {
    "duration": -166,
    "start_time": "2021-11-30T18:05:59.478Z"
   },
   {
    "duration": -168,
    "start_time": "2021-11-30T18:05:59.480Z"
   },
   {
    "duration": -169,
    "start_time": "2021-11-30T18:05:59.482Z"
   },
   {
    "duration": -170,
    "start_time": "2021-11-30T18:05:59.484Z"
   },
   {
    "duration": -172,
    "start_time": "2021-11-30T18:05:59.487Z"
   },
   {
    "duration": -173,
    "start_time": "2021-11-30T18:05:59.489Z"
   },
   {
    "duration": 184,
    "start_time": "2021-11-30T18:06:17.060Z"
   },
   {
    "duration": 189,
    "start_time": "2021-11-30T18:06:28.947Z"
   },
   {
    "duration": 182,
    "start_time": "2021-11-30T18:09:04.487Z"
   },
   {
    "duration": 595,
    "start_time": "2021-11-30T18:09:42.505Z"
   },
   {
    "duration": 32,
    "start_time": "2021-11-30T18:09:43.103Z"
   },
   {
    "duration": 6886,
    "start_time": "2021-11-30T18:09:43.137Z"
   },
   {
    "duration": 3,
    "start_time": "2021-11-30T18:09:50.025Z"
   },
   {
    "duration": 29,
    "start_time": "2021-11-30T18:09:50.030Z"
   },
   {
    "duration": 42,
    "start_time": "2021-11-30T18:09:50.061Z"
   },
   {
    "duration": 40,
    "start_time": "2021-11-30T18:09:50.106Z"
   },
   {
    "duration": 28,
    "start_time": "2021-11-30T18:09:50.148Z"
   },
   {
    "duration": 632,
    "start_time": "2021-11-30T18:09:50.178Z"
   },
   {
    "duration": 8,
    "start_time": "2021-11-30T18:09:50.813Z"
   },
   {
    "duration": 500,
    "start_time": "2021-11-30T18:09:50.823Z"
   },
   {
    "duration": 52,
    "start_time": "2021-11-30T18:09:51.324Z"
   },
   {
    "duration": 39,
    "start_time": "2021-11-30T18:09:51.378Z"
   },
   {
    "duration": 19,
    "start_time": "2021-11-30T18:09:51.420Z"
   },
   {
    "duration": 33,
    "start_time": "2021-11-30T18:09:51.441Z"
   },
   {
    "duration": 30,
    "start_time": "2021-11-30T18:09:51.475Z"
   },
   {
    "duration": 48,
    "start_time": "2021-11-30T18:09:51.508Z"
   },
   {
    "duration": 53,
    "start_time": "2021-11-30T18:09:51.558Z"
   },
   {
    "duration": 26,
    "start_time": "2021-11-30T18:09:51.613Z"
   },
   {
    "duration": 32,
    "start_time": "2021-11-30T18:09:51.641Z"
   },
   {
    "duration": 35,
    "start_time": "2021-11-30T18:09:51.675Z"
   },
   {
    "duration": 2642,
    "start_time": "2021-11-30T18:09:51.714Z"
   },
   {
    "duration": 3,
    "start_time": "2021-11-30T18:09:54.359Z"
   },
   {
    "duration": 3112,
    "start_time": "2021-11-30T18:09:54.364Z"
   },
   {
    "duration": 19,
    "start_time": "2021-11-30T18:09:57.478Z"
   },
   {
    "duration": 17,
    "start_time": "2021-11-30T18:10:08.615Z"
   },
   {
    "duration": 19,
    "start_time": "2021-11-30T18:10:17.510Z"
   },
   {
    "duration": 581,
    "start_time": "2021-11-30T18:10:27.767Z"
   },
   {
    "duration": 19,
    "start_time": "2021-11-30T18:10:28.350Z"
   },
   {
    "duration": 2,
    "start_time": "2021-11-30T18:10:28.373Z"
   },
   {
    "duration": 19,
    "start_time": "2021-11-30T18:10:28.376Z"
   },
   {
    "duration": 17,
    "start_time": "2021-11-30T18:10:28.399Z"
   },
   {
    "duration": 9,
    "start_time": "2021-11-30T18:10:28.417Z"
   },
   {
    "duration": 5,
    "start_time": "2021-11-30T18:10:28.428Z"
   },
   {
    "duration": 17,
    "start_time": "2021-11-30T18:10:28.435Z"
   },
   {
    "duration": 1560,
    "start_time": "2021-11-30T18:10:28.454Z"
   },
   {
    "duration": 6,
    "start_time": "2021-11-30T18:10:30.016Z"
   },
   {
    "duration": 1596,
    "start_time": "2021-11-30T18:10:30.023Z"
   },
   {
    "duration": 1459,
    "start_time": "2021-11-30T18:10:31.622Z"
   },
   {
    "duration": 35,
    "start_time": "2021-11-30T18:10:33.083Z"
   },
   {
    "duration": 18,
    "start_time": "2021-11-30T18:10:33.120Z"
   },
   {
    "duration": 16,
    "start_time": "2021-11-30T18:10:33.140Z"
   },
   {
    "duration": 13,
    "start_time": "2021-11-30T18:10:33.157Z"
   },
   {
    "duration": 16,
    "start_time": "2021-11-30T18:10:33.193Z"
   },
   {
    "duration": 11,
    "start_time": "2021-11-30T18:10:33.213Z"
   },
   {
    "duration": 5,
    "start_time": "2021-11-30T18:10:33.226Z"
   },
   {
    "duration": 6,
    "start_time": "2021-11-30T18:10:33.233Z"
   },
   {
    "duration": 5,
    "start_time": "2021-11-30T18:10:33.240Z"
   },
   {
    "duration": 2697,
    "start_time": "2021-11-30T18:10:33.249Z"
   },
   {
    "duration": 3,
    "start_time": "2021-11-30T18:10:35.948Z"
   },
   {
    "duration": 3020,
    "start_time": "2021-11-30T18:10:35.952Z"
   },
   {
    "duration": 5,
    "start_time": "2021-11-30T18:10:38.974Z"
   },
   {
    "duration": 28,
    "start_time": "2021-11-30T18:11:36.200Z"
   },
   {
    "duration": 9,
    "start_time": "2021-11-30T18:13:45.053Z"
   },
   {
    "duration": 615,
    "start_time": "2021-11-30T18:14:08.075Z"
   },
   {
    "duration": 26,
    "start_time": "2021-11-30T18:14:08.694Z"
   },
   {
    "duration": 2,
    "start_time": "2021-11-30T18:14:08.722Z"
   },
   {
    "duration": 5,
    "start_time": "2021-11-30T18:14:08.726Z"
   },
   {
    "duration": 14,
    "start_time": "2021-11-30T18:14:08.732Z"
   },
   {
    "duration": 8,
    "start_time": "2021-11-30T18:14:08.747Z"
   },
   {
    "duration": 42,
    "start_time": "2021-11-30T18:14:08.756Z"
   },
   {
    "duration": 24,
    "start_time": "2021-11-30T18:14:08.801Z"
   },
   {
    "duration": 7,
    "start_time": "2021-11-30T18:14:08.828Z"
   },
   {
    "duration": 1616,
    "start_time": "2021-11-30T18:14:08.837Z"
   },
   {
    "duration": 3,
    "start_time": "2021-11-30T18:14:10.455Z"
   },
   {
    "duration": 1590,
    "start_time": "2021-11-30T18:14:10.459Z"
   },
   {
    "duration": 1490,
    "start_time": "2021-11-30T18:14:12.051Z"
   },
   {
    "duration": 17,
    "start_time": "2021-11-30T18:14:13.543Z"
   },
   {
    "duration": 42,
    "start_time": "2021-11-30T18:14:13.561Z"
   },
   {
    "duration": 22,
    "start_time": "2021-11-30T18:14:13.606Z"
   },
   {
    "duration": 29,
    "start_time": "2021-11-30T18:14:13.630Z"
   },
   {
    "duration": 54,
    "start_time": "2021-11-30T18:14:13.661Z"
   },
   {
    "duration": 18,
    "start_time": "2021-11-30T18:14:13.718Z"
   },
   {
    "duration": 33,
    "start_time": "2021-11-30T18:14:13.737Z"
   },
   {
    "duration": 52,
    "start_time": "2021-11-30T18:14:13.771Z"
   },
   {
    "duration": 10,
    "start_time": "2021-11-30T18:14:13.825Z"
   },
   {
    "duration": 2760,
    "start_time": "2021-11-30T18:14:13.839Z"
   },
   {
    "duration": 6,
    "start_time": "2021-11-30T18:14:16.605Z"
   },
   {
    "duration": 3106,
    "start_time": "2021-11-30T18:14:16.613Z"
   },
   {
    "duration": 8,
    "start_time": "2021-11-30T18:14:19.722Z"
   },
   {
    "duration": 62,
    "start_time": "2021-11-30T18:15:34.205Z"
   },
   {
    "duration": 2105,
    "start_time": "2021-11-30T18:20:12.133Z"
   },
   {
    "duration": 1559,
    "start_time": "2021-11-30T18:22:00.652Z"
   },
   {
    "duration": 5,
    "start_time": "2021-11-30T18:23:18.657Z"
   },
   {
    "duration": 55,
    "start_time": "2021-11-30T18:23:38.314Z"
   },
   {
    "duration": 59,
    "start_time": "2021-11-30T18:23:40.561Z"
   },
   {
    "duration": 14,
    "start_time": "2021-11-30T18:23:45.793Z"
   },
   {
    "duration": 1530,
    "start_time": "2021-11-30T18:23:57.729Z"
   },
   {
    "duration": 5,
    "start_time": "2021-11-30T18:24:54.504Z"
   },
   {
    "duration": 3,
    "start_time": "2021-11-30T18:25:13.352Z"
   },
   {
    "duration": 425,
    "start_time": "2021-11-30T18:25:32.512Z"
   },
   {
    "duration": 267,
    "start_time": "2021-11-30T18:28:45.243Z"
   },
   {
    "duration": 334,
    "start_time": "2021-11-30T18:28:52.363Z"
   },
   {
    "duration": 484,
    "start_time": "2021-11-30T18:33:04.886Z"
   },
   {
    "duration": 256,
    "start_time": "2021-11-30T18:33:14.981Z"
   },
   {
    "duration": 2078,
    "start_time": "2021-11-30T18:33:27.054Z"
   },
   {
    "duration": 294,
    "start_time": "2021-11-30T18:33:30.182Z"
   },
   {
    "duration": 8,
    "start_time": "2021-11-30T18:42:59.394Z"
   },
   {
    "duration": 212,
    "start_time": "2021-11-30T18:43:16.315Z"
   },
   {
    "duration": 19,
    "start_time": "2021-11-30T18:43:56.817Z"
   },
   {
    "duration": 7,
    "start_time": "2021-11-30T18:44:01.505Z"
   },
   {
    "duration": 7,
    "start_time": "2021-11-30T18:44:20.177Z"
   },
   {
    "duration": 7,
    "start_time": "2021-11-30T18:44:27.464Z"
   },
   {
    "duration": 6,
    "start_time": "2021-11-30T18:44:33.209Z"
   },
   {
    "duration": 6,
    "start_time": "2021-11-30T18:44:42.520Z"
   },
   {
    "duration": 5,
    "start_time": "2021-11-30T18:44:50.512Z"
   },
   {
    "duration": 283,
    "start_time": "2021-11-30T18:44:55.397Z"
   },
   {
    "duration": 4,
    "start_time": "2021-11-30T18:46:10.646Z"
   },
   {
    "duration": 270,
    "start_time": "2021-11-30T18:46:17.806Z"
   },
   {
    "duration": 277,
    "start_time": "2021-11-30T18:47:01.796Z"
   },
   {
    "duration": 297,
    "start_time": "2021-11-30T18:47:53.260Z"
   },
   {
    "duration": 278,
    "start_time": "2021-11-30T18:49:24.202Z"
   },
   {
    "duration": 415,
    "start_time": "2021-11-30T18:49:42.343Z"
   },
   {
    "duration": 307,
    "start_time": "2021-11-30T18:49:49.537Z"
   },
   {
    "duration": 309,
    "start_time": "2021-11-30T18:49:57.450Z"
   },
   {
    "duration": 2,
    "start_time": "2021-11-30T18:55:09.091Z"
   },
   {
    "duration": 6,
    "start_time": "2021-12-01T19:24:13.647Z"
   },
   {
    "duration": 361,
    "start_time": "2021-12-01T19:25:30.024Z"
   },
   {
    "duration": 1589,
    "start_time": "2021-12-01T19:25:38.424Z"
   },
   {
    "duration": 92,
    "start_time": "2021-12-01T19:25:40.017Z"
   },
   {
    "duration": 25,
    "start_time": "2021-12-01T19:25:40.113Z"
   },
   {
    "duration": 5,
    "start_time": "2021-12-01T19:25:40.141Z"
   },
   {
    "duration": 6,
    "start_time": "2021-12-01T19:25:40.176Z"
   },
   {
    "duration": 16,
    "start_time": "2021-12-01T19:25:40.185Z"
   },
   {
    "duration": 10,
    "start_time": "2021-12-01T19:25:40.205Z"
   },
   {
    "duration": 9,
    "start_time": "2021-12-01T19:25:40.220Z"
   },
   {
    "duration": 3,
    "start_time": "2021-12-01T19:25:40.270Z"
   },
   {
    "duration": 35,
    "start_time": "2021-12-01T19:25:40.277Z"
   },
   {
    "duration": 3,
    "start_time": "2021-12-01T19:25:40.314Z"
   },
   {
    "duration": 9,
    "start_time": "2021-12-01T19:25:40.320Z"
   },
   {
    "duration": 466,
    "start_time": "2021-12-01T19:25:40.368Z"
   },
   {
    "duration": 17,
    "start_time": "2021-12-01T19:25:40.836Z"
   },
   {
    "duration": 508,
    "start_time": "2021-12-01T19:25:40.868Z"
   },
   {
    "duration": 5,
    "start_time": "2021-12-01T19:25:41.379Z"
   },
   {
    "duration": 134,
    "start_time": "2021-12-01T19:25:41.387Z"
   },
   {
    "duration": -51,
    "start_time": "2021-12-01T19:25:41.575Z"
   },
   {
    "duration": -53,
    "start_time": "2021-12-01T19:25:41.579Z"
   },
   {
    "duration": -61,
    "start_time": "2021-12-01T19:25:41.589Z"
   },
   {
    "duration": -64,
    "start_time": "2021-12-01T19:25:41.594Z"
   },
   {
    "duration": -69,
    "start_time": "2021-12-01T19:25:41.601Z"
   },
   {
    "duration": -82,
    "start_time": "2021-12-01T19:25:41.617Z"
   },
   {
    "duration": -85,
    "start_time": "2021-12-01T19:25:41.622Z"
   },
   {
    "duration": -88,
    "start_time": "2021-12-01T19:25:41.627Z"
   },
   {
    "duration": -95,
    "start_time": "2021-12-01T19:25:41.635Z"
   },
   {
    "duration": -97,
    "start_time": "2021-12-01T19:25:41.638Z"
   },
   {
    "duration": -102,
    "start_time": "2021-12-01T19:25:41.645Z"
   },
   {
    "duration": -108,
    "start_time": "2021-12-01T19:25:41.652Z"
   },
   {
    "duration": -113,
    "start_time": "2021-12-01T19:25:41.658Z"
   },
   {
    "duration": -118,
    "start_time": "2021-12-01T19:25:41.665Z"
   },
   {
    "duration": -127,
    "start_time": "2021-12-01T19:25:41.675Z"
   },
   {
    "duration": -135,
    "start_time": "2021-12-01T19:25:41.685Z"
   },
   {
    "duration": 456,
    "start_time": "2021-12-01T19:26:07.815Z"
   },
   {
    "duration": 24,
    "start_time": "2021-12-01T19:26:19.117Z"
   },
   {
    "duration": 27,
    "start_time": "2021-12-01T19:26:19.144Z"
   },
   {
    "duration": 23,
    "start_time": "2021-12-01T19:26:19.174Z"
   },
   {
    "duration": 26,
    "start_time": "2021-12-01T19:26:19.200Z"
   },
   {
    "duration": 49,
    "start_time": "2021-12-01T19:26:19.228Z"
   },
   {
    "duration": 19,
    "start_time": "2021-12-01T19:26:19.280Z"
   },
   {
    "duration": 12,
    "start_time": "2021-12-01T19:26:19.301Z"
   },
   {
    "duration": 8,
    "start_time": "2021-12-01T19:26:19.317Z"
   },
   {
    "duration": 9,
    "start_time": "2021-12-01T19:26:19.327Z"
   },
   {
    "duration": 3734,
    "start_time": "2021-12-01T19:26:19.368Z"
   },
   {
    "duration": 4,
    "start_time": "2021-12-01T19:26:23.105Z"
   },
   {
    "duration": 4049,
    "start_time": "2021-12-01T19:26:23.112Z"
   },
   {
    "duration": 9,
    "start_time": "2021-12-01T19:26:27.168Z"
   },
   {
    "duration": 8,
    "start_time": "2021-12-01T19:26:27.181Z"
   },
   {
    "duration": 32,
    "start_time": "2021-12-01T19:26:27.191Z"
   },
   {
    "duration": 10,
    "start_time": "2021-12-01T19:28:16.499Z"
   },
   {
    "duration": 100,
    "start_time": "2021-12-01T19:29:21.615Z"
   },
   {
    "duration": 444,
    "start_time": "2021-12-01T19:29:52.109Z"
   },
   {
    "duration": 473,
    "start_time": "2021-12-01T19:30:05.047Z"
   },
   {
    "duration": 300,
    "start_time": "2021-12-01T19:30:15.867Z"
   },
   {
    "duration": 437,
    "start_time": "2021-12-01T19:30:20.348Z"
   },
   {
    "duration": 420,
    "start_time": "2021-12-01T19:30:24.137Z"
   },
   {
    "duration": 972,
    "start_time": "2021-12-01T19:30:34.843Z"
   },
   {
    "duration": 1050,
    "start_time": "2021-12-01T19:31:43.599Z"
   },
   {
    "duration": 450,
    "start_time": "2021-12-01T19:32:02.540Z"
   },
   {
    "duration": 3,
    "start_time": "2021-12-01T19:32:31.721Z"
   },
   {
    "duration": 89,
    "start_time": "2021-12-01T19:32:31.727Z"
   },
   {
    "duration": 21,
    "start_time": "2021-12-01T19:32:31.819Z"
   },
   {
    "duration": 30,
    "start_time": "2021-12-01T19:32:31.844Z"
   },
   {
    "duration": 11,
    "start_time": "2021-12-01T19:32:31.877Z"
   },
   {
    "duration": 26,
    "start_time": "2021-12-01T19:32:31.891Z"
   },
   {
    "duration": 11,
    "start_time": "2021-12-01T19:32:31.922Z"
   },
   {
    "duration": 31,
    "start_time": "2021-12-01T19:32:31.936Z"
   },
   {
    "duration": 4,
    "start_time": "2021-12-01T19:32:31.969Z"
   },
   {
    "duration": 31,
    "start_time": "2021-12-01T19:32:31.977Z"
   },
   {
    "duration": 4,
    "start_time": "2021-12-01T19:32:32.010Z"
   },
   {
    "duration": 11,
    "start_time": "2021-12-01T19:32:32.017Z"
   },
   {
    "duration": 1049,
    "start_time": "2021-12-01T19:32:35.345Z"
   },
   {
    "duration": 912,
    "start_time": "2021-12-01T19:32:50.222Z"
   },
   {
    "duration": 15,
    "start_time": "2021-12-01T19:32:55.188Z"
   },
   {
    "duration": 1073,
    "start_time": "2021-12-01T19:32:56.973Z"
   },
   {
    "duration": 466,
    "start_time": "2021-12-01T19:33:05.437Z"
   },
   {
    "duration": 5,
    "start_time": "2021-12-01T19:33:07.967Z"
   },
   {
    "duration": 439,
    "start_time": "2021-12-01T19:33:08.926Z"
   },
   {
    "duration": 958,
    "start_time": "2021-12-01T19:33:16.480Z"
   },
   {
    "duration": 472,
    "start_time": "2021-12-01T19:33:32.364Z"
   },
   {
    "duration": 8,
    "start_time": "2021-12-01T19:37:09.661Z"
   },
   {
    "duration": 8,
    "start_time": "2021-12-01T19:37:15.906Z"
   },
   {
    "duration": 4,
    "start_time": "2021-12-01T19:40:34.452Z"
   },
   {
    "duration": 11,
    "start_time": "2021-12-01T19:41:10.634Z"
   },
   {
    "duration": 10,
    "start_time": "2021-12-01T19:41:16.436Z"
   },
   {
    "duration": 11,
    "start_time": "2021-12-01T19:41:53.374Z"
   },
   {
    "duration": 108,
    "start_time": "2021-12-01T19:45:33.837Z"
   },
   {
    "duration": 10,
    "start_time": "2021-12-01T19:49:54.273Z"
   },
   {
    "duration": 7,
    "start_time": "2021-12-01T19:51:16.505Z"
   },
   {
    "duration": 11,
    "start_time": "2021-12-01T19:51:27.527Z"
   },
   {
    "duration": 924,
    "start_time": "2021-12-01T19:51:36.296Z"
   },
   {
    "duration": 12,
    "start_time": "2021-12-01T19:51:38.915Z"
   },
   {
    "duration": 10,
    "start_time": "2021-12-01T19:52:31.155Z"
   },
   {
    "duration": 89,
    "start_time": "2021-12-01T19:57:40.041Z"
   },
   {
    "duration": 147,
    "start_time": "2021-12-01T19:57:50.913Z"
   },
   {
    "duration": 7,
    "start_time": "2021-12-01T19:58:00.956Z"
   },
   {
    "duration": 8,
    "start_time": "2021-12-01T19:58:04.926Z"
   },
   {
    "duration": 61,
    "start_time": "2021-12-01T19:59:15.065Z"
   },
   {
    "duration": 60,
    "start_time": "2021-12-01T20:00:03.323Z"
   },
   {
    "duration": 74,
    "start_time": "2021-12-01T20:01:00.237Z"
   },
   {
    "duration": 80,
    "start_time": "2021-12-01T20:01:32.913Z"
   },
   {
    "duration": 10,
    "start_time": "2021-12-01T20:03:09.198Z"
   },
   {
    "duration": 11,
    "start_time": "2021-12-01T20:03:21.071Z"
   },
   {
    "duration": 10,
    "start_time": "2021-12-01T20:03:23.716Z"
   },
   {
    "duration": 10,
    "start_time": "2021-12-01T20:03:28.246Z"
   },
   {
    "duration": 10,
    "start_time": "2021-12-01T20:03:53.261Z"
   },
   {
    "duration": 9,
    "start_time": "2021-12-01T20:05:16.537Z"
   },
   {
    "duration": 12,
    "start_time": "2021-12-01T20:05:45.085Z"
   },
   {
    "duration": 9210,
    "start_time": "2021-12-01T20:20:12.257Z"
   },
   {
    "duration": 6,
    "start_time": "2021-12-01T20:20:37.514Z"
   },
   {
    "duration": 8199,
    "start_time": "2021-12-01T20:20:41.241Z"
   },
   {
    "duration": 6,
    "start_time": "2021-12-01T20:20:53.744Z"
   },
   {
    "duration": 273,
    "start_time": "2021-12-01T20:21:43.056Z"
   },
   {
    "duration": 17,
    "start_time": "2021-12-01T20:22:07.861Z"
   },
   {
    "duration": 17,
    "start_time": "2021-12-01T20:22:25.154Z"
   },
   {
    "duration": 294,
    "start_time": "2021-12-01T20:23:18.721Z"
   },
   {
    "duration": 5,
    "start_time": "2021-12-01T20:23:28.019Z"
   },
   {
    "duration": 24,
    "start_time": "2021-12-01T20:24:11.466Z"
   },
   {
    "duration": 21,
    "start_time": "2021-12-01T20:24:51.272Z"
   },
   {
    "duration": 1656,
    "start_time": "2021-12-01T20:25:32.753Z"
   },
   {
    "duration": 78,
    "start_time": "2021-12-01T20:25:34.412Z"
   },
   {
    "duration": 26,
    "start_time": "2021-12-01T20:25:34.493Z"
   },
   {
    "duration": 3,
    "start_time": "2021-12-01T20:25:34.522Z"
   },
   {
    "duration": 12,
    "start_time": "2021-12-01T20:25:34.527Z"
   },
   {
    "duration": 13,
    "start_time": "2021-12-01T20:25:34.566Z"
   },
   {
    "duration": 9,
    "start_time": "2021-12-01T20:25:34.582Z"
   },
   {
    "duration": 8,
    "start_time": "2021-12-01T20:25:34.596Z"
   },
   {
    "duration": 10,
    "start_time": "2021-12-01T20:25:34.607Z"
   },
   {
    "duration": 64,
    "start_time": "2021-12-01T20:25:34.619Z"
   },
   {
    "duration": 3,
    "start_time": "2021-12-01T20:25:34.685Z"
   },
   {
    "duration": 10,
    "start_time": "2021-12-01T20:25:34.691Z"
   },
   {
    "duration": 977,
    "start_time": "2021-12-01T20:25:34.703Z"
   },
   {
    "duration": 19,
    "start_time": "2021-12-01T20:25:35.683Z"
   },
   {
    "duration": 537,
    "start_time": "2021-12-01T20:25:35.704Z"
   },
   {
    "duration": 5,
    "start_time": "2021-12-01T20:25:36.245Z"
   },
   {
    "duration": 444,
    "start_time": "2021-12-01T20:25:36.268Z"
   },
   {
    "duration": 25,
    "start_time": "2021-12-01T20:25:36.714Z"
   },
   {
    "duration": 47,
    "start_time": "2021-12-01T20:25:36.741Z"
   },
   {
    "duration": 21,
    "start_time": "2021-12-01T20:25:36.791Z"
   },
   {
    "duration": 25,
    "start_time": "2021-12-01T20:25:36.815Z"
   },
   {
    "duration": 36,
    "start_time": "2021-12-01T20:25:36.843Z"
   },
   {
    "duration": 11,
    "start_time": "2021-12-01T20:25:36.884Z"
   },
   {
    "duration": 16,
    "start_time": "2021-12-01T20:25:36.898Z"
   },
   {
    "duration": 8,
    "start_time": "2021-12-01T20:25:36.916Z"
   },
   {
    "duration": 40,
    "start_time": "2021-12-01T20:25:36.927Z"
   },
   {
    "duration": 3326,
    "start_time": "2021-12-01T20:25:36.970Z"
   },
   {
    "duration": 5,
    "start_time": "2021-12-01T20:25:40.298Z"
   },
   {
    "duration": 3762,
    "start_time": "2021-12-01T20:25:40.305Z"
   },
   {
    "duration": 7,
    "start_time": "2021-12-01T20:25:44.069Z"
   },
   {
    "duration": 8,
    "start_time": "2021-12-01T20:25:44.079Z"
   },
   {
    "duration": 30,
    "start_time": "2021-12-01T20:25:44.089Z"
   },
   {
    "duration": 13,
    "start_time": "2021-12-01T20:25:44.121Z"
   },
   {
    "duration": 954,
    "start_time": "2021-12-01T20:25:44.167Z"
   },
   {
    "duration": 12,
    "start_time": "2021-12-01T20:25:45.123Z"
   },
   {
    "duration": 35,
    "start_time": "2021-12-01T20:25:45.137Z"
   },
   {
    "duration": 9,
    "start_time": "2021-12-01T20:25:45.175Z"
   },
   {
    "duration": 111,
    "start_time": "2021-12-01T20:25:45.187Z"
   },
   {
    "duration": 10,
    "start_time": "2021-12-01T20:25:45.300Z"
   },
   {
    "duration": 11,
    "start_time": "2021-12-01T20:25:45.314Z"
   },
   {
    "duration": 52,
    "start_time": "2021-12-01T20:25:45.328Z"
   },
   {
    "duration": 17,
    "start_time": "2021-12-01T20:25:45.383Z"
   },
   {
    "duration": 5,
    "start_time": "2021-12-01T20:29:23.536Z"
   },
   {
    "duration": 13,
    "start_time": "2021-12-01T20:29:39.901Z"
   },
   {
    "duration": 5,
    "start_time": "2021-12-01T20:30:40.375Z"
   },
   {
    "duration": 36,
    "start_time": "2021-12-01T20:30:42.490Z"
   },
   {
    "duration": 33,
    "start_time": "2021-12-01T20:30:52.623Z"
   },
   {
    "duration": 5,
    "start_time": "2021-12-01T20:31:18.447Z"
   },
   {
    "duration": 98,
    "start_time": "2021-12-01T20:31:18.455Z"
   },
   {
    "duration": 22,
    "start_time": "2021-12-01T20:31:18.556Z"
   },
   {
    "duration": 4,
    "start_time": "2021-12-01T20:31:18.583Z"
   },
   {
    "duration": 5,
    "start_time": "2021-12-01T20:31:18.590Z"
   },
   {
    "duration": 16,
    "start_time": "2021-12-01T20:31:18.599Z"
   },
   {
    "duration": 9,
    "start_time": "2021-12-01T20:31:18.617Z"
   },
   {
    "duration": 11,
    "start_time": "2021-12-01T20:31:18.668Z"
   },
   {
    "duration": 3,
    "start_time": "2021-12-01T20:31:18.683Z"
   },
   {
    "duration": 27,
    "start_time": "2021-12-01T20:31:18.690Z"
   },
   {
    "duration": 4,
    "start_time": "2021-12-01T20:31:18.720Z"
   },
   {
    "duration": 41,
    "start_time": "2021-12-01T20:31:18.727Z"
   },
   {
    "duration": 1048,
    "start_time": "2021-12-01T20:31:18.771Z"
   },
   {
    "duration": 14,
    "start_time": "2021-12-01T20:31:19.823Z"
   },
   {
    "duration": 509,
    "start_time": "2021-12-01T20:31:19.840Z"
   },
   {
    "duration": 4,
    "start_time": "2021-12-01T20:31:20.351Z"
   },
   {
    "duration": 662,
    "start_time": "2021-12-01T20:31:20.368Z"
   },
   {
    "duration": 42,
    "start_time": "2021-12-01T20:31:21.033Z"
   },
   {
    "duration": 35,
    "start_time": "2021-12-01T20:31:21.078Z"
   },
   {
    "duration": 54,
    "start_time": "2021-12-01T20:31:21.116Z"
   },
   {
    "duration": 28,
    "start_time": "2021-12-01T20:31:21.172Z"
   },
   {
    "duration": 17,
    "start_time": "2021-12-01T20:31:21.202Z"
   },
   {
    "duration": 47,
    "start_time": "2021-12-01T20:31:21.222Z"
   },
   {
    "duration": 13,
    "start_time": "2021-12-01T20:31:21.272Z"
   },
   {
    "duration": 12,
    "start_time": "2021-12-01T20:31:21.288Z"
   },
   {
    "duration": 65,
    "start_time": "2021-12-01T20:31:21.303Z"
   },
   {
    "duration": 4158,
    "start_time": "2021-12-01T20:31:21.374Z"
   },
   {
    "duration": 6,
    "start_time": "2021-12-01T20:31:25.535Z"
   },
   {
    "duration": 4590,
    "start_time": "2021-12-01T20:31:25.544Z"
   },
   {
    "duration": 11,
    "start_time": "2021-12-01T20:31:30.137Z"
   },
   {
    "duration": 42,
    "start_time": "2021-12-01T20:31:30.151Z"
   },
   {
    "duration": 4,
    "start_time": "2021-12-01T20:31:32.250Z"
   },
   {
    "duration": 32,
    "start_time": "2021-12-01T20:31:34.196Z"
   },
   {
    "duration": 12,
    "start_time": "2021-12-01T20:33:50.734Z"
   },
   {
    "duration": 13,
    "start_time": "2021-12-01T20:34:04.855Z"
   },
   {
    "duration": 11,
    "start_time": "2021-12-01T20:35:09.173Z"
   },
   {
    "duration": 7,
    "start_time": "2021-12-01T20:35:23.588Z"
   },
   {
    "duration": 132,
    "start_time": "2021-12-01T20:35:27.243Z"
   },
   {
    "duration": 1530,
    "start_time": "2021-12-01T20:35:40.827Z"
   },
   {
    "duration": 76,
    "start_time": "2021-12-01T20:35:42.360Z"
   },
   {
    "duration": 45,
    "start_time": "2021-12-01T20:35:42.439Z"
   },
   {
    "duration": 3,
    "start_time": "2021-12-01T20:35:42.487Z"
   },
   {
    "duration": 7,
    "start_time": "2021-12-01T20:35:42.493Z"
   },
   {
    "duration": 24,
    "start_time": "2021-12-01T20:35:42.503Z"
   },
   {
    "duration": 44,
    "start_time": "2021-12-01T20:35:42.530Z"
   },
   {
    "duration": 12,
    "start_time": "2021-12-01T20:35:42.580Z"
   },
   {
    "duration": 5,
    "start_time": "2021-12-01T20:35:42.595Z"
   },
   {
    "duration": 26,
    "start_time": "2021-12-01T20:35:42.602Z"
   },
   {
    "duration": 4,
    "start_time": "2021-12-01T20:35:42.668Z"
   },
   {
    "duration": 8,
    "start_time": "2021-12-01T20:35:42.675Z"
   },
   {
    "duration": 1052,
    "start_time": "2021-12-01T20:35:42.686Z"
   },
   {
    "duration": 35,
    "start_time": "2021-12-01T20:35:43.742Z"
   },
   {
    "duration": 795,
    "start_time": "2021-12-01T20:35:43.781Z"
   },
   {
    "duration": 5,
    "start_time": "2021-12-01T20:35:44.579Z"
   },
   {
    "duration": 485,
    "start_time": "2021-12-01T20:35:44.588Z"
   },
   {
    "duration": 26,
    "start_time": "2021-12-01T20:35:45.076Z"
   },
   {
    "duration": 66,
    "start_time": "2021-12-01T20:35:45.104Z"
   },
   {
    "duration": 36,
    "start_time": "2021-12-01T20:35:45.173Z"
   },
   {
    "duration": 56,
    "start_time": "2021-12-01T20:35:45.212Z"
   },
   {
    "duration": 17,
    "start_time": "2021-12-01T20:35:45.270Z"
   },
   {
    "duration": 19,
    "start_time": "2021-12-01T20:35:45.296Z"
   },
   {
    "duration": 50,
    "start_time": "2021-12-01T20:35:45.320Z"
   },
   {
    "duration": 12,
    "start_time": "2021-12-01T20:35:45.374Z"
   },
   {
    "duration": 10,
    "start_time": "2021-12-01T20:35:45.389Z"
   },
   {
    "duration": 5036,
    "start_time": "2021-12-01T20:35:45.402Z"
   },
   {
    "duration": 5,
    "start_time": "2021-12-01T20:35:50.441Z"
   },
   {
    "duration": 4795,
    "start_time": "2021-12-01T20:35:50.448Z"
   },
   {
    "duration": 21,
    "start_time": "2021-12-01T20:35:55.246Z"
   },
   {
    "duration": 12,
    "start_time": "2021-12-01T20:35:55.270Z"
   },
   {
    "duration": 7,
    "start_time": "2021-12-01T20:35:55.285Z"
   },
   {
    "duration": 37,
    "start_time": "2021-12-01T20:35:55.295Z"
   },
   {
    "duration": 7087,
    "start_time": "2021-12-01T20:35:55.368Z"
   },
   {
    "duration": -63,
    "start_time": "2021-12-01T20:36:02.520Z"
   },
   {
    "duration": -69,
    "start_time": "2021-12-01T20:36:02.528Z"
   },
   {
    "duration": -71,
    "start_time": "2021-12-01T20:36:02.532Z"
   },
   {
    "duration": -74,
    "start_time": "2021-12-01T20:36:02.536Z"
   },
   {
    "duration": -78,
    "start_time": "2021-12-01T20:36:02.541Z"
   },
   {
    "duration": -81,
    "start_time": "2021-12-01T20:36:02.546Z"
   },
   {
    "duration": -84,
    "start_time": "2021-12-01T20:36:02.551Z"
   },
   {
    "duration": -89,
    "start_time": "2021-12-01T20:36:02.557Z"
   },
   {
    "duration": -94,
    "start_time": "2021-12-01T20:36:02.563Z"
   },
   {
    "duration": -98,
    "start_time": "2021-12-01T20:36:02.569Z"
   },
   {
    "duration": 12,
    "start_time": "2021-12-01T20:36:25.772Z"
   },
   {
    "duration": 1276,
    "start_time": "2021-12-01T20:36:47.331Z"
   },
   {
    "duration": 12,
    "start_time": "2021-12-01T20:36:48.609Z"
   },
   {
    "duration": 42,
    "start_time": "2021-12-01T20:36:48.625Z"
   },
   {
    "duration": 12,
    "start_time": "2021-12-01T20:36:48.670Z"
   },
   {
    "duration": 8,
    "start_time": "2021-12-01T20:36:48.685Z"
   },
   {
    "duration": 122,
    "start_time": "2021-12-01T20:36:48.695Z"
   },
   {
    "duration": 8,
    "start_time": "2021-12-01T20:36:48.820Z"
   },
   {
    "duration": 38,
    "start_time": "2021-12-01T20:36:48.831Z"
   },
   {
    "duration": 20,
    "start_time": "2021-12-01T20:36:48.872Z"
   },
   {
    "duration": 17,
    "start_time": "2021-12-01T20:36:48.894Z"
   },
   {
    "duration": 92,
    "start_time": "2021-12-01T20:37:12.843Z"
   },
   {
    "duration": 9,
    "start_time": "2021-12-01T20:37:18.495Z"
   },
   {
    "duration": 81,
    "start_time": "2021-12-01T20:37:18.507Z"
   },
   {
    "duration": 8,
    "start_time": "2021-12-01T20:37:18.591Z"
   },
   {
    "duration": 9,
    "start_time": "2021-12-01T20:37:18.613Z"
   },
   {
    "duration": 47,
    "start_time": "2021-12-01T20:37:18.625Z"
   },
   {
    "duration": 18,
    "start_time": "2021-12-01T20:37:18.675Z"
   },
   {
    "duration": 1592,
    "start_time": "2021-12-01T20:37:32.314Z"
   },
   {
    "duration": 77,
    "start_time": "2021-12-01T20:37:33.909Z"
   },
   {
    "duration": 27,
    "start_time": "2021-12-01T20:37:33.994Z"
   },
   {
    "duration": 3,
    "start_time": "2021-12-01T20:37:34.024Z"
   },
   {
    "duration": 5,
    "start_time": "2021-12-01T20:37:34.030Z"
   },
   {
    "duration": 14,
    "start_time": "2021-12-01T20:37:34.068Z"
   },
   {
    "duration": 9,
    "start_time": "2021-12-01T20:37:34.086Z"
   },
   {
    "duration": 8,
    "start_time": "2021-12-01T20:37:34.099Z"
   },
   {
    "duration": 3,
    "start_time": "2021-12-01T20:37:34.109Z"
   },
   {
    "duration": 73,
    "start_time": "2021-12-01T20:37:34.115Z"
   },
   {
    "duration": 3,
    "start_time": "2021-12-01T20:37:34.190Z"
   },
   {
    "duration": 8,
    "start_time": "2021-12-01T20:37:34.196Z"
   },
   {
    "duration": 938,
    "start_time": "2021-12-01T20:37:34.207Z"
   },
   {
    "duration": 25,
    "start_time": "2021-12-01T20:37:35.147Z"
   },
   {
    "duration": 531,
    "start_time": "2021-12-01T20:37:35.174Z"
   },
   {
    "duration": 5,
    "start_time": "2021-12-01T20:37:35.708Z"
   },
   {
    "duration": 462,
    "start_time": "2021-12-01T20:37:35.716Z"
   },
   {
    "duration": 25,
    "start_time": "2021-12-01T20:37:36.182Z"
   },
   {
    "duration": 57,
    "start_time": "2021-12-01T20:37:36.210Z"
   },
   {
    "duration": 25,
    "start_time": "2021-12-01T20:37:36.270Z"
   },
   {
    "duration": 28,
    "start_time": "2021-12-01T20:37:36.298Z"
   },
   {
    "duration": 51,
    "start_time": "2021-12-01T20:37:36.333Z"
   },
   {
    "duration": 14,
    "start_time": "2021-12-01T20:37:36.387Z"
   },
   {
    "duration": 12,
    "start_time": "2021-12-01T20:37:36.404Z"
   },
   {
    "duration": 8,
    "start_time": "2021-12-01T20:37:36.419Z"
   },
   {
    "duration": 46,
    "start_time": "2021-12-01T20:37:36.429Z"
   },
   {
    "duration": 3398,
    "start_time": "2021-12-01T20:37:36.477Z"
   },
   {
    "duration": 5,
    "start_time": "2021-12-01T20:37:39.878Z"
   },
   {
    "duration": 3805,
    "start_time": "2021-12-01T20:37:39.885Z"
   },
   {
    "duration": 8,
    "start_time": "2021-12-01T20:37:43.692Z"
   },
   {
    "duration": 12,
    "start_time": "2021-12-01T20:37:43.702Z"
   },
   {
    "duration": 5,
    "start_time": "2021-12-01T20:37:43.717Z"
   },
   {
    "duration": 69,
    "start_time": "2021-12-01T20:37:43.724Z"
   },
   {
    "duration": 8,
    "start_time": "2021-12-01T20:37:43.796Z"
   },
   {
    "duration": 1066,
    "start_time": "2021-12-01T20:37:43.806Z"
   },
   {
    "duration": 11,
    "start_time": "2021-12-01T20:37:44.875Z"
   },
   {
    "duration": 10,
    "start_time": "2021-12-01T20:37:44.888Z"
   },
   {
    "duration": 11,
    "start_time": "2021-12-01T20:37:44.901Z"
   },
   {
    "duration": 8,
    "start_time": "2021-12-01T20:37:44.915Z"
   },
   {
    "duration": 7777,
    "start_time": "2021-12-01T20:37:44.967Z"
   },
   {
    "duration": -24,
    "start_time": "2021-12-01T20:37:52.770Z"
   },
   {
    "duration": -31,
    "start_time": "2021-12-01T20:37:52.778Z"
   },
   {
    "duration": -36,
    "start_time": "2021-12-01T20:37:52.785Z"
   },
   {
    "duration": -39,
    "start_time": "2021-12-01T20:37:52.789Z"
   },
   {
    "duration": 9,
    "start_time": "2021-12-01T20:38:15.792Z"
   },
   {
    "duration": 86,
    "start_time": "2021-12-01T20:38:15.805Z"
   },
   {
    "duration": 6845,
    "start_time": "2021-12-01T20:38:15.895Z"
   },
   {
    "duration": -46,
    "start_time": "2021-12-01T20:38:22.788Z"
   },
   {
    "duration": -49,
    "start_time": "2021-12-01T20:38:22.792Z"
   },
   {
    "duration": -52,
    "start_time": "2021-12-01T20:38:22.797Z"
   },
   {
    "duration": 8,
    "start_time": "2021-12-01T20:38:41.292Z"
   },
   {
    "duration": 7803,
    "start_time": "2021-12-01T20:38:41.303Z"
   },
   {
    "duration": -40,
    "start_time": "2021-12-01T20:38:49.149Z"
   },
   {
    "duration": -48,
    "start_time": "2021-12-01T20:38:49.159Z"
   },
   {
    "duration": 7047,
    "start_time": "2021-12-01T20:38:58.204Z"
   },
   {
    "duration": -44,
    "start_time": "2021-12-01T20:39:05.298Z"
   },
   {
    "duration": -49,
    "start_time": "2021-12-01T20:39:05.304Z"
   },
   {
    "duration": 7,
    "start_time": "2021-12-01T20:39:10.041Z"
   },
   {
    "duration": 19,
    "start_time": "2021-12-01T20:39:16.459Z"
   },
   {
    "duration": 15,
    "start_time": "2021-12-01T20:39:16.481Z"
   },
   {
    "duration": 278,
    "start_time": "2021-12-01T20:40:57.967Z"
   },
   {
    "duration": 6,
    "start_time": "2021-12-01T20:41:00.577Z"
   },
   {
    "duration": 6,
    "start_time": "2021-12-01T20:41:02.688Z"
   },
   {
    "duration": 8,
    "start_time": "2021-12-01T20:43:37.416Z"
   },
   {
    "duration": 6,
    "start_time": "2021-12-01T20:43:40.130Z"
   },
   {
    "duration": 15,
    "start_time": "2021-12-01T20:43:47.128Z"
   },
   {
    "duration": 7233,
    "start_time": "2021-12-01T20:45:55.536Z"
   },
   {
    "duration": 13,
    "start_time": "2021-12-01T20:46:25.486Z"
   },
   {
    "duration": 5,
    "start_time": "2021-12-01T20:46:33.848Z"
   },
   {
    "duration": 85,
    "start_time": "2021-12-01T20:46:33.856Z"
   },
   {
    "duration": 23,
    "start_time": "2021-12-01T20:46:33.944Z"
   },
   {
    "duration": 3,
    "start_time": "2021-12-01T20:46:33.969Z"
   },
   {
    "duration": 8,
    "start_time": "2021-12-01T20:46:33.975Z"
   },
   {
    "duration": 17,
    "start_time": "2021-12-01T20:46:33.985Z"
   },
   {
    "duration": 7,
    "start_time": "2021-12-01T20:46:34.005Z"
   },
   {
    "duration": 8,
    "start_time": "2021-12-01T20:46:34.015Z"
   },
   {
    "duration": 35,
    "start_time": "2021-12-01T20:46:37.488Z"
   },
   {
    "duration": 10,
    "start_time": "2021-12-01T20:47:19.088Z"
   },
   {
    "duration": 651,
    "start_time": "2021-12-02T14:44:29.904Z"
   },
   {
    "duration": 1660,
    "start_time": "2021-12-02T14:44:36.209Z"
   },
   {
    "duration": 78,
    "start_time": "2021-12-02T14:44:37.872Z"
   },
   {
    "duration": 41,
    "start_time": "2021-12-02T14:44:37.953Z"
   },
   {
    "duration": 3,
    "start_time": "2021-12-02T14:44:37.998Z"
   },
   {
    "duration": 10,
    "start_time": "2021-12-02T14:44:38.005Z"
   },
   {
    "duration": 23,
    "start_time": "2021-12-02T14:44:38.017Z"
   },
   {
    "duration": 11,
    "start_time": "2021-12-02T14:44:38.067Z"
   },
   {
    "duration": 9,
    "start_time": "2021-12-02T14:44:38.083Z"
   },
   {
    "duration": 12,
    "start_time": "2021-12-02T14:44:38.096Z"
   },
   {
    "duration": 8460,
    "start_time": "2021-12-02T14:44:38.111Z"
   },
   {
    "duration": -65,
    "start_time": "2021-12-02T14:44:46.642Z"
   },
   {
    "duration": -72,
    "start_time": "2021-12-02T14:44:46.651Z"
   },
   {
    "duration": -78,
    "start_time": "2021-12-02T14:44:46.659Z"
   },
   {
    "duration": -90,
    "start_time": "2021-12-02T14:44:46.673Z"
   },
   {
    "duration": -106,
    "start_time": "2021-12-02T14:44:46.691Z"
   },
   {
    "duration": -116,
    "start_time": "2021-12-02T14:44:46.702Z"
   },
   {
    "duration": -123,
    "start_time": "2021-12-02T14:44:46.711Z"
   },
   {
    "duration": -132,
    "start_time": "2021-12-02T14:44:46.721Z"
   },
   {
    "duration": -137,
    "start_time": "2021-12-02T14:44:46.728Z"
   },
   {
    "duration": -144,
    "start_time": "2021-12-02T14:44:46.736Z"
   },
   {
    "duration": -151,
    "start_time": "2021-12-02T14:44:46.745Z"
   },
   {
    "duration": -158,
    "start_time": "2021-12-02T14:44:46.753Z"
   },
   {
    "duration": -162,
    "start_time": "2021-12-02T14:44:46.758Z"
   },
   {
    "duration": -188,
    "start_time": "2021-12-02T14:44:46.788Z"
   },
   {
    "duration": -194,
    "start_time": "2021-12-02T14:44:46.797Z"
   },
   {
    "duration": -203,
    "start_time": "2021-12-02T14:44:46.808Z"
   },
   {
    "duration": -207,
    "start_time": "2021-12-02T14:44:46.814Z"
   },
   {
    "duration": -213,
    "start_time": "2021-12-02T14:44:46.822Z"
   },
   {
    "duration": -217,
    "start_time": "2021-12-02T14:44:46.828Z"
   },
   {
    "duration": -225,
    "start_time": "2021-12-02T14:44:46.838Z"
   },
   {
    "duration": -293,
    "start_time": "2021-12-02T14:44:46.959Z"
   },
   {
    "duration": -298,
    "start_time": "2021-12-02T14:44:46.966Z"
   },
   {
    "duration": -302,
    "start_time": "2021-12-02T14:44:46.973Z"
   },
   {
    "duration": -312,
    "start_time": "2021-12-02T14:44:46.984Z"
   },
   {
    "duration": -318,
    "start_time": "2021-12-02T14:44:46.992Z"
   },
   {
    "duration": -324,
    "start_time": "2021-12-02T14:44:47.000Z"
   },
   {
    "duration": -327,
    "start_time": "2021-12-02T14:44:47.006Z"
   },
   {
    "duration": -334,
    "start_time": "2021-12-02T14:44:47.014Z"
   },
   {
    "duration": -337,
    "start_time": "2021-12-02T14:44:47.019Z"
   },
   {
    "duration": -339,
    "start_time": "2021-12-02T14:44:47.023Z"
   },
   {
    "duration": -341,
    "start_time": "2021-12-02T14:44:47.027Z"
   },
   {
    "duration": -345,
    "start_time": "2021-12-02T14:44:47.033Z"
   },
   {
    "duration": -348,
    "start_time": "2021-12-02T14:44:47.038Z"
   },
   {
    "duration": -351,
    "start_time": "2021-12-02T14:44:47.043Z"
   },
   {
    "duration": -354,
    "start_time": "2021-12-02T14:44:47.048Z"
   },
   {
    "duration": -357,
    "start_time": "2021-12-02T14:44:47.052Z"
   },
   {
    "duration": 7,
    "start_time": "2021-12-02T14:58:10.128Z"
   },
   {
    "duration": -24,
    "start_time": "2021-12-02T14:58:44.743Z"
   },
   {
    "duration": 5,
    "start_time": "2021-12-02T14:58:50.520Z"
   },
   {
    "duration": 394,
    "start_time": "2021-12-02T15:00:27.026Z"
   },
   {
    "duration": 294,
    "start_time": "2021-12-02T15:00:41.258Z"
   },
   {
    "duration": 8217,
    "start_time": "2021-12-02T15:01:00.468Z"
   },
   {
    "duration": 108230,
    "start_time": "2021-12-02T15:01:48.064Z"
   },
   {
    "duration": 29,
    "start_time": "2021-12-02T15:03:36.297Z"
   },
   {
    "duration": 1523,
    "start_time": "2021-12-02T15:04:45.758Z"
   },
   {
    "duration": 77,
    "start_time": "2021-12-02T15:04:47.285Z"
   },
   {
    "duration": 35,
    "start_time": "2021-12-02T15:04:47.365Z"
   },
   {
    "duration": 3,
    "start_time": "2021-12-02T15:04:47.403Z"
   },
   {
    "duration": 7,
    "start_time": "2021-12-02T15:04:47.409Z"
   },
   {
    "duration": 49,
    "start_time": "2021-12-02T15:04:47.419Z"
   },
   {
    "duration": 12,
    "start_time": "2021-12-02T15:04:47.472Z"
   },
   {
    "duration": 12,
    "start_time": "2021-12-02T15:04:47.490Z"
   },
   {
    "duration": 70,
    "start_time": "2021-12-02T15:04:47.506Z"
   },
   {
    "duration": 4,
    "start_time": "2021-12-02T15:04:47.579Z"
   },
   {
    "duration": 9,
    "start_time": "2021-12-02T15:04:47.587Z"
   },
   {
    "duration": 1128,
    "start_time": "2021-12-02T15:04:47.599Z"
   },
   {
    "duration": 17,
    "start_time": "2021-12-02T15:04:48.731Z"
   },
   {
    "duration": 620,
    "start_time": "2021-12-02T15:04:48.751Z"
   },
   {
    "duration": 5,
    "start_time": "2021-12-02T15:04:49.374Z"
   },
   {
    "duration": 490,
    "start_time": "2021-12-02T15:04:49.382Z"
   },
   {
    "duration": 28,
    "start_time": "2021-12-02T15:04:49.875Z"
   },
   {
    "duration": 28,
    "start_time": "2021-12-02T15:04:49.906Z"
   },
   {
    "duration": 52,
    "start_time": "2021-12-02T15:04:49.937Z"
   },
   {
    "duration": 33,
    "start_time": "2021-12-02T15:04:49.992Z"
   },
   {
    "duration": 57,
    "start_time": "2021-12-02T15:04:50.027Z"
   },
   {
    "duration": 20,
    "start_time": "2021-12-02T15:04:50.087Z"
   },
   {
    "duration": 11,
    "start_time": "2021-12-02T15:04:50.113Z"
   },
   {
    "duration": 8,
    "start_time": "2021-12-02T15:04:50.127Z"
   },
   {
    "duration": 37,
    "start_time": "2021-12-02T15:04:50.138Z"
   },
   {
    "duration": 3647,
    "start_time": "2021-12-02T15:04:50.178Z"
   },
   {
    "duration": 4,
    "start_time": "2021-12-02T15:04:53.828Z"
   },
   {
    "duration": 4323,
    "start_time": "2021-12-02T15:04:53.834Z"
   },
   {
    "duration": 14,
    "start_time": "2021-12-02T15:04:58.168Z"
   },
   {
    "duration": 14,
    "start_time": "2021-12-02T15:04:58.185Z"
   },
   {
    "duration": 5,
    "start_time": "2021-12-02T15:04:58.201Z"
   },
   {
    "duration": 78,
    "start_time": "2021-12-02T15:04:58.209Z"
   },
   {
    "duration": 11,
    "start_time": "2021-12-02T15:04:58.290Z"
   },
   {
    "duration": 1225,
    "start_time": "2021-12-02T15:04:58.304Z"
   },
   {
    "duration": 12,
    "start_time": "2021-12-02T15:04:59.532Z"
   },
   {
    "duration": 28,
    "start_time": "2021-12-02T15:04:59.547Z"
   },
   {
    "duration": 14,
    "start_time": "2021-12-02T15:04:59.578Z"
   },
   {
    "duration": 10,
    "start_time": "2021-12-02T15:04:59.596Z"
   },
   {
    "duration": 139,
    "start_time": "2021-12-02T15:04:59.608Z"
   },
   {
    "duration": 24,
    "start_time": "2021-12-02T15:04:59.750Z"
   },
   {
    "duration": 9,
    "start_time": "2021-12-02T15:04:59.784Z"
   },
   {
    "duration": 24,
    "start_time": "2021-12-02T15:04:59.796Z"
   },
   {
    "duration": 56,
    "start_time": "2021-12-02T15:04:59.823Z"
   },
   {
    "duration": 16,
    "start_time": "2021-12-02T15:04:59.883Z"
   },
   {
    "duration": 8,
    "start_time": "2021-12-02T15:16:10.076Z"
   },
   {
    "duration": 401,
    "start_time": "2021-12-02T15:22:41.240Z"
   },
   {
    "duration": 291,
    "start_time": "2021-12-02T15:22:47.682Z"
   },
   {
    "duration": 18,
    "start_time": "2021-12-02T15:28:12.675Z"
   },
   {
    "duration": 18,
    "start_time": "2021-12-02T15:28:41.900Z"
   },
   {
    "duration": 37,
    "start_time": "2021-12-02T15:29:06.457Z"
   },
   {
    "duration": 32,
    "start_time": "2021-12-02T15:30:25.360Z"
   },
   {
    "duration": 29,
    "start_time": "2021-12-02T15:30:30.099Z"
   },
   {
    "duration": 30,
    "start_time": "2021-12-02T15:30:39.688Z"
   },
   {
    "duration": 21,
    "start_time": "2021-12-02T15:30:47.696Z"
   },
   {
    "duration": 32,
    "start_time": "2021-12-02T15:30:54.847Z"
   },
   {
    "duration": 23,
    "start_time": "2021-12-02T15:30:58.492Z"
   },
   {
    "duration": 47,
    "start_time": "2021-12-02T15:31:01.811Z"
   },
   {
    "duration": 838,
    "start_time": "2021-12-02T15:32:45.315Z"
   },
   {
    "duration": 342,
    "start_time": "2021-12-02T15:32:52.732Z"
   },
   {
    "duration": 100,
    "start_time": "2021-12-02T15:33:04.160Z"
   },
   {
    "duration": 32,
    "start_time": "2021-12-02T15:33:07.201Z"
   },
   {
    "duration": 32,
    "start_time": "2021-12-02T15:36:17.468Z"
   },
   {
    "duration": 32,
    "start_time": "2021-12-02T15:37:54.572Z"
   },
   {
    "duration": 22,
    "start_time": "2021-12-02T15:45:25.766Z"
   },
   {
    "duration": 294,
    "start_time": "2021-12-02T15:45:29.384Z"
   },
   {
    "duration": 32,
    "start_time": "2021-12-02T15:45:32.497Z"
   },
   {
    "duration": 24,
    "start_time": "2021-12-02T15:46:38.591Z"
   },
   {
    "duration": 34,
    "start_time": "2021-12-02T15:46:43.906Z"
   },
   {
    "duration": 101,
    "start_time": "2021-12-02T15:46:47.196Z"
   },
   {
    "duration": 26,
    "start_time": "2021-12-02T15:46:58.089Z"
   },
   {
    "duration": 20,
    "start_time": "2021-12-02T15:50:26.470Z"
   },
   {
    "duration": 28,
    "start_time": "2021-12-02T15:50:33.698Z"
   },
   {
    "duration": 41,
    "start_time": "2021-12-02T16:01:59.983Z"
   },
   {
    "duration": 31,
    "start_time": "2021-12-02T16:02:33.396Z"
   },
   {
    "duration": 7,
    "start_time": "2021-12-02T16:03:23.114Z"
   },
   {
    "duration": 92,
    "start_time": "2021-12-02T20:13:13.517Z"
   },
   {
    "duration": 86,
    "start_time": "2021-12-02T20:13:19.676Z"
   },
   {
    "duration": 111,
    "start_time": "2021-12-02T20:13:22.384Z"
   },
   {
    "duration": 330,
    "start_time": "2021-12-02T20:13:38.400Z"
   },
   {
    "duration": 1591,
    "start_time": "2021-12-02T20:13:55.308Z"
   },
   {
    "duration": 81,
    "start_time": "2021-12-02T20:13:56.902Z"
   },
   {
    "duration": 23,
    "start_time": "2021-12-02T20:13:56.987Z"
   },
   {
    "duration": 4,
    "start_time": "2021-12-02T20:13:57.013Z"
   },
   {
    "duration": 7,
    "start_time": "2021-12-02T20:13:57.019Z"
   },
   {
    "duration": 45,
    "start_time": "2021-12-02T20:13:57.028Z"
   },
   {
    "duration": 12,
    "start_time": "2021-12-02T20:13:57.076Z"
   },
   {
    "duration": 11,
    "start_time": "2021-12-02T20:13:57.093Z"
   },
   {
    "duration": 66,
    "start_time": "2021-12-02T20:13:57.108Z"
   },
   {
    "duration": 3,
    "start_time": "2021-12-02T20:13:57.178Z"
   },
   {
    "duration": 8,
    "start_time": "2021-12-02T20:13:57.185Z"
   },
   {
    "duration": 1005,
    "start_time": "2021-12-02T20:13:57.196Z"
   },
   {
    "duration": 16,
    "start_time": "2021-12-02T20:13:58.203Z"
   },
   {
    "duration": 566,
    "start_time": "2021-12-02T20:13:58.222Z"
   },
   {
    "duration": 5,
    "start_time": "2021-12-02T20:13:58.791Z"
   },
   {
    "duration": 496,
    "start_time": "2021-12-02T20:13:58.798Z"
   },
   {
    "duration": 25,
    "start_time": "2021-12-02T20:13:59.297Z"
   },
   {
    "duration": 59,
    "start_time": "2021-12-02T20:13:59.324Z"
   },
   {
    "duration": 26,
    "start_time": "2021-12-02T20:13:59.387Z"
   },
   {
    "duration": 28,
    "start_time": "2021-12-02T20:13:59.415Z"
   },
   {
    "duration": 25,
    "start_time": "2021-12-02T20:13:59.468Z"
   },
   {
    "duration": 24,
    "start_time": "2021-12-02T20:13:59.495Z"
   },
   {
    "duration": 19,
    "start_time": "2021-12-02T20:13:59.525Z"
   },
   {
    "duration": 29,
    "start_time": "2021-12-02T20:13:59.548Z"
   },
   {
    "duration": 33,
    "start_time": "2021-12-02T20:13:59.581Z"
   },
   {
    "duration": 3741,
    "start_time": "2021-12-02T20:13:59.617Z"
   },
   {
    "duration": 12,
    "start_time": "2021-12-02T20:14:03.360Z"
   },
   {
    "duration": 4036,
    "start_time": "2021-12-02T20:14:03.376Z"
   },
   {
    "duration": 7,
    "start_time": "2021-12-02T20:14:07.416Z"
   },
   {
    "duration": 15,
    "start_time": "2021-12-02T20:14:07.426Z"
   },
   {
    "duration": 5,
    "start_time": "2021-12-02T20:14:07.468Z"
   },
   {
    "duration": 36,
    "start_time": "2021-12-02T20:14:07.475Z"
   },
   {
    "duration": 8,
    "start_time": "2021-12-02T20:14:07.513Z"
   },
   {
    "duration": 983,
    "start_time": "2021-12-02T20:14:07.523Z"
   },
   {
    "duration": 11,
    "start_time": "2021-12-02T20:14:08.509Z"
   },
   {
    "duration": 11,
    "start_time": "2021-12-02T20:14:08.523Z"
   },
   {
    "duration": 43,
    "start_time": "2021-12-02T20:14:08.537Z"
   },
   {
    "duration": 9,
    "start_time": "2021-12-02T20:14:08.583Z"
   },
   {
    "duration": 117,
    "start_time": "2021-12-02T20:14:08.595Z"
   },
   {
    "duration": 9,
    "start_time": "2021-12-02T20:14:08.715Z"
   },
   {
    "duration": 40,
    "start_time": "2021-12-02T20:14:08.726Z"
   },
   {
    "duration": 22,
    "start_time": "2021-12-02T20:14:08.769Z"
   },
   {
    "duration": 15,
    "start_time": "2021-12-02T20:14:08.793Z"
   },
   {
    "duration": 14,
    "start_time": "2021-12-02T20:14:08.810Z"
   },
   {
    "duration": 42,
    "start_time": "2021-12-02T20:14:08.826Z"
   },
   {
    "duration": 29,
    "start_time": "2021-12-02T20:14:08.871Z"
   },
   {
    "duration": 86,
    "start_time": "2021-12-02T20:14:08.902Z"
   },
   {
    "duration": -20,
    "start_time": "2021-12-02T20:14:09.010Z"
   },
   {
    "duration": -22,
    "start_time": "2021-12-02T20:14:09.014Z"
   },
   {
    "duration": 444,
    "start_time": "2021-12-02T20:14:11.928Z"
   },
   {
    "duration": 85,
    "start_time": "2021-12-02T20:14:27.612Z"
   },
   {
    "duration": 85,
    "start_time": "2021-12-02T20:14:31.153Z"
   },
   {
    "duration": 8,
    "start_time": "2021-12-02T20:14:38.550Z"
   },
   {
    "duration": 99,
    "start_time": "2021-12-02T20:19:04.168Z"
   },
   {
    "duration": 29,
    "start_time": "2021-12-02T20:19:15.007Z"
   },
   {
    "duration": 34,
    "start_time": "2021-12-02T20:21:25.917Z"
   },
   {
    "duration": 36,
    "start_time": "2021-12-02T20:21:35.492Z"
   },
   {
    "duration": 35,
    "start_time": "2021-12-02T20:22:04.623Z"
   },
   {
    "duration": 303,
    "start_time": "2021-12-02T20:22:36.871Z"
   },
   {
    "duration": 36,
    "start_time": "2021-12-02T20:22:50.441Z"
   },
   {
    "duration": 360,
    "start_time": "2021-12-04T18:49:44.244Z"
   },
   {
    "duration": 1158,
    "start_time": "2021-12-04T18:49:51.218Z"
   },
   {
    "duration": 60,
    "start_time": "2021-12-04T18:49:52.378Z"
   },
   {
    "duration": 15,
    "start_time": "2021-12-04T18:49:52.440Z"
   },
   {
    "duration": 8,
    "start_time": "2021-12-04T18:49:52.456Z"
   },
   {
    "duration": 21,
    "start_time": "2021-12-04T18:49:52.466Z"
   },
   {
    "duration": 22,
    "start_time": "2021-12-04T18:49:52.489Z"
   },
   {
    "duration": 20,
    "start_time": "2021-12-04T18:49:52.512Z"
   },
   {
    "duration": 11,
    "start_time": "2021-12-04T18:49:52.535Z"
   },
   {
    "duration": 36,
    "start_time": "2021-12-04T18:49:52.548Z"
   },
   {
    "duration": 6,
    "start_time": "2021-12-04T18:49:52.585Z"
   },
   {
    "duration": 29,
    "start_time": "2021-12-04T18:49:52.593Z"
   },
   {
    "duration": 588,
    "start_time": "2021-12-04T18:49:52.624Z"
   },
   {
    "duration": 13,
    "start_time": "2021-12-04T18:49:53.214Z"
   },
   {
    "duration": 310,
    "start_time": "2021-12-04T18:49:53.229Z"
   },
   {
    "duration": 4,
    "start_time": "2021-12-04T18:49:53.541Z"
   },
   {
    "duration": 272,
    "start_time": "2021-12-04T18:49:53.547Z"
   },
   {
    "duration": 16,
    "start_time": "2021-12-04T18:49:53.820Z"
   },
   {
    "duration": 40,
    "start_time": "2021-12-04T18:49:53.838Z"
   },
   {
    "duration": 22,
    "start_time": "2021-12-04T18:49:53.880Z"
   },
   {
    "duration": 37,
    "start_time": "2021-12-04T18:49:53.904Z"
   },
   {
    "duration": 27,
    "start_time": "2021-12-04T18:49:53.942Z"
   },
   {
    "duration": 46,
    "start_time": "2021-12-04T18:49:53.970Z"
   },
   {
    "duration": 32,
    "start_time": "2021-12-04T18:49:54.020Z"
   },
   {
    "duration": 29,
    "start_time": "2021-12-04T18:49:54.054Z"
   },
   {
    "duration": 41,
    "start_time": "2021-12-04T18:49:54.084Z"
   },
   {
    "duration": 2398,
    "start_time": "2021-12-04T18:49:54.127Z"
   },
   {
    "duration": 4,
    "start_time": "2021-12-04T18:49:56.527Z"
   },
   {
    "duration": 3068,
    "start_time": "2021-12-04T18:49:56.532Z"
   },
   {
    "duration": 5,
    "start_time": "2021-12-04T18:49:59.602Z"
   },
   {
    "duration": 10,
    "start_time": "2021-12-04T18:49:59.609Z"
   },
   {
    "duration": 23,
    "start_time": "2021-12-04T18:49:59.621Z"
   },
   {
    "duration": 24,
    "start_time": "2021-12-04T18:49:59.646Z"
   },
   {
    "duration": 6,
    "start_time": "2021-12-04T18:49:59.672Z"
   },
   {
    "duration": 685,
    "start_time": "2021-12-04T18:49:59.680Z"
   },
   {
    "duration": 7,
    "start_time": "2021-12-04T18:50:00.367Z"
   },
   {
    "duration": 17,
    "start_time": "2021-12-04T18:50:00.376Z"
   },
   {
    "duration": 9,
    "start_time": "2021-12-04T18:50:00.395Z"
   },
   {
    "duration": 10,
    "start_time": "2021-12-04T18:50:00.405Z"
   },
   {
    "duration": 73,
    "start_time": "2021-12-04T18:50:00.417Z"
   },
   {
    "duration": 6,
    "start_time": "2021-12-04T18:50:00.492Z"
   },
   {
    "duration": 12,
    "start_time": "2021-12-04T18:50:00.499Z"
   },
   {
    "duration": 28,
    "start_time": "2021-12-04T18:50:00.512Z"
   },
   {
    "duration": 20,
    "start_time": "2021-12-04T18:50:00.541Z"
   },
   {
    "duration": 17,
    "start_time": "2021-12-04T18:50:00.563Z"
   },
   {
    "duration": 21,
    "start_time": "2021-12-04T18:50:00.581Z"
   },
   {
    "duration": 29,
    "start_time": "2021-12-04T18:50:00.604Z"
   },
   {
    "duration": 5,
    "start_time": "2021-12-04T18:50:00.635Z"
   },
   {
    "duration": 34,
    "start_time": "2021-12-04T18:50:00.641Z"
   },
   {
    "duration": 90,
    "start_time": "2021-12-04T18:51:57.602Z"
   },
   {
    "duration": 6,
    "start_time": "2021-12-04T18:54:00.157Z"
   },
   {
    "duration": 7347,
    "start_time": "2021-12-04T18:54:32.068Z"
   },
   {
    "duration": 25,
    "start_time": "2021-12-04T18:54:58.958Z"
   },
   {
    "duration": 25,
    "start_time": "2021-12-04T18:55:03.443Z"
   },
   {
    "duration": 17,
    "start_time": "2021-12-04T18:55:12.914Z"
   },
   {
    "duration": 16,
    "start_time": "2021-12-04T18:55:26.711Z"
   },
   {
    "duration": 7527,
    "start_time": "2021-12-04T18:55:41.853Z"
   },
   {
    "duration": 25,
    "start_time": "2021-12-04T18:56:09.452Z"
   },
   {
    "duration": 31,
    "start_time": "2021-12-04T18:56:52.261Z"
   },
   {
    "duration": 328,
    "start_time": "2021-12-04T18:57:08.634Z"
   },
   {
    "duration": 9,
    "start_time": "2021-12-04T18:57:11.376Z"
   },
   {
    "duration": 11,
    "start_time": "2021-12-04T18:57:20.472Z"
   },
   {
    "duration": 13,
    "start_time": "2021-12-04T18:57:27.933Z"
   },
   {
    "duration": 274,
    "start_time": "2021-12-04T18:58:48.345Z"
   },
   {
    "duration": 26,
    "start_time": "2021-12-04T18:59:21.575Z"
   },
   {
    "duration": 23,
    "start_time": "2021-12-04T19:04:51.297Z"
   },
   {
    "duration": 25,
    "start_time": "2021-12-04T19:05:48.073Z"
   },
   {
    "duration": 764,
    "start_time": "2021-12-04T19:06:25.866Z"
   },
   {
    "duration": 21,
    "start_time": "2021-12-04T19:07:33.152Z"
   },
   {
    "duration": 20,
    "start_time": "2021-12-04T19:07:45.720Z"
   },
   {
    "duration": 4,
    "start_time": "2021-12-04T19:27:46.684Z"
   },
   {
    "duration": 1070,
    "start_time": "2021-12-04T19:28:10.896Z"
   },
   {
    "duration": 58,
    "start_time": "2021-12-04T19:28:11.967Z"
   },
   {
    "duration": 17,
    "start_time": "2021-12-04T19:28:12.027Z"
   },
   {
    "duration": 3,
    "start_time": "2021-12-04T19:28:12.046Z"
   },
   {
    "duration": 20,
    "start_time": "2021-12-04T19:28:12.051Z"
   },
   {
    "duration": 19,
    "start_time": "2021-12-04T19:28:12.073Z"
   },
   {
    "duration": 11,
    "start_time": "2021-12-04T19:28:12.094Z"
   },
   {
    "duration": 24,
    "start_time": "2021-12-04T19:28:12.108Z"
   },
   {
    "duration": 19,
    "start_time": "2021-12-04T19:28:12.134Z"
   },
   {
    "duration": 5,
    "start_time": "2021-12-04T19:28:12.155Z"
   },
   {
    "duration": 4,
    "start_time": "2021-12-04T19:28:12.162Z"
   },
   {
    "duration": 568,
    "start_time": "2021-12-04T19:28:12.167Z"
   },
   {
    "duration": 14,
    "start_time": "2021-12-04T19:28:12.737Z"
   },
   {
    "duration": 310,
    "start_time": "2021-12-04T19:28:12.753Z"
   },
   {
    "duration": 3,
    "start_time": "2021-12-04T19:28:13.065Z"
   },
   {
    "duration": 252,
    "start_time": "2021-12-04T19:28:13.070Z"
   },
   {
    "duration": 24,
    "start_time": "2021-12-04T19:28:13.324Z"
   },
   {
    "duration": 18,
    "start_time": "2021-12-04T19:28:13.350Z"
   },
   {
    "duration": 16,
    "start_time": "2021-12-04T19:28:13.369Z"
   },
   {
    "duration": 20,
    "start_time": "2021-12-04T19:28:13.387Z"
   },
   {
    "duration": 41,
    "start_time": "2021-12-04T19:28:13.408Z"
   },
   {
    "duration": 11,
    "start_time": "2021-12-04T19:28:13.450Z"
   },
   {
    "duration": 8,
    "start_time": "2021-12-04T19:28:13.465Z"
   },
   {
    "duration": 9,
    "start_time": "2021-12-04T19:28:13.475Z"
   },
   {
    "duration": 8,
    "start_time": "2021-12-04T19:28:13.485Z"
   },
   {
    "duration": 2519,
    "start_time": "2021-12-04T19:28:13.495Z"
   },
   {
    "duration": 3,
    "start_time": "2021-12-04T19:28:16.016Z"
   },
   {
    "duration": 2778,
    "start_time": "2021-12-04T19:28:16.020Z"
   },
   {
    "duration": 5,
    "start_time": "2021-12-04T19:28:18.800Z"
   },
   {
    "duration": 13,
    "start_time": "2021-12-04T19:28:18.806Z"
   },
   {
    "duration": 9,
    "start_time": "2021-12-04T19:28:18.820Z"
   },
   {
    "duration": 44,
    "start_time": "2021-12-04T19:28:18.830Z"
   },
   {
    "duration": 9,
    "start_time": "2021-12-04T19:28:18.876Z"
   },
   {
    "duration": 673,
    "start_time": "2021-12-04T19:28:18.887Z"
   },
   {
    "duration": 8,
    "start_time": "2021-12-04T19:28:19.562Z"
   },
   {
    "duration": 19,
    "start_time": "2021-12-04T19:28:19.571Z"
   },
   {
    "duration": 14,
    "start_time": "2021-12-04T19:28:19.592Z"
   },
   {
    "duration": 4,
    "start_time": "2021-12-04T19:28:19.608Z"
   },
   {
    "duration": 66,
    "start_time": "2021-12-04T19:28:19.614Z"
   },
   {
    "duration": 5,
    "start_time": "2021-12-04T19:28:19.681Z"
   },
   {
    "duration": 5,
    "start_time": "2021-12-04T19:28:19.688Z"
   },
   {
    "duration": 26,
    "start_time": "2021-12-04T19:28:19.695Z"
   },
   {
    "duration": 25,
    "start_time": "2021-12-04T19:28:19.723Z"
   },
   {
    "duration": 12,
    "start_time": "2021-12-04T19:28:19.749Z"
   },
   {
    "duration": 20,
    "start_time": "2021-12-04T19:28:19.762Z"
   },
   {
    "duration": 31,
    "start_time": "2021-12-04T19:28:19.784Z"
   },
   {
    "duration": 5,
    "start_time": "2021-12-04T19:28:19.818Z"
   },
   {
    "duration": 46,
    "start_time": "2021-12-04T19:28:19.825Z"
   },
   {
    "duration": 24,
    "start_time": "2021-12-04T19:28:19.873Z"
   },
   {
    "duration": 34,
    "start_time": "2021-12-04T19:28:19.899Z"
   },
   {
    "duration": 22,
    "start_time": "2021-12-04T19:28:19.935Z"
   },
   {
    "duration": 1198,
    "start_time": "2021-12-04T19:28:26.786Z"
   },
   {
    "duration": 57,
    "start_time": "2021-12-04T19:28:27.986Z"
   },
   {
    "duration": 18,
    "start_time": "2021-12-04T19:28:28.046Z"
   },
   {
    "duration": 37390,
    "start_time": "2021-12-04T19:28:28.066Z"
   },
   {
    "duration": 13,
    "start_time": "2021-12-04T19:29:05.458Z"
   },
   {
    "duration": 19,
    "start_time": "2021-12-04T19:29:05.473Z"
   },
   {
    "duration": 16,
    "start_time": "2021-12-04T19:29:05.494Z"
   },
   {
    "duration": 19,
    "start_time": "2021-12-04T19:29:05.512Z"
   },
   {
    "duration": 31,
    "start_time": "2021-12-04T19:29:05.533Z"
   },
   {
    "duration": 15,
    "start_time": "2021-12-04T19:29:05.566Z"
   },
   {
    "duration": 24,
    "start_time": "2021-12-04T19:29:05.583Z"
   },
   {
    "duration": 518,
    "start_time": "2021-12-04T19:29:05.609Z"
   },
   {
    "duration": 22,
    "start_time": "2021-12-04T19:29:06.128Z"
   },
   {
    "duration": 122,
    "start_time": "2021-12-04T19:29:06.151Z"
   },
   {
    "duration": 3,
    "start_time": "2021-12-04T19:29:06.275Z"
   },
   {
    "duration": 143,
    "start_time": "2021-12-04T19:29:06.280Z"
   },
   {
    "duration": 24,
    "start_time": "2021-12-04T19:29:06.425Z"
   },
   {
    "duration": 19,
    "start_time": "2021-12-04T19:29:06.451Z"
   },
   {
    "duration": 14,
    "start_time": "2021-12-04T19:29:06.472Z"
   },
   {
    "duration": 18,
    "start_time": "2021-12-04T19:29:06.488Z"
   },
   {
    "duration": 11,
    "start_time": "2021-12-04T19:29:06.508Z"
   },
   {
    "duration": 32,
    "start_time": "2021-12-04T19:29:06.520Z"
   },
   {
    "duration": 9,
    "start_time": "2021-12-04T19:29:06.558Z"
   },
   {
    "duration": 7,
    "start_time": "2021-12-04T19:29:06.570Z"
   },
   {
    "duration": 5,
    "start_time": "2021-12-04T19:29:06.579Z"
   },
   {
    "duration": 2652,
    "start_time": "2021-12-04T19:29:06.586Z"
   },
   {
    "duration": 5,
    "start_time": "2021-12-04T19:29:09.240Z"
   },
   {
    "duration": 3037,
    "start_time": "2021-12-04T19:29:09.246Z"
   },
   {
    "duration": 6,
    "start_time": "2021-12-04T19:29:12.285Z"
   },
   {
    "duration": 13,
    "start_time": "2021-12-04T19:29:12.293Z"
   },
   {
    "duration": 34,
    "start_time": "2021-12-04T19:29:12.308Z"
   },
   {
    "duration": 27,
    "start_time": "2021-12-04T19:29:12.344Z"
   },
   {
    "duration": 8,
    "start_time": "2021-12-04T19:29:12.373Z"
   },
   {
    "duration": 494,
    "start_time": "2021-12-04T19:29:12.383Z"
   },
   {
    "duration": 9,
    "start_time": "2021-12-04T19:29:12.879Z"
   },
   {
    "duration": 226,
    "start_time": "2021-12-04T19:29:12.889Z"
   },
   {
    "duration": 66,
    "start_time": "2021-12-04T19:29:13.117Z"
   },
   {
    "duration": 46,
    "start_time": "2021-12-04T19:29:13.185Z"
   },
   {
    "duration": 142,
    "start_time": "2021-12-04T19:29:13.233Z"
   },
   {
    "duration": 17,
    "start_time": "2021-12-04T19:29:13.377Z"
   },
   {
    "duration": 172,
    "start_time": "2021-12-04T19:29:13.397Z"
   },
   {
    "duration": 215,
    "start_time": "2021-12-04T19:29:13.571Z"
   },
   {
    "duration": 33,
    "start_time": "2021-12-04T19:29:13.788Z"
   },
   {
    "duration": 32,
    "start_time": "2021-12-04T19:29:13.824Z"
   },
   {
    "duration": 217,
    "start_time": "2021-12-04T19:29:13.859Z"
   },
   {
    "duration": 348,
    "start_time": "2021-12-04T19:29:14.078Z"
   },
   {
    "duration": 108,
    "start_time": "2021-12-04T19:29:14.428Z"
   },
   {
    "duration": 58,
    "start_time": "2021-12-04T19:29:14.538Z"
   },
   {
    "duration": 150,
    "start_time": "2021-12-04T19:29:14.598Z"
   },
   {
    "duration": 112,
    "start_time": "2021-12-04T19:29:14.750Z"
   },
   {
    "duration": 21,
    "start_time": "2021-12-04T19:29:14.863Z"
   },
   {
    "duration": 5586,
    "start_time": "2021-12-04T19:29:44.273Z"
   },
   {
    "duration": 13,
    "start_time": "2021-12-04T19:29:57.081Z"
   },
   {
    "duration": 11,
    "start_time": "2021-12-04T19:29:59.133Z"
   },
   {
    "duration": 2028,
    "start_time": "2021-12-04T19:30:28.083Z"
   },
   {
    "duration": 82,
    "start_time": "2021-12-04T19:30:30.113Z"
   },
   {
    "duration": 16,
    "start_time": "2021-12-04T19:30:30.197Z"
   },
   {
    "duration": 7860,
    "start_time": "2021-12-04T19:30:30.215Z"
   },
   {
    "duration": 16949,
    "start_time": "2021-12-04T19:30:38.077Z"
   },
   {
    "duration": 12,
    "start_time": "2021-12-04T19:30:55.044Z"
   },
   {
    "duration": 16,
    "start_time": "2021-12-04T19:30:55.058Z"
   },
   {
    "duration": 18,
    "start_time": "2021-12-04T19:30:55.076Z"
   },
   {
    "duration": 63,
    "start_time": "2021-12-04T19:30:55.096Z"
   },
   {
    "duration": 17,
    "start_time": "2021-12-04T19:30:55.161Z"
   },
   {
    "duration": 25,
    "start_time": "2021-12-04T19:30:55.180Z"
   },
   {
    "duration": 488,
    "start_time": "2021-12-04T19:30:55.207Z"
   },
   {
    "duration": 6,
    "start_time": "2021-12-04T19:30:55.697Z"
   },
   {
    "duration": 140,
    "start_time": "2021-12-04T19:30:55.704Z"
   },
   {
    "duration": 4,
    "start_time": "2021-12-04T19:30:55.846Z"
   },
   {
    "duration": 143,
    "start_time": "2021-12-04T19:30:55.852Z"
   },
   {
    "duration": 26,
    "start_time": "2021-12-04T19:30:55.997Z"
   },
   {
    "duration": 39,
    "start_time": "2021-12-04T19:30:56.025Z"
   },
   {
    "duration": 25,
    "start_time": "2021-12-04T19:30:56.066Z"
   },
   {
    "duration": 22,
    "start_time": "2021-12-04T19:30:56.093Z"
   },
   {
    "duration": 34,
    "start_time": "2021-12-04T19:30:56.117Z"
   },
   {
    "duration": 24,
    "start_time": "2021-12-04T19:30:56.154Z"
   },
   {
    "duration": 23,
    "start_time": "2021-12-04T19:30:56.183Z"
   },
   {
    "duration": 18,
    "start_time": "2021-12-04T19:30:56.209Z"
   },
   {
    "duration": 21,
    "start_time": "2021-12-04T19:30:56.229Z"
   },
   {
    "duration": 2494,
    "start_time": "2021-12-04T19:30:56.252Z"
   },
   {
    "duration": 5,
    "start_time": "2021-12-04T19:30:58.748Z"
   },
   {
    "duration": 3378,
    "start_time": "2021-12-04T19:30:58.755Z"
   },
   {
    "duration": 15,
    "start_time": "2021-12-04T19:31:02.135Z"
   },
   {
    "duration": 15,
    "start_time": "2021-12-04T19:31:02.153Z"
   },
   {
    "duration": 10,
    "start_time": "2021-12-04T19:31:02.171Z"
   },
   {
    "duration": 38,
    "start_time": "2021-12-04T19:31:02.183Z"
   },
   {
    "duration": 25,
    "start_time": "2021-12-04T19:31:02.223Z"
   },
   {
    "duration": 669,
    "start_time": "2021-12-04T19:31:02.250Z"
   },
   {
    "duration": 11,
    "start_time": "2021-12-04T19:31:02.921Z"
   },
   {
    "duration": 16,
    "start_time": "2021-12-04T19:31:02.934Z"
   },
   {
    "duration": 8,
    "start_time": "2021-12-04T19:31:02.952Z"
   },
   {
    "duration": 5,
    "start_time": "2021-12-04T19:31:02.962Z"
   },
   {
    "duration": 81,
    "start_time": "2021-12-04T19:31:02.969Z"
   },
   {
    "duration": 5,
    "start_time": "2021-12-04T19:31:03.052Z"
   },
   {
    "duration": 21,
    "start_time": "2021-12-04T19:31:03.058Z"
   },
   {
    "duration": 18,
    "start_time": "2021-12-04T19:31:03.081Z"
   },
   {
    "duration": 11,
    "start_time": "2021-12-04T19:31:03.101Z"
   },
   {
    "duration": 9,
    "start_time": "2021-12-04T19:31:03.114Z"
   },
   {
    "duration": 22,
    "start_time": "2021-12-04T19:31:03.125Z"
   },
   {
    "duration": 21,
    "start_time": "2021-12-04T19:31:03.149Z"
   },
   {
    "duration": 5,
    "start_time": "2021-12-04T19:31:03.172Z"
   },
   {
    "duration": 23,
    "start_time": "2021-12-04T19:31:03.179Z"
   },
   {
    "duration": 43,
    "start_time": "2021-12-04T19:31:03.203Z"
   },
   {
    "duration": 24,
    "start_time": "2021-12-04T19:31:03.248Z"
   },
   {
    "duration": 18,
    "start_time": "2021-12-04T19:31:03.274Z"
   },
   {
    "duration": 603,
    "start_time": "2021-12-04T19:31:59.716Z"
   },
   {
    "duration": 496,
    "start_time": "2021-12-04T19:32:15.865Z"
   },
   {
    "duration": 185,
    "start_time": "2021-12-04T19:32:32.679Z"
   },
   {
    "duration": 7,
    "start_time": "2021-12-04T19:32:48.825Z"
   },
   {
    "duration": 373,
    "start_time": "2021-12-04T19:32:55.011Z"
   },
   {
    "duration": 3,
    "start_time": "2021-12-04T19:47:38.019Z"
   },
   {
    "duration": 84,
    "start_time": "2021-12-04T19:47:38.025Z"
   },
   {
    "duration": 33,
    "start_time": "2021-12-04T19:47:38.112Z"
   },
   {
    "duration": 5674,
    "start_time": "2021-12-04T19:47:38.147Z"
   },
   {
    "duration": 5081,
    "start_time": "2021-12-04T19:47:43.824Z"
   },
   {
    "duration": -32,
    "start_time": "2021-12-04T19:47:48.941Z"
   },
   {
    "duration": -36,
    "start_time": "2021-12-04T19:47:48.946Z"
   },
   {
    "duration": -41,
    "start_time": "2021-12-04T19:47:48.951Z"
   },
   {
    "duration": -47,
    "start_time": "2021-12-04T19:47:48.958Z"
   },
   {
    "duration": -52,
    "start_time": "2021-12-04T19:47:48.964Z"
   },
   {
    "duration": -59,
    "start_time": "2021-12-04T19:47:48.972Z"
   },
   {
    "duration": -63,
    "start_time": "2021-12-04T19:47:48.977Z"
   },
   {
    "duration": -70,
    "start_time": "2021-12-04T19:47:48.985Z"
   },
   {
    "duration": -89,
    "start_time": "2021-12-04T19:47:49.005Z"
   },
   {
    "duration": -93,
    "start_time": "2021-12-04T19:47:49.010Z"
   },
   {
    "duration": -96,
    "start_time": "2021-12-04T19:47:49.014Z"
   },
   {
    "duration": -102,
    "start_time": "2021-12-04T19:47:49.021Z"
   },
   {
    "duration": -106,
    "start_time": "2021-12-04T19:47:49.026Z"
   },
   {
    "duration": -113,
    "start_time": "2021-12-04T19:47:49.033Z"
   },
   {
    "duration": -117,
    "start_time": "2021-12-04T19:47:49.038Z"
   },
   {
    "duration": -120,
    "start_time": "2021-12-04T19:47:49.042Z"
   },
   {
    "duration": -124,
    "start_time": "2021-12-04T19:47:49.047Z"
   },
   {
    "duration": -111,
    "start_time": "2021-12-04T19:47:49.055Z"
   },
   {
    "duration": -116,
    "start_time": "2021-12-04T19:47:49.061Z"
   },
   {
    "duration": -121,
    "start_time": "2021-12-04T19:47:49.067Z"
   },
   {
    "duration": -125,
    "start_time": "2021-12-04T19:47:49.072Z"
   },
   {
    "duration": -130,
    "start_time": "2021-12-04T19:47:49.078Z"
   },
   {
    "duration": -136,
    "start_time": "2021-12-04T19:47:49.085Z"
   },
   {
    "duration": -142,
    "start_time": "2021-12-04T19:47:49.092Z"
   },
   {
    "duration": -146,
    "start_time": "2021-12-04T19:47:49.097Z"
   },
   {
    "duration": -161,
    "start_time": "2021-12-04T19:47:49.113Z"
   },
   {
    "duration": -166,
    "start_time": "2021-12-04T19:47:49.119Z"
   },
   {
    "duration": -171,
    "start_time": "2021-12-04T19:47:49.125Z"
   },
   {
    "duration": -174,
    "start_time": "2021-12-04T19:47:49.129Z"
   },
   {
    "duration": -178,
    "start_time": "2021-12-04T19:47:49.134Z"
   },
   {
    "duration": -182,
    "start_time": "2021-12-04T19:47:49.139Z"
   },
   {
    "duration": -186,
    "start_time": "2021-12-04T19:47:49.144Z"
   },
   {
    "duration": -189,
    "start_time": "2021-12-04T19:47:49.148Z"
   },
   {
    "duration": -195,
    "start_time": "2021-12-04T19:47:49.155Z"
   },
   {
    "duration": -201,
    "start_time": "2021-12-04T19:47:49.162Z"
   },
   {
    "duration": -208,
    "start_time": "2021-12-04T19:47:49.170Z"
   },
   {
    "duration": -213,
    "start_time": "2021-12-04T19:47:49.176Z"
   },
   {
    "duration": -219,
    "start_time": "2021-12-04T19:47:49.183Z"
   },
   {
    "duration": -225,
    "start_time": "2021-12-04T19:47:49.190Z"
   },
   {
    "duration": -269,
    "start_time": "2021-12-04T19:47:49.235Z"
   },
   {
    "duration": -274,
    "start_time": "2021-12-04T19:47:49.241Z"
   },
   {
    "duration": -279,
    "start_time": "2021-12-04T19:47:49.247Z"
   },
   {
    "duration": -290,
    "start_time": "2021-12-04T19:47:49.259Z"
   },
   {
    "duration": -296,
    "start_time": "2021-12-04T19:47:49.265Z"
   },
   {
    "duration": -300,
    "start_time": "2021-12-04T19:47:49.270Z"
   },
   {
    "duration": -307,
    "start_time": "2021-12-04T19:47:49.278Z"
   },
   {
    "duration": 1752,
    "start_time": "2021-12-04T19:47:52.477Z"
   },
   {
    "duration": 105,
    "start_time": "2021-12-04T19:47:54.232Z"
   },
   {
    "duration": 24,
    "start_time": "2021-12-04T19:47:54.340Z"
   },
   {
    "duration": 6855,
    "start_time": "2021-12-04T19:47:54.367Z"
   },
   {
    "duration": 15781,
    "start_time": "2021-12-04T19:48:01.224Z"
   },
   {
    "duration": 37,
    "start_time": "2021-12-04T19:48:17.007Z"
   },
   {
    "duration": 7,
    "start_time": "2021-12-04T19:48:17.045Z"
   },
   {
    "duration": 7,
    "start_time": "2021-12-04T19:48:17.054Z"
   },
   {
    "duration": 16,
    "start_time": "2021-12-04T19:48:17.063Z"
   },
   {
    "duration": 8,
    "start_time": "2021-12-04T19:48:17.080Z"
   },
   {
    "duration": 4,
    "start_time": "2021-12-04T19:48:17.146Z"
   },
   {
    "duration": 436,
    "start_time": "2021-12-04T19:48:17.153Z"
   },
   {
    "duration": 6,
    "start_time": "2021-12-04T19:48:17.591Z"
   },
   {
    "duration": 128,
    "start_time": "2021-12-04T19:48:17.598Z"
   },
   {
    "duration": 4,
    "start_time": "2021-12-04T19:48:17.728Z"
   },
   {
    "duration": 138,
    "start_time": "2021-12-04T19:48:17.733Z"
   },
   {
    "duration": 16,
    "start_time": "2021-12-04T19:48:17.873Z"
   },
   {
    "duration": 16,
    "start_time": "2021-12-04T19:48:17.890Z"
   },
   {
    "duration": 36,
    "start_time": "2021-12-04T19:48:17.908Z"
   },
   {
    "duration": 13,
    "start_time": "2021-12-04T19:48:17.946Z"
   },
   {
    "duration": 23,
    "start_time": "2021-12-04T19:48:17.961Z"
   },
   {
    "duration": 9,
    "start_time": "2021-12-04T19:48:17.986Z"
   },
   {
    "duration": 15,
    "start_time": "2021-12-04T19:48:17.998Z"
   },
   {
    "duration": 14,
    "start_time": "2021-12-04T19:48:18.016Z"
   },
   {
    "duration": 17,
    "start_time": "2021-12-04T19:48:18.032Z"
   },
   {
    "duration": 2456,
    "start_time": "2021-12-04T19:48:18.051Z"
   },
   {
    "duration": 3,
    "start_time": "2021-12-04T19:48:20.509Z"
   },
   {
    "duration": 2983,
    "start_time": "2021-12-04T19:48:20.513Z"
   },
   {
    "duration": 5,
    "start_time": "2021-12-04T19:48:23.498Z"
   },
   {
    "duration": 12,
    "start_time": "2021-12-04T19:48:23.504Z"
   },
   {
    "duration": 4,
    "start_time": "2021-12-04T19:48:23.517Z"
   },
   {
    "duration": 41,
    "start_time": "2021-12-04T19:48:23.523Z"
   },
   {
    "duration": 5,
    "start_time": "2021-12-04T19:48:23.566Z"
   },
   {
    "duration": 514,
    "start_time": "2021-12-04T19:48:23.573Z"
   },
   {
    "duration": 7,
    "start_time": "2021-12-04T19:48:24.089Z"
   },
   {
    "duration": 6,
    "start_time": "2021-12-04T19:48:24.098Z"
   },
   {
    "duration": 7,
    "start_time": "2021-12-04T19:48:24.106Z"
   },
   {
    "duration": 30,
    "start_time": "2021-12-04T19:48:24.114Z"
   },
   {
    "duration": 52,
    "start_time": "2021-12-04T19:48:24.146Z"
   },
   {
    "duration": 5,
    "start_time": "2021-12-04T19:48:24.200Z"
   },
   {
    "duration": 6,
    "start_time": "2021-12-04T19:48:24.206Z"
   },
   {
    "duration": 38,
    "start_time": "2021-12-04T19:48:24.214Z"
   },
   {
    "duration": 11,
    "start_time": "2021-12-04T19:48:24.254Z"
   },
   {
    "duration": 9,
    "start_time": "2021-12-04T19:48:24.266Z"
   },
   {
    "duration": 5,
    "start_time": "2021-12-04T19:48:24.277Z"
   },
   {
    "duration": 22,
    "start_time": "2021-12-04T19:48:24.284Z"
   },
   {
    "duration": 5,
    "start_time": "2021-12-04T19:48:24.307Z"
   },
   {
    "duration": 21,
    "start_time": "2021-12-04T19:48:24.345Z"
   },
   {
    "duration": 11,
    "start_time": "2021-12-04T19:48:24.368Z"
   },
   {
    "duration": 21,
    "start_time": "2021-12-04T19:48:24.380Z"
   },
   {
    "duration": 51,
    "start_time": "2021-12-04T19:48:24.403Z"
   },
   {
    "duration": 762,
    "start_time": "2021-12-04T19:49:07.285Z"
   },
   {
    "duration": 7,
    "start_time": "2021-12-04T19:49:54.763Z"
   },
   {
    "duration": 325,
    "start_time": "2021-12-04T19:49:57.926Z"
   },
   {
    "duration": 362,
    "start_time": "2021-12-04T19:50:02.983Z"
   },
   {
    "duration": 553,
    "start_time": "2021-12-04T19:52:47.165Z"
   },
   {
    "duration": 1242,
    "start_time": "2021-12-05T16:09:50.395Z"
   },
   {
    "duration": 58,
    "start_time": "2021-12-05T16:09:51.639Z"
   },
   {
    "duration": 14,
    "start_time": "2021-12-05T16:09:51.699Z"
   },
   {
    "duration": 40735,
    "start_time": "2021-12-05T16:09:51.715Z"
   },
   {
    "duration": 13,
    "start_time": "2021-12-05T16:10:32.452Z"
   },
   {
    "duration": 10,
    "start_time": "2021-12-05T16:10:32.467Z"
   },
   {
    "duration": 7,
    "start_time": "2021-12-05T16:10:32.478Z"
   },
   {
    "duration": 23,
    "start_time": "2021-12-05T16:10:32.487Z"
   },
   {
    "duration": 17,
    "start_time": "2021-12-05T16:10:32.512Z"
   },
   {
    "duration": 6,
    "start_time": "2021-12-05T16:10:32.531Z"
   },
   {
    "duration": 5,
    "start_time": "2021-12-05T16:10:32.538Z"
   },
   {
    "duration": 828,
    "start_time": "2021-12-05T16:10:32.545Z"
   },
   {
    "duration": 13,
    "start_time": "2021-12-05T16:10:33.374Z"
   },
   {
    "duration": 286,
    "start_time": "2021-12-05T16:10:33.389Z"
   },
   {
    "duration": 3,
    "start_time": "2021-12-05T16:10:33.677Z"
   },
   {
    "duration": 284,
    "start_time": "2021-12-05T16:10:33.682Z"
   },
   {
    "duration": 17,
    "start_time": "2021-12-05T16:10:33.967Z"
   },
   {
    "duration": 31,
    "start_time": "2021-12-05T16:10:33.985Z"
   },
   {
    "duration": 15,
    "start_time": "2021-12-05T16:10:34.018Z"
   },
   {
    "duration": 19,
    "start_time": "2021-12-05T16:10:34.034Z"
   },
   {
    "duration": 11,
    "start_time": "2021-12-05T16:10:34.055Z"
   },
   {
    "duration": 8,
    "start_time": "2021-12-05T16:10:34.068Z"
   },
   {
    "duration": 8,
    "start_time": "2021-12-05T16:10:34.109Z"
   },
   {
    "duration": 6,
    "start_time": "2021-12-05T16:10:34.119Z"
   },
   {
    "duration": 4,
    "start_time": "2021-12-05T16:10:34.126Z"
   },
   {
    "duration": 2455,
    "start_time": "2021-12-05T16:10:34.132Z"
   },
   {
    "duration": 3,
    "start_time": "2021-12-05T16:10:36.589Z"
   },
   {
    "duration": 3040,
    "start_time": "2021-12-05T16:10:36.594Z"
   },
   {
    "duration": 7,
    "start_time": "2021-12-05T16:10:39.636Z"
   },
   {
    "duration": 15,
    "start_time": "2021-12-05T16:10:39.645Z"
   },
   {
    "duration": 4,
    "start_time": "2021-12-05T16:10:39.662Z"
   },
   {
    "duration": 50,
    "start_time": "2021-12-05T16:10:39.668Z"
   },
   {
    "duration": 8,
    "start_time": "2021-12-05T16:10:39.720Z"
   },
   {
    "duration": 858,
    "start_time": "2021-12-05T16:10:39.730Z"
   },
   {
    "duration": 20,
    "start_time": "2021-12-05T16:10:40.590Z"
   },
   {
    "duration": 723,
    "start_time": "2021-12-05T16:10:40.612Z"
   },
   {
    "duration": 8,
    "start_time": "2021-12-05T16:10:41.337Z"
   },
   {
    "duration": 5,
    "start_time": "2021-12-05T16:10:41.346Z"
   },
   {
    "duration": 56,
    "start_time": "2021-12-05T16:10:41.353Z"
   },
   {
    "duration": 5,
    "start_time": "2021-12-05T16:10:41.411Z"
   },
   {
    "duration": 6,
    "start_time": "2021-12-05T16:10:41.417Z"
   },
   {
    "duration": 13,
    "start_time": "2021-12-05T16:10:41.425Z"
   },
   {
    "duration": 11,
    "start_time": "2021-12-05T16:10:41.439Z"
   },
   {
    "duration": 9,
    "start_time": "2021-12-05T16:10:41.451Z"
   },
   {
    "duration": 9,
    "start_time": "2021-12-05T16:10:41.461Z"
   },
   {
    "duration": 53,
    "start_time": "2021-12-05T16:10:41.472Z"
   },
   {
    "duration": 5,
    "start_time": "2021-12-05T16:10:41.527Z"
   },
   {
    "duration": 29,
    "start_time": "2021-12-05T16:10:41.534Z"
   },
   {
    "duration": 42,
    "start_time": "2021-12-05T16:10:41.565Z"
   },
   {
    "duration": 24,
    "start_time": "2021-12-05T16:10:41.609Z"
   },
   {
    "duration": 21,
    "start_time": "2021-12-05T16:10:41.634Z"
   },
   {
    "duration": 1869,
    "start_time": "2021-12-05T16:11:25.193Z"
   },
   {
    "duration": 74,
    "start_time": "2021-12-05T16:11:27.064Z"
   },
   {
    "duration": 16,
    "start_time": "2021-12-05T16:11:27.141Z"
   },
   {
    "duration": 6964,
    "start_time": "2021-12-05T16:11:27.159Z"
   },
   {
    "duration": 15088,
    "start_time": "2021-12-05T16:11:34.124Z"
   },
   {
    "duration": 16,
    "start_time": "2021-12-05T16:11:49.214Z"
   },
   {
    "duration": 7,
    "start_time": "2021-12-05T16:11:49.232Z"
   },
   {
    "duration": 8,
    "start_time": "2021-12-05T16:11:49.243Z"
   },
   {
    "duration": 68,
    "start_time": "2021-12-05T16:11:49.253Z"
   },
   {
    "duration": 6,
    "start_time": "2021-12-05T16:11:49.323Z"
   },
   {
    "duration": 7,
    "start_time": "2021-12-05T16:11:49.331Z"
   },
   {
    "duration": 631,
    "start_time": "2021-12-05T16:11:49.340Z"
   },
   {
    "duration": 7,
    "start_time": "2021-12-05T16:11:49.973Z"
   },
   {
    "duration": 330,
    "start_time": "2021-12-05T16:11:49.982Z"
   },
   {
    "duration": 4,
    "start_time": "2021-12-05T16:11:50.314Z"
   },
   {
    "duration": 324,
    "start_time": "2021-12-05T16:11:50.320Z"
   },
   {
    "duration": 18,
    "start_time": "2021-12-05T16:11:50.646Z"
   },
   {
    "duration": 17,
    "start_time": "2021-12-05T16:11:50.666Z"
   },
   {
    "duration": 37,
    "start_time": "2021-12-05T16:11:50.685Z"
   },
   {
    "duration": 14,
    "start_time": "2021-12-05T16:11:50.724Z"
   },
   {
    "duration": 13,
    "start_time": "2021-12-05T16:11:50.739Z"
   },
   {
    "duration": 9,
    "start_time": "2021-12-05T16:11:50.753Z"
   },
   {
    "duration": 5,
    "start_time": "2021-12-05T16:11:50.766Z"
   },
   {
    "duration": 36,
    "start_time": "2021-12-05T16:11:50.773Z"
   },
   {
    "duration": 7,
    "start_time": "2021-12-05T16:11:50.811Z"
   },
   {
    "duration": 2421,
    "start_time": "2021-12-05T16:11:50.820Z"
   },
   {
    "duration": 3,
    "start_time": "2021-12-05T16:11:53.243Z"
   },
   {
    "duration": 3021,
    "start_time": "2021-12-05T16:11:53.248Z"
   },
   {
    "duration": 6,
    "start_time": "2021-12-05T16:11:56.271Z"
   },
   {
    "duration": 9,
    "start_time": "2021-12-05T16:11:56.278Z"
   },
   {
    "duration": 3,
    "start_time": "2021-12-05T16:11:56.307Z"
   },
   {
    "duration": 25,
    "start_time": "2021-12-05T16:11:56.312Z"
   },
   {
    "duration": 5,
    "start_time": "2021-12-05T16:11:56.338Z"
   },
   {
    "duration": 734,
    "start_time": "2021-12-05T16:11:56.345Z"
   },
   {
    "duration": 7,
    "start_time": "2021-12-05T16:11:57.081Z"
   },
   {
    "duration": 18,
    "start_time": "2021-12-05T16:11:57.089Z"
   },
   {
    "duration": 8,
    "start_time": "2021-12-05T16:11:57.109Z"
   },
   {
    "duration": 5,
    "start_time": "2021-12-05T16:11:57.119Z"
   },
   {
    "duration": 54,
    "start_time": "2021-12-05T16:11:57.126Z"
   },
   {
    "duration": 27,
    "start_time": "2021-12-05T16:11:57.182Z"
   },
   {
    "duration": 5,
    "start_time": "2021-12-05T16:11:57.211Z"
   },
   {
    "duration": 17,
    "start_time": "2021-12-05T16:11:57.218Z"
   },
   {
    "duration": 12,
    "start_time": "2021-12-05T16:11:57.236Z"
   },
   {
    "duration": 8,
    "start_time": "2021-12-05T16:11:57.250Z"
   },
   {
    "duration": 8,
    "start_time": "2021-12-05T16:11:57.260Z"
   },
   {
    "duration": 54,
    "start_time": "2021-12-05T16:11:57.270Z"
   },
   {
    "duration": 4,
    "start_time": "2021-12-05T16:11:57.326Z"
   },
   {
    "duration": 19,
    "start_time": "2021-12-05T16:11:57.332Z"
   },
   {
    "duration": 10,
    "start_time": "2021-12-05T16:11:57.353Z"
   },
   {
    "duration": 51,
    "start_time": "2021-12-05T16:11:57.365Z"
   },
   {
    "duration": 19,
    "start_time": "2021-12-05T16:11:57.417Z"
   },
   {
    "duration": 130,
    "start_time": "2021-12-05T16:17:57.414Z"
   },
   {
    "duration": 121,
    "start_time": "2021-12-05T16:18:00.895Z"
   },
   {
    "duration": 103,
    "start_time": "2021-12-05T16:18:06.558Z"
   },
   {
    "duration": 507,
    "start_time": "2021-12-05T16:22:24.347Z"
   },
   {
    "duration": 397,
    "start_time": "2021-12-05T16:22:45.343Z"
   },
   {
    "duration": 401,
    "start_time": "2021-12-05T16:23:08.944Z"
   },
   {
    "duration": 27,
    "start_time": "2021-12-05T16:23:31.131Z"
   },
   {
    "duration": 22,
    "start_time": "2021-12-05T16:24:07.319Z"
   },
   {
    "duration": 23,
    "start_time": "2021-12-05T16:26:31.422Z"
   },
   {
    "duration": 22,
    "start_time": "2021-12-05T16:26:47.514Z"
   },
   {
    "duration": 23,
    "start_time": "2021-12-05T16:27:14.703Z"
   },
   {
    "duration": 120,
    "start_time": "2021-12-05T16:29:07.229Z"
   },
   {
    "duration": 364,
    "start_time": "2021-12-05T16:29:10.279Z"
   },
   {
    "duration": 18,
    "start_time": "2021-12-05T16:29:30.872Z"
   },
   {
    "duration": 18,
    "start_time": "2021-12-05T16:29:40.124Z"
   },
   {
    "duration": 20,
    "start_time": "2021-12-05T16:30:55.973Z"
   },
   {
    "duration": 21,
    "start_time": "2021-12-05T16:31:00.269Z"
   },
   {
    "duration": 132,
    "start_time": "2021-12-05T16:32:52.849Z"
   },
   {
    "duration": 144,
    "start_time": "2021-12-05T16:37:29.379Z"
   },
   {
    "duration": 4,
    "start_time": "2021-12-05T16:41:22.173Z"
   },
   {
    "duration": 6,
    "start_time": "2021-12-05T16:41:32.453Z"
   },
   {
    "duration": 6,
    "start_time": "2021-12-05T16:41:50.871Z"
   },
   {
    "duration": 116,
    "start_time": "2021-12-05T16:43:17.144Z"
   },
   {
    "duration": 10,
    "start_time": "2021-12-05T16:43:29.982Z"
   },
   {
    "duration": 9,
    "start_time": "2021-12-05T16:43:46.343Z"
   },
   {
    "duration": 15,
    "start_time": "2021-12-05T16:43:53.462Z"
   },
   {
    "duration": 11,
    "start_time": "2021-12-05T16:44:13.290Z"
   },
   {
    "duration": 12,
    "start_time": "2021-12-05T16:44:22.573Z"
   },
   {
    "duration": 17,
    "start_time": "2021-12-05T16:44:32.224Z"
   },
   {
    "duration": 7,
    "start_time": "2021-12-05T16:44:43.284Z"
   },
   {
    "duration": 6,
    "start_time": "2021-12-05T16:44:45.767Z"
   },
   {
    "duration": 14,
    "start_time": "2021-12-05T16:44:47.553Z"
   },
   {
    "duration": 12,
    "start_time": "2021-12-05T16:45:05.088Z"
   },
   {
    "duration": 7,
    "start_time": "2021-12-05T16:45:09.181Z"
   },
   {
    "duration": 12,
    "start_time": "2021-12-05T16:45:11.908Z"
   },
   {
    "duration": 1624,
    "start_time": "2021-12-05T16:45:41.724Z"
   },
   {
    "duration": 76,
    "start_time": "2021-12-05T16:45:43.349Z"
   },
   {
    "duration": 17,
    "start_time": "2021-12-05T16:45:43.427Z"
   },
   {
    "duration": 3,
    "start_time": "2021-12-05T16:45:43.446Z"
   },
   {
    "duration": 5,
    "start_time": "2021-12-05T16:45:43.451Z"
   },
   {
    "duration": 12,
    "start_time": "2021-12-05T16:45:43.457Z"
   },
   {
    "duration": 5,
    "start_time": "2021-12-05T16:45:43.471Z"
   },
   {
    "duration": 33,
    "start_time": "2021-12-05T16:45:43.478Z"
   },
   {
    "duration": 20,
    "start_time": "2021-12-05T16:45:43.513Z"
   },
   {
    "duration": 8,
    "start_time": "2021-12-05T16:45:43.535Z"
   },
   {
    "duration": 3,
    "start_time": "2021-12-05T16:45:43.545Z"
   },
   {
    "duration": 641,
    "start_time": "2021-12-05T16:45:43.550Z"
   },
   {
    "duration": 5,
    "start_time": "2021-12-05T16:45:44.193Z"
   },
   {
    "duration": 331,
    "start_time": "2021-12-05T16:45:44.200Z"
   },
   {
    "duration": 4,
    "start_time": "2021-12-05T16:45:44.533Z"
   },
   {
    "duration": 341,
    "start_time": "2021-12-05T16:45:44.538Z"
   },
   {
    "duration": 6,
    "start_time": "2021-12-05T16:45:44.881Z"
   },
   {
    "duration": 25,
    "start_time": "2021-12-05T16:45:44.888Z"
   },
   {
    "duration": 17,
    "start_time": "2021-12-05T16:45:44.915Z"
   },
   {
    "duration": 19,
    "start_time": "2021-12-05T16:45:44.934Z"
   },
   {
    "duration": 15,
    "start_time": "2021-12-05T16:45:44.955Z"
   },
   {
    "duration": 40,
    "start_time": "2021-12-05T16:45:44.972Z"
   },
   {
    "duration": 11,
    "start_time": "2021-12-05T16:45:45.016Z"
   },
   {
    "duration": 11,
    "start_time": "2021-12-05T16:45:45.029Z"
   },
   {
    "duration": 7,
    "start_time": "2021-12-05T16:45:45.041Z"
   },
   {
    "duration": 10,
    "start_time": "2021-12-05T16:45:45.050Z"
   },
   {
    "duration": 15,
    "start_time": "2021-12-05T16:45:45.062Z"
   },
   {
    "duration": 2493,
    "start_time": "2021-12-05T16:45:45.079Z"
   },
   {
    "duration": 4,
    "start_time": "2021-12-05T16:45:47.574Z"
   },
   {
    "duration": 3078,
    "start_time": "2021-12-05T16:45:47.579Z"
   },
   {
    "duration": 6,
    "start_time": "2021-12-05T16:45:50.659Z"
   },
   {
    "duration": 11,
    "start_time": "2021-12-05T16:45:50.666Z"
   },
   {
    "duration": 4,
    "start_time": "2021-12-05T16:45:50.679Z"
   },
   {
    "duration": 27,
    "start_time": "2021-12-05T16:45:50.706Z"
   },
   {
    "duration": 5,
    "start_time": "2021-12-05T16:45:50.735Z"
   },
   {
    "duration": 752,
    "start_time": "2021-12-05T16:45:50.742Z"
   },
   {
    "duration": 9,
    "start_time": "2021-12-05T16:45:51.497Z"
   },
   {
    "duration": 7,
    "start_time": "2021-12-05T16:45:51.507Z"
   },
   {
    "duration": 7,
    "start_time": "2021-12-05T16:45:51.516Z"
   },
   {
    "duration": 4,
    "start_time": "2021-12-05T16:45:51.525Z"
   },
   {
    "duration": 94,
    "start_time": "2021-12-05T16:45:51.531Z"
   },
   {
    "duration": 5,
    "start_time": "2021-12-05T16:45:51.627Z"
   },
   {
    "duration": 6,
    "start_time": "2021-12-05T16:45:51.633Z"
   },
   {
    "duration": 14,
    "start_time": "2021-12-05T16:45:51.640Z"
   },
   {
    "duration": 11,
    "start_time": "2021-12-05T16:45:51.656Z"
   },
   {
    "duration": 42,
    "start_time": "2021-12-05T16:45:51.669Z"
   },
   {
    "duration": 7,
    "start_time": "2021-12-05T16:45:51.713Z"
   },
   {
    "duration": 627,
    "start_time": "2021-12-05T16:45:51.722Z"
   },
   {
    "duration": 427,
    "start_time": "2021-12-05T16:45:52.351Z"
   },
   {
    "duration": -34,
    "start_time": "2021-12-05T16:45:52.815Z"
   },
   {
    "duration": -37,
    "start_time": "2021-12-05T16:45:52.819Z"
   },
   {
    "duration": -52,
    "start_time": "2021-12-05T16:45:52.835Z"
   },
   {
    "duration": -64,
    "start_time": "2021-12-05T16:45:52.848Z"
   },
   {
    "duration": 22,
    "start_time": "2021-12-05T16:49:20.739Z"
   },
   {
    "duration": 5,
    "start_time": "2021-12-05T16:49:23.313Z"
   },
   {
    "duration": 108,
    "start_time": "2021-12-05T16:49:35.065Z"
   },
   {
    "duration": 116,
    "start_time": "2021-12-05T16:50:18.773Z"
   },
   {
    "duration": 107,
    "start_time": "2021-12-05T16:51:46.682Z"
   },
   {
    "duration": 880,
    "start_time": "2021-12-05T16:51:52.094Z"
   },
   {
    "duration": 106,
    "start_time": "2021-12-05T16:54:09.514Z"
   },
   {
    "duration": 865,
    "start_time": "2021-12-05T16:54:18.041Z"
   },
   {
    "duration": 3,
    "start_time": "2021-12-05T16:54:24.178Z"
   },
   {
    "duration": 3,
    "start_time": "2021-12-05T16:54:27.683Z"
   },
   {
    "duration": 3,
    "start_time": "2021-12-05T16:54:29.886Z"
   },
   {
    "duration": 4,
    "start_time": "2021-12-05T16:54:32.150Z"
   },
   {
    "duration": 3,
    "start_time": "2021-12-05T16:54:35.876Z"
   },
   {
    "duration": 3,
    "start_time": "2021-12-05T16:54:39.846Z"
   },
   {
    "duration": 8,
    "start_time": "2021-12-05T16:55:46.411Z"
   },
   {
    "duration": 328,
    "start_time": "2021-12-05T16:55:53.022Z"
   },
   {
    "duration": 3,
    "start_time": "2021-12-05T16:57:00.067Z"
   },
   {
    "duration": 1610,
    "start_time": "2021-12-05T17:00:58.382Z"
   },
   {
    "duration": 74,
    "start_time": "2021-12-05T17:00:59.994Z"
   },
   {
    "duration": 17,
    "start_time": "2021-12-05T17:01:00.078Z"
   },
   {
    "duration": 9,
    "start_time": "2021-12-05T17:01:00.098Z"
   },
   {
    "duration": 5,
    "start_time": "2021-12-05T17:01:00.109Z"
   },
   {
    "duration": 13,
    "start_time": "2021-12-05T17:01:00.116Z"
   },
   {
    "duration": 7,
    "start_time": "2021-12-05T17:01:00.131Z"
   },
   {
    "duration": 8,
    "start_time": "2021-12-05T17:01:00.142Z"
   },
   {
    "duration": 17,
    "start_time": "2021-12-05T17:01:00.152Z"
   },
   {
    "duration": 37,
    "start_time": "2021-12-05T17:01:00.171Z"
   },
   {
    "duration": 4,
    "start_time": "2021-12-05T17:01:00.210Z"
   },
   {
    "duration": 659,
    "start_time": "2021-12-05T17:01:00.216Z"
   },
   {
    "duration": 6,
    "start_time": "2021-12-05T17:01:00.877Z"
   },
   {
    "duration": 325,
    "start_time": "2021-12-05T17:01:00.885Z"
   },
   {
    "duration": 4,
    "start_time": "2021-12-05T17:01:01.213Z"
   },
   {
    "duration": 350,
    "start_time": "2021-12-05T17:01:01.219Z"
   },
   {
    "duration": 6,
    "start_time": "2021-12-05T17:01:01.571Z"
   },
   {
    "duration": 30,
    "start_time": "2021-12-05T17:01:01.578Z"
   },
   {
    "duration": 19,
    "start_time": "2021-12-05T17:01:01.609Z"
   },
   {
    "duration": 14,
    "start_time": "2021-12-05T17:01:01.630Z"
   },
   {
    "duration": 16,
    "start_time": "2021-12-05T17:01:01.646Z"
   },
   {
    "duration": 9,
    "start_time": "2021-12-05T17:01:01.663Z"
   },
   {
    "duration": 34,
    "start_time": "2021-12-05T17:01:01.677Z"
   },
   {
    "duration": 6,
    "start_time": "2021-12-05T17:01:01.713Z"
   },
   {
    "duration": 24,
    "start_time": "2021-12-05T17:01:01.720Z"
   },
   {
    "duration": 22,
    "start_time": "2021-12-05T17:01:01.746Z"
   },
   {
    "duration": 37,
    "start_time": "2021-12-05T17:01:01.770Z"
   },
   {
    "duration": 5,
    "start_time": "2021-12-05T17:01:01.809Z"
   },
   {
    "duration": 2561,
    "start_time": "2021-12-05T17:01:01.816Z"
   },
   {
    "duration": 3,
    "start_time": "2021-12-05T17:01:04.379Z"
   },
   {
    "duration": 3145,
    "start_time": "2021-12-05T17:01:04.384Z"
   },
   {
    "duration": 5,
    "start_time": "2021-12-05T17:01:07.531Z"
   },
   {
    "duration": 12,
    "start_time": "2021-12-05T17:01:07.538Z"
   },
   {
    "duration": 6,
    "start_time": "2021-12-05T17:01:07.551Z"
   },
   {
    "duration": 26,
    "start_time": "2021-12-05T17:01:07.558Z"
   },
   {
    "duration": 22,
    "start_time": "2021-12-05T17:01:07.586Z"
   },
   {
    "duration": 779,
    "start_time": "2021-12-05T17:01:07.610Z"
   },
   {
    "duration": 7,
    "start_time": "2021-12-05T17:01:08.390Z"
   },
   {
    "duration": 7,
    "start_time": "2021-12-05T17:01:08.406Z"
   },
   {
    "duration": 8,
    "start_time": "2021-12-05T17:01:08.415Z"
   },
   {
    "duration": 10,
    "start_time": "2021-12-05T17:01:08.425Z"
   },
   {
    "duration": 95,
    "start_time": "2021-12-05T17:01:08.437Z"
   },
   {
    "duration": 4,
    "start_time": "2021-12-05T17:01:08.534Z"
   },
   {
    "duration": 6,
    "start_time": "2021-12-05T17:01:08.540Z"
   },
   {
    "duration": 17,
    "start_time": "2021-12-05T17:01:08.548Z"
   },
   {
    "duration": 12,
    "start_time": "2021-12-05T17:01:08.566Z"
   },
   {
    "duration": 11,
    "start_time": "2021-12-05T17:01:08.607Z"
   },
   {
    "duration": 10,
    "start_time": "2021-12-05T17:01:08.620Z"
   },
   {
    "duration": 669,
    "start_time": "2021-12-05T17:01:08.632Z"
   },
   {
    "duration": 4,
    "start_time": "2021-12-05T17:01:09.303Z"
   },
   {
    "duration": 27,
    "start_time": "2021-12-05T17:01:09.309Z"
   },
   {
    "duration": 14,
    "start_time": "2021-12-05T17:01:09.338Z"
   },
   {
    "duration": 22,
    "start_time": "2021-12-05T17:01:09.354Z"
   },
   {
    "duration": 46,
    "start_time": "2021-12-05T17:01:09.378Z"
   },
   {
    "duration": 112,
    "start_time": "2021-12-05T17:02:30.063Z"
   },
   {
    "duration": 1622,
    "start_time": "2021-12-05T17:03:43.303Z"
   },
   {
    "duration": 79,
    "start_time": "2021-12-05T17:03:44.927Z"
   },
   {
    "duration": 16,
    "start_time": "2021-12-05T17:03:45.008Z"
   },
   {
    "duration": 4,
    "start_time": "2021-12-05T17:03:45.026Z"
   },
   {
    "duration": 5,
    "start_time": "2021-12-05T17:03:45.031Z"
   },
   {
    "duration": 12,
    "start_time": "2021-12-05T17:03:45.037Z"
   },
   {
    "duration": 6,
    "start_time": "2021-12-05T17:03:45.051Z"
   },
   {
    "duration": 6,
    "start_time": "2021-12-05T17:03:45.058Z"
   },
   {
    "duration": 46,
    "start_time": "2021-12-05T17:03:45.066Z"
   },
   {
    "duration": 7,
    "start_time": "2021-12-05T17:03:45.115Z"
   },
   {
    "duration": 3,
    "start_time": "2021-12-05T17:03:45.123Z"
   },
   {
    "duration": 637,
    "start_time": "2021-12-05T17:03:45.128Z"
   },
   {
    "duration": 5,
    "start_time": "2021-12-05T17:03:45.767Z"
   },
   {
    "duration": 351,
    "start_time": "2021-12-05T17:03:45.774Z"
   },
   {
    "duration": 4,
    "start_time": "2021-12-05T17:03:46.127Z"
   },
   {
    "duration": 402,
    "start_time": "2021-12-05T17:03:46.133Z"
   },
   {
    "duration": 7,
    "start_time": "2021-12-05T17:03:46.537Z"
   },
   {
    "duration": 13,
    "start_time": "2021-12-05T17:03:46.546Z"
   },
   {
    "duration": 13,
    "start_time": "2021-12-05T17:03:46.561Z"
   },
   {
    "duration": 38,
    "start_time": "2021-12-05T17:03:46.576Z"
   },
   {
    "duration": 7,
    "start_time": "2021-12-05T17:03:46.616Z"
   },
   {
    "duration": 7,
    "start_time": "2021-12-05T17:03:46.625Z"
   },
   {
    "duration": 5,
    "start_time": "2021-12-05T17:03:46.634Z"
   },
   {
    "duration": 21,
    "start_time": "2021-12-05T17:03:46.640Z"
   },
   {
    "duration": 57,
    "start_time": "2021-12-05T17:03:46.663Z"
   },
   {
    "duration": 18,
    "start_time": "2021-12-05T17:03:46.722Z"
   },
   {
    "duration": 7,
    "start_time": "2021-12-05T17:03:46.744Z"
   },
   {
    "duration": 2444,
    "start_time": "2021-12-05T17:03:46.753Z"
   },
   {
    "duration": 8,
    "start_time": "2021-12-05T17:03:49.199Z"
   },
   {
    "duration": 3363,
    "start_time": "2021-12-05T17:03:49.209Z"
   },
   {
    "duration": 5,
    "start_time": "2021-12-05T17:03:52.574Z"
   },
   {
    "duration": 26,
    "start_time": "2021-12-05T17:03:52.582Z"
   },
   {
    "duration": 3,
    "start_time": "2021-12-05T17:03:52.610Z"
   },
   {
    "duration": 26,
    "start_time": "2021-12-05T17:03:52.615Z"
   },
   {
    "duration": 5,
    "start_time": "2021-12-05T17:03:52.644Z"
   },
   {
    "duration": 728,
    "start_time": "2021-12-05T17:03:52.651Z"
   },
   {
    "duration": 8,
    "start_time": "2021-12-05T17:03:53.381Z"
   },
   {
    "duration": 21,
    "start_time": "2021-12-05T17:03:53.391Z"
   },
   {
    "duration": 9,
    "start_time": "2021-12-05T17:03:53.414Z"
   },
   {
    "duration": 7,
    "start_time": "2021-12-05T17:03:53.424Z"
   },
   {
    "duration": 101,
    "start_time": "2021-12-05T17:03:53.433Z"
   },
   {
    "duration": 5,
    "start_time": "2021-12-05T17:03:53.536Z"
   },
   {
    "duration": 5,
    "start_time": "2021-12-05T17:03:53.543Z"
   },
   {
    "duration": 13,
    "start_time": "2021-12-05T17:03:53.550Z"
   },
   {
    "duration": 45,
    "start_time": "2021-12-05T17:03:53.565Z"
   },
   {
    "duration": 11,
    "start_time": "2021-12-05T17:03:53.612Z"
   },
   {
    "duration": 7,
    "start_time": "2021-12-05T17:03:53.625Z"
   },
   {
    "duration": 649,
    "start_time": "2021-12-05T17:03:53.634Z"
   },
   {
    "duration": 4,
    "start_time": "2021-12-05T17:03:54.285Z"
   },
   {
    "duration": 25,
    "start_time": "2021-12-05T17:03:54.290Z"
   },
   {
    "duration": 13,
    "start_time": "2021-12-05T17:03:54.317Z"
   },
   {
    "duration": 21,
    "start_time": "2021-12-05T17:03:54.332Z"
   },
   {
    "duration": 20,
    "start_time": "2021-12-05T17:03:54.355Z"
   },
   {
    "duration": 550,
    "start_time": "2021-12-05T17:07:41.120Z"
   },
   {
    "duration": 326,
    "start_time": "2021-12-05T17:07:57.291Z"
   },
   {
    "duration": 1610,
    "start_time": "2021-12-05T17:08:13.637Z"
   },
   {
    "duration": 78,
    "start_time": "2021-12-05T17:08:15.249Z"
   },
   {
    "duration": 16,
    "start_time": "2021-12-05T17:08:15.329Z"
   },
   {
    "duration": 2,
    "start_time": "2021-12-05T17:08:15.347Z"
   },
   {
    "duration": 4,
    "start_time": "2021-12-05T17:08:15.351Z"
   },
   {
    "duration": 13,
    "start_time": "2021-12-05T17:08:15.357Z"
   },
   {
    "duration": 6,
    "start_time": "2021-12-05T17:08:15.371Z"
   },
   {
    "duration": 33,
    "start_time": "2021-12-05T17:08:15.379Z"
   },
   {
    "duration": 13,
    "start_time": "2021-12-05T17:08:15.414Z"
   },
   {
    "duration": 5,
    "start_time": "2021-12-05T17:08:15.429Z"
   },
   {
    "duration": 4,
    "start_time": "2021-12-05T17:08:15.436Z"
   },
   {
    "duration": 762,
    "start_time": "2021-12-05T17:08:15.442Z"
   },
   {
    "duration": 5,
    "start_time": "2021-12-05T17:08:16.206Z"
   },
   {
    "duration": 325,
    "start_time": "2021-12-05T17:08:16.213Z"
   },
   {
    "duration": 3,
    "start_time": "2021-12-05T17:08:16.540Z"
   },
   {
    "duration": 348,
    "start_time": "2021-12-05T17:08:16.545Z"
   },
   {
    "duration": 14,
    "start_time": "2021-12-05T17:08:16.895Z"
   },
   {
    "duration": 14,
    "start_time": "2021-12-05T17:08:16.910Z"
   },
   {
    "duration": 13,
    "start_time": "2021-12-05T17:08:16.925Z"
   },
   {
    "duration": 16,
    "start_time": "2021-12-05T17:08:16.939Z"
   },
   {
    "duration": 8,
    "start_time": "2021-12-05T17:08:16.957Z"
   },
   {
    "duration": 6,
    "start_time": "2021-12-05T17:08:16.967Z"
   },
   {
    "duration": 30,
    "start_time": "2021-12-05T17:08:16.977Z"
   },
   {
    "duration": 21,
    "start_time": "2021-12-05T17:08:17.010Z"
   },
   {
    "duration": 26,
    "start_time": "2021-12-05T17:08:17.033Z"
   },
   {
    "duration": 18,
    "start_time": "2021-12-05T17:08:17.061Z"
   },
   {
    "duration": 4,
    "start_time": "2021-12-05T17:08:17.106Z"
   },
   {
    "duration": 2588,
    "start_time": "2021-12-05T17:08:17.112Z"
   },
   {
    "duration": 5,
    "start_time": "2021-12-05T17:08:19.702Z"
   },
   {
    "duration": 3240,
    "start_time": "2021-12-05T17:08:19.708Z"
   },
   {
    "duration": 5,
    "start_time": "2021-12-05T17:08:22.950Z"
   },
   {
    "duration": 20,
    "start_time": "2021-12-05T17:08:22.957Z"
   },
   {
    "duration": 13,
    "start_time": "2021-12-05T17:08:22.979Z"
   },
   {
    "duration": 26,
    "start_time": "2021-12-05T17:08:22.993Z"
   },
   {
    "duration": 8,
    "start_time": "2021-12-05T17:08:23.021Z"
   },
   {
    "duration": 763,
    "start_time": "2021-12-05T17:08:23.031Z"
   },
   {
    "duration": 11,
    "start_time": "2021-12-05T17:08:23.796Z"
   },
   {
    "duration": 8,
    "start_time": "2021-12-05T17:08:23.809Z"
   },
   {
    "duration": 13,
    "start_time": "2021-12-05T17:08:23.819Z"
   },
   {
    "duration": 12,
    "start_time": "2021-12-05T17:08:23.833Z"
   },
   {
    "duration": 80,
    "start_time": "2021-12-05T17:08:23.847Z"
   },
   {
    "duration": 5,
    "start_time": "2021-12-05T17:08:23.929Z"
   },
   {
    "duration": 11,
    "start_time": "2021-12-05T17:08:23.935Z"
   },
   {
    "duration": 30,
    "start_time": "2021-12-05T17:08:23.947Z"
   },
   {
    "duration": 12,
    "start_time": "2021-12-05T17:08:23.979Z"
   },
   {
    "duration": 19,
    "start_time": "2021-12-05T17:08:23.993Z"
   },
   {
    "duration": 13,
    "start_time": "2021-12-05T17:08:24.014Z"
   },
   {
    "duration": 846,
    "start_time": "2021-12-05T17:08:24.029Z"
   },
   {
    "duration": 4,
    "start_time": "2021-12-05T17:08:24.876Z"
   },
   {
    "duration": 33,
    "start_time": "2021-12-05T17:08:24.882Z"
   },
   {
    "duration": 13,
    "start_time": "2021-12-05T17:08:24.917Z"
   },
   {
    "duration": 22,
    "start_time": "2021-12-05T17:08:24.932Z"
   },
   {
    "duration": 19,
    "start_time": "2021-12-05T17:08:24.955Z"
   },
   {
    "duration": 16,
    "start_time": "2021-12-05T17:08:28.625Z"
   },
   {
    "duration": 14,
    "start_time": "2021-12-05T17:08:38.770Z"
   },
   {
    "duration": 15,
    "start_time": "2021-12-05T17:09:57.673Z"
   },
   {
    "duration": 1664,
    "start_time": "2021-12-05T17:10:24.322Z"
   },
   {
    "duration": 76,
    "start_time": "2021-12-05T17:10:25.988Z"
   },
   {
    "duration": 18,
    "start_time": "2021-12-05T17:10:26.066Z"
   },
   {
    "duration": 7024,
    "start_time": "2021-12-05T17:10:26.087Z"
   },
   {
    "duration": 16920,
    "start_time": "2021-12-05T17:10:33.112Z"
   },
   {
    "duration": 11,
    "start_time": "2021-12-05T17:10:50.033Z"
   },
   {
    "duration": 6,
    "start_time": "2021-12-05T17:10:50.045Z"
   },
   {
    "duration": 6,
    "start_time": "2021-12-05T17:10:50.053Z"
   },
   {
    "duration": 13,
    "start_time": "2021-12-05T17:10:50.107Z"
   },
   {
    "duration": 5,
    "start_time": "2021-12-05T17:10:50.122Z"
   },
   {
    "duration": 5,
    "start_time": "2021-12-05T17:10:50.129Z"
   },
   {
    "duration": 667,
    "start_time": "2021-12-05T17:10:50.136Z"
   },
   {
    "duration": 6,
    "start_time": "2021-12-05T17:10:50.805Z"
   },
   {
    "duration": 330,
    "start_time": "2021-12-05T17:10:50.812Z"
   },
   {
    "duration": 4,
    "start_time": "2021-12-05T17:10:51.144Z"
   },
   {
    "duration": 366,
    "start_time": "2021-12-05T17:10:51.151Z"
   },
   {
    "duration": 7,
    "start_time": "2021-12-05T17:10:51.519Z"
   },
   {
    "duration": 13,
    "start_time": "2021-12-05T17:10:51.528Z"
   },
   {
    "duration": 12,
    "start_time": "2021-12-05T17:10:51.543Z"
   },
   {
    "duration": 10,
    "start_time": "2021-12-05T17:10:51.557Z"
   },
   {
    "duration": 39,
    "start_time": "2021-12-05T17:10:51.569Z"
   },
   {
    "duration": 6,
    "start_time": "2021-12-05T17:10:51.610Z"
   },
   {
    "duration": 6,
    "start_time": "2021-12-05T17:10:51.617Z"
   },
   {
    "duration": 19,
    "start_time": "2021-12-05T17:10:51.625Z"
   },
   {
    "duration": 20,
    "start_time": "2021-12-05T17:10:51.646Z"
   },
   {
    "duration": 50,
    "start_time": "2021-12-05T17:10:51.668Z"
   },
   {
    "duration": 7,
    "start_time": "2021-12-05T17:10:51.722Z"
   },
   {
    "duration": 2434,
    "start_time": "2021-12-05T17:10:51.731Z"
   },
   {
    "duration": 3,
    "start_time": "2021-12-05T17:10:54.167Z"
   },
   {
    "duration": 3067,
    "start_time": "2021-12-05T17:10:54.171Z"
   },
   {
    "duration": 6,
    "start_time": "2021-12-05T17:10:57.240Z"
   },
   {
    "duration": 10,
    "start_time": "2021-12-05T17:10:57.248Z"
   },
   {
    "duration": 4,
    "start_time": "2021-12-05T17:10:57.260Z"
   },
   {
    "duration": 54,
    "start_time": "2021-12-05T17:10:57.265Z"
   },
   {
    "duration": 6,
    "start_time": "2021-12-05T17:10:57.321Z"
   },
   {
    "duration": 732,
    "start_time": "2021-12-05T17:10:57.329Z"
   },
   {
    "duration": 7,
    "start_time": "2021-12-05T17:10:58.063Z"
   },
   {
    "duration": 24,
    "start_time": "2021-12-05T17:10:58.072Z"
   },
   {
    "duration": 19,
    "start_time": "2021-12-05T17:10:58.097Z"
   },
   {
    "duration": 32,
    "start_time": "2021-12-05T17:10:58.118Z"
   },
   {
    "duration": 92,
    "start_time": "2021-12-05T17:10:58.152Z"
   },
   {
    "duration": 5,
    "start_time": "2021-12-05T17:10:58.245Z"
   },
   {
    "duration": 26,
    "start_time": "2021-12-05T17:10:58.252Z"
   },
   {
    "duration": 44,
    "start_time": "2021-12-05T17:10:58.280Z"
   },
   {
    "duration": 11,
    "start_time": "2021-12-05T17:10:58.326Z"
   },
   {
    "duration": 32,
    "start_time": "2021-12-05T17:10:58.339Z"
   },
   {
    "duration": 30,
    "start_time": "2021-12-05T17:10:58.373Z"
   },
   {
    "duration": 70,
    "start_time": "2021-12-05T17:10:58.404Z"
   },
   {
    "duration": 4,
    "start_time": "2021-12-05T17:10:58.476Z"
   },
   {
    "duration": 50,
    "start_time": "2021-12-05T17:10:58.481Z"
   },
   {
    "duration": 20,
    "start_time": "2021-12-05T17:10:58.533Z"
   },
   {
    "duration": 31,
    "start_time": "2021-12-05T17:10:58.555Z"
   },
   {
    "duration": 35,
    "start_time": "2021-12-05T17:10:58.588Z"
   },
   {
    "duration": 15,
    "start_time": "2021-12-05T17:18:26.890Z"
   },
   {
    "duration": 1606,
    "start_time": "2021-12-05T17:18:54.907Z"
   },
   {
    "duration": 73,
    "start_time": "2021-12-05T17:18:56.515Z"
   },
   {
    "duration": 17,
    "start_time": "2021-12-05T17:18:56.590Z"
   },
   {
    "duration": 7200,
    "start_time": "2021-12-05T17:18:56.609Z"
   },
   {
    "duration": 16282,
    "start_time": "2021-12-05T17:19:03.811Z"
   },
   {
    "duration": 16,
    "start_time": "2021-12-05T17:19:20.094Z"
   },
   {
    "duration": 6,
    "start_time": "2021-12-05T17:19:20.112Z"
   },
   {
    "duration": 5,
    "start_time": "2021-12-05T17:19:20.120Z"
   },
   {
    "duration": 12,
    "start_time": "2021-12-05T17:19:20.127Z"
   },
   {
    "duration": 4,
    "start_time": "2021-12-05T17:19:20.141Z"
   },
   {
    "duration": 60,
    "start_time": "2021-12-05T17:19:20.146Z"
   },
   {
    "duration": 582,
    "start_time": "2021-12-05T17:19:20.208Z"
   },
   {
    "duration": 15,
    "start_time": "2021-12-05T17:19:20.792Z"
   },
   {
    "duration": 325,
    "start_time": "2021-12-05T17:19:20.808Z"
   },
   {
    "duration": 4,
    "start_time": "2021-12-05T17:19:21.135Z"
   },
   {
    "duration": 378,
    "start_time": "2021-12-05T17:19:21.140Z"
   },
   {
    "duration": 5,
    "start_time": "2021-12-05T17:19:21.520Z"
   },
   {
    "duration": 14,
    "start_time": "2021-12-05T17:19:21.527Z"
   },
   {
    "duration": 14,
    "start_time": "2021-12-05T17:19:21.543Z"
   },
   {
    "duration": 9,
    "start_time": "2021-12-05T17:19:21.559Z"
   },
   {
    "duration": 38,
    "start_time": "2021-12-05T17:19:21.570Z"
   },
   {
    "duration": 5,
    "start_time": "2021-12-05T17:19:21.609Z"
   },
   {
    "duration": 5,
    "start_time": "2021-12-05T17:19:21.617Z"
   },
   {
    "duration": 19,
    "start_time": "2021-12-05T17:19:21.625Z"
   },
   {
    "duration": 20,
    "start_time": "2021-12-05T17:19:21.646Z"
   },
   {
    "duration": 50,
    "start_time": "2021-12-05T17:19:21.668Z"
   },
   {
    "duration": 7,
    "start_time": "2021-12-05T17:19:21.720Z"
   },
   {
    "duration": 2446,
    "start_time": "2021-12-05T17:19:21.729Z"
   },
   {
    "duration": 5,
    "start_time": "2021-12-05T17:19:24.177Z"
   },
   {
    "duration": 2996,
    "start_time": "2021-12-05T17:19:24.183Z"
   },
   {
    "duration": 5,
    "start_time": "2021-12-05T17:19:27.181Z"
   },
   {
    "duration": 22,
    "start_time": "2021-12-05T17:19:27.188Z"
   },
   {
    "duration": 3,
    "start_time": "2021-12-05T17:19:27.212Z"
   },
   {
    "duration": 26,
    "start_time": "2021-12-05T17:19:27.216Z"
   },
   {
    "duration": 5,
    "start_time": "2021-12-05T17:19:27.243Z"
   },
   {
    "duration": 703,
    "start_time": "2021-12-05T17:19:27.250Z"
   },
   {
    "duration": 7,
    "start_time": "2021-12-05T17:19:27.955Z"
   },
   {
    "duration": 6,
    "start_time": "2021-12-05T17:19:27.964Z"
   },
   {
    "duration": 7,
    "start_time": "2021-12-05T17:19:27.972Z"
   },
   {
    "duration": 6,
    "start_time": "2021-12-05T17:19:27.981Z"
   },
   {
    "duration": 81,
    "start_time": "2021-12-05T17:19:27.989Z"
   },
   {
    "duration": 5,
    "start_time": "2021-12-05T17:19:28.071Z"
   },
   {
    "duration": 31,
    "start_time": "2021-12-05T17:19:28.078Z"
   },
   {
    "duration": 12,
    "start_time": "2021-12-05T17:19:28.111Z"
   },
   {
    "duration": 10,
    "start_time": "2021-12-05T17:19:28.125Z"
   },
   {
    "duration": 9,
    "start_time": "2021-12-05T17:19:28.137Z"
   },
   {
    "duration": 7,
    "start_time": "2021-12-05T17:19:28.148Z"
   },
   {
    "duration": 93,
    "start_time": "2021-12-05T17:19:28.157Z"
   },
   {
    "duration": 4,
    "start_time": "2021-12-05T17:19:28.252Z"
   },
   {
    "duration": 24,
    "start_time": "2021-12-05T17:19:28.258Z"
   },
   {
    "duration": 12,
    "start_time": "2021-12-05T17:19:28.307Z"
   },
   {
    "duration": 22,
    "start_time": "2021-12-05T17:19:28.320Z"
   },
   {
    "duration": 17,
    "start_time": "2021-12-05T17:19:28.344Z"
   },
   {
    "duration": 107,
    "start_time": "2021-12-05T17:20:21.457Z"
   },
   {
    "duration": 693,
    "start_time": "2021-12-05T17:20:26.199Z"
   },
   {
    "duration": 548,
    "start_time": "2021-12-05T17:20:36.164Z"
   },
   {
    "duration": 657,
    "start_time": "2021-12-05T17:20:42.058Z"
   },
   {
    "duration": 232,
    "start_time": "2021-12-05T17:20:53.833Z"
   },
   {
    "duration": 273,
    "start_time": "2021-12-05T17:21:05.087Z"
   },
   {
    "duration": 760,
    "start_time": "2021-12-05T17:21:10.330Z"
   },
   {
    "duration": 1564,
    "start_time": "2021-12-05T17:24:52.449Z"
   },
   {
    "duration": 75,
    "start_time": "2021-12-05T17:24:54.015Z"
   },
   {
    "duration": 16,
    "start_time": "2021-12-05T17:24:54.093Z"
   },
   {
    "duration": 6784,
    "start_time": "2021-12-05T17:24:54.112Z"
   },
   {
    "duration": 15655,
    "start_time": "2021-12-05T17:25:00.898Z"
   },
   {
    "duration": 10,
    "start_time": "2021-12-05T17:25:16.555Z"
   },
   {
    "duration": 6,
    "start_time": "2021-12-05T17:25:16.567Z"
   },
   {
    "duration": 6,
    "start_time": "2021-12-05T17:25:16.576Z"
   },
   {
    "duration": 24,
    "start_time": "2021-12-05T17:25:16.584Z"
   },
   {
    "duration": 4,
    "start_time": "2021-12-05T17:25:16.610Z"
   },
   {
    "duration": 5,
    "start_time": "2021-12-05T17:25:16.616Z"
   },
   {
    "duration": 667,
    "start_time": "2021-12-05T17:25:16.623Z"
   },
   {
    "duration": 5,
    "start_time": "2021-12-05T17:25:17.292Z"
   },
   {
    "duration": 317,
    "start_time": "2021-12-05T17:25:17.298Z"
   },
   {
    "duration": 4,
    "start_time": "2021-12-05T17:25:17.616Z"
   },
   {
    "duration": 331,
    "start_time": "2021-12-05T17:25:17.621Z"
   },
   {
    "duration": 5,
    "start_time": "2021-12-05T17:25:17.954Z"
   },
   {
    "duration": 17,
    "start_time": "2021-12-05T17:25:17.961Z"
   },
   {
    "duration": 27,
    "start_time": "2021-12-05T17:25:17.979Z"
   },
   {
    "duration": 10,
    "start_time": "2021-12-05T17:25:18.008Z"
   },
   {
    "duration": 11,
    "start_time": "2021-12-05T17:25:18.020Z"
   },
   {
    "duration": 5,
    "start_time": "2021-12-05T17:25:18.032Z"
   },
   {
    "duration": 5,
    "start_time": "2021-12-05T17:25:18.041Z"
   },
   {
    "duration": 19,
    "start_time": "2021-12-05T17:25:18.048Z"
   },
   {
    "duration": 53,
    "start_time": "2021-12-05T17:25:18.068Z"
   },
   {
    "duration": 17,
    "start_time": "2021-12-05T17:25:18.122Z"
   },
   {
    "duration": 6,
    "start_time": "2021-12-05T17:25:18.141Z"
   },
   {
    "duration": 2444,
    "start_time": "2021-12-05T17:25:18.148Z"
   },
   {
    "duration": 12,
    "start_time": "2021-12-05T17:25:20.595Z"
   },
   {
    "duration": 3054,
    "start_time": "2021-12-05T17:25:20.609Z"
   },
   {
    "duration": 6,
    "start_time": "2021-12-05T17:25:23.665Z"
   },
   {
    "duration": 8,
    "start_time": "2021-12-05T17:25:23.673Z"
   },
   {
    "duration": 24,
    "start_time": "2021-12-05T17:25:23.682Z"
   },
   {
    "duration": 26,
    "start_time": "2021-12-05T17:25:23.708Z"
   },
   {
    "duration": 5,
    "start_time": "2021-12-05T17:25:23.736Z"
   },
   {
    "duration": 737,
    "start_time": "2021-12-05T17:25:23.743Z"
   },
   {
    "duration": 7,
    "start_time": "2021-12-05T17:25:24.481Z"
   },
   {
    "duration": 18,
    "start_time": "2021-12-05T17:25:24.490Z"
   },
   {
    "duration": 8,
    "start_time": "2021-12-05T17:25:24.510Z"
   },
   {
    "duration": 5,
    "start_time": "2021-12-05T17:25:24.519Z"
   },
   {
    "duration": 91,
    "start_time": "2021-12-05T17:25:24.525Z"
   },
   {
    "duration": 5,
    "start_time": "2021-12-05T17:25:24.618Z"
   },
   {
    "duration": 5,
    "start_time": "2021-12-05T17:25:24.625Z"
   },
   {
    "duration": 12,
    "start_time": "2021-12-05T17:25:24.631Z"
   },
   {
    "duration": 11,
    "start_time": "2021-12-05T17:25:24.645Z"
   },
   {
    "duration": 9,
    "start_time": "2021-12-05T17:25:24.658Z"
   },
   {
    "duration": 40,
    "start_time": "2021-12-05T17:25:24.669Z"
   },
   {
    "duration": 59,
    "start_time": "2021-12-05T17:25:24.711Z"
   },
   {
    "duration": 4,
    "start_time": "2021-12-05T17:25:24.772Z"
   },
   {
    "duration": 44,
    "start_time": "2021-12-05T17:25:24.777Z"
   },
   {
    "duration": 12,
    "start_time": "2021-12-05T17:25:24.823Z"
   },
   {
    "duration": 23,
    "start_time": "2021-12-05T17:25:24.837Z"
   },
   {
    "duration": 49,
    "start_time": "2021-12-05T17:25:24.862Z"
   },
   {
    "duration": 1129,
    "start_time": "2021-12-06T05:55:12.197Z"
   },
   {
    "duration": 58,
    "start_time": "2021-12-06T05:55:13.328Z"
   },
   {
    "duration": 15,
    "start_time": "2021-12-06T05:55:13.388Z"
   }
  ],
  "kernelspec": {
   "display_name": "Python 3 (ipykernel)",
   "language": "python",
   "name": "python3"
  },
  "language_info": {
   "codemirror_mode": {
    "name": "ipython",
    "version": 3
   },
   "file_extension": ".py",
   "mimetype": "text/x-python",
   "name": "python",
   "nbconvert_exporter": "python",
   "pygments_lexer": "ipython3",
   "version": "3.10.12"
  },
  "toc": {
   "base_numbering": 1,
   "nav_menu": {},
   "number_sections": true,
   "sideBar": true,
   "skip_h1_title": true,
   "title_cell": "Table of Contents",
   "title_sidebar": "Contents",
   "toc_cell": false,
   "toc_position": {},
   "toc_section_display": true,
   "toc_window_display": false
  }
 },
 "nbformat": 4,
 "nbformat_minor": 2
}
