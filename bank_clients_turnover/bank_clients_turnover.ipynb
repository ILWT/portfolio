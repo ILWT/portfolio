{
 "cells": [
  {
   "cell_type": "markdown",
   "metadata": {
    "toc": true
   },
   "source": [
    "<h1>Содержание<span class=\"tocSkip\"></span></h1>\n",
    "<div class=\"toc\"><ul class=\"toc-item\"><li><span><a href=\"#Подготовка-данных\" data-toc-modified-id=\"Подготовка-данных-1\"><span class=\"toc-item-num\">1&nbsp;&nbsp;</span>Подготовка данных</a></span></li><li><span><a href=\"#Исследование-задачи\" data-toc-modified-id=\"Исследование-задачи-2\"><span class=\"toc-item-num\">2&nbsp;&nbsp;</span>Исследование задачи</a></span></li><li><span><a href=\"#Борьба-с-дисбалансом\" data-toc-modified-id=\"Борьба-с-дисбалансом-3\"><span class=\"toc-item-num\">3&nbsp;&nbsp;</span>Борьба с дисбалансом</a></span><ul class=\"toc-item\"><li><span><a href=\"#Взвешивание-классов\" data-toc-modified-id=\"Взвешивание-классов-3.1\"><span class=\"toc-item-num\">3.1&nbsp;&nbsp;</span>Взвешивание классов</a></span></li><li><span><a href=\"#Upsampling\" data-toc-modified-id=\"Upsampling-3.2\"><span class=\"toc-item-num\">3.2&nbsp;&nbsp;</span>Upsampling</a></span></li><li><span><a href=\"#Downsampling\" data-toc-modified-id=\"Downsampling-3.3\"><span class=\"toc-item-num\">3.3&nbsp;&nbsp;</span>Downsampling</a></span></li></ul></li><li><span><a href=\"#Тестирование-модели\" data-toc-modified-id=\"Тестирование-модели-4\"><span class=\"toc-item-num\">4&nbsp;&nbsp;</span>Тестирование модели</a></span></li><li><span><a href=\"#Вывод\" data-toc-modified-id=\"Вывод-5\"><span class=\"toc-item-num\">5&nbsp;&nbsp;</span>Вывод</a></span></li>"
   ]
  },
  {
   "cell_type": "markdown",
   "metadata": {},
   "source": [
    "# Отток клиентов"
   ]
  },
  {
   "cell_type": "markdown",
   "metadata": {},
   "source": [
    "Из «Бета-Банка» стали уходить клиенты. Каждый месяц. Немного, но заметно. Банковские маркетологи посчитали: сохранять текущих клиентов дешевле, чем привлекать новых.\n",
    "\n",
    "Нужно спрогнозировать, уйдёт клиент из банка в ближайшее время или нет. Нам предоставлены исторические данные о поведении клиентов и расторжении договоров с банком. \n",
    "\n",
    "Задача: построить модель с предельно большим значением *F1*-меры (не менее 0.59 на тестовой выборке).\n",
    "\n",
    "Дополнительно будем измерять *AUC-ROC*, сравнивая её значение с *F1*-мерой.\n",
    "\n",
    "Источник данных: [https://www.kaggle.com/barelydedicated/bank-customer-churn-modeling](https://www.kaggle.com/barelydedicated/bank-customer-churn-modeling)"
   ]
  },
  {
   "cell_type": "markdown",
   "metadata": {},
   "source": [
    "## Подготовка данных"
   ]
  },
  {
   "cell_type": "markdown",
   "metadata": {},
   "source": [
    "Для начала загрузим и изучим данные."
   ]
  },
  {
   "cell_type": "code",
   "execution_count": 1,
   "metadata": {},
   "outputs": [],
   "source": [
    "import pandas as pd\n",
    "import matplotlib.pyplot as plt\n",
    "import numpy as np\n",
    "\n",
    "from sklearn.preprocessing import StandardScaler\n",
    "from sklearn.model_selection import train_test_split\n",
    "from sklearn.metrics import f1_score\n",
    "from sklearn.linear_model import LogisticRegression\n",
    "from sklearn.tree import DecisionTreeClassifier\n",
    "from sklearn.ensemble import RandomForestClassifier\n",
    "from sklearn.utils import shuffle\n",
    "from sklearn.metrics import roc_curve\n",
    "from sklearn.metrics import roc_auc_score\n",
    "from sklearn.metrics import confusion_matrix\n",
    "\n",
    "#настройка формата отображения чисел\n",
    "pd.options.display.float_format = '{:,.2f}'.format"
   ]
  },
  {
   "cell_type": "code",
   "execution_count": 2,
   "metadata": {},
   "outputs": [],
   "source": [
    "data = pd.read_csv('Churn.csv')"
   ]
  },
  {
   "cell_type": "code",
   "execution_count": 3,
   "metadata": {},
   "outputs": [
    {
     "data": {
      "text/html": [
       "<div>\n",
       "<style scoped>\n",
       "    .dataframe tbody tr th:only-of-type {\n",
       "        vertical-align: middle;\n",
       "    }\n",
       "\n",
       "    .dataframe tbody tr th {\n",
       "        vertical-align: top;\n",
       "    }\n",
       "\n",
       "    .dataframe thead th {\n",
       "        text-align: right;\n",
       "    }\n",
       "</style>\n",
       "<table border=\"1\" class=\"dataframe\">\n",
       "  <thead>\n",
       "    <tr style=\"text-align: right;\">\n",
       "      <th></th>\n",
       "      <th>RowNumber</th>\n",
       "      <th>CustomerId</th>\n",
       "      <th>Surname</th>\n",
       "      <th>CreditScore</th>\n",
       "      <th>Geography</th>\n",
       "      <th>Gender</th>\n",
       "      <th>Age</th>\n",
       "      <th>Tenure</th>\n",
       "      <th>Balance</th>\n",
       "      <th>NumOfProducts</th>\n",
       "      <th>HasCrCard</th>\n",
       "      <th>IsActiveMember</th>\n",
       "      <th>EstimatedSalary</th>\n",
       "      <th>Exited</th>\n",
       "    </tr>\n",
       "  </thead>\n",
       "  <tbody>\n",
       "    <tr>\n",
       "      <th>0</th>\n",
       "      <td>1</td>\n",
       "      <td>15634602</td>\n",
       "      <td>Hargrave</td>\n",
       "      <td>619</td>\n",
       "      <td>France</td>\n",
       "      <td>Female</td>\n",
       "      <td>42</td>\n",
       "      <td>2.00</td>\n",
       "      <td>0.00</td>\n",
       "      <td>1</td>\n",
       "      <td>1</td>\n",
       "      <td>1</td>\n",
       "      <td>101,348.88</td>\n",
       "      <td>1</td>\n",
       "    </tr>\n",
       "    <tr>\n",
       "      <th>1</th>\n",
       "      <td>2</td>\n",
       "      <td>15647311</td>\n",
       "      <td>Hill</td>\n",
       "      <td>608</td>\n",
       "      <td>Spain</td>\n",
       "      <td>Female</td>\n",
       "      <td>41</td>\n",
       "      <td>1.00</td>\n",
       "      <td>83,807.86</td>\n",
       "      <td>1</td>\n",
       "      <td>0</td>\n",
       "      <td>1</td>\n",
       "      <td>112,542.58</td>\n",
       "      <td>0</td>\n",
       "    </tr>\n",
       "    <tr>\n",
       "      <th>2</th>\n",
       "      <td>3</td>\n",
       "      <td>15619304</td>\n",
       "      <td>Onio</td>\n",
       "      <td>502</td>\n",
       "      <td>France</td>\n",
       "      <td>Female</td>\n",
       "      <td>42</td>\n",
       "      <td>8.00</td>\n",
       "      <td>159,660.80</td>\n",
       "      <td>3</td>\n",
       "      <td>1</td>\n",
       "      <td>0</td>\n",
       "      <td>113,931.57</td>\n",
       "      <td>1</td>\n",
       "    </tr>\n",
       "    <tr>\n",
       "      <th>3</th>\n",
       "      <td>4</td>\n",
       "      <td>15701354</td>\n",
       "      <td>Boni</td>\n",
       "      <td>699</td>\n",
       "      <td>France</td>\n",
       "      <td>Female</td>\n",
       "      <td>39</td>\n",
       "      <td>1.00</td>\n",
       "      <td>0.00</td>\n",
       "      <td>2</td>\n",
       "      <td>0</td>\n",
       "      <td>0</td>\n",
       "      <td>93,826.63</td>\n",
       "      <td>0</td>\n",
       "    </tr>\n",
       "    <tr>\n",
       "      <th>4</th>\n",
       "      <td>5</td>\n",
       "      <td>15737888</td>\n",
       "      <td>Mitchell</td>\n",
       "      <td>850</td>\n",
       "      <td>Spain</td>\n",
       "      <td>Female</td>\n",
       "      <td>43</td>\n",
       "      <td>2.00</td>\n",
       "      <td>125,510.82</td>\n",
       "      <td>1</td>\n",
       "      <td>1</td>\n",
       "      <td>1</td>\n",
       "      <td>79,084.10</td>\n",
       "      <td>0</td>\n",
       "    </tr>\n",
       "  </tbody>\n",
       "</table>\n",
       "</div>"
      ],
      "text/plain": [
       "   RowNumber  CustomerId   Surname  CreditScore Geography  Gender  Age  \\\n",
       "0          1    15634602  Hargrave          619    France  Female   42   \n",
       "1          2    15647311      Hill          608     Spain  Female   41   \n",
       "2          3    15619304      Onio          502    France  Female   42   \n",
       "3          4    15701354      Boni          699    France  Female   39   \n",
       "4          5    15737888  Mitchell          850     Spain  Female   43   \n",
       "\n",
       "   Tenure    Balance  NumOfProducts  HasCrCard  IsActiveMember  \\\n",
       "0    2.00       0.00              1          1               1   \n",
       "1    1.00  83,807.86              1          0               1   \n",
       "2    8.00 159,660.80              3          1               0   \n",
       "3    1.00       0.00              2          0               0   \n",
       "4    2.00 125,510.82              1          1               1   \n",
       "\n",
       "   EstimatedSalary  Exited  \n",
       "0       101,348.88       1  \n",
       "1       112,542.58       0  \n",
       "2       113,931.57       1  \n",
       "3        93,826.63       0  \n",
       "4        79,084.10       0  "
      ]
     },
     "execution_count": 3,
     "metadata": {},
     "output_type": "execute_result"
    }
   ],
   "source": [
    "data.head()"
   ]
  },
  {
   "cell_type": "code",
   "execution_count": 4,
   "metadata": {
    "scrolled": true
   },
   "outputs": [
    {
     "name": "stdout",
     "output_type": "stream",
     "text": [
      "<class 'pandas.core.frame.DataFrame'>\n",
      "RangeIndex: 10000 entries, 0 to 9999\n",
      "Data columns (total 14 columns):\n",
      " #   Column           Non-Null Count  Dtype  \n",
      "---  ------           --------------  -----  \n",
      " 0   RowNumber        10000 non-null  int64  \n",
      " 1   CustomerId       10000 non-null  int64  \n",
      " 2   Surname          10000 non-null  object \n",
      " 3   CreditScore      10000 non-null  int64  \n",
      " 4   Geography        10000 non-null  object \n",
      " 5   Gender           10000 non-null  object \n",
      " 6   Age              10000 non-null  int64  \n",
      " 7   Tenure           9091 non-null   float64\n",
      " 8   Balance          10000 non-null  float64\n",
      " 9   NumOfProducts    10000 non-null  int64  \n",
      " 10  HasCrCard        10000 non-null  int64  \n",
      " 11  IsActiveMember   10000 non-null  int64  \n",
      " 12  EstimatedSalary  10000 non-null  float64\n",
      " 13  Exited           10000 non-null  int64  \n",
      "dtypes: float64(3), int64(8), object(3)\n",
      "memory usage: 1.1+ MB\n"
     ]
    }
   ],
   "source": [
    "data.info()"
   ]
  },
  {
   "cell_type": "code",
   "execution_count": 5,
   "metadata": {
    "scrolled": true
   },
   "outputs": [
    {
     "data": {
      "text/html": [
       "<div>\n",
       "<style scoped>\n",
       "    .dataframe tbody tr th:only-of-type {\n",
       "        vertical-align: middle;\n",
       "    }\n",
       "\n",
       "    .dataframe tbody tr th {\n",
       "        vertical-align: top;\n",
       "    }\n",
       "\n",
       "    .dataframe thead th {\n",
       "        text-align: right;\n",
       "    }\n",
       "</style>\n",
       "<table border=\"1\" class=\"dataframe\">\n",
       "  <thead>\n",
       "    <tr style=\"text-align: right;\">\n",
       "      <th></th>\n",
       "      <th>RowNumber</th>\n",
       "      <th>CustomerId</th>\n",
       "      <th>CreditScore</th>\n",
       "      <th>Age</th>\n",
       "      <th>Tenure</th>\n",
       "      <th>Balance</th>\n",
       "      <th>NumOfProducts</th>\n",
       "      <th>HasCrCard</th>\n",
       "      <th>IsActiveMember</th>\n",
       "      <th>EstimatedSalary</th>\n",
       "      <th>Exited</th>\n",
       "    </tr>\n",
       "  </thead>\n",
       "  <tbody>\n",
       "    <tr>\n",
       "      <th>count</th>\n",
       "      <td>10,000.00</td>\n",
       "      <td>10,000.00</td>\n",
       "      <td>10,000.00</td>\n",
       "      <td>10,000.00</td>\n",
       "      <td>9,091.00</td>\n",
       "      <td>10,000.00</td>\n",
       "      <td>10,000.00</td>\n",
       "      <td>10,000.00</td>\n",
       "      <td>10,000.00</td>\n",
       "      <td>10,000.00</td>\n",
       "      <td>10,000.00</td>\n",
       "    </tr>\n",
       "    <tr>\n",
       "      <th>mean</th>\n",
       "      <td>5,000.50</td>\n",
       "      <td>15,690,940.57</td>\n",
       "      <td>650.53</td>\n",
       "      <td>38.92</td>\n",
       "      <td>5.00</td>\n",
       "      <td>76,485.89</td>\n",
       "      <td>1.53</td>\n",
       "      <td>0.71</td>\n",
       "      <td>0.52</td>\n",
       "      <td>100,090.24</td>\n",
       "      <td>0.20</td>\n",
       "    </tr>\n",
       "    <tr>\n",
       "      <th>std</th>\n",
       "      <td>2,886.90</td>\n",
       "      <td>71,936.19</td>\n",
       "      <td>96.65</td>\n",
       "      <td>10.49</td>\n",
       "      <td>2.89</td>\n",
       "      <td>62,397.41</td>\n",
       "      <td>0.58</td>\n",
       "      <td>0.46</td>\n",
       "      <td>0.50</td>\n",
       "      <td>57,510.49</td>\n",
       "      <td>0.40</td>\n",
       "    </tr>\n",
       "    <tr>\n",
       "      <th>min</th>\n",
       "      <td>1.00</td>\n",
       "      <td>15,565,701.00</td>\n",
       "      <td>350.00</td>\n",
       "      <td>18.00</td>\n",
       "      <td>0.00</td>\n",
       "      <td>0.00</td>\n",
       "      <td>1.00</td>\n",
       "      <td>0.00</td>\n",
       "      <td>0.00</td>\n",
       "      <td>11.58</td>\n",
       "      <td>0.00</td>\n",
       "    </tr>\n",
       "    <tr>\n",
       "      <th>25%</th>\n",
       "      <td>2,500.75</td>\n",
       "      <td>15,628,528.25</td>\n",
       "      <td>584.00</td>\n",
       "      <td>32.00</td>\n",
       "      <td>2.00</td>\n",
       "      <td>0.00</td>\n",
       "      <td>1.00</td>\n",
       "      <td>0.00</td>\n",
       "      <td>0.00</td>\n",
       "      <td>51,002.11</td>\n",
       "      <td>0.00</td>\n",
       "    </tr>\n",
       "    <tr>\n",
       "      <th>50%</th>\n",
       "      <td>5,000.50</td>\n",
       "      <td>15,690,738.00</td>\n",
       "      <td>652.00</td>\n",
       "      <td>37.00</td>\n",
       "      <td>5.00</td>\n",
       "      <td>97,198.54</td>\n",
       "      <td>1.00</td>\n",
       "      <td>1.00</td>\n",
       "      <td>1.00</td>\n",
       "      <td>100,193.91</td>\n",
       "      <td>0.00</td>\n",
       "    </tr>\n",
       "    <tr>\n",
       "      <th>75%</th>\n",
       "      <td>7,500.25</td>\n",
       "      <td>15,753,233.75</td>\n",
       "      <td>718.00</td>\n",
       "      <td>44.00</td>\n",
       "      <td>7.00</td>\n",
       "      <td>127,644.24</td>\n",
       "      <td>2.00</td>\n",
       "      <td>1.00</td>\n",
       "      <td>1.00</td>\n",
       "      <td>149,388.25</td>\n",
       "      <td>0.00</td>\n",
       "    </tr>\n",
       "    <tr>\n",
       "      <th>max</th>\n",
       "      <td>10,000.00</td>\n",
       "      <td>15,815,690.00</td>\n",
       "      <td>850.00</td>\n",
       "      <td>92.00</td>\n",
       "      <td>10.00</td>\n",
       "      <td>250,898.09</td>\n",
       "      <td>4.00</td>\n",
       "      <td>1.00</td>\n",
       "      <td>1.00</td>\n",
       "      <td>199,992.48</td>\n",
       "      <td>1.00</td>\n",
       "    </tr>\n",
       "  </tbody>\n",
       "</table>\n",
       "</div>"
      ],
      "text/plain": [
       "       RowNumber    CustomerId  CreditScore       Age   Tenure    Balance  \\\n",
       "count  10,000.00     10,000.00    10,000.00 10,000.00 9,091.00  10,000.00   \n",
       "mean    5,000.50 15,690,940.57       650.53     38.92     5.00  76,485.89   \n",
       "std     2,886.90     71,936.19        96.65     10.49     2.89  62,397.41   \n",
       "min         1.00 15,565,701.00       350.00     18.00     0.00       0.00   \n",
       "25%     2,500.75 15,628,528.25       584.00     32.00     2.00       0.00   \n",
       "50%     5,000.50 15,690,738.00       652.00     37.00     5.00  97,198.54   \n",
       "75%     7,500.25 15,753,233.75       718.00     44.00     7.00 127,644.24   \n",
       "max    10,000.00 15,815,690.00       850.00     92.00    10.00 250,898.09   \n",
       "\n",
       "       NumOfProducts  HasCrCard  IsActiveMember  EstimatedSalary    Exited  \n",
       "count      10,000.00  10,000.00       10,000.00        10,000.00 10,000.00  \n",
       "mean            1.53       0.71            0.52       100,090.24      0.20  \n",
       "std             0.58       0.46            0.50        57,510.49      0.40  \n",
       "min             1.00       0.00            0.00            11.58      0.00  \n",
       "25%             1.00       0.00            0.00        51,002.11      0.00  \n",
       "50%             1.00       1.00            1.00       100,193.91      0.00  \n",
       "75%             2.00       1.00            1.00       149,388.25      0.00  \n",
       "max             4.00       1.00            1.00       199,992.48      1.00  "
      ]
     },
     "execution_count": 5,
     "metadata": {},
     "output_type": "execute_result"
    }
   ],
   "source": [
    "data.describe()"
   ]
  },
  {
   "cell_type": "markdown",
   "metadata": {},
   "source": [
    "Т.к. природа пропусков в столбце `Tenure` неизвестна, заполним их случайными значениями в диапазоне от минимального до максимального имеющихся значений, чтобы не повлиять на распределение:"
   ]
  },
  {
   "cell_type": "code",
   "execution_count": 6,
   "metadata": {},
   "outputs": [
    {
     "data": {
      "text/plain": [
       "count   10,000.00\n",
       "mean         4.54\n",
       "std          3.11\n",
       "min          0.00\n",
       "25%          2.00\n",
       "50%          4.00\n",
       "75%          7.00\n",
       "max         10.00\n",
       "Name: Tenure, dtype: float64"
      ]
     },
     "execution_count": 6,
     "metadata": {},
     "output_type": "execute_result"
    }
   ],
   "source": [
    "data['Tenure'] = data['Tenure'].fillna(np.random.randint(data['Tenure'].min(), data['Tenure'].max() + 1))\n",
    "\n",
    "# убедимся, что характеристики распределения существенно не изменились\n",
    "data['Tenure'].describe()"
   ]
  },
  {
   "cell_type": "code",
   "execution_count": 7,
   "metadata": {},
   "outputs": [
    {
     "data": {
      "text/plain": [
       "RowNumber          0\n",
       "CustomerId         0\n",
       "Surname            0\n",
       "CreditScore        0\n",
       "Geography          0\n",
       "Gender             0\n",
       "Age                0\n",
       "Tenure             0\n",
       "Balance            0\n",
       "NumOfProducts      0\n",
       "HasCrCard          0\n",
       "IsActiveMember     0\n",
       "EstimatedSalary    0\n",
       "Exited             0\n",
       "dtype: int64"
      ]
     },
     "execution_count": 7,
     "metadata": {},
     "output_type": "execute_result"
    }
   ],
   "source": [
    "#проверим успешность заполнения пропущенных значений\n",
    "data.isna().sum()"
   ]
  },
  {
   "cell_type": "markdown",
   "metadata": {},
   "source": [
    "Датасет изучен и предобработан (заполнены пропуски в столбце `Tenure`), существенные выбросы не обнаружен. Можно приступать к обучению моделей."
   ]
  },
  {
   "cell_type": "markdown",
   "metadata": {},
   "source": [
    "## Исследование задачи"
   ]
  },
  {
   "cell_type": "markdown",
   "metadata": {},
   "source": [
    "В данном разделе исследуем дисбаланс классов, а также обучим модель линейной регрессии без учета дисбаланса."
   ]
  },
  {
   "cell_type": "code",
   "execution_count": 8,
   "metadata": {},
   "outputs": [
    {
     "name": "stdout",
     "output_type": "stream",
     "text": [
      "Доля клиентов, ушедших из банка: 0.2037\n"
     ]
    }
   ],
   "source": [
    "#посчитаем долю клиентов, ушедших из банка\n",
    "print(\"Доля клиентов, ушедших из банка:\", data['Exited'].mean())"
   ]
  },
  {
   "cell_type": "markdown",
   "metadata": {},
   "source": [
    "Наблюдается несбалансированность классов - доля ушедших клиентов составляет 20.37%."
   ]
  },
  {
   "cell_type": "markdown",
   "metadata": {},
   "source": [
    "Подготовим данные для обучения моделей: закодируем качественные признаки с помощью OHE и стандартизируем количественные признаки."
   ]
  },
  {
   "cell_type": "code",
   "execution_count": 9,
   "metadata": {
    "scrolled": true
   },
   "outputs": [
    {
     "data": {
      "text/html": [
       "<div>\n",
       "<style scoped>\n",
       "    .dataframe tbody tr th:only-of-type {\n",
       "        vertical-align: middle;\n",
       "    }\n",
       "\n",
       "    .dataframe tbody tr th {\n",
       "        vertical-align: top;\n",
       "    }\n",
       "\n",
       "    .dataframe thead th {\n",
       "        text-align: right;\n",
       "    }\n",
       "</style>\n",
       "<table border=\"1\" class=\"dataframe\">\n",
       "  <thead>\n",
       "    <tr style=\"text-align: right;\">\n",
       "      <th></th>\n",
       "      <th>RowNumber</th>\n",
       "      <th>CustomerId</th>\n",
       "      <th>Surname</th>\n",
       "      <th>CreditScore</th>\n",
       "      <th>Geography</th>\n",
       "      <th>Gender</th>\n",
       "      <th>Age</th>\n",
       "      <th>Tenure</th>\n",
       "      <th>Balance</th>\n",
       "      <th>NumOfProducts</th>\n",
       "      <th>HasCrCard</th>\n",
       "      <th>IsActiveMember</th>\n",
       "      <th>EstimatedSalary</th>\n",
       "      <th>Exited</th>\n",
       "    </tr>\n",
       "  </thead>\n",
       "  <tbody>\n",
       "    <tr>\n",
       "      <th>0</th>\n",
       "      <td>1</td>\n",
       "      <td>15634602</td>\n",
       "      <td>Hargrave</td>\n",
       "      <td>619</td>\n",
       "      <td>France</td>\n",
       "      <td>Female</td>\n",
       "      <td>42</td>\n",
       "      <td>2.00</td>\n",
       "      <td>0.00</td>\n",
       "      <td>1</td>\n",
       "      <td>1</td>\n",
       "      <td>1</td>\n",
       "      <td>101,348.88</td>\n",
       "      <td>1</td>\n",
       "    </tr>\n",
       "    <tr>\n",
       "      <th>1</th>\n",
       "      <td>2</td>\n",
       "      <td>15647311</td>\n",
       "      <td>Hill</td>\n",
       "      <td>608</td>\n",
       "      <td>Spain</td>\n",
       "      <td>Female</td>\n",
       "      <td>41</td>\n",
       "      <td>1.00</td>\n",
       "      <td>83,807.86</td>\n",
       "      <td>1</td>\n",
       "      <td>0</td>\n",
       "      <td>1</td>\n",
       "      <td>112,542.58</td>\n",
       "      <td>0</td>\n",
       "    </tr>\n",
       "    <tr>\n",
       "      <th>2</th>\n",
       "      <td>3</td>\n",
       "      <td>15619304</td>\n",
       "      <td>Onio</td>\n",
       "      <td>502</td>\n",
       "      <td>France</td>\n",
       "      <td>Female</td>\n",
       "      <td>42</td>\n",
       "      <td>8.00</td>\n",
       "      <td>159,660.80</td>\n",
       "      <td>3</td>\n",
       "      <td>1</td>\n",
       "      <td>0</td>\n",
       "      <td>113,931.57</td>\n",
       "      <td>1</td>\n",
       "    </tr>\n",
       "    <tr>\n",
       "      <th>3</th>\n",
       "      <td>4</td>\n",
       "      <td>15701354</td>\n",
       "      <td>Boni</td>\n",
       "      <td>699</td>\n",
       "      <td>France</td>\n",
       "      <td>Female</td>\n",
       "      <td>39</td>\n",
       "      <td>1.00</td>\n",
       "      <td>0.00</td>\n",
       "      <td>2</td>\n",
       "      <td>0</td>\n",
       "      <td>0</td>\n",
       "      <td>93,826.63</td>\n",
       "      <td>0</td>\n",
       "    </tr>\n",
       "    <tr>\n",
       "      <th>4</th>\n",
       "      <td>5</td>\n",
       "      <td>15737888</td>\n",
       "      <td>Mitchell</td>\n",
       "      <td>850</td>\n",
       "      <td>Spain</td>\n",
       "      <td>Female</td>\n",
       "      <td>43</td>\n",
       "      <td>2.00</td>\n",
       "      <td>125,510.82</td>\n",
       "      <td>1</td>\n",
       "      <td>1</td>\n",
       "      <td>1</td>\n",
       "      <td>79,084.10</td>\n",
       "      <td>0</td>\n",
       "    </tr>\n",
       "  </tbody>\n",
       "</table>\n",
       "</div>"
      ],
      "text/plain": [
       "   RowNumber  CustomerId   Surname  CreditScore Geography  Gender  Age  \\\n",
       "0          1    15634602  Hargrave          619    France  Female   42   \n",
       "1          2    15647311      Hill          608     Spain  Female   41   \n",
       "2          3    15619304      Onio          502    France  Female   42   \n",
       "3          4    15701354      Boni          699    France  Female   39   \n",
       "4          5    15737888  Mitchell          850     Spain  Female   43   \n",
       "\n",
       "   Tenure    Balance  NumOfProducts  HasCrCard  IsActiveMember  \\\n",
       "0    2.00       0.00              1          1               1   \n",
       "1    1.00  83,807.86              1          0               1   \n",
       "2    8.00 159,660.80              3          1               0   \n",
       "3    1.00       0.00              2          0               0   \n",
       "4    2.00 125,510.82              1          1               1   \n",
       "\n",
       "   EstimatedSalary  Exited  \n",
       "0       101,348.88       1  \n",
       "1       112,542.58       0  \n",
       "2       113,931.57       1  \n",
       "3        93,826.63       0  \n",
       "4        79,084.10       0  "
      ]
     },
     "execution_count": 9,
     "metadata": {},
     "output_type": "execute_result"
    }
   ],
   "source": [
    "data.head()"
   ]
  },
  {
   "cell_type": "markdown",
   "metadata": {},
   "source": [
    "При разделении датасета оставим только информативные признаки."
   ]
  },
  {
   "cell_type": "code",
   "execution_count": 10,
   "metadata": {},
   "outputs": [
    {
     "name": "stdout",
     "output_type": "stream",
     "text": [
      "Размер датасета с фичами: (10000, 10)\n",
      "Размер датасета с целевым признаком: (10000,)\n"
     ]
    }
   ],
   "source": [
    "#разделим датасет на фичи и целевой признак\n",
    "features = data.drop(columns=['RowNumber', 'CustomerId', 'Surname', 'Exited'])\n",
    "target = data['Exited']\n",
    "\n",
    "print(\"Размер датасета с фичами:\", features.shape)\n",
    "print(\"Размер датасета с целевым признаком:\", target.shape)"
   ]
  },
  {
   "cell_type": "code",
   "execution_count": 11,
   "metadata": {},
   "outputs": [],
   "source": [
    "#кодирование качественных признаков методом OHE\n",
    "features_ohe = pd.get_dummies(features, drop_first=True)"
   ]
  },
  {
   "cell_type": "code",
   "execution_count": 12,
   "metadata": {},
   "outputs": [
    {
     "data": {
      "text/html": [
       "<div>\n",
       "<style scoped>\n",
       "    .dataframe tbody tr th:only-of-type {\n",
       "        vertical-align: middle;\n",
       "    }\n",
       "\n",
       "    .dataframe tbody tr th {\n",
       "        vertical-align: top;\n",
       "    }\n",
       "\n",
       "    .dataframe thead th {\n",
       "        text-align: right;\n",
       "    }\n",
       "</style>\n",
       "<table border=\"1\" class=\"dataframe\">\n",
       "  <thead>\n",
       "    <tr style=\"text-align: right;\">\n",
       "      <th></th>\n",
       "      <th>CreditScore</th>\n",
       "      <th>Age</th>\n",
       "      <th>Tenure</th>\n",
       "      <th>Balance</th>\n",
       "      <th>NumOfProducts</th>\n",
       "      <th>HasCrCard</th>\n",
       "      <th>IsActiveMember</th>\n",
       "      <th>EstimatedSalary</th>\n",
       "      <th>Geography_Germany</th>\n",
       "      <th>Geography_Spain</th>\n",
       "      <th>Gender_Male</th>\n",
       "    </tr>\n",
       "  </thead>\n",
       "  <tbody>\n",
       "    <tr>\n",
       "      <th>0</th>\n",
       "      <td>619</td>\n",
       "      <td>42</td>\n",
       "      <td>2.00</td>\n",
       "      <td>0.00</td>\n",
       "      <td>1</td>\n",
       "      <td>1</td>\n",
       "      <td>1</td>\n",
       "      <td>101,348.88</td>\n",
       "      <td>False</td>\n",
       "      <td>False</td>\n",
       "      <td>False</td>\n",
       "    </tr>\n",
       "    <tr>\n",
       "      <th>1</th>\n",
       "      <td>608</td>\n",
       "      <td>41</td>\n",
       "      <td>1.00</td>\n",
       "      <td>83,807.86</td>\n",
       "      <td>1</td>\n",
       "      <td>0</td>\n",
       "      <td>1</td>\n",
       "      <td>112,542.58</td>\n",
       "      <td>False</td>\n",
       "      <td>True</td>\n",
       "      <td>False</td>\n",
       "    </tr>\n",
       "    <tr>\n",
       "      <th>2</th>\n",
       "      <td>502</td>\n",
       "      <td>42</td>\n",
       "      <td>8.00</td>\n",
       "      <td>159,660.80</td>\n",
       "      <td>3</td>\n",
       "      <td>1</td>\n",
       "      <td>0</td>\n",
       "      <td>113,931.57</td>\n",
       "      <td>False</td>\n",
       "      <td>False</td>\n",
       "      <td>False</td>\n",
       "    </tr>\n",
       "    <tr>\n",
       "      <th>3</th>\n",
       "      <td>699</td>\n",
       "      <td>39</td>\n",
       "      <td>1.00</td>\n",
       "      <td>0.00</td>\n",
       "      <td>2</td>\n",
       "      <td>0</td>\n",
       "      <td>0</td>\n",
       "      <td>93,826.63</td>\n",
       "      <td>False</td>\n",
       "      <td>False</td>\n",
       "      <td>False</td>\n",
       "    </tr>\n",
       "    <tr>\n",
       "      <th>4</th>\n",
       "      <td>850</td>\n",
       "      <td>43</td>\n",
       "      <td>2.00</td>\n",
       "      <td>125,510.82</td>\n",
       "      <td>1</td>\n",
       "      <td>1</td>\n",
       "      <td>1</td>\n",
       "      <td>79,084.10</td>\n",
       "      <td>False</td>\n",
       "      <td>True</td>\n",
       "      <td>False</td>\n",
       "    </tr>\n",
       "  </tbody>\n",
       "</table>\n",
       "</div>"
      ],
      "text/plain": [
       "   CreditScore  Age  Tenure    Balance  NumOfProducts  HasCrCard  \\\n",
       "0          619   42    2.00       0.00              1          1   \n",
       "1          608   41    1.00  83,807.86              1          0   \n",
       "2          502   42    8.00 159,660.80              3          1   \n",
       "3          699   39    1.00       0.00              2          0   \n",
       "4          850   43    2.00 125,510.82              1          1   \n",
       "\n",
       "   IsActiveMember  EstimatedSalary  Geography_Germany  Geography_Spain  \\\n",
       "0               1       101,348.88              False            False   \n",
       "1               1       112,542.58              False             True   \n",
       "2               0       113,931.57              False            False   \n",
       "3               0        93,826.63              False            False   \n",
       "4               1        79,084.10              False             True   \n",
       "\n",
       "   Gender_Male  \n",
       "0        False  \n",
       "1        False  \n",
       "2        False  \n",
       "3        False  \n",
       "4        False  "
      ]
     },
     "execution_count": 12,
     "metadata": {},
     "output_type": "execute_result"
    }
   ],
   "source": [
    "features_ohe.head()"
   ]
  },
  {
   "cell_type": "code",
   "execution_count": 13,
   "metadata": {},
   "outputs": [
    {
     "name": "stdout",
     "output_type": "stream",
     "text": [
      "Размер обучающей выборки и целевого признака (6000, 11) (6000,)\n",
      "Размер валидационной выборки и целевого признака (2000, 11) (2000,)\n",
      "Размер тестовой выборки и целевого признака (2000, 11) (2000,)\n"
     ]
    }
   ],
   "source": [
    "#разобьем датасет на выборки (тренировочную, валидационную, тестовую)\n",
    "features_train_unbalanced, features_valid_test, target_train_unbalanced, target_valid_test = train_test_split(\n",
    "    features_ohe, target, random_state = 42, train_size=0.6\n",
    ")\n",
    "\n",
    "features_valid, features_test, target_valid, target_test = train_test_split(\n",
    "    features_valid_test, target_valid_test, random_state = 42, train_size=0.5\n",
    ")\n",
    "\n",
    "print(\"Размер обучающей выборки и целевого признака\", features_train_unbalanced.shape, \n",
    "                                                      target_train_unbalanced.shape)\n",
    "print(\"Размер валидационной выборки и целевого признака\", features_valid.shape, target_valid.shape)\n",
    "print(\"Размер тестовой выборки и целевого признака\", features_test.shape, target_test.shape)"
   ]
  },
  {
   "cell_type": "code",
   "execution_count": 14,
   "metadata": {},
   "outputs": [],
   "source": [
    "#определение числовых признаков, которые необходимо масштабировать\n",
    "numerical = ['CreditScore', 'Age', 'Tenure', 'Balance', 'NumOfProducts',  'EstimatedSalary']"
   ]
  },
  {
   "cell_type": "code",
   "execution_count": 15,
   "metadata": {
    "scrolled": true
   },
   "outputs": [
    {
     "data": {
      "text/html": [
       "<div>\n",
       "<style scoped>\n",
       "    .dataframe tbody tr th:only-of-type {\n",
       "        vertical-align: middle;\n",
       "    }\n",
       "\n",
       "    .dataframe tbody tr th {\n",
       "        vertical-align: top;\n",
       "    }\n",
       "\n",
       "    .dataframe thead th {\n",
       "        text-align: right;\n",
       "    }\n",
       "</style>\n",
       "<table border=\"1\" class=\"dataframe\">\n",
       "  <thead>\n",
       "    <tr style=\"text-align: right;\">\n",
       "      <th></th>\n",
       "      <th>CreditScore</th>\n",
       "      <th>Age</th>\n",
       "      <th>Tenure</th>\n",
       "      <th>Balance</th>\n",
       "      <th>NumOfProducts</th>\n",
       "      <th>EstimatedSalary</th>\n",
       "    </tr>\n",
       "  </thead>\n",
       "  <tbody>\n",
       "    <tr>\n",
       "      <th>count</th>\n",
       "      <td>6,000.00</td>\n",
       "      <td>6,000.00</td>\n",
       "      <td>6,000.00</td>\n",
       "      <td>6,000.00</td>\n",
       "      <td>6,000.00</td>\n",
       "      <td>6,000.00</td>\n",
       "    </tr>\n",
       "    <tr>\n",
       "      <th>mean</th>\n",
       "      <td>0.00</td>\n",
       "      <td>0.00</td>\n",
       "      <td>-0.00</td>\n",
       "      <td>-0.00</td>\n",
       "      <td>-0.00</td>\n",
       "      <td>-0.00</td>\n",
       "    </tr>\n",
       "    <tr>\n",
       "      <th>std</th>\n",
       "      <td>1.00</td>\n",
       "      <td>1.00</td>\n",
       "      <td>1.00</td>\n",
       "      <td>1.00</td>\n",
       "      <td>1.00</td>\n",
       "      <td>1.00</td>\n",
       "    </tr>\n",
       "    <tr>\n",
       "      <th>min</th>\n",
       "      <td>-3.14</td>\n",
       "      <td>-2.00</td>\n",
       "      <td>-1.46</td>\n",
       "      <td>-1.21</td>\n",
       "      <td>-0.91</td>\n",
       "      <td>-1.75</td>\n",
       "    </tr>\n",
       "    <tr>\n",
       "      <th>25%</th>\n",
       "      <td>-0.69</td>\n",
       "      <td>-0.66</td>\n",
       "      <td>-0.81</td>\n",
       "      <td>-1.21</td>\n",
       "      <td>-0.91</td>\n",
       "      <td>-0.85</td>\n",
       "    </tr>\n",
       "    <tr>\n",
       "      <th>50%</th>\n",
       "      <td>0.01</td>\n",
       "      <td>-0.18</td>\n",
       "      <td>-0.17</td>\n",
       "      <td>0.32</td>\n",
       "      <td>-0.91</td>\n",
       "      <td>-0.00</td>\n",
       "    </tr>\n",
       "    <tr>\n",
       "      <th>75%</th>\n",
       "      <td>0.70</td>\n",
       "      <td>0.49</td>\n",
       "      <td>0.80</td>\n",
       "      <td>0.83</td>\n",
       "      <td>0.82</td>\n",
       "      <td>0.86</td>\n",
       "    </tr>\n",
       "    <tr>\n",
       "      <th>max</th>\n",
       "      <td>2.05</td>\n",
       "      <td>5.10</td>\n",
       "      <td>1.76</td>\n",
       "      <td>2.80</td>\n",
       "      <td>4.28</td>\n",
       "      <td>1.71</td>\n",
       "    </tr>\n",
       "  </tbody>\n",
       "</table>\n",
       "</div>"
      ],
      "text/plain": [
       "       CreditScore      Age   Tenure  Balance  NumOfProducts  EstimatedSalary\n",
       "count     6,000.00 6,000.00 6,000.00 6,000.00       6,000.00         6,000.00\n",
       "mean          0.00     0.00    -0.00    -0.00          -0.00            -0.00\n",
       "std           1.00     1.00     1.00     1.00           1.00             1.00\n",
       "min          -3.14    -2.00    -1.46    -1.21          -0.91            -1.75\n",
       "25%          -0.69    -0.66    -0.81    -1.21          -0.91            -0.85\n",
       "50%           0.01    -0.18    -0.17     0.32          -0.91            -0.00\n",
       "75%           0.70     0.49     0.80     0.83           0.82             0.86\n",
       "max           2.05     5.10     1.76     2.80           4.28             1.71"
      ]
     },
     "execution_count": 15,
     "metadata": {},
     "output_type": "execute_result"
    }
   ],
   "source": [
    "#настройка скелера на обучающем датасете\n",
    "scaler = StandardScaler()\n",
    "scaler.fit(features_train_unbalanced[numerical])\n",
    "\n",
    "#игнорирование предупреждения об ошибки при записи масштабированных признаков в исходный датафрейм\n",
    "pd.options.mode.chained_assignment = None\n",
    "\n",
    "#масштабирование количественных признаков в обучающей, валидационной и тестовой выборках\n",
    "features_train_unbalanced[numerical] = scaler.transform(features_train_unbalanced[numerical])\n",
    "features_valid[numerical] = scaler.transform(features_valid[numerical])\n",
    "features_test[numerical] = scaler.transform(features_test[numerical])\n",
    "\n",
    "features_train_unbalanced[numerical].describe()"
   ]
  },
  {
   "cell_type": "markdown",
   "metadata": {},
   "source": [
    "Стандартное отклонение выбранных признаков равно единице, а среднее нулю. Стандартизация выполнена успешно."
   ]
  },
  {
   "cell_type": "markdown",
   "metadata": {},
   "source": [
    "Обучим модель линейной регрессии без учета дисбаланса классов:"
   ]
  },
  {
   "cell_type": "code",
   "execution_count": 16,
   "metadata": {},
   "outputs": [
    {
     "name": "stdout",
     "output_type": "stream",
     "text": [
      "Метрики предсказаний линейной модели, обученной на несбалансированной выборке\n",
      "\n",
      "F1-мера на тренировочной выборке 0.32\n",
      "F1-мера на валидационной выборке 0.3\n",
      "Метрика AUC-ROC на валидационной выборке 0.75\n"
     ]
    }
   ],
   "source": [
    "linear_model = LogisticRegression(solver='lbfgs', random_state=42)\n",
    "linear_model.fit(features_train_unbalanced, target_train_unbalanced)\n",
    "linear_predictions_valid_unbalanced = linear_model.predict(features_valid)\n",
    "linear_predictions_train_unbalanced = linear_model.predict(features_train_unbalanced)\n",
    "\n",
    "f1_valid_unbalanced = f1_score(target_valid, linear_predictions_valid_unbalanced)\n",
    "f1_train_unbalanced = f1_score(target_train_unbalanced, linear_predictions_train_unbalanced)\n",
    "\n",
    "roc_auc_valid_unbalanced = roc_auc_score(target_valid, linear_model.predict_proba(features_valid)[:,1])\n",
    "\n",
    "print(\"Метрики предсказаний линейной модели, обученной на несбалансированной выборке\")\n",
    "print()\n",
    "print(\"F1-мера на тренировочной выборке\", round(f1_train_unbalanced, 2))\n",
    "print(\"F1-мера на валидационной выборке\", round(f1_valid_unbalanced, 2))\n",
    "print(\"Метрика AUC-ROC на валидационной выборке\", round(roc_auc_valid_unbalanced, 2))"
   ]
  },
  {
   "cell_type": "markdown",
   "metadata": {},
   "source": [
    "Мы получили достаточно низкое значение F1-меры с помощью модели, обученной на несбалансированной выборке. Значение метрики ROC-AUC выше, чем у случайной модели (0.5), однако не слишком высокое."
   ]
  },
  {
   "cell_type": "markdown",
   "metadata": {},
   "source": [
    "## Борьба с дисбалансом"
   ]
  },
  {
   "cell_type": "markdown",
   "metadata": {},
   "source": [
    "Для борьбы с дисбалансом классов применим несколько методов: взвешивание классов, upsampling и downsampling."
   ]
  },
  {
   "cell_type": "markdown",
   "metadata": {},
   "source": [
    "Напишем функции для обучения и подбора гиперпараметров различных моделей: логистической регрессии, решающего дерева и случайного леса."
   ]
  },
  {
   "cell_type": "code",
   "execution_count": 17,
   "metadata": {},
   "outputs": [],
   "source": [
    "#функция для обучения модели логистической регрессии\n",
    "def log_regression(features_train, target_train, features_valid, \n",
    "                  target_valid, class_weight, random_state, solver):\n",
    "    \n",
    "    model = LogisticRegression(random_state=random_state, class_weight=class_weight, solver=solver)\n",
    "    model.fit(features_train, target_train)\n",
    "    \n",
    "    predictions_train = model.predict(features_train_unbalanced)\n",
    "    predictions_valid = model.predict(features_valid)\n",
    "    \n",
    "    f1_train = f1_score(target_train_unbalanced, predictions_train)\n",
    "    f1_valid = f1_score(target_valid, predictions_valid)\n",
    "    roc_auc_valid = roc_auc_score(target_valid, model.predict_proba(features_valid)[:,1])\n",
    "    \n",
    "    return f1_train, f1_valid, roc_auc_valid"
   ]
  },
  {
   "cell_type": "code",
   "execution_count": 18,
   "metadata": {},
   "outputs": [],
   "source": [
    "#функция для обучения модели и подбора гиперпараметров решающего дерева\n",
    "\n",
    "def decision_tree_cl(features_train, target_train, features_valid, \n",
    "                  target_valid, class_weight, random_state):\n",
    "    \n",
    "    best_model = None\n",
    "    best_depth = 0\n",
    "    best_f1_valid = 0\n",
    "    \n",
    "    \n",
    "    for depth in range(1, 15):\n",
    "        model = DecisionTreeClassifier(max_depth=depth, random_state=random_state, class_weight=class_weight)\n",
    "        model.fit(features_train, target_train)\n",
    "\n",
    "        predictions_valid = model.predict(features_valid)\n",
    "        \n",
    "        f1_valid = f1_score(target_valid, predictions_valid)\n",
    "        \n",
    "        if f1_valid > best_f1_valid:\n",
    "            best_f1_valid = f1_valid\n",
    "            best_depth = depth\n",
    "            best_model = model\n",
    "\n",
    "            \n",
    "    predictions_train = model.predict(features_train_unbalanced)        \n",
    "    f1_train = f1_score(target_train_unbalanced, predictions_train)\n",
    "    roc_auc_valid = roc_auc_score(target_valid, model.predict_proba(features_valid)[:,1])\n",
    "    \n",
    "    return f1_train, best_f1_valid, best_depth, roc_auc_valid"
   ]
  },
  {
   "cell_type": "code",
   "execution_count": 19,
   "metadata": {},
   "outputs": [],
   "source": [
    "#функция для обучения модели и подбора гиперпараметров случайного леса\n",
    "\n",
    "def random_forest_cl(features_train, target_train, features_valid, \n",
    "                  target_valid, class_weight, random_state):\n",
    "\n",
    "#подбор лучшего значения глубины дерева\n",
    "    best_model = None\n",
    "    best_depth = 0\n",
    "    best_f1_valid = 0\n",
    "    \n",
    "    for depth in range(1, 15):\n",
    "        model = RandomForestClassifier(n_estimators=10, max_depth=depth, random_state=random_state, \n",
    "                                       class_weight=class_weight)\n",
    "        model.fit(features_train, target_train)\n",
    "\n",
    "        predictions_valid = model.predict(features_valid)\n",
    "        \n",
    "        f1_valid = f1_score(target_valid, predictions_valid)\n",
    "        \n",
    "        if f1_valid > best_f1_valid:\n",
    "            best_f1_valid = f1_valid\n",
    "            best_depth = depth\n",
    "            best_model = model\n",
    "    \n",
    "    \n",
    "#подбор лучшего значения количества деревьев   \n",
    "    best_n_estimators = 10\n",
    "    \n",
    "    for n in range(10, 200, 10):\n",
    "        model = RandomForestClassifier(n_estimators=n, max_depth=best_depth, random_state=random_state, \n",
    "                                       class_weight=class_weight)\n",
    "        model.fit(features_train, target_train)\n",
    "\n",
    "        predictions_valid = model.predict(features_valid)\n",
    "        \n",
    "        f1_valid = f1_score(target_valid, predictions_valid)\n",
    "        \n",
    "        if f1_valid > best_f1_valid:\n",
    "            best_f1_valid = f1_valid\n",
    "            best_n_estimators = n\n",
    "            best_model = model\n",
    "            \n",
    "    predictions_train = model.predict(features_train_unbalanced)        \n",
    "    f1_train = f1_score(target_train_unbalanced, predictions_train)\n",
    "    roc_auc_valid = roc_auc_score(target_valid, model.predict_proba(features_valid)[:,1])\n",
    "    \n",
    "    return f1_train, best_f1_valid, best_depth, best_n_estimators, roc_auc_valid"
   ]
  },
  {
   "cell_type": "markdown",
   "metadata": {},
   "source": [
    "### Взвешивание классов"
   ]
  },
  {
   "cell_type": "markdown",
   "metadata": {},
   "source": [
    "Для применения данного метода борьбы с несбалансированностью классов будем обучать модели со значением параметра `class_weight` равным `balanced`."
   ]
  },
  {
   "cell_type": "code",
   "execution_count": 20,
   "metadata": {
    "scrolled": true
   },
   "outputs": [
    {
     "name": "stdout",
     "output_type": "stream",
     "text": [
      "Метрики предсказаний линейной модели, обученной с взвешиванием классов\n",
      "\n",
      "F-1 мера на тренировочной выборке 0.5\n",
      "F-1 мера на валидационной выборке 0.46\n",
      "Метрика AUC-ROC на валидационной выборке 0.75\n"
     ]
    }
   ],
   "source": [
    "#логистическая регрессия\n",
    "f1_train_LR_balanced, f1_valid_LR_balanced, roc_auc_valid_LR_balanced = log_regression(\n",
    "    features_train_unbalanced, target_train_unbalanced, features_valid, target_valid, \n",
    "    class_weight='balanced', random_state=42, solver='lbfgs'\n",
    ")\n",
    "\n",
    "print(\"Метрики предсказаний линейной модели, обученной с взвешиванием классов\")\n",
    "print()\n",
    "print(\"F-1 мера на тренировочной выборке\", round(f1_train_LR_balanced, 2))\n",
    "print(\"F-1 мера на валидационной выборке\", round(f1_valid_LR_balanced, 2))\n",
    "print(\"Метрика AUC-ROC на валидационной выборке\", round(roc_auc_valid_LR_balanced, 2))"
   ]
  },
  {
   "cell_type": "code",
   "execution_count": 21,
   "metadata": {},
   "outputs": [
    {
     "name": "stdout",
     "output_type": "stream",
     "text": [
      "Метрики предсказаний модели решающего дерева, обученной с взвешиванием классов\n",
      "\n",
      "F-1 мера на тренировочной выборке 0.89\n",
      "F-1 мера на валидационной выборке 0.53\n",
      "Глубина дерева в лучшей модели: 7\n",
      "Метрика AUC-ROC на валидационной выборке 0.69\n"
     ]
    }
   ],
   "source": [
    "#решающее дерево\n",
    "\n",
    "f1_train_DT_balanced, f1_valid_DT_balanced, best_depth, roc_auc_valid_DT_balanced = decision_tree_cl(\n",
    "    features_train_unbalanced, target_train_unbalanced, features_valid, target_valid,\n",
    "    class_weight='balanced', random_state=42)\n",
    "\n",
    "print(\"Метрики предсказаний модели решающего дерева, обученной с взвешиванием классов\")\n",
    "print()\n",
    "print(\"F-1 мера на тренировочной выборке\", round(f1_train_DT_balanced, 2))\n",
    "print(\"F-1 мера на валидационной выборке\", round(f1_valid_DT_balanced, 2))\n",
    "print(\"Глубина дерева в лучшей модели:\", best_depth)\n",
    "print(\"Метрика AUC-ROC на валидационной выборке\", round(roc_auc_valid_DT_balanced, 2))"
   ]
  },
  {
   "cell_type": "code",
   "execution_count": 22,
   "metadata": {},
   "outputs": [
    {
     "name": "stdout",
     "output_type": "stream",
     "text": [
      "Метрики предсказаний модели случайного леса, обученной с взвешиванием классов\n",
      "\n",
      "F-1 мера на тренировочной выборке 0.98\n",
      "F-1 мера на валидационной выборке 0.58\n",
      "Глубина дерева в лучшей модели: 14\n",
      "Количество деревьев в лучшей модели: 160\n",
      "Метрика AUC-ROC на валидационной выборке 0.84\n"
     ]
    }
   ],
   "source": [
    "#случайный лес\n",
    "\n",
    "f1_train_RF_balanced, f1_valid_RF_balanced, best_depth, best_n_estimators, roc_auc_valid_RF_balanced = (\n",
    "    random_forest_cl(features_train_unbalanced, target_train_unbalanced, features_valid, target_valid,\n",
    "                    class_weight='balanced', random_state=42))\n",
    "\n",
    "print(\"Метрики предсказаний модели случайного леса, обученной с взвешиванием классов\")\n",
    "print()\n",
    "print(\"F-1 мера на тренировочной выборке\", round(f1_train_RF_balanced, 2))\n",
    "print(\"F-1 мера на валидационной выборке\", round(f1_valid_RF_balanced, 2))\n",
    "print(\"Глубина дерева в лучшей модели:\", best_depth)\n",
    "print(\"Количество деревьев в лучшей модели:\", best_n_estimators)\n",
    "print(\"Метрика AUC-ROC на валидационной выборке\", round(roc_auc_valid_RF_balanced, 2))"
   ]
  },
  {
   "cell_type": "markdown",
   "metadata": {},
   "source": [
    "При использовании метода взвешивания классов наиболее точной оказалась модель случайного леса с количеством деревьев 160 и глубиной каждого дерева 14, значение F1-меры которой на валидационной выборке оказалось равно 58%, значение метрики ROC-AUC составило 84%."
   ]
  },
  {
   "cell_type": "markdown",
   "metadata": {},
   "source": [
    "### Upsampling"
   ]
  },
  {
   "cell_type": "markdown",
   "metadata": {},
   "source": [
    "Преобразуем тренировочную выборку методом апсэмплинга."
   ]
  },
  {
   "cell_type": "code",
   "execution_count": 23,
   "metadata": {},
   "outputs": [],
   "source": [
    "#напишем функцию для апсэмплинга\n",
    "\n",
    "def upsample(features, target, repeat):\n",
    "    features_zeros = features[target == 0]\n",
    "    features_ones = features[target == 1]\n",
    "    target_zeros = target[target == 0]\n",
    "    target_ones = target[target == 1]\n",
    "    \n",
    "    features_upsampled = pd.concat([features_zeros] + [features_ones] * repeat)\n",
    "    target_upsampled = pd.concat([target_zeros] + [target_ones] * repeat)\n",
    "    \n",
    "    features_upsampled, target_upsampled = shuffle(\n",
    "        features_upsampled, target_upsampled, random_state=42)\n",
    "    \n",
    "    return features_upsampled, target_upsampled"
   ]
  },
  {
   "cell_type": "code",
   "execution_count": 24,
   "metadata": {
    "scrolled": true
   },
   "outputs": [
    {
     "name": "stdout",
     "output_type": "stream",
     "text": [
      "Доля положительных классов в upsampled датасете: 0.5624312431243125\n"
     ]
    }
   ],
   "source": [
    "#определим необходимое количество умножений наименьшего класса на основе \n",
    "#пропорциональности в исходном датасете\n",
    "repeat = round(1 / data['Exited'].mean())\n",
    "\n",
    "#проведем апсэмплинг тренировочной выборки\n",
    "features_train_upsampled, target_train_upsampled = upsample(\n",
    "    features_train_unbalanced, target_train_unbalanced, repeat)\n",
    "\n",
    "#проверим полученные значения\n",
    "print(\"Доля положительных классов в upsampled датасете:\", target_train_upsampled.mean())"
   ]
  },
  {
   "cell_type": "markdown",
   "metadata": {},
   "source": [
    "Обучим модели на upsampled выборке и подберем оптимальные гиперпараметры."
   ]
  },
  {
   "cell_type": "code",
   "execution_count": 25,
   "metadata": {
    "scrolled": true
   },
   "outputs": [
    {
     "name": "stdout",
     "output_type": "stream",
     "text": [
      "Метрики предсказаний линейной модели, обученной на увеличенной выборке\n",
      "\n",
      "F-1 мера на тренировочной выборке 0.49\n",
      "F-1 мера на валидационной выборке 0.45\n",
      "Метрика AUC-ROC на валидационной выборке 0.75\n"
     ]
    }
   ],
   "source": [
    "#логистическая регрессия\n",
    "f1_train_LR_upsampled, f1_valid_LR_upsampled, roc_auc_valid_LR_upsampled = log_regression(\n",
    "    features_train_upsampled, target_train_upsampled, features_valid, target_valid, \n",
    "    class_weight=None, random_state=42, solver='lbfgs'\n",
    ")\n",
    "\n",
    "print(\"Метрики предсказаний линейной модели, обученной на увеличенной выборке\")\n",
    "print()\n",
    "print(\"F-1 мера на тренировочной выборке\", round(f1_train_LR_upsampled, 2))\n",
    "print(\"F-1 мера на валидационной выборке\", round(f1_valid_LR_upsampled, 2))\n",
    "print(\"Метрика AUC-ROC на валидационной выборке\", round(roc_auc_valid_LR_upsampled, 2))"
   ]
  },
  {
   "cell_type": "code",
   "execution_count": 26,
   "metadata": {},
   "outputs": [
    {
     "name": "stdout",
     "output_type": "stream",
     "text": [
      "Метрики предсказаний модели решающего дерева, обученной на увеличенной выборке\n",
      "\n",
      "F-1 мера на тренировочной выборке 0.86\n",
      "F-1 мера на валидационной выборке 0.51\n",
      "Глубина дерева в лучшей модели: 7\n",
      "Метрика AUC-ROC на валидационной выборке 0.7\n"
     ]
    }
   ],
   "source": [
    "#решающее дерево\n",
    "\n",
    "f1_train_DT_upsampled, f1_valid_DT_upsampled, best_depth, roc_auc_valid_DT_upsampled = decision_tree_cl(\n",
    "    features_train_upsampled, target_train_upsampled, features_valid, target_valid,\n",
    "    class_weight=None, random_state=42)\n",
    "\n",
    "print(\"Метрики предсказаний модели решающего дерева, обученной на увеличенной выборке\")\n",
    "print()\n",
    "print(\"F-1 мера на тренировочной выборке\", round(f1_train_DT_upsampled, 2))\n",
    "print(\"F-1 мера на валидационной выборке\", round(f1_valid_DT_upsampled, 2))\n",
    "print(\"Глубина дерева в лучшей модели:\", best_depth)\n",
    "print(\"Метрика AUC-ROC на валидационной выборке\", round(roc_auc_valid_DT_upsampled, 2))"
   ]
  },
  {
   "cell_type": "code",
   "execution_count": 27,
   "metadata": {},
   "outputs": [
    {
     "name": "stdout",
     "output_type": "stream",
     "text": [
      "Метрики предсказаний модели случайного леса, обученной на увеличенной выборке\n",
      "\n",
      "F-1 мера на тренировочной выборке 0.96\n",
      "F-1 мера на валидационной выборке 0.58\n",
      "Глубина дерева в лучшей модели: 14\n",
      "Количество деревьев в лучшей модели: 170\n",
      "Метрика AUC-ROC на валидационной выборке 0.83\n"
     ]
    }
   ],
   "source": [
    "#случайный лес\n",
    "\n",
    "f1_train_RF_upsampled, f1_valid_RF_upsampled, best_depth, best_n_estimators, roc_auc_valid_RF_upsampled = \n",
    "        (random_forest_cl(features_train_upsampled, target_train_upsampled, features_valid, target_valid,\n",
    "                          class_weight=None, random_state=42))\n",
    "\n",
    "print(\"Метрики предсказаний модели случайного леса, обученной на увеличенной выборке\")\n",
    "print()\n",
    "print(\"F-1 мера на тренировочной выборке\", round(f1_train_RF_upsampled, 2))\n",
    "print(\"F-1 мера на валидационной выборке\", round(f1_valid_RF_upsampled, 2))\n",
    "print(\"Глубина дерева в лучшей модели:\", best_depth)\n",
    "print(\"Количество деревьев в лучшей модели:\", best_n_estimators)\n",
    "print(\"Метрика AUC-ROC на валидационной выборке\", round(roc_auc_valid_RF_upsampled, 2))"
   ]
  },
  {
   "cell_type": "markdown",
   "metadata": {},
   "source": [
    "При использовании метода апсэмплинга наиболее точной оказалась модель случайного леса с количеством деревьев 170 и глубиной каждого дерева 14, значение F1-меры которой на валидационной выборке оказалось равно 58%, значение метрики ROC-AUC 83%."
   ]
  },
  {
   "cell_type": "markdown",
   "metadata": {},
   "source": [
    "### Downsampling"
   ]
  },
  {
   "cell_type": "markdown",
   "metadata": {},
   "source": [
    "Преобразуем тренировочную выборку методом даунсэмплинга."
   ]
  },
  {
   "cell_type": "code",
   "execution_count": 28,
   "metadata": {},
   "outputs": [],
   "source": [
    "#напишем функцию для даунсэмплинга\n",
    "\n",
    "def downsample(features, target, fraction):\n",
    "    features_zeros = features[target == 0]\n",
    "    features_ones = features[target == 1]\n",
    "    target_zeros = target[target == 0]\n",
    "    target_ones = target[target == 1]\n",
    "    \n",
    "    features_downsampled = pd.concat(\n",
    "        [features_zeros.sample(frac=fraction, random_state=42)] + [features_ones])\n",
    "    target_downsampled = pd.concat(\n",
    "        [target_zeros.sample(frac=fraction, random_state=42)] + [target_ones])\n",
    "    \n",
    "    features_downsampled, target_downsampled = shuffle(\n",
    "    features_downsampled, target_downsampled, random_state=42)\n",
    "    \n",
    "    return features_downsampled, target_downsampled"
   ]
  },
  {
   "cell_type": "code",
   "execution_count": 29,
   "metadata": {
    "scrolled": true
   },
   "outputs": [
    {
     "name": "stdout",
     "output_type": "stream",
     "text": [
      "Доля положительных классов в downsampled датасете: 0.56\n"
     ]
    }
   ],
   "source": [
    "#определим необходимое количество делений наибольшего класса на основе \n",
    "#пропорциональности в исходном датасете\n",
    "fraction = data['Exited'].mean()\n",
    "\n",
    "#проведем даунсэмплинг тренировочной выборки\n",
    "features_train_downsampled, target_train_downsampled = downsample(\n",
    "    features_train_unbalanced, target_train_unbalanced, fraction)\n",
    "\n",
    "#проверим полученные значения\n",
    "print(\"Доля положительных классов в downsampled датасете:\", round(target_train_downsampled.mean(), 2))"
   ]
  },
  {
   "cell_type": "markdown",
   "metadata": {},
   "source": [
    "Обучим модели на downsampled выборке и подберем оптимальные гиперпараметры."
   ]
  },
  {
   "cell_type": "code",
   "execution_count": 30,
   "metadata": {
    "scrolled": true
   },
   "outputs": [
    {
     "name": "stdout",
     "output_type": "stream",
     "text": [
      "Метрики предсказаний линейной модели, обученной на уменьшенной выборке\n",
      "\n",
      "F-1 мера на тренировочной выборке 0.49\n",
      "F-1 мера на валидационной выборке 0.44\n",
      "Метрика AUC-ROC на валидационной выборке 0.75\n"
     ]
    }
   ],
   "source": [
    "#логистическая регрессия\n",
    "f1_train_LR_downsampled, f1_valid_LR_downsampled, roc_auc_valid_LR_downsampled = log_regression(\n",
    "    features_train_downsampled, target_train_downsampled, features_valid, target_valid, \n",
    "    class_weight=None, random_state=42, solver='lbfgs'\n",
    ")\n",
    "\n",
    "print(\"Метрики предсказаний линейной модели, обученной на уменьшенной выборке\")\n",
    "print()\n",
    "print(\"F-1 мера на тренировочной выборке\", round(f1_train_LR_downsampled, 2))\n",
    "print(\"F-1 мера на валидационной выборке\", round(f1_valid_LR_downsampled, 2))\n",
    "print(\"Метрика AUC-ROC на валидационной выборке\", round(roc_auc_valid_LR_downsampled, 2))"
   ]
  },
  {
   "cell_type": "code",
   "execution_count": 31,
   "metadata": {},
   "outputs": [
    {
     "name": "stdout",
     "output_type": "stream",
     "text": [
      "Метрики предсказаний модели решающего дерева, обученной на уменьшенной выборке\n",
      "\n",
      "F-1 мера на тренировочной выборке 0.65\n",
      "F-1 мера на валидационной выборке 0.52\n",
      "Глубина дерева в лучшей модели: 3\n",
      "Метрика AUC-ROC на валидационной выборке 0.67\n"
     ]
    }
   ],
   "source": [
    "#решающее дерево\n",
    "\n",
    "f1_train_DT_downsampled, f1_valid_DT_downsampled, best_depth, roc_auc_valid_DT_downsampled = decision_tree_cl(\n",
    "    features_train_downsampled, target_train_downsampled, features_valid, target_valid,\n",
    "    class_weight=None, random_state=42)\n",
    "\n",
    "print(\"Метрики предсказаний модели решающего дерева, обученной на уменьшенной выборке\")\n",
    "print()\n",
    "print(\"F-1 мера на тренировочной выборке\", round(f1_train_DT_downsampled, 2))\n",
    "print(\"F-1 мера на валидационной выборке\", round(f1_valid_DT_downsampled, 2))\n",
    "print(\"Глубина дерева в лучшей модели:\", best_depth)\n",
    "print(\"Метрика AUC-ROC на валидационной выборке\", round(roc_auc_valid_DT_downsampled, 2))"
   ]
  },
  {
   "cell_type": "code",
   "execution_count": 32,
   "metadata": {},
   "outputs": [
    {
     "name": "stdout",
     "output_type": "stream",
     "text": [
      "Метрики предсказаний модели случайного леса, обученной на уменьшенной выборке\n",
      "\n",
      "F-1 мера на тренировочной выборке 0.62\n",
      "F-1 мера на валидационной выборке 0.52\n",
      "Глубина дерева в лучшей модели: 8\n",
      "Количество деревьев в лучшей модели: 190\n",
      "Метрика AUC-ROC на валидационной выборке 0.83\n"
     ]
    }
   ],
   "source": [
    "#случайный лес\n",
    "\n",
    "f1_train_RF_downsampled, f1_valid_RF_downsampled, best_depth, best_n_estimators, roc_auc_valid_RF_downsampled = (\n",
    "                    random_forest_cl(features_train_downsampled, \n",
    "                                     target_train_downsampled, features_valid, target_valid,\n",
    "                                    class_weight=None, random_state=42))\n",
    "\n",
    "print(\"Метрики предсказаний модели случайного леса, обученной на уменьшенной выборке\")\n",
    "print()\n",
    "print(\"F-1 мера на тренировочной выборке\", round(f1_train_RF_downsampled, 2))\n",
    "print(\"F-1 мера на валидационной выборке\", round(f1_valid_RF_downsampled, 2))\n",
    "print(\"Глубина дерева в лучшей модели:\", best_depth)\n",
    "print(\"Количество деревьев в лучшей модели:\", best_n_estimators)\n",
    "print(\"Метрика AUC-ROC на валидационной выборке\", round(roc_auc_valid_RF_downsampled, 2))"
   ]
  },
  {
   "cell_type": "markdown",
   "metadata": {},
   "source": [
    "При использовании метода апсэмплинга наиболее точной оказалась модель случайного леса с количеством деревьев 190 и глубиной каждого дерева 8, значение F1-меры которой на валидационной выборке оказалось равно 52%, метрики ROC-AUC 83%."
   ]
  },
  {
   "cell_type": "markdown",
   "metadata": {},
   "source": [
    "## Тестирование модели"
   ]
  },
  {
   "cell_type": "markdown",
   "metadata": {},
   "source": [
    "Наилучший результат был получен с помощью модели случайного леса с количеством деревьев 160 и глубиной каждого дерева 14 при применении взвешивания весов в качестве метода борьбы с дисбалансом классов в датасете.\n",
    "\n",
    "Проверим модель с данным параметрами на тестовой выборке."
   ]
  },
  {
   "cell_type": "code",
   "execution_count": 33,
   "metadata": {},
   "outputs": [
    {
     "name": "stdout",
     "output_type": "stream",
     "text": [
      "Значение F1-меры предсказаний модели случайного леса, обученной с взвешиванием классов,\n",
      "на обучающей выборке 0.98\n",
      "\n",
      "Значение F1-меры предсказаний модели случайного леса, обученной с взвешиванием классов,\n",
      "на тестовой выборке 0.61\n"
     ]
    }
   ],
   "source": [
    "model = RandomForestClassifier(n_estimators=160, max_depth=14, random_state=42, \n",
    "                                       class_weight='balanced')\n",
    "model.fit(features_train_unbalanced, target_train_unbalanced)\n",
    "\n",
    "predictions_test = model.predict(features_test)\n",
    "f1_test = f1_score(target_test, predictions_test)\n",
    "\n",
    "predictions_train = model.predict(features_train_unbalanced)        \n",
    "f1_train = f1_score(target_train_unbalanced, predictions_train)\n",
    "\n",
    "\n",
    "print(\"Значение F1-меры предсказаний модели случайного леса, обученной с взвешиванием классов,\")\n",
    "print(\"на обучающей выборке\", round(f1_train, 2))\n",
    "print()\n",
    "\n",
    "print(\"Значение F1-меры предсказаний модели случайного леса, обученной с взвешиванием классов,\")\n",
    "print(\"на тестовой выборке\", round(f1_test, 2))"
   ]
  },
  {
   "cell_type": "markdown",
   "metadata": {},
   "source": [
    "Данная модель позволила успешно решить задачу по достижению F1-меры, равной 0.59, на тестовой выборке."
   ]
  },
  {
   "cell_type": "markdown",
   "metadata": {},
   "source": [
    "Измерим также метрику AUC-ROC на данной модели."
   ]
  },
  {
   "cell_type": "code",
   "execution_count": 34,
   "metadata": {},
   "outputs": [
    {
     "data": {
      "image/png": "[encoded data removed]",
      "text/plain": [
       "<Figure size 640x480 with 1 Axes>"
      ]
     },
     "metadata": {},
     "output_type": "display_data"
    }
   ],
   "source": [
    "#построим ROC-кривую\n",
    "probabilities_one_test = model.predict_proba(features_test)[:,1]\n",
    "\n",
    "fpr, tpr, thresholds = roc_curve(target_test, probabilities_one_test)\n",
    "\n",
    "plt.figure()\n",
    "plt.plot(fpr, tpr)\n",
    "plt.plot([0, 1], [0, 1], linestyle='--')\n",
    "plt.xlim([0, 1])\n",
    "plt.ylim([0, 1])\n",
    "plt.xlabel(\"False Positive Rate\")\n",
    "plt.ylabel(\"True Positive Rate\")\n",
    "plt.title(\"ROC-кривая\")\n",
    "plt.show()"
   ]
  },
  {
   "cell_type": "code",
   "execution_count": 35,
   "metadata": {},
   "outputs": [
    {
     "name": "stdout",
     "output_type": "stream",
     "text": [
      "Значение AUC-ROC равно 0.86\n"
     ]
    }
   ],
   "source": [
    "#посчитаем значение площади ROC-кривой\n",
    "auc_roc = roc_auc_score(target_test, probabilities_one_test)\n",
    "\n",
    "print(\"Значение AUC-ROC равно\", round(auc_roc, 2))"
   ]
  },
  {
   "cell_type": "markdown",
   "metadata": {},
   "source": [
    "Значение площади под кривой больше 0.5, значит наша модель справляется с задачей успешнее, чем случайная модель."
   ]
  },
  {
   "cell_type": "markdown",
   "metadata": {},
   "source": [
    "Для оценки важности признаков в получившейся модели, выведем их важность с помощью `feature_importances_`."
   ]
  },
  {
   "cell_type": "code",
   "execution_count": 36,
   "metadata": {},
   "outputs": [
    {
     "data": {
      "text/html": [
       "<div>\n",
       "<style scoped>\n",
       "    .dataframe tbody tr th:only-of-type {\n",
       "        vertical-align: middle;\n",
       "    }\n",
       "\n",
       "    .dataframe tbody tr th {\n",
       "        vertical-align: top;\n",
       "    }\n",
       "\n",
       "    .dataframe thead th {\n",
       "        text-align: right;\n",
       "    }\n",
       "</style>\n",
       "<table border=\"1\" class=\"dataframe\">\n",
       "  <thead>\n",
       "    <tr style=\"text-align: right;\">\n",
       "      <th></th>\n",
       "      <th>features</th>\n",
       "      <th>feature_importances</th>\n",
       "    </tr>\n",
       "  </thead>\n",
       "  <tbody>\n",
       "    <tr>\n",
       "      <th>0</th>\n",
       "      <td>Age</td>\n",
       "      <td>0.26</td>\n",
       "    </tr>\n",
       "    <tr>\n",
       "      <th>1</th>\n",
       "      <td>NumOfProducts</td>\n",
       "      <td>0.15</td>\n",
       "    </tr>\n",
       "    <tr>\n",
       "      <th>2</th>\n",
       "      <td>Balance</td>\n",
       "      <td>0.14</td>\n",
       "    </tr>\n",
       "    <tr>\n",
       "      <th>3</th>\n",
       "      <td>EstimatedSalary</td>\n",
       "      <td>0.13</td>\n",
       "    </tr>\n",
       "    <tr>\n",
       "      <th>4</th>\n",
       "      <td>CreditScore</td>\n",
       "      <td>0.12</td>\n",
       "    </tr>\n",
       "    <tr>\n",
       "      <th>5</th>\n",
       "      <td>Tenure</td>\n",
       "      <td>0.07</td>\n",
       "    </tr>\n",
       "    <tr>\n",
       "      <th>6</th>\n",
       "      <td>IsActiveMember</td>\n",
       "      <td>0.04</td>\n",
       "    </tr>\n",
       "    <tr>\n",
       "      <th>7</th>\n",
       "      <td>Geography_Germany</td>\n",
       "      <td>0.03</td>\n",
       "    </tr>\n",
       "    <tr>\n",
       "      <th>8</th>\n",
       "      <td>Gender_Male</td>\n",
       "      <td>0.02</td>\n",
       "    </tr>\n",
       "    <tr>\n",
       "      <th>9</th>\n",
       "      <td>HasCrCard</td>\n",
       "      <td>0.02</td>\n",
       "    </tr>\n",
       "    <tr>\n",
       "      <th>10</th>\n",
       "      <td>Geography_Spain</td>\n",
       "      <td>0.02</td>\n",
       "    </tr>\n",
       "  </tbody>\n",
       "</table>\n",
       "</div>"
      ],
      "text/plain": [
       "             features  feature_importances\n",
       "0                 Age                 0.26\n",
       "1       NumOfProducts                 0.15\n",
       "2             Balance                 0.14\n",
       "3     EstimatedSalary                 0.13\n",
       "4         CreditScore                 0.12\n",
       "5              Tenure                 0.07\n",
       "6      IsActiveMember                 0.04\n",
       "7   Geography_Germany                 0.03\n",
       "8         Gender_Male                 0.02\n",
       "9           HasCrCard                 0.02\n",
       "10    Geography_Spain                 0.02"
      ]
     },
     "execution_count": 36,
     "metadata": {},
     "output_type": "execute_result"
    }
   ],
   "source": [
    "feature_names = features_train_unbalanced.columns\n",
    "feature_importances = model.feature_importances_\n",
    "\n",
    "(pd.DataFrame({'features': feature_names, 'feature_importances': feature_importances})\n",
    "             .sort_values('feature_importances', ascending=False).reset_index(drop=True))"
   ]
  },
  {
   "cell_type": "markdown",
   "metadata": {},
   "source": [
    "Наибольший вклад в вероятность ухода клиента вносят такие переменные как возраст клиента и количество открытых продуктов."
   ]
  },
  {
   "cell_type": "markdown",
   "metadata": {},
   "source": [
    "## Вывод"
   ]
  },
  {
   "cell_type": "markdown",
   "metadata": {},
   "source": [
    "На основе полученных и обработанных данных мы протестировали различные модели классификаторов (логистическую регрессию, решающее дерево, случайный лес).\n",
    "\n",
    "Для решения проблемы несбалансированности выборки мы проанализировали эффективность различных методов (взвешивание классов, апсэмплинг, даунсэмплинг).\n",
    "\n",
    "Моделью с наибольшим значением метрики F1 оказалась модель случайного леса (количество деревьев 160, глубина дерева 14), обученная с применением взвешивания классов. Значение F1-меры данной модели на тестовой выборке составило 0.61, значение AUC-ROC - 0.86.\n",
    "\n",
    "Наибольший вклад в вероятность ухода клиента вносят такие переменные как возраст клиента и количество открытых продуктов."
   ]
  }
 ],
 "metadata": {
  "ExecuteTimeLog": [
   {
    "duration": 765,
    "start_time": "2022-03-06T19:51:52.998Z"
   },
   {
    "duration": 2132,
    "start_time": "2022-03-06T19:52:28.675Z"
   },
   {
    "duration": 2436,
    "start_time": "2022-03-06T19:52:43.438Z"
   },
   {
    "duration": 2138,
    "start_time": "2022-03-06T19:52:52.129Z"
   },
   {
    "duration": 38,
    "start_time": "2022-03-06T19:52:57.534Z"
   },
   {
    "duration": 30,
    "start_time": "2022-03-06T19:53:10.297Z"
   },
   {
    "duration": 295,
    "start_time": "2022-03-06T19:54:57.666Z"
   },
   {
    "duration": 14,
    "start_time": "2022-03-06T19:55:00.007Z"
   },
   {
    "duration": 276,
    "start_time": "2022-03-06T19:55:41.350Z"
   },
   {
    "duration": 288,
    "start_time": "2022-03-06T19:55:47.228Z"
   },
   {
    "duration": 272,
    "start_time": "2022-03-06T19:55:49.740Z"
   },
   {
    "duration": 61,
    "start_time": "2022-03-06T19:55:52.806Z"
   },
   {
    "duration": 6,
    "start_time": "2022-03-06T20:27:41.452Z"
   },
   {
    "duration": 27,
    "start_time": "2022-03-06T20:27:59.355Z"
   },
   {
    "duration": 10,
    "start_time": "2022-03-06T20:28:02.786Z"
   },
   {
    "duration": 11,
    "start_time": "2022-03-06T20:28:20.725Z"
   },
   {
    "duration": 272,
    "start_time": "2022-03-07T11:50:48.888Z"
   },
   {
    "duration": 543,
    "start_time": "2022-03-07T11:50:54.713Z"
   },
   {
    "duration": 40,
    "start_time": "2022-03-07T11:50:55.258Z"
   },
   {
    "duration": 16,
    "start_time": "2022-03-07T11:50:55.299Z"
   },
   {
    "duration": 7,
    "start_time": "2022-03-07T11:50:55.317Z"
   },
   {
    "duration": 37,
    "start_time": "2022-03-07T11:50:55.325Z"
   },
   {
    "duration": 3,
    "start_time": "2022-03-07T11:50:55.364Z"
   },
   {
    "duration": 7,
    "start_time": "2022-03-07T11:50:55.368Z"
   },
   {
    "duration": 5,
    "start_time": "2022-03-07T11:50:55.401Z"
   },
   {
    "duration": 4,
    "start_time": "2022-03-07T11:51:28.340Z"
   },
   {
    "duration": 84,
    "start_time": "2022-03-07T11:55:11.156Z"
   },
   {
    "duration": 82,
    "start_time": "2022-03-07T11:55:14.578Z"
   },
   {
    "duration": 946,
    "start_time": "2022-03-07T11:55:26.824Z"
   },
   {
    "duration": 80,
    "start_time": "2022-03-07T11:57:54.707Z"
   },
   {
    "duration": 11,
    "start_time": "2022-03-07T12:00:32.224Z"
   },
   {
    "duration": -201,
    "start_time": "2022-03-07T12:01:20.192Z"
   },
   {
    "duration": 5969,
    "start_time": "2022-03-07T12:01:23.762Z"
   },
   {
    "duration": 3,
    "start_time": "2022-03-07T12:02:19.129Z"
   },
   {
    "duration": 3,
    "start_time": "2022-03-07T12:02:24.060Z"
   },
   {
    "duration": 8,
    "start_time": "2022-03-07T12:03:02.486Z"
   },
   {
    "duration": 10,
    "start_time": "2022-03-07T12:03:21.630Z"
   },
   {
    "duration": 8,
    "start_time": "2022-03-07T12:03:24.966Z"
   },
   {
    "duration": 9,
    "start_time": "2022-03-07T12:03:36.403Z"
   },
   {
    "duration": 6,
    "start_time": "2022-03-07T12:03:58.450Z"
   },
   {
    "duration": 4,
    "start_time": "2022-03-07T12:04:38.805Z"
   },
   {
    "duration": 2,
    "start_time": "2022-03-07T12:08:51.033Z"
   },
   {
    "duration": 428,
    "start_time": "2022-03-07T12:08:55.644Z"
   },
   {
    "duration": 1511,
    "start_time": "2022-03-08T16:15:53.980Z"
   },
   {
    "duration": 1253,
    "start_time": "2022-03-08T16:15:59.783Z"
   },
   {
    "duration": 37,
    "start_time": "2022-03-08T16:16:01.039Z"
   },
   {
    "duration": 28,
    "start_time": "2022-03-08T16:16:01.079Z"
   },
   {
    "duration": 30,
    "start_time": "2022-03-08T16:16:01.109Z"
   },
   {
    "duration": 64,
    "start_time": "2022-03-08T16:16:01.142Z"
   },
   {
    "duration": 5,
    "start_time": "2022-03-08T16:16:01.209Z"
   },
   {
    "duration": 10,
    "start_time": "2022-03-08T16:16:01.233Z"
   },
   {
    "duration": 9,
    "start_time": "2022-03-08T16:16:01.245Z"
   },
   {
    "duration": 25,
    "start_time": "2022-03-08T16:16:01.257Z"
   },
   {
    "duration": 12,
    "start_time": "2022-03-08T16:16:01.284Z"
   },
   {
    "duration": 51,
    "start_time": "2022-03-08T16:16:01.299Z"
   },
   {
    "duration": 10,
    "start_time": "2022-03-08T16:16:01.352Z"
   },
   {
    "duration": 12,
    "start_time": "2022-03-08T16:16:01.365Z"
   },
   {
    "duration": 9,
    "start_time": "2022-03-08T16:16:01.380Z"
   },
   {
    "duration": 22,
    "start_time": "2022-03-08T16:16:01.391Z"
   },
   {
    "duration": 427,
    "start_time": "2022-03-08T16:21:49.251Z"
   },
   {
    "duration": 321,
    "start_time": "2022-03-08T16:23:52.956Z"
   },
   {
    "duration": 6,
    "start_time": "2022-03-08T16:24:50.924Z"
   },
   {
    "duration": 14,
    "start_time": "2022-03-08T16:24:51.821Z"
   },
   {
    "duration": 9,
    "start_time": "2022-03-08T16:24:52.745Z"
   },
   {
    "duration": 6,
    "start_time": "2022-03-08T16:25:11.786Z"
   },
   {
    "duration": 10,
    "start_time": "2022-03-08T16:26:14.072Z"
   },
   {
    "duration": 8,
    "start_time": "2022-03-08T16:26:17.711Z"
   },
   {
    "duration": 13,
    "start_time": "2022-03-08T16:27:12.745Z"
   },
   {
    "duration": 10,
    "start_time": "2022-03-08T16:27:13.078Z"
   },
   {
    "duration": 18,
    "start_time": "2022-03-08T16:27:37.357Z"
   },
   {
    "duration": 20,
    "start_time": "2022-03-08T16:27:37.768Z"
   },
   {
    "duration": 8,
    "start_time": "2022-03-08T16:28:03.578Z"
   },
   {
    "duration": 21,
    "start_time": "2022-03-08T16:28:04.074Z"
   },
   {
    "duration": 16,
    "start_time": "2022-03-08T16:28:04.503Z"
   },
   {
    "duration": 10,
    "start_time": "2022-03-08T16:28:19.495Z"
   },
   {
    "duration": 14,
    "start_time": "2022-03-08T16:29:26.311Z"
   },
   {
    "duration": 20,
    "start_time": "2022-03-08T16:30:08.144Z"
   },
   {
    "duration": 16,
    "start_time": "2022-03-08T16:31:16.998Z"
   },
   {
    "duration": 4,
    "start_time": "2022-03-08T16:31:35.638Z"
   },
   {
    "duration": 11,
    "start_time": "2022-03-08T16:32:33.686Z"
   },
   {
    "duration": 40,
    "start_time": "2022-03-08T16:34:35.572Z"
   },
   {
    "duration": 35,
    "start_time": "2022-03-08T16:36:10.101Z"
   },
   {
    "duration": 30,
    "start_time": "2022-03-08T16:36:17.031Z"
   },
   {
    "duration": 30,
    "start_time": "2022-03-08T16:37:48.009Z"
   },
   {
    "duration": 44,
    "start_time": "2022-03-08T16:37:58.006Z"
   },
   {
    "duration": 83,
    "start_time": "2022-03-08T16:38:14.340Z"
   },
   {
    "duration": 67,
    "start_time": "2022-03-08T16:38:28.572Z"
   },
   {
    "duration": 77,
    "start_time": "2022-03-08T16:40:07.724Z"
   },
   {
    "duration": 5,
    "start_time": "2022-03-08T16:40:21.761Z"
   },
   {
    "duration": 5,
    "start_time": "2022-03-08T16:46:06.053Z"
   },
   {
    "duration": 49,
    "start_time": "2022-03-08T16:48:55.435Z"
   },
   {
    "duration": 3,
    "start_time": "2022-03-08T16:49:55.875Z"
   },
   {
    "duration": 340,
    "start_time": "2022-03-08T16:50:44.608Z"
   },
   {
    "duration": 101,
    "start_time": "2022-03-08T16:51:46.543Z"
   },
   {
    "duration": 298,
    "start_time": "2022-03-08T16:51:49.386Z"
   },
   {
    "duration": 303,
    "start_time": "2022-03-08T16:52:12.377Z"
   },
   {
    "duration": 326,
    "start_time": "2022-03-08T16:52:24.293Z"
   },
   {
    "duration": 24,
    "start_time": "2022-03-08T16:53:01.934Z"
   },
   {
    "duration": 315,
    "start_time": "2022-03-08T16:54:53.030Z"
   },
   {
    "duration": 21,
    "start_time": "2022-03-08T16:54:56.477Z"
   },
   {
    "duration": 15,
    "start_time": "2022-03-08T16:54:57.054Z"
   },
   {
    "duration": 18,
    "start_time": "2022-03-08T16:54:59.058Z"
   },
   {
    "duration": 70,
    "start_time": "2022-03-08T16:55:04.325Z"
   },
   {
    "duration": 134,
    "start_time": "2022-03-08T16:55:14.599Z"
   },
   {
    "duration": 225,
    "start_time": "2022-03-08T16:55:38.021Z"
   },
   {
    "duration": 153,
    "start_time": "2022-03-08T16:57:17.684Z"
   },
   {
    "duration": 184,
    "start_time": "2022-03-08T16:57:21.653Z"
   },
   {
    "duration": 277,
    "start_time": "2022-03-08T16:58:23.358Z"
   },
   {
    "duration": 91,
    "start_time": "2022-03-08T17:02:31.750Z"
   },
   {
    "duration": 507,
    "start_time": "2022-03-08T17:02:44.446Z"
   },
   {
    "duration": 294,
    "start_time": "2022-03-08T17:03:10.442Z"
   },
   {
    "duration": 92,
    "start_time": "2022-03-08T17:03:36.113Z"
   },
   {
    "duration": 265,
    "start_time": "2022-03-08T17:03:43.671Z"
   },
   {
    "duration": 88,
    "start_time": "2022-03-08T17:04:45.824Z"
   },
   {
    "duration": 389,
    "start_time": "2022-03-08T17:05:43.044Z"
   },
   {
    "duration": 262,
    "start_time": "2022-03-08T17:06:09.371Z"
   },
   {
    "duration": 367,
    "start_time": "2022-03-08T17:08:56.265Z"
   },
   {
    "duration": 296,
    "start_time": "2022-03-08T17:09:09.944Z"
   },
   {
    "duration": 4,
    "start_time": "2022-03-08T17:24:01.851Z"
   },
   {
    "duration": 15,
    "start_time": "2022-03-08T17:35:21.943Z"
   },
   {
    "duration": 15,
    "start_time": "2022-03-08T17:35:40.022Z"
   },
   {
    "duration": 15,
    "start_time": "2022-03-08T17:35:48.299Z"
   },
   {
    "duration": 66,
    "start_time": "2022-03-08T17:36:07.854Z"
   },
   {
    "duration": 62,
    "start_time": "2022-03-08T17:36:12.261Z"
   },
   {
    "duration": 98,
    "start_time": "2022-03-08T17:36:18.141Z"
   },
   {
    "duration": 191,
    "start_time": "2022-03-08T17:36:39.144Z"
   },
   {
    "duration": 1376,
    "start_time": "2022-03-08T17:36:48.891Z"
   },
   {
    "duration": 36,
    "start_time": "2022-03-08T17:36:50.270Z"
   },
   {
    "duration": 30,
    "start_time": "2022-03-08T17:36:50.309Z"
   },
   {
    "duration": 12,
    "start_time": "2022-03-08T17:36:50.342Z"
   },
   {
    "duration": 81,
    "start_time": "2022-03-08T17:36:50.357Z"
   },
   {
    "duration": 6,
    "start_time": "2022-03-08T17:36:50.440Z"
   },
   {
    "duration": 11,
    "start_time": "2022-03-08T17:36:50.448Z"
   },
   {
    "duration": 9,
    "start_time": "2022-03-08T17:36:50.462Z"
   },
   {
    "duration": 18,
    "start_time": "2022-03-08T17:36:50.473Z"
   },
   {
    "duration": 42,
    "start_time": "2022-03-08T17:36:50.493Z"
   },
   {
    "duration": 21,
    "start_time": "2022-03-08T17:36:50.537Z"
   },
   {
    "duration": 14,
    "start_time": "2022-03-08T17:36:50.560Z"
   },
   {
    "duration": 22,
    "start_time": "2022-03-08T17:36:50.576Z"
   },
   {
    "duration": 5,
    "start_time": "2022-03-08T17:36:50.600Z"
   },
   {
    "duration": 73,
    "start_time": "2022-03-08T17:36:50.634Z"
   },
   {
    "duration": 430,
    "start_time": "2022-03-08T17:36:50.710Z"
   },
   {
    "duration": -87,
    "start_time": "2022-03-08T17:36:51.231Z"
   },
   {
    "duration": 175,
    "start_time": "2022-03-08T17:37:18.262Z"
   },
   {
    "duration": 5,
    "start_time": "2022-03-08T17:45:23.324Z"
   },
   {
    "duration": 639,
    "start_time": "2022-03-08T17:47:08.499Z"
   },
   {
    "duration": 573,
    "start_time": "2022-03-08T17:47:22.456Z"
   },
   {
    "duration": 5,
    "start_time": "2022-03-08T17:48:19.065Z"
   },
   {
    "duration": 6,
    "start_time": "2022-03-08T17:48:29.678Z"
   },
   {
    "duration": 815,
    "start_time": "2022-03-08T17:48:32.091Z"
   },
   {
    "duration": 5,
    "start_time": "2022-03-08T17:49:25.070Z"
   },
   {
    "duration": 572,
    "start_time": "2022-03-08T17:49:26.490Z"
   },
   {
    "duration": 5,
    "start_time": "2022-03-08T17:49:42.321Z"
   },
   {
    "duration": 203,
    "start_time": "2022-03-08T17:49:44.540Z"
   },
   {
    "duration": 173,
    "start_time": "2022-03-08T17:50:36.060Z"
   },
   {
    "duration": 234,
    "start_time": "2022-03-08T17:51:30.900Z"
   },
   {
    "duration": 306,
    "start_time": "2022-03-08T17:51:38.830Z"
   },
   {
    "duration": 293,
    "start_time": "2022-03-08T17:52:06.368Z"
   },
   {
    "duration": 239,
    "start_time": "2022-03-08T17:52:21.495Z"
   },
   {
    "duration": 6,
    "start_time": "2022-03-08T17:57:22.791Z"
   },
   {
    "duration": 290,
    "start_time": "2022-03-08T17:57:27.647Z"
   },
   {
    "duration": 7,
    "start_time": "2022-03-08T18:05:46.015Z"
   },
   {
    "duration": 3,
    "start_time": "2022-03-08T18:06:03.113Z"
   },
   {
    "duration": 303,
    "start_time": "2022-03-08T18:07:54.912Z"
   },
   {
    "duration": 580,
    "start_time": "2022-03-08T18:08:14.490Z"
   },
   {
    "duration": 6,
    "start_time": "2022-03-08T18:09:35.482Z"
   },
   {
    "duration": 400,
    "start_time": "2022-03-08T18:09:39.350Z"
   },
   {
    "duration": 689,
    "start_time": "2022-03-08T18:15:00.644Z"
   },
   {
    "duration": 7,
    "start_time": "2022-03-08T18:15:22.052Z"
   },
   {
    "duration": 393,
    "start_time": "2022-03-08T18:15:34.332Z"
   },
   {
    "duration": 405,
    "start_time": "2022-03-08T18:15:43.227Z"
   },
   {
    "duration": 9,
    "start_time": "2022-03-08T18:18:29.600Z"
   },
   {
    "duration": 10160,
    "start_time": "2022-03-08T18:20:52.905Z"
   },
   {
    "duration": 10,
    "start_time": "2022-03-08T18:22:05.265Z"
   },
   {
    "duration": 17255,
    "start_time": "2022-03-08T18:22:08.930Z"
   },
   {
    "duration": 3,
    "start_time": "2022-03-08T18:23:28.810Z"
   },
   {
    "duration": 5,
    "start_time": "2022-03-08T18:29:23.637Z"
   },
   {
    "duration": 3,
    "start_time": "2022-03-08T18:29:42.350Z"
   },
   {
    "duration": 565,
    "start_time": "2022-03-08T18:31:27.010Z"
   },
   {
    "duration": 617,
    "start_time": "2022-03-08T18:31:54.538Z"
   },
   {
    "duration": 577,
    "start_time": "2022-03-08T18:31:57.975Z"
   },
   {
    "duration": 6,
    "start_time": "2022-03-08T18:32:41.915Z"
   },
   {
    "duration": 6,
    "start_time": "2022-03-08T18:32:50.029Z"
   },
   {
    "duration": 7,
    "start_time": "2022-03-08T18:32:55.277Z"
   },
   {
    "duration": 554,
    "start_time": "2022-03-08T18:34:17.465Z"
   },
   {
    "duration": 6,
    "start_time": "2022-03-08T18:35:07.805Z"
   },
   {
    "duration": 17,
    "start_time": "2022-03-08T18:35:13.493Z"
   },
   {
    "duration": 19,
    "start_time": "2022-03-08T18:35:43.283Z"
   },
   {
    "duration": 18,
    "start_time": "2022-03-08T18:36:18.143Z"
   },
   {
    "duration": 18,
    "start_time": "2022-03-08T18:36:24.486Z"
   },
   {
    "duration": 1407,
    "start_time": "2022-03-08T18:40:23.111Z"
   },
   {
    "duration": 5,
    "start_time": "2022-03-08T18:41:42.461Z"
   },
   {
    "duration": 6,
    "start_time": "2022-03-08T18:42:25.033Z"
   },
   {
    "duration": 9,
    "start_time": "2022-03-08T18:42:32.081Z"
   },
   {
    "duration": 682,
    "start_time": "2022-03-08T18:42:41.121Z"
   },
   {
    "duration": 5,
    "start_time": "2022-03-08T18:43:14.747Z"
   },
   {
    "duration": 282,
    "start_time": "2022-03-08T18:43:17.852Z"
   },
   {
    "duration": 392,
    "start_time": "2022-03-08T18:43:19.343Z"
   },
   {
    "duration": 17330,
    "start_time": "2022-03-08T18:43:28.565Z"
   },
   {
    "duration": 567,
    "start_time": "2022-03-08T18:44:04.966Z"
   },
   {
    "duration": 769,
    "start_time": "2022-03-08T18:45:17.163Z"
   },
   {
    "duration": 31159,
    "start_time": "2022-03-08T18:46:15.107Z"
   },
   {
    "duration": 25804,
    "start_time": "2022-03-08T18:46:46.270Z"
   },
   {
    "duration": 32469,
    "start_time": "2022-03-08T18:48:31.708Z"
   },
   {
    "duration": 6,
    "start_time": "2022-03-08T19:10:36.761Z"
   },
   {
    "duration": 17,
    "start_time": "2022-03-08T19:15:12.288Z"
   },
   {
    "duration": 21,
    "start_time": "2022-03-08T19:31:33.148Z"
   },
   {
    "duration": 23,
    "start_time": "2022-03-08T19:32:47.790Z"
   },
   {
    "duration": 21,
    "start_time": "2022-03-08T19:33:31.730Z"
   },
   {
    "duration": 22,
    "start_time": "2022-03-08T19:33:52.709Z"
   },
   {
    "duration": 20,
    "start_time": "2022-03-08T19:34:00.130Z"
   },
   {
    "duration": 21,
    "start_time": "2022-03-08T19:34:12.746Z"
   },
   {
    "duration": 22,
    "start_time": "2022-03-08T19:34:20.892Z"
   },
   {
    "duration": 22,
    "start_time": "2022-03-08T19:34:25.320Z"
   },
   {
    "duration": 5,
    "start_time": "2022-03-08T19:35:14.987Z"
   },
   {
    "duration": 22,
    "start_time": "2022-03-08T19:35:42.504Z"
   },
   {
    "duration": 5,
    "start_time": "2022-03-08T19:35:49.407Z"
   },
   {
    "duration": 22,
    "start_time": "2022-03-08T19:35:57.903Z"
   },
   {
    "duration": 20,
    "start_time": "2022-03-08T19:36:01.489Z"
   },
   {
    "duration": 18,
    "start_time": "2022-03-08T19:36:09.088Z"
   },
   {
    "duration": 254,
    "start_time": "2022-03-08T19:38:35.678Z"
   },
   {
    "duration": 181,
    "start_time": "2022-03-08T19:39:06.705Z"
   },
   {
    "duration": 7658,
    "start_time": "2022-03-08T19:39:34.277Z"
   },
   {
    "duration": 621,
    "start_time": "2022-03-08T19:44:35.045Z"
   },
   {
    "duration": 15,
    "start_time": "2022-03-08T19:44:53.672Z"
   },
   {
    "duration": 386,
    "start_time": "2022-03-08T19:44:57.174Z"
   },
   {
    "duration": 386,
    "start_time": "2022-03-08T19:47:10.797Z"
   },
   {
    "duration": 399,
    "start_time": "2022-03-08T19:47:13.720Z"
   },
   {
    "duration": 400,
    "start_time": "2022-03-08T19:48:13.824Z"
   },
   {
    "duration": 386,
    "start_time": "2022-03-08T19:48:25.816Z"
   },
   {
    "duration": 5,
    "start_time": "2022-03-08T19:50:46.092Z"
   },
   {
    "duration": 6,
    "start_time": "2022-03-08T19:51:56.641Z"
   },
   {
    "duration": 305,
    "start_time": "2022-03-08T19:53:28.904Z"
   },
   {
    "duration": 27,
    "start_time": "2022-03-08T19:53:35.685Z"
   },
   {
    "duration": 26,
    "start_time": "2022-03-08T19:53:49.068Z"
   },
   {
    "duration": 26,
    "start_time": "2022-03-08T19:53:51.687Z"
   },
   {
    "duration": 118,
    "start_time": "2022-03-08T19:54:20.875Z"
   },
   {
    "duration": 296,
    "start_time": "2022-03-08T19:55:46.985Z"
   },
   {
    "duration": 272,
    "start_time": "2022-03-08T19:58:51.409Z"
   },
   {
    "duration": 270,
    "start_time": "2022-03-08T19:58:55.416Z"
   },
   {
    "duration": 268,
    "start_time": "2022-03-08T19:59:16.378Z"
   },
   {
    "duration": 7,
    "start_time": "2022-03-08T20:00:39.318Z"
   },
   {
    "duration": 2019,
    "start_time": "2022-03-08T20:09:18.198Z"
   },
   {
    "duration": 49,
    "start_time": "2022-03-08T20:09:20.219Z"
   },
   {
    "duration": 22,
    "start_time": "2022-03-08T20:09:20.273Z"
   },
   {
    "duration": 14,
    "start_time": "2022-03-08T20:09:20.298Z"
   },
   {
    "duration": 70,
    "start_time": "2022-03-08T20:09:20.314Z"
   },
   {
    "duration": 7,
    "start_time": "2022-03-08T20:09:20.387Z"
   },
   {
    "duration": 1071,
    "start_time": "2022-03-08T20:09:20.396Z"
   },
   {
    "duration": 7,
    "start_time": "2022-03-08T20:09:21.471Z"
   },
   {
    "duration": 16,
    "start_time": "2022-03-08T20:09:21.482Z"
   },
   {
    "duration": 20,
    "start_time": "2022-03-08T20:09:21.501Z"
   },
   {
    "duration": 28,
    "start_time": "2022-03-08T20:09:21.523Z"
   },
   {
    "duration": 16,
    "start_time": "2022-03-08T20:09:21.554Z"
   },
   {
    "duration": 2468,
    "start_time": "2022-03-08T20:09:21.573Z"
   },
   {
    "duration": -251,
    "start_time": "2022-03-08T20:09:24.295Z"
   },
   {
    "duration": -259,
    "start_time": "2022-03-08T20:09:24.305Z"
   },
   {
    "duration": -262,
    "start_time": "2022-03-08T20:09:24.309Z"
   },
   {
    "duration": -263,
    "start_time": "2022-03-08T20:09:24.312Z"
   },
   {
    "duration": -264,
    "start_time": "2022-03-08T20:09:24.315Z"
   },
   {
    "duration": -265,
    "start_time": "2022-03-08T20:09:24.317Z"
   },
   {
    "duration": -265,
    "start_time": "2022-03-08T20:09:24.319Z"
   },
   {
    "duration": -267,
    "start_time": "2022-03-08T20:09:24.322Z"
   },
   {
    "duration": -267,
    "start_time": "2022-03-08T20:09:24.324Z"
   },
   {
    "duration": -269,
    "start_time": "2022-03-08T20:09:24.327Z"
   },
   {
    "duration": -270,
    "start_time": "2022-03-08T20:09:24.329Z"
   },
   {
    "duration": -271,
    "start_time": "2022-03-08T20:09:24.332Z"
   },
   {
    "duration": -272,
    "start_time": "2022-03-08T20:09:24.334Z"
   },
   {
    "duration": -273,
    "start_time": "2022-03-08T20:09:24.337Z"
   },
   {
    "duration": -274,
    "start_time": "2022-03-08T20:09:24.339Z"
   },
   {
    "duration": -276,
    "start_time": "2022-03-08T20:09:24.342Z"
   },
   {
    "duration": -276,
    "start_time": "2022-03-08T20:09:24.344Z"
   },
   {
    "duration": -278,
    "start_time": "2022-03-08T20:09:24.347Z"
   },
   {
    "duration": -278,
    "start_time": "2022-03-08T20:09:24.349Z"
   },
   {
    "duration": -280,
    "start_time": "2022-03-08T20:09:24.352Z"
   },
   {
    "duration": -280,
    "start_time": "2022-03-08T20:09:24.354Z"
   },
   {
    "duration": -283,
    "start_time": "2022-03-08T20:09:24.358Z"
   },
   {
    "duration": 16,
    "start_time": "2022-03-08T20:10:03.981Z"
   },
   {
    "duration": 1971,
    "start_time": "2022-03-08T20:10:13.617Z"
   },
   {
    "duration": 36,
    "start_time": "2022-03-08T20:10:15.591Z"
   },
   {
    "duration": 22,
    "start_time": "2022-03-08T20:10:15.630Z"
   },
   {
    "duration": 12,
    "start_time": "2022-03-08T20:10:15.655Z"
   },
   {
    "duration": 93,
    "start_time": "2022-03-08T20:10:15.669Z"
   },
   {
    "duration": 5,
    "start_time": "2022-03-08T20:10:15.765Z"
   },
   {
    "duration": 10,
    "start_time": "2022-03-08T20:10:15.772Z"
   },
   {
    "duration": 4,
    "start_time": "2022-03-08T20:10:15.786Z"
   },
   {
    "duration": 51,
    "start_time": "2022-03-08T20:10:15.793Z"
   },
   {
    "duration": 8,
    "start_time": "2022-03-08T20:10:15.846Z"
   },
   {
    "duration": 19,
    "start_time": "2022-03-08T20:10:15.857Z"
   },
   {
    "duration": 15,
    "start_time": "2022-03-08T20:10:15.878Z"
   },
   {
    "duration": 48,
    "start_time": "2022-03-08T20:10:15.896Z"
   },
   {
    "duration": 4,
    "start_time": "2022-03-08T20:10:15.946Z"
   },
   {
    "duration": 94,
    "start_time": "2022-03-08T20:10:15.952Z"
   },
   {
    "duration": 383,
    "start_time": "2022-03-08T20:10:16.049Z"
   },
   {
    "duration": 6,
    "start_time": "2022-03-08T20:10:16.435Z"
   },
   {
    "duration": 6,
    "start_time": "2022-03-08T20:10:16.444Z"
   },
   {
    "duration": 9,
    "start_time": "2022-03-08T20:10:16.453Z"
   },
   {
    "duration": 371,
    "start_time": "2022-03-08T20:10:16.464Z"
   },
   {
    "duration": 473,
    "start_time": "2022-03-08T20:10:16.837Z"
   },
   {
    "duration": 18107,
    "start_time": "2022-03-08T20:10:17.312Z"
   },
   {
    "duration": 6,
    "start_time": "2022-03-08T20:10:35.432Z"
   },
   {
    "duration": 25,
    "start_time": "2022-03-08T20:10:35.440Z"
   },
   {
    "duration": 474,
    "start_time": "2022-03-08T20:10:35.468Z"
   },
   {
    "duration": 640,
    "start_time": "2022-03-08T20:10:36.034Z"
   },
   {
    "duration": 30380,
    "start_time": "2022-03-08T20:10:36.677Z"
   },
   {
    "duration": 8,
    "start_time": "2022-03-08T20:11:07.060Z"
   },
   {
    "duration": 24,
    "start_time": "2022-03-08T20:11:07.071Z"
   },
   {
    "duration": 234,
    "start_time": "2022-03-08T20:11:07.098Z"
   },
   {
    "duration": 277,
    "start_time": "2022-03-08T20:11:07.336Z"
   },
   {
    "duration": 7697,
    "start_time": "2022-03-08T20:11:07.615Z"
   },
   {
    "duration": 407,
    "start_time": "2022-03-08T20:11:15.315Z"
   },
   {
    "duration": 293,
    "start_time": "2022-03-08T20:11:15.724Z"
   },
   {
    "duration": 16,
    "start_time": "2022-03-08T20:11:16.020Z"
   },
   {
    "duration": 1185,
    "start_time": "2022-03-09T16:24:20.789Z"
   },
   {
    "duration": 24,
    "start_time": "2022-03-09T16:24:21.976Z"
   },
   {
    "duration": 15,
    "start_time": "2022-03-09T16:24:22.002Z"
   },
   {
    "duration": 11,
    "start_time": "2022-03-09T16:24:22.019Z"
   },
   {
    "duration": 58,
    "start_time": "2022-03-09T16:24:22.032Z"
   },
   {
    "duration": 6,
    "start_time": "2022-03-09T16:24:22.092Z"
   },
   {
    "duration": 8,
    "start_time": "2022-03-09T16:24:22.100Z"
   },
   {
    "duration": 4,
    "start_time": "2022-03-09T16:24:22.110Z"
   },
   {
    "duration": 13,
    "start_time": "2022-03-09T16:24:22.116Z"
   },
   {
    "duration": 7,
    "start_time": "2022-03-09T16:24:22.159Z"
   },
   {
    "duration": 16,
    "start_time": "2022-03-09T16:24:22.168Z"
   },
   {
    "duration": 10,
    "start_time": "2022-03-09T16:24:22.186Z"
   },
   {
    "duration": 13,
    "start_time": "2022-03-09T16:24:22.198Z"
   },
   {
    "duration": 3,
    "start_time": "2022-03-09T16:24:22.212Z"
   },
   {
    "duration": 82,
    "start_time": "2022-03-09T16:24:22.217Z"
   },
   {
    "duration": 360,
    "start_time": "2022-03-09T16:24:22.301Z"
   },
   {
    "duration": 4,
    "start_time": "2022-03-09T16:24:22.662Z"
   },
   {
    "duration": 6,
    "start_time": "2022-03-09T16:24:22.668Z"
   },
   {
    "duration": 8,
    "start_time": "2022-03-09T16:24:22.675Z"
   },
   {
    "duration": 186,
    "start_time": "2022-03-09T16:24:22.685Z"
   },
   {
    "duration": 493,
    "start_time": "2022-03-09T16:24:22.873Z"
   },
   {
    "duration": 11993,
    "start_time": "2022-03-09T16:24:23.369Z"
   },
   {
    "duration": 4,
    "start_time": "2022-03-09T16:24:35.365Z"
   },
   {
    "duration": 14,
    "start_time": "2022-03-09T16:24:35.371Z"
   },
   {
    "duration": 373,
    "start_time": "2022-03-09T16:24:35.387Z"
   },
   {
    "duration": 476,
    "start_time": "2022-03-09T16:24:35.763Z"
   },
   {
    "duration": 19258,
    "start_time": "2022-03-09T16:24:36.241Z"
   },
   {
    "duration": 4,
    "start_time": "2022-03-09T16:24:55.501Z"
   },
   {
    "duration": 20,
    "start_time": "2022-03-09T16:24:55.506Z"
   },
   {
    "duration": 331,
    "start_time": "2022-03-09T16:24:55.528Z"
   },
   {
    "duration": 137,
    "start_time": "2022-03-09T16:24:55.861Z"
   },
   {
    "duration": 5143,
    "start_time": "2022-03-09T16:24:55.999Z"
   },
   {
    "duration": 284,
    "start_time": "2022-03-09T16:25:01.143Z"
   },
   {
    "duration": 201,
    "start_time": "2022-03-09T16:25:01.429Z"
   },
   {
    "duration": 6,
    "start_time": "2022-03-09T16:25:01.632Z"
   },
   {
    "duration": 1091,
    "start_time": "2022-03-10T19:54:56.576Z"
   },
   {
    "duration": 41,
    "start_time": "2022-03-10T19:55:01.904Z"
   },
   {
    "duration": 14,
    "start_time": "2022-03-10T19:55:02.676Z"
   },
   {
    "duration": 9,
    "start_time": "2022-03-10T19:55:04.421Z"
   },
   {
    "duration": 32,
    "start_time": "2022-03-10T19:55:05.080Z"
   },
   {
    "duration": 333,
    "start_time": "2022-03-10T19:55:37.156Z"
   },
   {
    "duration": 4,
    "start_time": "2022-03-10T19:56:10.194Z"
   },
   {
    "duration": 1756,
    "start_time": "2022-03-10T19:56:29.787Z"
   },
   {
    "duration": 28,
    "start_time": "2022-03-10T19:56:48.531Z"
   },
   {
    "duration": 10,
    "start_time": "2022-03-10T19:56:49.156Z"
   },
   {
    "duration": 7,
    "start_time": "2022-03-10T19:56:51.024Z"
   },
   {
    "duration": 30,
    "start_time": "2022-03-10T19:56:53.557Z"
   },
   {
    "duration": 9,
    "start_time": "2022-03-10T19:56:57.067Z"
   },
   {
    "duration": 7,
    "start_time": "2022-03-10T19:57:28.352Z"
   },
   {
    "duration": 6,
    "start_time": "2022-03-10T19:57:37.044Z"
   },
   {
    "duration": 28,
    "start_time": "2022-03-10T19:57:55.914Z"
   },
   {
    "duration": 10,
    "start_time": "2022-03-10T19:57:57.235Z"
   },
   {
    "duration": 9,
    "start_time": "2022-03-10T19:57:57.247Z"
   },
   {
    "duration": 34,
    "start_time": "2022-03-10T19:57:57.902Z"
   },
   {
    "duration": 266,
    "start_time": "2022-03-10T19:58:00.591Z"
   },
   {
    "duration": 7,
    "start_time": "2022-03-10T19:58:21.902Z"
   },
   {
    "duration": 9,
    "start_time": "2022-03-10T19:59:30.477Z"
   },
   {
    "duration": 7,
    "start_time": "2022-03-10T20:01:12.506Z"
   },
   {
    "duration": 7,
    "start_time": "2022-03-10T20:01:15.476Z"
   },
   {
    "duration": 272,
    "start_time": "2022-03-10T20:02:57.216Z"
   },
   {
    "duration": 31,
    "start_time": "2022-03-10T20:03:12.169Z"
   },
   {
    "duration": 8,
    "start_time": "2022-03-10T20:03:13.293Z"
   },
   {
    "duration": 6,
    "start_time": "2022-03-10T20:03:15.036Z"
   },
   {
    "duration": 3,
    "start_time": "2022-03-10T20:03:17.139Z"
   },
   {
    "duration": 10,
    "start_time": "2022-03-10T20:03:19.487Z"
   },
   {
    "duration": 5,
    "start_time": "2022-03-10T20:03:20.269Z"
   },
   {
    "duration": 11,
    "start_time": "2022-03-10T20:03:21.778Z"
   },
   {
    "duration": 9,
    "start_time": "2022-03-10T20:03:23.106Z"
   },
   {
    "duration": 10,
    "start_time": "2022-03-10T20:03:23.942Z"
   },
   {
    "duration": 2,
    "start_time": "2022-03-10T20:03:25.437Z"
   },
   {
    "duration": 39,
    "start_time": "2022-03-10T20:03:26.706Z"
   },
   {
    "duration": 425,
    "start_time": "2022-03-10T20:03:47.947Z"
   },
   {
    "duration": 221,
    "start_time": "2022-03-10T20:03:57.084Z"
   },
   {
    "duration": 53,
    "start_time": "2022-03-10T20:04:26.962Z"
   },
   {
    "duration": 4,
    "start_time": "2022-03-10T20:07:06.467Z"
   },
   {
    "duration": 4,
    "start_time": "2022-03-10T20:07:20.443Z"
   },
   {
    "duration": 4,
    "start_time": "2022-03-10T20:07:39.828Z"
   },
   {
    "duration": 6,
    "start_time": "2022-03-10T20:08:01.737Z"
   },
   {
    "duration": 180,
    "start_time": "2022-03-10T20:08:52.228Z"
   },
   {
    "duration": 242,
    "start_time": "2022-03-10T20:09:52.261Z"
   },
   {
    "duration": 10019,
    "start_time": "2022-03-10T20:10:39.859Z"
   },
   {
    "duration": 4,
    "start_time": "2022-03-10T20:12:52.028Z"
   },
   {
    "duration": 12,
    "start_time": "2022-03-10T20:12:53.035Z"
   },
   {
    "duration": 598,
    "start_time": "2022-03-10T20:13:38.116Z"
   },
   {
    "duration": 379,
    "start_time": "2022-03-10T20:14:06.852Z"
   },
   {
    "duration": 336,
    "start_time": "2022-03-10T20:15:08.909Z"
   },
   {
    "duration": 13838,
    "start_time": "2022-03-10T20:15:29.998Z"
   },
   {
    "duration": 3,
    "start_time": "2022-03-10T20:16:54.004Z"
   },
   {
    "duration": 15,
    "start_time": "2022-03-10T20:16:54.305Z"
   },
   {
    "duration": 133,
    "start_time": "2022-03-10T20:17:31.778Z"
   },
   {
    "duration": 122,
    "start_time": "2022-03-10T20:18:27.246Z"
   },
   {
    "duration": 6269,
    "start_time": "2022-03-10T20:19:04.716Z"
   },
   {
    "duration": 1279,
    "start_time": "2022-03-10T20:20:37.698Z"
   },
   {
    "duration": 29,
    "start_time": "2022-03-10T20:20:38.979Z"
   },
   {
    "duration": 12,
    "start_time": "2022-03-10T20:20:39.010Z"
   },
   {
    "duration": 14,
    "start_time": "2022-03-10T20:20:39.023Z"
   },
   {
    "duration": 39,
    "start_time": "2022-03-10T20:20:39.038Z"
   },
   {
    "duration": 9,
    "start_time": "2022-03-10T20:20:39.079Z"
   },
   {
    "duration": 18,
    "start_time": "2022-03-10T20:20:39.090Z"
   },
   {
    "duration": 4,
    "start_time": "2022-03-10T20:20:39.110Z"
   },
   {
    "duration": 15,
    "start_time": "2022-03-10T20:20:39.117Z"
   },
   {
    "duration": 6,
    "start_time": "2022-03-10T20:20:39.134Z"
   },
   {
    "duration": 19,
    "start_time": "2022-03-10T20:20:39.142Z"
   },
   {
    "duration": 11,
    "start_time": "2022-03-10T20:20:39.163Z"
   },
   {
    "duration": 36,
    "start_time": "2022-03-10T20:20:39.176Z"
   },
   {
    "duration": 3,
    "start_time": "2022-03-10T20:20:39.214Z"
   },
   {
    "duration": 43,
    "start_time": "2022-03-10T20:20:39.219Z"
   },
   {
    "duration": 1161,
    "start_time": "2022-03-10T20:20:39.263Z"
   },
   {
    "duration": 79,
    "start_time": "2022-03-10T20:20:40.427Z"
   },
   {
    "duration": 105,
    "start_time": "2022-03-10T20:20:40.508Z"
   },
   {
    "duration": 8,
    "start_time": "2022-03-10T20:20:40.614Z"
   },
   {
    "duration": 288,
    "start_time": "2022-03-10T20:20:40.623Z"
   },
   {
    "duration": 341,
    "start_time": "2022-03-10T20:20:40.914Z"
   },
   {
    "duration": 9288,
    "start_time": "2022-03-10T20:20:41.257Z"
   },
   {
    "duration": 4,
    "start_time": "2022-03-10T20:20:50.546Z"
   },
   {
    "duration": 18,
    "start_time": "2022-03-10T20:20:50.551Z"
   },
   {
    "duration": 243,
    "start_time": "2022-03-10T20:20:50.571Z"
   },
   {
    "duration": 626,
    "start_time": "2022-03-10T20:20:50.816Z"
   },
   {
    "duration": 17887,
    "start_time": "2022-03-10T20:20:51.445Z"
   },
   {
    "duration": 3,
    "start_time": "2022-03-10T20:21:09.334Z"
   },
   {
    "duration": 14,
    "start_time": "2022-03-10T20:21:09.338Z"
   },
   {
    "duration": 62,
    "start_time": "2022-03-10T20:21:09.353Z"
   },
   {
    "duration": 290,
    "start_time": "2022-03-10T20:21:09.417Z"
   },
   {
    "duration": 5037,
    "start_time": "2022-03-10T20:21:09.709Z"
   },
   {
    "duration": 245,
    "start_time": "2022-03-10T20:21:14.748Z"
   },
   {
    "duration": 161,
    "start_time": "2022-03-10T20:21:14.995Z"
   },
   {
    "duration": 6,
    "start_time": "2022-03-10T20:21:15.158Z"
   },
   {
    "duration": 1374,
    "start_time": "2022-03-11T09:22:16.527Z"
   },
   {
    "duration": 39,
    "start_time": "2022-03-11T09:22:17.904Z"
   },
   {
    "duration": 21,
    "start_time": "2022-03-11T09:22:17.946Z"
   },
   {
    "duration": 16,
    "start_time": "2022-03-11T09:22:17.970Z"
   },
   {
    "duration": 53,
    "start_time": "2022-03-11T09:22:17.989Z"
   },
   {
    "duration": 46,
    "start_time": "2022-03-11T09:22:18.045Z"
   },
   {
    "duration": 11,
    "start_time": "2022-03-11T09:22:18.093Z"
   },
   {
    "duration": 7,
    "start_time": "2022-03-11T09:22:18.109Z"
   },
   {
    "duration": 19,
    "start_time": "2022-03-11T09:22:18.119Z"
   },
   {
    "duration": 45,
    "start_time": "2022-03-11T09:22:18.140Z"
   },
   {
    "duration": 23,
    "start_time": "2022-03-11T09:22:18.187Z"
   },
   {
    "duration": 14,
    "start_time": "2022-03-11T09:22:18.212Z"
   },
   {
    "duration": 16,
    "start_time": "2022-03-11T09:22:18.228Z"
   },
   {
    "duration": 36,
    "start_time": "2022-03-11T09:22:18.247Z"
   },
   {
    "duration": 68,
    "start_time": "2022-03-11T09:22:18.285Z"
   },
   {
    "duration": 429,
    "start_time": "2022-03-11T09:22:18.356Z"
   },
   {
    "duration": 96,
    "start_time": "2022-03-11T09:22:18.789Z"
   },
   {
    "duration": 16,
    "start_time": "2022-03-11T09:22:18.887Z"
   },
   {
    "duration": 9,
    "start_time": "2022-03-11T09:22:18.905Z"
   },
   {
    "duration": 376,
    "start_time": "2022-03-11T09:22:18.916Z"
   },
   {
    "duration": 468,
    "start_time": "2022-03-11T09:22:19.384Z"
   },
   {
    "duration": 15001,
    "start_time": "2022-03-11T09:22:19.854Z"
   },
   {
    "duration": 5,
    "start_time": "2022-03-11T09:22:34.859Z"
   },
   {
    "duration": 18,
    "start_time": "2022-03-11T09:22:34.882Z"
   },
   {
    "duration": 482,
    "start_time": "2022-03-11T09:22:34.902Z"
   },
   {
    "duration": 634,
    "start_time": "2022-03-11T09:22:35.392Z"
   },
   {
    "duration": 26096,
    "start_time": "2022-03-11T09:22:36.030Z"
   },
   {
    "duration": 6,
    "start_time": "2022-03-11T09:23:02.128Z"
   },
   {
    "duration": 42,
    "start_time": "2022-03-11T09:23:02.136Z"
   },
   {
    "duration": 307,
    "start_time": "2022-03-11T09:23:02.180Z"
   },
   {
    "duration": 270,
    "start_time": "2022-03-11T09:23:02.491Z"
   },
   {
    "duration": 7592,
    "start_time": "2022-03-11T09:23:02.764Z"
   },
   {
    "duration": 406,
    "start_time": "2022-03-11T09:23:10.358Z"
   },
   {
    "duration": 287,
    "start_time": "2022-03-11T09:23:10.766Z"
   },
   {
    "duration": 28,
    "start_time": "2022-03-11T09:23:11.055Z"
   },
   {
    "duration": 177,
    "start_time": "2022-03-11T09:42:05.626Z"
   },
   {
    "duration": 317,
    "start_time": "2022-03-11T09:47:01.380Z"
   },
   {
    "duration": 228,
    "start_time": "2022-03-11T09:47:12.272Z"
   },
   {
    "duration": 404,
    "start_time": "2022-03-11T09:48:03.793Z"
   },
   {
    "duration": 423,
    "start_time": "2022-03-11T09:48:24.576Z"
   },
   {
    "duration": 146,
    "start_time": "2022-03-11T09:48:28.258Z"
   },
   {
    "duration": 16320,
    "start_time": "2022-03-11T09:49:25.373Z"
   },
   {
    "duration": 16113,
    "start_time": "2022-03-11T09:50:02.847Z"
   },
   {
    "duration": 322,
    "start_time": "2022-03-11T09:51:12.560Z"
   },
   {
    "duration": 368,
    "start_time": "2022-03-11T09:51:21.736Z"
   },
   {
    "duration": 569,
    "start_time": "2022-03-11T09:52:01.678Z"
   },
   {
    "duration": 28073,
    "start_time": "2022-03-11T09:52:44.592Z"
   },
   {
    "duration": 1442,
    "start_time": "2022-03-11T09:53:31.709Z"
   },
   {
    "duration": 37,
    "start_time": "2022-03-11T09:53:33.154Z"
   },
   {
    "duration": 22,
    "start_time": "2022-03-11T09:53:33.195Z"
   },
   {
    "duration": 12,
    "start_time": "2022-03-11T09:53:33.220Z"
   },
   {
    "duration": 92,
    "start_time": "2022-03-11T09:53:33.235Z"
   },
   {
    "duration": 12,
    "start_time": "2022-03-11T09:53:33.329Z"
   },
   {
    "duration": 14,
    "start_time": "2022-03-11T09:53:33.344Z"
   },
   {
    "duration": 23,
    "start_time": "2022-03-11T09:53:33.362Z"
   },
   {
    "duration": 26,
    "start_time": "2022-03-11T09:53:33.389Z"
   },
   {
    "duration": 10,
    "start_time": "2022-03-11T09:53:33.417Z"
   },
   {
    "duration": 20,
    "start_time": "2022-03-11T09:53:33.429Z"
   },
   {
    "duration": 47,
    "start_time": "2022-03-11T09:53:33.451Z"
   },
   {
    "duration": 23,
    "start_time": "2022-03-11T09:53:33.501Z"
   },
   {
    "duration": 3,
    "start_time": "2022-03-11T09:53:33.526Z"
   },
   {
    "duration": 105,
    "start_time": "2022-03-11T09:53:33.532Z"
   },
   {
    "duration": 353,
    "start_time": "2022-03-11T09:53:33.640Z"
   },
   {
    "duration": 91,
    "start_time": "2022-03-11T09:53:33.997Z"
   },
   {
    "duration": 16,
    "start_time": "2022-03-11T09:53:34.091Z"
   },
   {
    "duration": 14,
    "start_time": "2022-03-11T09:53:34.109Z"
   },
   {
    "duration": 372,
    "start_time": "2022-03-11T09:53:34.125Z"
   },
   {
    "duration": 582,
    "start_time": "2022-03-11T09:53:34.501Z"
   },
   {
    "duration": 16162,
    "start_time": "2022-03-11T09:53:35.085Z"
   },
   {
    "duration": 6,
    "start_time": "2022-03-11T09:53:51.251Z"
   },
   {
    "duration": 44,
    "start_time": "2022-03-11T09:53:51.260Z"
   },
   {
    "duration": 291,
    "start_time": "2022-03-11T09:53:51.308Z"
   },
   {
    "duration": 736,
    "start_time": "2022-03-11T09:53:51.602Z"
   },
   {
    "duration": 28042,
    "start_time": "2022-03-11T09:53:52.340Z"
   },
   {
    "duration": 9,
    "start_time": "2022-03-11T09:54:20.386Z"
   },
   {
    "duration": 27,
    "start_time": "2022-03-11T09:54:20.398Z"
   },
   {
    "duration": 270,
    "start_time": "2022-03-11T09:54:20.427Z"
   },
   {
    "duration": 367,
    "start_time": "2022-03-11T09:54:20.700Z"
   },
   {
    "duration": 8847,
    "start_time": "2022-03-11T09:54:21.070Z"
   },
   {
    "duration": 441,
    "start_time": "2022-03-11T09:54:29.919Z"
   },
   {
    "duration": 319,
    "start_time": "2022-03-11T09:54:30.363Z"
   },
   {
    "duration": 9,
    "start_time": "2022-03-11T09:54:30.690Z"
   },
   {
    "duration": 10,
    "start_time": "2022-03-11T09:56:29.844Z"
   },
   {
    "duration": 16179,
    "start_time": "2022-03-11T09:56:33.270Z"
   },
   {
    "duration": 28114,
    "start_time": "2022-03-11T09:57:39.900Z"
   },
   {
    "duration": 203,
    "start_time": "2022-03-11T09:59:05.495Z"
   },
   {
    "duration": 188,
    "start_time": "2022-03-11T09:59:22.615Z"
   },
   {
    "duration": 222,
    "start_time": "2022-03-11T09:59:49.275Z"
   },
   {
    "duration": 211,
    "start_time": "2022-03-11T09:59:59.029Z"
   },
   {
    "duration": 8291,
    "start_time": "2022-03-11T10:00:32.820Z"
   },
   {
    "duration": 6,
    "start_time": "2022-03-11T10:04:37.526Z"
   },
   {
    "duration": 11,
    "start_time": "2022-03-11T10:05:58.507Z"
   },
   {
    "duration": 9,
    "start_time": "2022-03-11T10:06:05.869Z"
   },
   {
    "duration": 11,
    "start_time": "2022-03-11T10:06:16.268Z"
   },
   {
    "duration": 1540,
    "start_time": "2022-03-11T11:02:54.629Z"
   },
   {
    "duration": 438,
    "start_time": "2022-03-11T11:03:13.368Z"
   },
   {
    "duration": 8,
    "start_time": "2022-03-11T11:03:15.981Z"
   },
   {
    "duration": 26,
    "start_time": "2022-03-11T11:03:39.627Z"
   },
   {
    "duration": 25,
    "start_time": "2022-03-11T11:03:42.340Z"
   },
   {
    "duration": 519,
    "start_time": "2022-03-11T11:04:55.303Z"
   },
   {
    "duration": 619,
    "start_time": "2022-03-11T11:05:31.402Z"
   },
   {
    "duration": 38,
    "start_time": "2022-03-11T11:14:28.600Z"
   },
   {
    "duration": 28,
    "start_time": "2022-03-11T11:14:59.196Z"
   },
   {
    "duration": 29,
    "start_time": "2022-03-11T11:15:05.579Z"
   },
   {
    "duration": 28,
    "start_time": "2022-03-11T11:15:17.310Z"
   },
   {
    "duration": 30,
    "start_time": "2022-03-11T11:15:20.469Z"
   },
   {
    "duration": 381,
    "start_time": "2022-03-11T11:17:11.303Z"
   },
   {
    "duration": 246,
    "start_time": "2022-03-11T11:17:26.185Z"
   },
   {
    "duration": 41,
    "start_time": "2022-03-11T11:17:29.107Z"
   },
   {
    "duration": 562,
    "start_time": "2022-03-11T11:18:16.631Z"
   },
   {
    "duration": 248,
    "start_time": "2022-03-11T11:18:26.251Z"
   },
   {
    "duration": 258,
    "start_time": "2022-03-11T11:18:35.446Z"
   },
   {
    "duration": 33,
    "start_time": "2022-03-11T11:19:35.663Z"
   },
   {
    "duration": 41,
    "start_time": "2022-03-11T11:20:04.671Z"
   },
   {
    "duration": 31,
    "start_time": "2022-03-11T11:20:34.136Z"
   },
   {
    "duration": 227,
    "start_time": "2022-03-11T11:20:43.785Z"
   },
   {
    "duration": 30,
    "start_time": "2022-03-11T11:20:48.960Z"
   },
   {
    "duration": 79,
    "start_time": "2022-03-11T11:21:00.554Z"
   },
   {
    "duration": 271,
    "start_time": "2022-03-11T11:21:14.164Z"
   },
   {
    "duration": 29,
    "start_time": "2022-03-11T11:21:25.289Z"
   },
   {
    "duration": 36,
    "start_time": "2022-03-11T11:21:50.561Z"
   },
   {
    "duration": 32,
    "start_time": "2022-03-11T11:21:59.682Z"
   },
   {
    "duration": 225,
    "start_time": "2022-03-11T11:27:44.596Z"
   },
   {
    "duration": 309,
    "start_time": "2022-03-11T11:27:52.408Z"
   },
   {
    "duration": 504,
    "start_time": "2022-03-11T11:28:10.612Z"
   },
   {
    "duration": 415,
    "start_time": "2022-03-11T11:28:13.894Z"
   },
   {
    "duration": 132,
    "start_time": "2022-03-11T11:32:08.828Z"
   },
   {
    "duration": 79,
    "start_time": "2022-03-11T11:32:37.997Z"
   },
   {
    "duration": 1393,
    "start_time": "2022-03-11T11:32:54.845Z"
   },
   {
    "duration": 34,
    "start_time": "2022-03-11T11:32:56.240Z"
   },
   {
    "duration": 32,
    "start_time": "2022-03-11T11:32:56.277Z"
   },
   {
    "duration": 12,
    "start_time": "2022-03-11T11:32:56.311Z"
   },
   {
    "duration": 95,
    "start_time": "2022-03-11T11:32:56.325Z"
   },
   {
    "duration": 13,
    "start_time": "2022-03-11T11:32:56.422Z"
   },
   {
    "duration": 21,
    "start_time": "2022-03-11T11:32:56.437Z"
   },
   {
    "duration": 27,
    "start_time": "2022-03-11T11:32:56.460Z"
   },
   {
    "duration": 36,
    "start_time": "2022-03-11T11:32:56.492Z"
   },
   {
    "duration": 7,
    "start_time": "2022-03-11T11:32:56.532Z"
   },
   {
    "duration": 26,
    "start_time": "2022-03-11T11:32:56.542Z"
   },
   {
    "duration": 37,
    "start_time": "2022-03-11T11:32:56.571Z"
   },
   {
    "duration": 37,
    "start_time": "2022-03-11T11:32:56.610Z"
   },
   {
    "duration": 7,
    "start_time": "2022-03-11T11:32:56.649Z"
   },
   {
    "duration": 103,
    "start_time": "2022-03-11T11:32:56.658Z"
   },
   {
    "duration": 421,
    "start_time": "2022-03-11T11:32:56.763Z"
   },
   {
    "duration": 8,
    "start_time": "2022-03-11T11:32:57.187Z"
   },
   {
    "duration": 15,
    "start_time": "2022-03-11T11:32:57.283Z"
   },
   {
    "duration": 14,
    "start_time": "2022-03-11T11:32:57.301Z"
   },
   {
    "duration": 672,
    "start_time": "2022-03-11T11:32:57.317Z"
   },
   {
    "duration": 491,
    "start_time": "2022-03-11T11:32:57.994Z"
   },
   {
    "duration": 14355,
    "start_time": "2022-03-11T11:32:58.487Z"
   },
   {
    "duration": 6,
    "start_time": "2022-03-11T11:33:12.845Z"
   },
   {
    "duration": 39,
    "start_time": "2022-03-11T11:33:12.854Z"
   },
   {
    "duration": 802,
    "start_time": "2022-03-11T11:33:12.896Z"
   },
   {
    "duration": 626,
    "start_time": "2022-03-11T11:33:13.705Z"
   },
   {
    "duration": 28933,
    "start_time": "2022-03-11T11:33:14.336Z"
   },
   {
    "duration": 17,
    "start_time": "2022-03-11T11:33:43.271Z"
   },
   {
    "duration": 27,
    "start_time": "2022-03-11T11:33:43.293Z"
   },
   {
    "duration": 467,
    "start_time": "2022-03-11T11:33:43.323Z"
   },
   {
    "duration": 271,
    "start_time": "2022-03-11T11:33:43.793Z"
   },
   {
    "duration": 8402,
    "start_time": "2022-03-11T11:33:44.066Z"
   },
   {
    "duration": 1173,
    "start_time": "2022-03-11T11:33:52.471Z"
   },
   {
    "duration": 369,
    "start_time": "2022-03-11T11:33:53.648Z"
   },
   {
    "duration": 8,
    "start_time": "2022-03-11T11:33:54.019Z"
   },
   {
    "duration": 56,
    "start_time": "2022-03-11T11:33:54.030Z"
   },
   {
    "duration": 1587,
    "start_time": "2022-03-11T11:35:05.464Z"
   },
   {
    "duration": 41,
    "start_time": "2022-03-11T11:35:07.055Z"
   },
   {
    "duration": 20,
    "start_time": "2022-03-11T11:35:07.100Z"
   },
   {
    "duration": 12,
    "start_time": "2022-03-11T11:35:07.124Z"
   },
   {
    "duration": 90,
    "start_time": "2022-03-11T11:35:07.139Z"
   },
   {
    "duration": 13,
    "start_time": "2022-03-11T11:35:07.232Z"
   },
   {
    "duration": 9,
    "start_time": "2022-03-11T11:35:07.248Z"
   },
   {
    "duration": 8,
    "start_time": "2022-03-11T11:35:07.284Z"
   },
   {
    "duration": 25,
    "start_time": "2022-03-11T11:35:07.296Z"
   },
   {
    "duration": 9,
    "start_time": "2022-03-11T11:35:07.324Z"
   },
   {
    "duration": 19,
    "start_time": "2022-03-11T11:35:07.336Z"
   },
   {
    "duration": 40,
    "start_time": "2022-03-11T11:35:07.357Z"
   },
   {
    "duration": 20,
    "start_time": "2022-03-11T11:35:07.400Z"
   },
   {
    "duration": 4,
    "start_time": "2022-03-11T11:35:07.422Z"
   },
   {
    "duration": 100,
    "start_time": "2022-03-11T11:35:07.428Z"
   },
   {
    "duration": 862,
    "start_time": "2022-03-11T11:35:07.531Z"
   },
   {
    "duration": 95,
    "start_time": "2022-03-11T11:35:08.397Z"
   },
   {
    "duration": 13,
    "start_time": "2022-03-11T11:35:08.495Z"
   },
   {
    "duration": 12,
    "start_time": "2022-03-11T11:35:08.511Z"
   },
   {
    "duration": 358,
    "start_time": "2022-03-11T11:35:08.526Z"
   },
   {
    "duration": 505,
    "start_time": "2022-03-11T11:35:08.887Z"
   },
   {
    "duration": 18288,
    "start_time": "2022-03-11T11:35:09.394Z"
   },
   {
    "duration": 8,
    "start_time": "2022-03-11T11:35:27.690Z"
   },
   {
    "duration": 40,
    "start_time": "2022-03-11T11:35:27.703Z"
   },
   {
    "duration": 459,
    "start_time": "2022-03-11T11:35:27.746Z"
   },
   {
    "duration": 689,
    "start_time": "2022-03-11T11:35:28.286Z"
   },
   {
    "duration": 32806,
    "start_time": "2022-03-11T11:35:28.978Z"
   },
   {
    "duration": 10,
    "start_time": "2022-03-11T11:36:01.787Z"
   },
   {
    "duration": 50,
    "start_time": "2022-03-11T11:36:01.800Z"
   },
   {
    "duration": 354,
    "start_time": "2022-03-11T11:36:01.853Z"
   },
   {
    "duration": 277,
    "start_time": "2022-03-11T11:36:02.291Z"
   },
   {
    "duration": 8295,
    "start_time": "2022-03-11T11:36:02.571Z"
   },
   {
    "duration": 1102,
    "start_time": "2022-03-11T11:36:10.868Z"
   },
   {
    "duration": 335,
    "start_time": "2022-03-11T11:36:11.972Z"
   },
   {
    "duration": 7,
    "start_time": "2022-03-11T11:36:12.309Z"
   },
   {
    "duration": 27,
    "start_time": "2022-03-11T11:36:12.319Z"
   }
  ],
  "kernelspec": {
   "display_name": "Python 3 (ipykernel)",
   "language": "python",
   "name": "python3"
  },
  "language_info": {
   "codemirror_mode": {
    "name": "ipython",
    "version": 3
   },
   "file_extension": ".py",
   "mimetype": "text/x-python",
   "name": "python",
   "nbconvert_exporter": "python",
   "pygments_lexer": "ipython3",
   "version": "3.10.12"
  },
  "toc": {
   "base_numbering": 1,
   "nav_menu": {},
   "number_sections": true,
   "sideBar": true,
   "skip_h1_title": true,
   "title_cell": "Содержание",
   "title_sidebar": "Contents",
   "toc_cell": true,
   "toc_position": {
    "height": "calc(100% - 180px)",
    "left": "10px",
    "top": "150px",
    "width": "165px"
   },
   "toc_section_display": true,
   "toc_window_display": true
  }
 },
 "nbformat": 4,
 "nbformat_minor": 2
}
