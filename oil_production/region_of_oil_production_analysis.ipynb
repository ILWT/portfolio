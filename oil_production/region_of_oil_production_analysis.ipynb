{
 "cells": [
  {
   "cell_type": "markdown",
   "metadata": {},
   "source": [
    "# Выбор локации для скважины"
   ]
  },
  {
   "cell_type": "markdown",
   "metadata": {},
   "source": [
    "Задача проекта: решить, где бурить новую скважину для нефтедобывающей компании.\n",
    "\n",
    "Предоставлены пробы нефти в трёх регионах: в каждом 10 000 месторождений, где измерили качество нефти и объём её запасов. Необходимо построить модель машинного обучения, которая поможет определить регион, где добыча принесёт наибольшую прибыль. Проанализируем возможную прибыль и риски техникой *Bootstrap.*\n",
    "\n",
    "Шаги для выбора локации:\n",
    "\n",
    "- В избранном регионе ищем месторождения, для каждого определяем значения признаков;\n",
    "- Строим модель и оцениваем объём запасов;\n",
    "- Выбираем месторождения с самым высокими оценками значений. Количество месторождений зависит от бюджета компании и стоимости разработки одной скважины;\n",
    "- Прибыль равна суммарной прибыли отобранных месторождений."
   ]
  },
  {
   "cell_type": "markdown",
   "metadata": {},
   "source": [
    "Условия задачи:\n",
    "- Для обучения модели подходит только линейная регрессия (остальные — недостаточно предсказуемые).\n",
    "- При разведке региона исследуют 500 точек, из которых с помощью машинного обучения выбирают 200 лучших для разработки.\n",
    "- Бюджет на разработку скважин в регионе — 10 млрд рублей.\n",
    "- При нынешних ценах один баррель сырья приносит 450 рублей дохода. Доход с каждой единицы продукта составляет 450 тыс. рублей, поскольку объём указан в тысячах баррелей.\n",
    "- После оценки рисков нужно оставить лишь те регионы, в которых вероятность убытков меньше 2.5%. Среди них выбирают регион с наибольшей средней прибылью.\n",
    "\n",
    "Данные синтетические: детали контрактов и характеристики месторождений не разглашаются."
   ]
  },
  {
   "cell_type": "markdown",
   "metadata": {},
   "source": [
    "## Загрузка и подготовка данных"
   ]
  },
  {
   "cell_type": "markdown",
   "metadata": {},
   "source": [
    "Нам предоставлены следующие данные:\n",
    "- `id` — уникальный идентификатор скважины;\n",
    "- `f0, f1, f2` — три признака точек (обозначение признаков неизвестно, но сами признаки значимы);\n",
    "- `product` — объём запасов в скважине (тыс. баррелей)."
   ]
  },
  {
   "cell_type": "markdown",
   "metadata": {},
   "source": [
    "Для начала загрузим и изучим данные."
   ]
  },
  {
   "cell_type": "code",
   "execution_count": 1,
   "metadata": {},
   "outputs": [],
   "source": [
    "import pandas as pd\n",
    "import numpy as np\n",
    "import scipy.stats as st\n",
    "\n",
    "from sklearn.preprocessing import StandardScaler\n",
    "from sklearn.model_selection import train_test_split\n",
    "from sklearn.linear_model import LinearRegression\n",
    "from sklearn.metrics import mean_squared_error\n",
    "\n",
    "#настройка формата отображения чисел\n",
    "pd.options.display.float_format = '{:,.2f}'.format\n",
    "\n",
    "%matplotlib inline"
   ]
  },
  {
   "cell_type": "markdown",
   "metadata": {},
   "source": [
    "Данные геологоразведки трёх регионов находятся в файлах:"
   ]
  },
  {
   "cell_type": "code",
   "execution_count": 2,
   "metadata": {},
   "outputs": [],
   "source": [
    "geo_data_0 = pd.read_csv('geo_data_0.csv')\n",
    "geo_data_1 = pd.read_csv('geo_data_1.csv')\n",
    "geo_data_2 = pd.read_csv('geo_data_2.csv')"
   ]
  },
  {
   "cell_type": "code",
   "execution_count": 3,
   "metadata": {},
   "outputs": [
    {
     "name": "stdout",
     "output_type": "stream",
     "text": [
      "      id    f0    f1   f2  product\n",
      "0  txEyH  0.71 -0.50 1.22   105.28\n",
      "1  2acmU  1.33 -0.34 4.37    73.04\n",
      "2  409Wp  1.02  0.15 1.42    85.27\n",
      "3  iJLyR -0.03  0.14 2.98   168.62\n",
      "4  Xdl7t  1.99  0.16 4.75   154.04\n",
      "\n",
      "      id     f0     f1    f2  product\n",
      "0  kBEdx -15.00  -8.28 -0.01     3.18\n",
      "1  62mP7  14.27  -3.48  1.00    26.95\n",
      "2  vyE1P   6.26  -5.95  5.00   134.77\n",
      "3  KcrkZ -13.08 -11.51  5.00   137.95\n",
      "4  AHL4O  12.70  -8.15  5.00   134.77\n",
      "\n",
      "      id    f0    f1    f2  product\n",
      "0  fwXo0 -1.15  0.96 -0.83    27.76\n",
      "1  WJtFt  0.26  0.27 -2.53    56.07\n",
      "2  ovLUW  0.19  0.29 -5.59    62.87\n",
      "3  q6cA6  2.24 -0.55  0.93   114.57\n",
      "4  WPMUX -0.52  1.72  5.90   149.60\n",
      "\n",
      "\n",
      "\n",
      "<class 'pandas.core.frame.DataFrame'>\n",
      "RangeIndex: 100000 entries, 0 to 99999\n",
      "Data columns (total 5 columns):\n",
      " #   Column   Non-Null Count   Dtype  \n",
      "---  ------   --------------   -----  \n",
      " 0   id       100000 non-null  object \n",
      " 1   f0       100000 non-null  float64\n",
      " 2   f1       100000 non-null  float64\n",
      " 3   f2       100000 non-null  float64\n",
      " 4   product  100000 non-null  float64\n",
      "dtypes: float64(4), object(1)\n",
      "memory usage: 3.8+ MB\n",
      "None\n",
      "\n",
      "<class 'pandas.core.frame.DataFrame'>\n",
      "RangeIndex: 100000 entries, 0 to 99999\n",
      "Data columns (total 5 columns):\n",
      " #   Column   Non-Null Count   Dtype  \n",
      "---  ------   --------------   -----  \n",
      " 0   id       100000 non-null  object \n",
      " 1   f0       100000 non-null  float64\n",
      " 2   f1       100000 non-null  float64\n",
      " 3   f2       100000 non-null  float64\n",
      " 4   product  100000 non-null  float64\n",
      "dtypes: float64(4), object(1)\n",
      "memory usage: 3.8+ MB\n",
      "None\n",
      "\n",
      "<class 'pandas.core.frame.DataFrame'>\n",
      "RangeIndex: 100000 entries, 0 to 99999\n",
      "Data columns (total 5 columns):\n",
      " #   Column   Non-Null Count   Dtype  \n",
      "---  ------   --------------   -----  \n",
      " 0   id       100000 non-null  object \n",
      " 1   f0       100000 non-null  float64\n",
      " 2   f1       100000 non-null  float64\n",
      " 3   f2       100000 non-null  float64\n",
      " 4   product  100000 non-null  float64\n",
      "dtypes: float64(4), object(1)\n",
      "memory usage: 3.8+ MB\n",
      "None\n",
      "\n",
      "\n",
      "\n",
      "              f0         f1         f2    product\n",
      "count 100,000.00 100,000.00 100,000.00 100,000.00\n",
      "mean        0.50       0.25       2.50      92.50\n",
      "std         0.87       0.50       3.25      44.29\n",
      "min        -1.41      -0.85     -12.09       0.00\n",
      "25%        -0.07      -0.20       0.29      56.50\n",
      "50%         0.50       0.25       2.52      91.85\n",
      "75%         1.07       0.70       4.72     128.56\n",
      "max         2.36       1.34      16.00     185.36\n",
      "\n",
      "              f0         f1         f2    product\n",
      "count 100,000.00 100,000.00 100,000.00 100,000.00\n",
      "mean        1.14      -4.80       2.49      68.83\n",
      "std         8.97       5.12       1.70      45.94\n",
      "min       -31.61     -26.36      -0.02       0.00\n",
      "25%        -6.30      -8.27       1.00      26.95\n",
      "50%         1.15      -4.81       2.01      57.09\n",
      "75%         8.62      -1.33       4.00     107.81\n",
      "max        29.42      18.73       5.02     137.95\n",
      "\n",
      "              f0         f1         f2    product\n",
      "count 100,000.00 100,000.00 100,000.00 100,000.00\n",
      "mean        0.00      -0.00       2.50      95.00\n",
      "std         1.73       1.73       3.47      44.75\n",
      "min        -8.76      -7.08     -11.97       0.00\n",
      "25%        -1.16      -1.17       0.13      59.45\n",
      "50%         0.01      -0.01       2.48      94.93\n",
      "75%         1.16       1.16       4.86     130.60\n",
      "max         7.24       7.84      16.74     190.03\n",
      "\n"
     ]
    }
   ],
   "source": [
    "data = [geo_data_0, geo_data_1, geo_data_2]\n",
    "for dataset in data:\n",
    "    print(dataset.head())\n",
    "    print()\n",
    "print()\n",
    "print()\n",
    "for dataset in data:\n",
    "    print(dataset.info())\n",
    "    print()\n",
    "print()\n",
    "print()\n",
    "for dataset in data:\n",
    "    print(dataset.describe())\n",
    "    print()"
   ]
  },
  {
   "cell_type": "markdown",
   "metadata": {},
   "source": [
    "Проанализируем распределения целевого признака в различных регионах:"
   ]
  },
  {
   "cell_type": "code",
   "execution_count": 4,
   "metadata": {},
   "outputs": [
    {
     "data": {
      "text/html": [
       "<div>\n",
       "<style scoped>\n",
       "    .dataframe tbody tr th:only-of-type {\n",
       "        vertical-align: middle;\n",
       "    }\n",
       "\n",
       "    .dataframe tbody tr th {\n",
       "        vertical-align: top;\n",
       "    }\n",
       "\n",
       "    .dataframe thead th {\n",
       "        text-align: right;\n",
       "    }\n",
       "</style>\n",
       "<table border=\"1\" class=\"dataframe\">\n",
       "  <thead>\n",
       "    <tr style=\"text-align: right;\">\n",
       "      <th></th>\n",
       "      <th>Region 1</th>\n",
       "      <th>Region 2</th>\n",
       "      <th>Region 3</th>\n",
       "    </tr>\n",
       "  </thead>\n",
       "  <tbody>\n",
       "    <tr>\n",
       "      <th>count</th>\n",
       "      <td>100,000.00</td>\n",
       "      <td>100,000.00</td>\n",
       "      <td>100,000.00</td>\n",
       "    </tr>\n",
       "    <tr>\n",
       "      <th>mean</th>\n",
       "      <td>92.50</td>\n",
       "      <td>68.83</td>\n",
       "      <td>95.00</td>\n",
       "    </tr>\n",
       "    <tr>\n",
       "      <th>std</th>\n",
       "      <td>44.29</td>\n",
       "      <td>45.94</td>\n",
       "      <td>44.75</td>\n",
       "    </tr>\n",
       "    <tr>\n",
       "      <th>min</th>\n",
       "      <td>0.00</td>\n",
       "      <td>0.00</td>\n",
       "      <td>0.00</td>\n",
       "    </tr>\n",
       "    <tr>\n",
       "      <th>25%</th>\n",
       "      <td>56.50</td>\n",
       "      <td>26.95</td>\n",
       "      <td>59.45</td>\n",
       "    </tr>\n",
       "    <tr>\n",
       "      <th>50%</th>\n",
       "      <td>91.85</td>\n",
       "      <td>57.09</td>\n",
       "      <td>94.93</td>\n",
       "    </tr>\n",
       "    <tr>\n",
       "      <th>75%</th>\n",
       "      <td>128.56</td>\n",
       "      <td>107.81</td>\n",
       "      <td>130.60</td>\n",
       "    </tr>\n",
       "    <tr>\n",
       "      <th>max</th>\n",
       "      <td>185.36</td>\n",
       "      <td>137.95</td>\n",
       "      <td>190.03</td>\n",
       "    </tr>\n",
       "  </tbody>\n",
       "</table>\n",
       "</div>"
      ],
      "text/plain": [
       "        Region 1   Region 2   Region 3\n",
       "count 100,000.00 100,000.00 100,000.00\n",
       "mean       92.50      68.83      95.00\n",
       "std        44.29      45.94      44.75\n",
       "min         0.00       0.00       0.00\n",
       "25%        56.50      26.95      59.45\n",
       "50%        91.85      57.09      94.93\n",
       "75%       128.56     107.81     130.60\n",
       "max       185.36     137.95     190.03"
      ]
     },
     "execution_count": 4,
     "metadata": {},
     "output_type": "execute_result"
    }
   ],
   "source": [
    "product_destribution = pd.concat([geo_data_0['product'].describe(), geo_data_1['product'].describe(), \n",
    "                                  geo_data_2['product'].describe()], axis=1)\n",
    "product_destribution.columns = ['Region 1', 'Region 2', 'Region 3']\n",
    "product_destribution"
   ]
  },
  {
   "cell_type": "markdown",
   "metadata": {},
   "source": [
    "Мы убедились, что основные параметры распределения целевого признака в трех регионах примерно одинаковые (при этом в среднем во втором регионе значения ниже)."
   ]
  },
  {
   "cell_type": "markdown",
   "metadata": {},
   "source": [
    "## Обучение и проверка модели"
   ]
  },
  {
   "cell_type": "markdown",
   "metadata": {},
   "source": [
    "### Масштабирование признаков"
   ]
  },
  {
   "cell_type": "markdown",
   "metadata": {},
   "source": [
    "Далее подготовим данные для обучения модели. Все признаки у нас количественные, их необходимо масштабировать. Сделаем это с помощью стандартизации. Стобцец id отбросим, т. к. он не содержит значимой информации для модели."
   ]
  },
  {
   "cell_type": "code",
   "execution_count": 5,
   "metadata": {},
   "outputs": [],
   "source": [
    "#создадим словарь с датасетами для автоматизации их обработки\n",
    "datasets = {'region_1': geo_data_0, 'region_2': geo_data_1, 'region_3': geo_data_2}"
   ]
  },
  {
   "cell_type": "code",
   "execution_count": 6,
   "metadata": {},
   "outputs": [
    {
     "name": "stdout",
     "output_type": "stream",
     "text": [
      "Размер датасетов с фичами: (100000, 3)\n",
      "Размер датасетов с целевым признаком: (100000,)\n"
     ]
    }
   ],
   "source": [
    "#разделим датасеты на фичи и целевой признак\n",
    "features = {}\n",
    "targets = {}\n",
    "\n",
    "for region, dataset in datasets.items():\n",
    "    features[region] = dataset.drop(columns=['id', 'product'])\n",
    "    targets[region] = dataset['product']\n",
    "\n",
    "print(\"Размер датасетов с фичами:\", features['region_2'].shape)\n",
    "print(\"Размер датасетов с целевым признаком:\", targets['region_2'].shape)"
   ]
  },
  {
   "cell_type": "code",
   "execution_count": 7,
   "metadata": {},
   "outputs": [
    {
     "name": "stdout",
     "output_type": "stream",
     "text": [
      "Размер обучающих выборок и целевого признака (75000, 3) (75000,)\n",
      "Размер валидационных выборок и целевого признака (25000, 3) (25000,)\n"
     ]
    }
   ],
   "source": [
    "#разобьем датасеты на тренировочную и валидационную выборки\n",
    "\n",
    "features_train = {}\n",
    "features_valid = {}\n",
    "\n",
    "for region, feature in features.items():\n",
    "    features_train[region], features_valid[region] = train_test_split(\n",
    "                                                        feature, random_state = 42, train_size=0.75)\n",
    "\n",
    "    \n",
    "targets_train = {}\n",
    "targets_valid = {}  \n",
    "    \n",
    "for region, targets in targets.items():\n",
    "    targets_train[region], targets_valid[region] = train_test_split(targets, random_state = 42, train_size=0.75)\n",
    "\n",
    "\n",
    "print(\"Размер обучающих выборок и целевого признака\", features_train['region_2'].shape, \n",
    "      targets_train['region_2'].shape)\n",
    "print(\"Размер валидационных выборок и целевого признака\", features_valid['region_2'].shape, \n",
    "      targets_valid['region_2'].shape)"
   ]
  },
  {
   "cell_type": "code",
   "execution_count": 8,
   "metadata": {},
   "outputs": [],
   "source": [
    "#игнорирование предупреждения об ошибки при записи масштабированных признаков в исходный датафрейм\n",
    "pd.options.mode.chained_assignment = None\n",
    "\n",
    "#настройка скелера на обучающих датасетах и их масштабирование\n",
    "scalers = {}\n",
    "\n",
    "for region, feature_train in features_train.items():\n",
    "    scalers[region] = StandardScaler()\n",
    "    scalers[region].fit(feature_train)\n",
    "    features_train[region] = scalers[region].transform(feature_train)\n",
    "    features_train[region] = pd.DataFrame(features_train[region], columns=['f0', 'f1', 'f2'])\n",
    "\n",
    "#масштабирование количественных признаков в валидационных выборках\n",
    "for region, feature_valid in features_valid.items():\n",
    "    features_valid[region] = scalers[region].transform(feature_valid)\n",
    "    features_valid[region] = pd.DataFrame(features_valid[region], columns=['f0', 'f1', 'f2'])"
   ]
  },
  {
   "cell_type": "markdown",
   "metadata": {},
   "source": [
    "Выведем информацию о распределении масштабированных признаков:"
   ]
  },
  {
   "cell_type": "code",
   "execution_count": 9,
   "metadata": {},
   "outputs": [
    {
     "data": {
      "text/html": [
       "<div>\n",
       "<style scoped>\n",
       "    .dataframe tbody tr th:only-of-type {\n",
       "        vertical-align: middle;\n",
       "    }\n",
       "\n",
       "    .dataframe tbody tr th {\n",
       "        vertical-align: top;\n",
       "    }\n",
       "\n",
       "    .dataframe thead th {\n",
       "        text-align: right;\n",
       "    }\n",
       "</style>\n",
       "<table border=\"1\" class=\"dataframe\">\n",
       "  <thead>\n",
       "    <tr style=\"text-align: right;\">\n",
       "      <th></th>\n",
       "      <th>f0</th>\n",
       "      <th>f1</th>\n",
       "      <th>f2</th>\n",
       "      <th>f0</th>\n",
       "      <th>f1</th>\n",
       "      <th>f2</th>\n",
       "      <th>f0</th>\n",
       "      <th>f1</th>\n",
       "      <th>f2</th>\n",
       "    </tr>\n",
       "  </thead>\n",
       "  <tbody>\n",
       "    <tr>\n",
       "      <th>count</th>\n",
       "      <td>75,000.00</td>\n",
       "      <td>75,000.00</td>\n",
       "      <td>75,000.00</td>\n",
       "      <td>75,000.00</td>\n",
       "      <td>75,000.00</td>\n",
       "      <td>75,000.00</td>\n",
       "      <td>75,000.00</td>\n",
       "      <td>75,000.00</td>\n",
       "      <td>75,000.00</td>\n",
       "    </tr>\n",
       "    <tr>\n",
       "      <th>mean</th>\n",
       "      <td>-0.00</td>\n",
       "      <td>0.00</td>\n",
       "      <td>0.00</td>\n",
       "      <td>-0.00</td>\n",
       "      <td>0.00</td>\n",
       "      <td>0.00</td>\n",
       "      <td>0.00</td>\n",
       "      <td>-0.00</td>\n",
       "      <td>-0.00</td>\n",
       "    </tr>\n",
       "    <tr>\n",
       "      <th>std</th>\n",
       "      <td>1.00</td>\n",
       "      <td>1.00</td>\n",
       "      <td>1.00</td>\n",
       "      <td>1.00</td>\n",
       "      <td>1.00</td>\n",
       "      <td>1.00</td>\n",
       "      <td>1.00</td>\n",
       "      <td>1.00</td>\n",
       "      <td>1.00</td>\n",
       "    </tr>\n",
       "    <tr>\n",
       "      <th>min</th>\n",
       "      <td>-2.19</td>\n",
       "      <td>-2.18</td>\n",
       "      <td>-3.89</td>\n",
       "      <td>-3.65</td>\n",
       "      <td>-4.21</td>\n",
       "      <td>-1.48</td>\n",
       "      <td>-5.06</td>\n",
       "      <td>-4.09</td>\n",
       "      <td>-4.16</td>\n",
       "    </tr>\n",
       "    <tr>\n",
       "      <th>25%</th>\n",
       "      <td>-0.66</td>\n",
       "      <td>-0.89</td>\n",
       "      <td>-0.68</td>\n",
       "      <td>-0.83</td>\n",
       "      <td>-0.68</td>\n",
       "      <td>-0.88</td>\n",
       "      <td>-0.67</td>\n",
       "      <td>-0.68</td>\n",
       "      <td>-0.68</td>\n",
       "    </tr>\n",
       "    <tr>\n",
       "      <th>50%</th>\n",
       "      <td>0.00</td>\n",
       "      <td>0.00</td>\n",
       "      <td>0.00</td>\n",
       "      <td>0.00</td>\n",
       "      <td>-0.00</td>\n",
       "      <td>-0.28</td>\n",
       "      <td>0.00</td>\n",
       "      <td>-0.00</td>\n",
       "      <td>-0.00</td>\n",
       "    </tr>\n",
       "    <tr>\n",
       "      <th>75%</th>\n",
       "      <td>0.65</td>\n",
       "      <td>0.89</td>\n",
       "      <td>0.68</td>\n",
       "      <td>0.83</td>\n",
       "      <td>0.68</td>\n",
       "      <td>0.88</td>\n",
       "      <td>0.67</td>\n",
       "      <td>0.67</td>\n",
       "      <td>0.68</td>\n",
       "    </tr>\n",
       "    <tr>\n",
       "      <th>max</th>\n",
       "      <td>2.14</td>\n",
       "      <td>2.15</td>\n",
       "      <td>4.15</td>\n",
       "      <td>3.16</td>\n",
       "      <td>4.21</td>\n",
       "      <td>1.48</td>\n",
       "      <td>4.18</td>\n",
       "      <td>4.53</td>\n",
       "      <td>4.10</td>\n",
       "    </tr>\n",
       "  </tbody>\n",
       "</table>\n",
       "</div>"
      ],
      "text/plain": [
       "             f0        f1        f2        f0        f1        f2        f0  \\\n",
       "count 75,000.00 75,000.00 75,000.00 75,000.00 75,000.00 75,000.00 75,000.00   \n",
       "mean      -0.00      0.00      0.00     -0.00      0.00      0.00      0.00   \n",
       "std        1.00      1.00      1.00      1.00      1.00      1.00      1.00   \n",
       "min       -2.19     -2.18     -3.89     -3.65     -4.21     -1.48     -5.06   \n",
       "25%       -0.66     -0.89     -0.68     -0.83     -0.68     -0.88     -0.67   \n",
       "50%        0.00      0.00      0.00      0.00     -0.00     -0.28      0.00   \n",
       "75%        0.65      0.89      0.68      0.83      0.68      0.88      0.67   \n",
       "max        2.14      2.15      4.15      3.16      4.21      1.48      4.18   \n",
       "\n",
       "             f1        f2  \n",
       "count 75,000.00 75,000.00  \n",
       "mean      -0.00     -0.00  \n",
       "std        1.00      1.00  \n",
       "min       -4.09     -4.16  \n",
       "25%       -0.68     -0.68  \n",
       "50%       -0.00     -0.00  \n",
       "75%        0.67      0.68  \n",
       "max        4.53      4.10  "
      ]
     },
     "execution_count": 9,
     "metadata": {},
     "output_type": "execute_result"
    }
   ],
   "source": [
    "pd.concat([features_train['region_1'].describe(), features_train['region_2'].describe(), \n",
    "           features_train['region_3'].describe()], axis=1)"
   ]
  },
  {
   "cell_type": "code",
   "execution_count": 10,
   "metadata": {},
   "outputs": [
    {
     "data": {
      "text/html": [
       "<div>\n",
       "<style scoped>\n",
       "    .dataframe tbody tr th:only-of-type {\n",
       "        vertical-align: middle;\n",
       "    }\n",
       "\n",
       "    .dataframe tbody tr th {\n",
       "        vertical-align: top;\n",
       "    }\n",
       "\n",
       "    .dataframe thead th {\n",
       "        text-align: right;\n",
       "    }\n",
       "</style>\n",
       "<table border=\"1\" class=\"dataframe\">\n",
       "  <thead>\n",
       "    <tr style=\"text-align: right;\">\n",
       "      <th></th>\n",
       "      <th>f0</th>\n",
       "      <th>f1</th>\n",
       "      <th>f2</th>\n",
       "      <th>f0</th>\n",
       "      <th>f1</th>\n",
       "      <th>f2</th>\n",
       "      <th>f0</th>\n",
       "      <th>f1</th>\n",
       "      <th>f2</th>\n",
       "    </tr>\n",
       "  </thead>\n",
       "  <tbody>\n",
       "    <tr>\n",
       "      <th>count</th>\n",
       "      <td>25,000.00</td>\n",
       "      <td>25,000.00</td>\n",
       "      <td>25,000.00</td>\n",
       "      <td>25,000.00</td>\n",
       "      <td>25,000.00</td>\n",
       "      <td>25,000.00</td>\n",
       "      <td>25,000.00</td>\n",
       "      <td>25,000.00</td>\n",
       "      <td>25,000.00</td>\n",
       "    </tr>\n",
       "    <tr>\n",
       "      <th>mean</th>\n",
       "      <td>0.00</td>\n",
       "      <td>-0.01</td>\n",
       "      <td>-0.01</td>\n",
       "      <td>0.01</td>\n",
       "      <td>0.01</td>\n",
       "      <td>-0.00</td>\n",
       "      <td>-0.00</td>\n",
       "      <td>0.01</td>\n",
       "      <td>-0.01</td>\n",
       "    </tr>\n",
       "    <tr>\n",
       "      <th>std</th>\n",
       "      <td>1.00</td>\n",
       "      <td>1.01</td>\n",
       "      <td>1.00</td>\n",
       "      <td>1.00</td>\n",
       "      <td>1.00</td>\n",
       "      <td>1.00</td>\n",
       "      <td>1.00</td>\n",
       "      <td>1.00</td>\n",
       "      <td>1.00</td>\n",
       "    </tr>\n",
       "    <tr>\n",
       "      <th>min</th>\n",
       "      <td>-2.02</td>\n",
       "      <td>-2.18</td>\n",
       "      <td>-4.49</td>\n",
       "      <td>-2.89</td>\n",
       "      <td>-4.02</td>\n",
       "      <td>-1.48</td>\n",
       "      <td>-3.53</td>\n",
       "      <td>-3.87</td>\n",
       "      <td>-3.95</td>\n",
       "    </tr>\n",
       "    <tr>\n",
       "      <th>25%</th>\n",
       "      <td>-0.65</td>\n",
       "      <td>-0.92</td>\n",
       "      <td>-0.69</td>\n",
       "      <td>-0.82</td>\n",
       "      <td>-0.67</td>\n",
       "      <td>-0.88</td>\n",
       "      <td>-0.68</td>\n",
       "      <td>-0.67</td>\n",
       "      <td>-0.69</td>\n",
       "    </tr>\n",
       "    <tr>\n",
       "      <th>50%</th>\n",
       "      <td>0.00</td>\n",
       "      <td>-0.01</td>\n",
       "      <td>-0.01</td>\n",
       "      <td>-0.00</td>\n",
       "      <td>0.00</td>\n",
       "      <td>-0.29</td>\n",
       "      <td>0.00</td>\n",
       "      <td>0.00</td>\n",
       "      <td>-0.02</td>\n",
       "    </tr>\n",
       "    <tr>\n",
       "      <th>75%</th>\n",
       "      <td>0.67</td>\n",
       "      <td>0.90</td>\n",
       "      <td>0.67</td>\n",
       "      <td>0.84</td>\n",
       "      <td>0.68</td>\n",
       "      <td>0.88</td>\n",
       "      <td>0.67</td>\n",
       "      <td>0.68</td>\n",
       "      <td>0.67</td>\n",
       "    </tr>\n",
       "    <tr>\n",
       "      <th>max</th>\n",
       "      <td>2.04</td>\n",
       "      <td>2.17</td>\n",
       "      <td>3.85</td>\n",
       "      <td>3.04</td>\n",
       "      <td>4.60</td>\n",
       "      <td>1.48</td>\n",
       "      <td>4.17</td>\n",
       "      <td>4.48</td>\n",
       "      <td>3.78</td>\n",
       "    </tr>\n",
       "  </tbody>\n",
       "</table>\n",
       "</div>"
      ],
      "text/plain": [
       "             f0        f1        f2        f0        f1        f2        f0  \\\n",
       "count 25,000.00 25,000.00 25,000.00 25,000.00 25,000.00 25,000.00 25,000.00   \n",
       "mean       0.00     -0.01     -0.01      0.01      0.01     -0.00     -0.00   \n",
       "std        1.00      1.01      1.00      1.00      1.00      1.00      1.00   \n",
       "min       -2.02     -2.18     -4.49     -2.89     -4.02     -1.48     -3.53   \n",
       "25%       -0.65     -0.92     -0.69     -0.82     -0.67     -0.88     -0.68   \n",
       "50%        0.00     -0.01     -0.01     -0.00      0.00     -0.29      0.00   \n",
       "75%        0.67      0.90      0.67      0.84      0.68      0.88      0.67   \n",
       "max        2.04      2.17      3.85      3.04      4.60      1.48      4.17   \n",
       "\n",
       "             f1        f2  \n",
       "count 25,000.00 25,000.00  \n",
       "mean       0.01     -0.01  \n",
       "std        1.00      1.00  \n",
       "min       -3.87     -3.95  \n",
       "25%       -0.67     -0.69  \n",
       "50%        0.00     -0.02  \n",
       "75%        0.68      0.67  \n",
       "max        4.48      3.78  "
      ]
     },
     "execution_count": 10,
     "metadata": {},
     "output_type": "execute_result"
    }
   ],
   "source": [
    "pd.concat([features_valid['region_1'].describe(), features_valid['region_2'].describe(), \n",
    "           features_valid['region_3'].describe()], axis=1)"
   ]
  },
  {
   "cell_type": "markdown",
   "metadata": {},
   "source": [
    "Стандартное отклонение выбранных признаков равно единице, а среднее нулю. Стандартизация выполнена успешно."
   ]
  },
  {
   "cell_type": "markdown",
   "metadata": {},
   "source": [
    "### Обучение модели"
   ]
  },
  {
   "cell_type": "markdown",
   "metadata": {},
   "source": [
    "Обучим модель линейной регрессии и сделаем предсказания на валидационной выборке."
   ]
  },
  {
   "cell_type": "code",
   "execution_count": 11,
   "metadata": {},
   "outputs": [],
   "source": [
    "#напишем функцию обучения модели\n",
    "def model_fit(features_train, target_train):\n",
    "    model = LinearRegression()\n",
    "    model.fit(features_train, target_train)\n",
    "    return model\n",
    "\n",
    "#напишем функцию предсказания значений\n",
    "def model_predict(features_valid, region):\n",
    "    prediction = models[region].predict(features_valid)\n",
    "    return prediction"
   ]
  },
  {
   "cell_type": "code",
   "execution_count": 12,
   "metadata": {},
   "outputs": [],
   "source": [
    "#обучим модель и рассчитаем предсказания для трех регионов\n",
    "models = {}\n",
    "\n",
    "for (region, feature_train), (region, target_train) in zip(features_train.items(), targets_train.items()):\n",
    "    models[region] = model_fit(feature_train, target_train)\n",
    "    \n",
    "    \n",
    "predictions = {}\n",
    "\n",
    "for region, feature_valid in features_valid.items():\n",
    "    predictions[region] = model_predict(feature_valid, region)"
   ]
  },
  {
   "cell_type": "code",
   "execution_count": 13,
   "metadata": {},
   "outputs": [
    {
     "data": {
      "text/html": [
       "<div>\n",
       "<style scoped>\n",
       "    .dataframe tbody tr th:only-of-type {\n",
       "        vertical-align: middle;\n",
       "    }\n",
       "\n",
       "    .dataframe tbody tr th {\n",
       "        vertical-align: top;\n",
       "    }\n",
       "\n",
       "    .dataframe thead th {\n",
       "        text-align: right;\n",
       "    }\n",
       "</style>\n",
       "<table border=\"1\" class=\"dataframe\">\n",
       "  <thead>\n",
       "    <tr style=\"text-align: right;\">\n",
       "      <th></th>\n",
       "      <th>region_1</th>\n",
       "      <th>region_2</th>\n",
       "      <th>region_3</th>\n",
       "    </tr>\n",
       "  </thead>\n",
       "  <tbody>\n",
       "    <tr>\n",
       "      <th>mean_predicted</th>\n",
       "      <td>92.40</td>\n",
       "      <td>68.71</td>\n",
       "      <td>94.77</td>\n",
       "    </tr>\n",
       "    <tr>\n",
       "      <th>mean_factual</th>\n",
       "      <td>92.50</td>\n",
       "      <td>68.83</td>\n",
       "      <td>95.00</td>\n",
       "    </tr>\n",
       "    <tr>\n",
       "      <th>RMSE</th>\n",
       "      <td>37.76</td>\n",
       "      <td>0.89</td>\n",
       "      <td>40.15</td>\n",
       "    </tr>\n",
       "  </tbody>\n",
       "</table>\n",
       "</div>"
      ],
      "text/plain": [
       "                region_1  region_2  region_3\n",
       "mean_predicted     92.40     68.71     94.77\n",
       "mean_factual       92.50     68.83     95.00\n",
       "RMSE               37.76      0.89     40.15"
      ]
     },
     "execution_count": 13,
     "metadata": {},
     "output_type": "execute_result"
    }
   ],
   "source": [
    "#создадим датафрейм со средними значениями предсказаний и RMSE в разрезе регионов\n",
    "\n",
    "region_names = ['region_1', 'region_2', 'region_3']\n",
    "region_predictions_mean = []\n",
    "region_RMSE = []\n",
    "region_factual_mean = []\n",
    "\n",
    "for region in region_names:\n",
    "    \n",
    "    region_predictions_mean.append(predictions[region].mean())\n",
    "    \n",
    "    region_RMSE.append((\n",
    "                        mean_squared_error\n",
    "                       (targets_valid[region], predictions[region]) ** 0.5)\n",
    "                      )\n",
    "    \n",
    "    region_factual_mean.append(datasets[region]['product'].mean())\n",
    "\n",
    "    \n",
    "indicators = pd.DataFrame(\n",
    "        {'mean_predicted': region_predictions_mean,\n",
    "         'mean_factual': region_factual_mean,\n",
    "         'RMSE': region_RMSE, \n",
    "        }, \n",
    "    index=region_names).transpose()\n",
    "\n",
    "indicators"
   ]
  },
  {
   "cell_type": "code",
   "execution_count": 14,
   "metadata": {},
   "outputs": [
    {
     "name": "stdout",
     "output_type": "stream",
     "text": [
      "Коэффициенты признаков обученных моделей\n"
     ]
    },
    {
     "data": {
      "text/html": [
       "<div>\n",
       "<style scoped>\n",
       "    .dataframe tbody tr th:only-of-type {\n",
       "        vertical-align: middle;\n",
       "    }\n",
       "\n",
       "    .dataframe tbody tr th {\n",
       "        vertical-align: top;\n",
       "    }\n",
       "\n",
       "    .dataframe thead th {\n",
       "        text-align: right;\n",
       "    }\n",
       "</style>\n",
       "<table border=\"1\" class=\"dataframe\">\n",
       "  <thead>\n",
       "    <tr style=\"text-align: right;\">\n",
       "      <th></th>\n",
       "      <th>region_1</th>\n",
       "      <th>region_2</th>\n",
       "      <th>region_3</th>\n",
       "    </tr>\n",
       "  </thead>\n",
       "  <tbody>\n",
       "    <tr>\n",
       "      <th>f0</th>\n",
       "      <td>3.34</td>\n",
       "      <td>-1.30</td>\n",
       "      <td>-0.15</td>\n",
       "    </tr>\n",
       "    <tr>\n",
       "      <th>f1</th>\n",
       "      <td>-7.18</td>\n",
       "      <td>-0.11</td>\n",
       "      <td>-0.03</td>\n",
       "    </tr>\n",
       "    <tr>\n",
       "      <th>f2</th>\n",
       "      <td>21.42</td>\n",
       "      <td>45.91</td>\n",
       "      <td>19.99</td>\n",
       "    </tr>\n",
       "  </tbody>\n",
       "</table>\n",
       "</div>"
      ],
      "text/plain": [
       "    region_1  region_2  region_3\n",
       "f0      3.34     -1.30     -0.15\n",
       "f1     -7.18     -0.11     -0.03\n",
       "f2     21.42     45.91     19.99"
      ]
     },
     "execution_count": 14,
     "metadata": {},
     "output_type": "execute_result"
    }
   ],
   "source": [
    "#выведем на экран датафрейм с коэффициентами моделей для различных регионов\n",
    "print('Коэффициенты признаков обученных моделей')\n",
    "\n",
    "pd.DataFrame(\n",
    "        {'region_1': models['region_1'].coef_,\n",
    "        'region_2': models['region_2'].coef_,\n",
    "        'region_3': models['region_3'].coef_\n",
    "        },\n",
    "    index=['f0', 'f1', 'f2'])"
   ]
  },
  {
   "cell_type": "markdown",
   "metadata": {},
   "source": [
    "### Выводы"
   ]
  },
  {
   "cell_type": "markdown",
   "metadata": {},
   "source": [
    "По итогам предсказаний модели мы можем сделать следующие выводы:\n",
    "1. Средние предсказанные запасы сырья в 1-м и 3-м регионах примерно одинаковы, а во 2-м регионе существенно ниже. При этом средние значения предсказаний близки к истинным средним, полученным из исходных датасетов.\n",
    "\n",
    "\n",
    "2. Значения RMSE для 1-го и 3-го регионов достаточно большие относительно средних значений. Однако, т. к. мы будем использовать предсказания модели для определения наиболее богатых месторождений (их ранжирования), нам важна относительная погрешность, а не абсолютная. Низкое значение RMSE для 2-го региона объясняется высокой корреляцией между одним из признаков (f2) и целевым признаком в датасете, что позволило модели сделать точные предсказания на основе этого признака. \n",
    "\n",
    "\n",
    "3. Во всех регионах наибольший вклад в значение целевого признака вносит признак f2."
   ]
  },
  {
   "cell_type": "markdown",
   "metadata": {},
   "source": [
    "## Подготовка к расчёту прибыли"
   ]
  },
  {
   "cell_type": "markdown",
   "metadata": {},
   "source": [
    "На данном шаге определим необходимые параметры, а также напишем функцию для расчета прибыли от разработки месторождений в различных регионах. Для удобства расчеты будем проводить в тысячах рублей."
   ]
  },
  {
   "cell_type": "code",
   "execution_count": 15,
   "metadata": {},
   "outputs": [],
   "source": [
    "#определим и запишем небходимые для расчета переменные\n",
    "REVENUE_FOR_THSND_BARRELS = 450\n",
    "TOTAL_BUDGET = 10000000\n",
    "OILFIELDS_COUNT_FOR_PRODUCTION = 200\n",
    "OILFIELDS_COUNT_FOR_RESEARCH = 500\n",
    "WELL_COST = TOTAL_BUDGET / OILFIELDS_COUNT_FOR_PRODUCTION"
   ]
  },
  {
   "cell_type": "code",
   "execution_count": 16,
   "metadata": {},
   "outputs": [
    {
     "name": "stdout",
     "output_type": "stream",
     "text": [
      "Минимальный запас сырья для безубыточной разработки месторождения, тыс. барр.: 111.11111111111111\n",
      "\n",
      "Средние запасы сырья в месторождениях:\n"
     ]
    },
    {
     "data": {
      "text/plain": [
       "region_1   92.50\n",
       "region_2   68.83\n",
       "region_3   95.00\n",
       "Name: mean_factual, dtype: float64"
      ]
     },
     "execution_count": 16,
     "metadata": {},
     "output_type": "execute_result"
    }
   ],
   "source": [
    "#рассчитаем объем сырья, необходимый для безубыточной разработки одной скважины\n",
    "minimal_production = WELL_COST / REVENUE_FOR_THSND_BARRELS\n",
    "\n",
    "print('Минимальный запас сырья для безубыточной разработки месторождения, тыс. барр.:', minimal_production)\n",
    "print()\n",
    "\n",
    "print('Средние запасы сырья в месторождениях:')\n",
    "indicators.loc['mean_factual']"
   ]
  },
  {
   "cell_type": "markdown",
   "metadata": {},
   "source": [
    "На основе расчетов мы можем сделать вывод, что средних значений запасов нефти ни в одном из трех регионов недостаточно для безубыточной разработки новых месторождений. Далее с помощью обученных моделей отберем наиболее богатые месторождения и проанализируем достаточность запасов в них."
   ]
  },
  {
   "cell_type": "markdown",
   "metadata": {},
   "source": [
    "## Расчёт прибыли и рисков "
   ]
  },
  {
   "cell_type": "markdown",
   "metadata": {},
   "source": [
    "С помощью предсказаний обученных моделей определим 200 наиболее перспективных месторождений для разработки и рассчитаем достаточность фактически разведанных в них запасов для получения прибыли."
   ]
  },
  {
   "cell_type": "code",
   "execution_count": 17,
   "metadata": {},
   "outputs": [],
   "source": [
    "#напишем функцию для расчета запасов нефти\n",
    "def oil_reserve_calc(targets, predictions, region):\n",
    "    \n",
    "    predictions_sorted = pd.Series(predictions).sort_values(ascending=False)\n",
    "    selected = (pd.Series(targets[region])\n",
    "                .iloc[predictions_sorted.index]\n",
    "                [:OILFIELDS_COUNT_FOR_PRODUCTION])\n",
    "    return selected.sum()"
   ]
  },
  {
   "cell_type": "code",
   "execution_count": 18,
   "metadata": {
    "scrolled": true
   },
   "outputs": [
    {
     "data": {
      "text/html": [
       "<div>\n",
       "<style scoped>\n",
       "    .dataframe tbody tr th:only-of-type {\n",
       "        vertical-align: middle;\n",
       "    }\n",
       "\n",
       "    .dataframe tbody tr th {\n",
       "        vertical-align: top;\n",
       "    }\n",
       "\n",
       "    .dataframe thead th {\n",
       "        text-align: right;\n",
       "    }\n",
       "</style>\n",
       "<table border=\"1\" class=\"dataframe\">\n",
       "  <thead>\n",
       "    <tr style=\"text-align: right;\">\n",
       "      <th></th>\n",
       "      <th>region_1</th>\n",
       "      <th>region_2</th>\n",
       "      <th>region_3</th>\n",
       "    </tr>\n",
       "  </thead>\n",
       "  <tbody>\n",
       "    <tr>\n",
       "      <th>oil_reserves</th>\n",
       "      <td>29,686.98</td>\n",
       "      <td>27,589.08</td>\n",
       "      <td>27,996.83</td>\n",
       "    </tr>\n",
       "    <tr>\n",
       "      <th>profit</th>\n",
       "      <td>3,359,141.11</td>\n",
       "      <td>2,415,086.70</td>\n",
       "      <td>2,598,571.76</td>\n",
       "    </tr>\n",
       "  </tbody>\n",
       "</table>\n",
       "</div>"
      ],
      "text/plain": [
       "                 region_1     region_2     region_3\n",
       "oil_reserves    29,686.98    27,589.08    27,996.83\n",
       "profit       3,359,141.11 2,415,086.70 2,598,571.76"
      ]
     },
     "execution_count": 18,
     "metadata": {},
     "output_type": "execute_result"
    }
   ],
   "source": [
    "#создадим датафрейм с рассчитанными значениями прибыли на основе наилучших месторождений для каждого региона\n",
    "\n",
    "oil_reserves = []\n",
    "profit = []\n",
    "\n",
    "for region, prediction in predictions.items():\n",
    "    \n",
    "    oil_reserves_region = oil_reserve_calc(targets_valid, prediction, region)\n",
    "    \n",
    "    oil_reserves.append(oil_reserves_region)\n",
    "    \n",
    "    profit.append(oil_reserves_region * REVENUE_FOR_THSND_BARRELS - TOTAL_BUDGET)\n",
    "    \n",
    "pd.DataFrame(\n",
    "        {'oil_reserves': oil_reserves,\n",
    "         'profit': profit\n",
    "        }, \n",
    "    index=region_names).transpose()"
   ]
  },
  {
   "cell_type": "markdown",
   "metadata": {},
   "source": [
    "При отборе 200 лучших месторождений в каждом из регионов прибыль получилась положительной. \n",
    "\n",
    "При этом запасы нефти и прибыль во втором регионе несущественно меньше, чем в третьем, несмотря на большую разницу в средних значениях запаса нефти, выявленную на предыдующих этапах исследования. Это можно объяснить более высокой концентрацией запасов в самых богатых месторождениях второго региона по сравнению с третьим."
   ]
  },
  {
   "cell_type": "markdown",
   "metadata": {},
   "source": [
    "Далее посчитаем риски и прибыль для каждого региона. Применим технику Bootstrap с 1000 выборок, чтобы найти распределение прибыли."
   ]
  },
  {
   "cell_type": "code",
   "execution_count": 19,
   "metadata": {},
   "outputs": [],
   "source": [
    "#напишем функцию для расчета прибыли для применения в бутстрепе\n",
    "def revenue(target, predictions):\n",
    "    \n",
    "    predictions = pd.Series(predictions)\n",
    "    predictions_sorted = predictions.sort_values(ascending=False)\n",
    "    selected = target[predictions_sorted.index][:OILFIELDS_COUNT_FOR_PRODUCTION]\n",
    "    profit = selected.sum() * REVENUE_FOR_THSND_BARRELS - TOTAL_BUDGET\n",
    "    return profit"
   ]
  },
  {
   "cell_type": "code",
   "execution_count": 20,
   "metadata": {},
   "outputs": [],
   "source": [
    "state = np.random.RandomState(42)\n",
    "    \n",
    "\n",
    "#бутстреп с 1000 повторений, где 500 - кол-во анализируемых месторождений, \n",
    "# 200 - кол-во месторождений, планируемых к разработке\n",
    "def bootstrap (target, predictions):\n",
    "    \n",
    "    values = []\n",
    "    \n",
    "    for i in range(1000):\n",
    "        target = pd.Series(target).reset_index(drop=True)\n",
    "        target_subsample = target.sample(n=500, replace=True, random_state=state)\n",
    "        predictions_subsample = pd.Series(predictions)[target_subsample.index]\n",
    "        \n",
    "        rev = revenue(target_subsample, predictions_subsample)\n",
    "        values.append(rev)\n",
    "        \n",
    "    values = pd.Series(values)\n",
    "    \n",
    "    profit_mean = values.mean()\n",
    "    \n",
    "    confidence_interval = (values.quantile(0.025), values.quantile(0.975))\n",
    "        \n",
    "    count = 0\n",
    "    for i in range(len(values)):\n",
    "        if values[i] < 0:\n",
    "            count += 1\n",
    "        \n",
    "    loss_risk_percent = count / len(values) * 100\n",
    "    \n",
    "    return profit_mean, confidence_interval, loss_risk_percent"
   ]
  },
  {
   "cell_type": "code",
   "execution_count": 21,
   "metadata": {},
   "outputs": [],
   "source": [
    "profit_mean_region_1, confidence_interval, loss_risk_percent  = bootstrap(\n",
    "    targets_valid['region_1'], predictions['region_1'])"
   ]
  },
  {
   "cell_type": "code",
   "execution_count": 22,
   "metadata": {},
   "outputs": [],
   "source": [
    "profit_mean = {}\n",
    "confidence_intervals = {}\n",
    "loss_risk_percent = {}\n",
    "\n",
    "for (region, target), (region, prediction) in zip(targets_valid.items(), predictions.items()):\n",
    "    profit_mean[region], confidence_intervals[region], loss_risk_percent[region] = bootstrap(target, prediction)"
   ]
  },
  {
   "cell_type": "code",
   "execution_count": 23,
   "metadata": {},
   "outputs": [
    {
     "data": {
      "text/html": [
       "<div>\n",
       "<style scoped>\n",
       "    .dataframe tbody tr th:only-of-type {\n",
       "        vertical-align: middle;\n",
       "    }\n",
       "\n",
       "    .dataframe tbody tr th {\n",
       "        vertical-align: top;\n",
       "    }\n",
       "\n",
       "    .dataframe thead th {\n",
       "        text-align: right;\n",
       "    }\n",
       "</style>\n",
       "<table border=\"1\" class=\"dataframe\">\n",
       "  <thead>\n",
       "    <tr style=\"text-align: right;\">\n",
       "      <th></th>\n",
       "      <th>region_1</th>\n",
       "      <th>region_2</th>\n",
       "      <th>region_3</th>\n",
       "    </tr>\n",
       "  </thead>\n",
       "  <tbody>\n",
       "    <tr>\n",
       "      <th>profit_mean</th>\n",
       "      <td>450,083.47</td>\n",
       "      <td>501,333.92</td>\n",
       "      <td>394,436.69</td>\n",
       "    </tr>\n",
       "    <tr>\n",
       "      <th>confidence_intervals</th>\n",
       "      <td>(-44486.92448507527, 972499.6712774887)</td>\n",
       "      <td>(72401.51090591788, 919399.9638429123)</td>\n",
       "      <td>(-151950.95935870882, 901488.1437388246)</td>\n",
       "    </tr>\n",
       "    <tr>\n",
       "      <th>loss_risk_percent</th>\n",
       "      <td>4.50</td>\n",
       "      <td>0.60</td>\n",
       "      <td>8.30</td>\n",
       "    </tr>\n",
       "  </tbody>\n",
       "</table>\n",
       "</div>"
      ],
      "text/plain": [
       "                                                     region_1  \\\n",
       "profit_mean                                        450,083.47   \n",
       "confidence_intervals  (-44486.92448507527, 972499.6712774887)   \n",
       "loss_risk_percent                                        4.50   \n",
       "\n",
       "                                                    region_2  \\\n",
       "profit_mean                                       501,333.92   \n",
       "confidence_intervals  (72401.51090591788, 919399.9638429123)   \n",
       "loss_risk_percent                                       0.60   \n",
       "\n",
       "                                                      region_3  \n",
       "profit_mean                                         394,436.69  \n",
       "confidence_intervals  (-151950.95935870882, 901488.1437388246)  \n",
       "loss_risk_percent                                         8.30  "
      ]
     },
     "execution_count": 23,
     "metadata": {},
     "output_type": "execute_result"
    }
   ],
   "source": [
    "final_results = pd.DataFrame.from_dict([profit_mean, confidence_intervals, loss_risk_percent])\n",
    "final_results.index=(['profit_mean', 'confidence_intervals', 'loss_risk_percent'])\n",
    "final_results"
   ]
  },
  {
   "cell_type": "markdown",
   "metadata": {},
   "source": [
    "### Вывод"
   ]
  },
  {
   "cell_type": "markdown",
   "metadata": {},
   "source": [
    "По условиям бизнес-задачи для разработки подходят только регионы с риском убытков менее 2.5%. По итогам применения техники бутстрепа единственным таким регионом является регион №2 (риск убытков 0.6%). Также это регион с наибольшей средней прибылью (501.3 млн руб.). С вероятностью 95% прибыль от разработки месторождений в данном регионе будет находиться в интервале от 72.4 до 919.4 млн руб.\n",
    "\n",
    "При этом при первоначальном анализе средние запасы нефти в месторождениях второго региона были ниже, чем в 1-м и 3-м регионах. Разница между результатами первоначального анализа и итоговыми выводами на основе данных бутстрепа обусловлена распределением запасов в данном регионе (более равномерное, чем в 1-м и 3-м)."
   ]
  }
 ],
 "metadata": {
  "ExecuteTimeLog": [
   {
    "duration": 997,
    "start_time": "2022-03-12T14:46:25.241Z"
   },
   {
    "duration": 374,
    "start_time": "2022-03-12T14:47:25.442Z"
   },
   {
    "duration": 56,
    "start_time": "2022-03-12T14:50:04.283Z"
   },
   {
    "duration": 17706,
    "start_time": "2022-03-12T14:50:09.466Z"
   },
   {
    "duration": 2243,
    "start_time": "2022-03-12T14:51:23.563Z"
   },
   {
    "duration": 504,
    "start_time": "2022-03-12T14:51:30.872Z"
   },
   {
    "duration": 381,
    "start_time": "2022-03-12T14:51:33.829Z"
   },
   {
    "duration": 4463,
    "start_time": "2022-03-12T14:52:34.049Z"
   },
   {
    "duration": 10023,
    "start_time": "2022-03-12T14:53:42.650Z"
   },
   {
    "duration": 3,
    "start_time": "2022-03-12T14:53:52.676Z"
   },
   {
    "duration": 11,
    "start_time": "2022-03-12T14:54:11.826Z"
   },
   {
    "duration": 285,
    "start_time": "2022-03-12T14:54:29.893Z"
   },
   {
    "duration": 2413,
    "start_time": "2022-03-12T14:54:59.401Z"
   },
   {
    "duration": 6,
    "start_time": "2022-03-12T14:55:04.492Z"
   },
   {
    "duration": 395,
    "start_time": "2022-03-12T14:55:06.310Z"
   },
   {
    "duration": 196,
    "start_time": "2022-03-12T14:55:06.707Z"
   },
   {
    "duration": 166,
    "start_time": "2022-03-12T14:55:43.334Z"
   },
   {
    "duration": 182,
    "start_time": "2022-03-12T14:55:51.732Z"
   },
   {
    "duration": 171,
    "start_time": "2022-03-12T14:56:34.837Z"
   },
   {
    "duration": 4516,
    "start_time": "2022-03-12T14:57:10.686Z"
   },
   {
    "duration": 2290,
    "start_time": "2022-03-12T14:57:25.879Z"
   },
   {
    "duration": 1982,
    "start_time": "2022-03-12T14:57:28.171Z"
   },
   {
    "duration": 379,
    "start_time": "2022-03-12T14:57:30.155Z"
   },
   {
    "duration": 331,
    "start_time": "2022-03-12T14:57:30.536Z"
   },
   {
    "duration": 2289,
    "start_time": "2022-03-12T14:57:54.728Z"
   },
   {
    "duration": 500,
    "start_time": "2022-03-12T14:58:00.119Z"
   },
   {
    "duration": 181,
    "start_time": "2022-03-12T14:58:07.777Z"
   },
   {
    "duration": 4863,
    "start_time": "2022-03-12T14:58:26.723Z"
   },
   {
    "duration": 4049,
    "start_time": "2022-03-12T15:04:14.033Z"
   },
   {
    "duration": 4130,
    "start_time": "2022-03-12T15:06:27.086Z"
   },
   {
    "duration": 233,
    "start_time": "2022-03-12T15:39:27.200Z"
   },
   {
    "duration": 7,
    "start_time": "2022-03-12T15:39:43.120Z"
   },
   {
    "duration": 13,
    "start_time": "2022-03-12T15:39:48.566Z"
   },
   {
    "duration": 18,
    "start_time": "2022-03-12T15:39:58.680Z"
   },
   {
    "duration": 19,
    "start_time": "2022-03-12T15:40:25.095Z"
   },
   {
    "duration": 55,
    "start_time": "2022-03-12T15:43:13.453Z"
   },
   {
    "duration": 21,
    "start_time": "2022-03-12T15:43:18.903Z"
   },
   {
    "duration": 29,
    "start_time": "2022-03-12T15:48:10.843Z"
   },
   {
    "duration": 444,
    "start_time": "2022-03-12T15:55:07.731Z"
   },
   {
    "duration": 328,
    "start_time": "2022-03-12T15:55:14.279Z"
   },
   {
    "duration": 470,
    "start_time": "2022-03-12T15:55:21.067Z"
   },
   {
    "duration": 229,
    "start_time": "2022-03-12T15:55:33.553Z"
   },
   {
    "duration": 66,
    "start_time": "2022-03-12T15:58:39.584Z"
   },
   {
    "duration": 29,
    "start_time": "2022-03-12T15:58:49.281Z"
   },
   {
    "duration": 68,
    "start_time": "2022-03-12T15:58:56.675Z"
   },
   {
    "duration": 59,
    "start_time": "2022-03-12T15:59:02.013Z"
   },
   {
    "duration": 59,
    "start_time": "2022-03-12T15:59:15.761Z"
   },
   {
    "duration": 30,
    "start_time": "2022-03-12T15:59:25.745Z"
   },
   {
    "duration": 30,
    "start_time": "2022-03-12T15:59:33.556Z"
   },
   {
    "duration": 28,
    "start_time": "2022-03-12T16:00:19.196Z"
   },
   {
    "duration": 56,
    "start_time": "2022-03-12T16:00:29.758Z"
   },
   {
    "duration": -555,
    "start_time": "2022-03-12T16:00:41.765Z"
   },
   {
    "duration": 24,
    "start_time": "2022-03-12T16:00:44.611Z"
   },
   {
    "duration": 27,
    "start_time": "2022-03-12T16:01:37.058Z"
   },
   {
    "duration": 33,
    "start_time": "2022-03-12T16:01:50.990Z"
   },
   {
    "duration": 191,
    "start_time": "2022-03-12T16:09:28.234Z"
   },
   {
    "duration": 178,
    "start_time": "2022-03-12T16:19:41.838Z"
   },
   {
    "duration": 233,
    "start_time": "2022-03-12T16:20:08.108Z"
   },
   {
    "duration": 186,
    "start_time": "2022-03-12T16:20:28.387Z"
   },
   {
    "duration": 3,
    "start_time": "2022-03-12T16:21:50.602Z"
   },
   {
    "duration": 3,
    "start_time": "2022-03-12T16:21:52.481Z"
   },
   {
    "duration": 14,
    "start_time": "2022-03-12T16:21:58.351Z"
   },
   {
    "duration": 180,
    "start_time": "2022-03-12T16:22:24.807Z"
   },
   {
    "duration": 176,
    "start_time": "2022-03-12T16:22:27.412Z"
   },
   {
    "duration": 232,
    "start_time": "2022-03-12T16:22:34.637Z"
   },
   {
    "duration": 13,
    "start_time": "2022-03-12T16:24:32.456Z"
   },
   {
    "duration": 205,
    "start_time": "2022-03-12T16:25:53.235Z"
   },
   {
    "duration": 196,
    "start_time": "2022-03-12T16:25:58.736Z"
   },
   {
    "duration": 455,
    "start_time": "2022-03-12T16:26:02.563Z"
   },
   {
    "duration": 85,
    "start_time": "2022-03-12T16:26:24.305Z"
   },
   {
    "duration": 10,
    "start_time": "2022-03-12T16:26:27.452Z"
   },
   {
    "duration": 184,
    "start_time": "2022-03-12T16:26:42.236Z"
   },
   {
    "duration": 218,
    "start_time": "2022-03-12T16:26:45.410Z"
   },
   {
    "duration": 175,
    "start_time": "2022-03-12T16:26:51.393Z"
   },
   {
    "duration": 11,
    "start_time": "2022-03-12T16:27:02.925Z"
   },
   {
    "duration": 11,
    "start_time": "2022-03-12T16:27:15.552Z"
   },
   {
    "duration": 231,
    "start_time": "2022-03-12T16:30:20.134Z"
   },
   {
    "duration": 211,
    "start_time": "2022-03-12T16:34:31.832Z"
   },
   {
    "duration": 185,
    "start_time": "2022-03-12T16:34:46.069Z"
   },
   {
    "duration": 179,
    "start_time": "2022-03-12T16:36:26.996Z"
   },
   {
    "duration": 5,
    "start_time": "2022-03-12T16:36:47.702Z"
   },
   {
    "duration": 10,
    "start_time": "2022-03-12T16:36:50.219Z"
   },
   {
    "duration": 1576,
    "start_time": "2022-03-12T16:36:50.633Z"
   },
   {
    "duration": 24,
    "start_time": "2022-03-12T16:37:04.492Z"
   },
   {
    "duration": 26934,
    "start_time": "2022-03-12T16:37:48.544Z"
   },
   {
    "duration": 4,
    "start_time": "2022-03-12T16:38:27.049Z"
   },
   {
    "duration": 5,
    "start_time": "2022-03-12T16:38:36.737Z"
   },
   {
    "duration": 1923,
    "start_time": "2022-03-12T16:38:41.984Z"
   },
   {
    "duration": 201,
    "start_time": "2022-03-12T16:39:19.082Z"
   },
   {
    "duration": 1160,
    "start_time": "2022-03-12T16:39:24.968Z"
   },
   {
    "duration": 3063,
    "start_time": "2022-03-12T16:39:29.114Z"
   },
   {
    "duration": 24170,
    "start_time": "2022-03-12T16:39:40.187Z"
   },
   {
    "duration": 197,
    "start_time": "2022-03-12T16:40:05.279Z"
   },
   {
    "duration": 11,
    "start_time": "2022-03-12T16:40:15.384Z"
   },
   {
    "duration": 4810,
    "start_time": "2022-03-12T16:40:15.883Z"
   },
   {
    "duration": 1110,
    "start_time": "2022-03-12T16:40:28.057Z"
   },
   {
    "duration": 3310,
    "start_time": "2022-03-12T16:40:34.236Z"
   },
   {
    "duration": 11,
    "start_time": "2022-03-12T16:40:51.094Z"
   },
   {
    "duration": 181,
    "start_time": "2022-03-12T16:41:01.625Z"
   },
   {
    "duration": 11,
    "start_time": "2022-03-12T16:41:08.159Z"
   },
   {
    "duration": 190,
    "start_time": "2022-03-12T16:41:38.835Z"
   },
   {
    "duration": 7,
    "start_time": "2022-03-12T16:42:33.503Z"
   },
   {
    "duration": 935,
    "start_time": "2022-03-12T16:42:45.392Z"
   },
   {
    "duration": 16,
    "start_time": "2022-03-12T16:43:04.654Z"
   },
   {
    "duration": 16,
    "start_time": "2022-03-12T16:43:11.590Z"
   },
   {
    "duration": 1817,
    "start_time": "2022-03-12T16:43:15.717Z"
   },
   {
    "duration": 17,
    "start_time": "2022-03-12T16:43:23.814Z"
   },
   {
    "duration": 77,
    "start_time": "2022-03-12T16:43:34.161Z"
   },
   {
    "duration": 1023,
    "start_time": "2022-03-12T16:43:36.215Z"
   },
   {
    "duration": 10,
    "start_time": "2022-03-12T16:43:41.766Z"
   },
   {
    "duration": 13,
    "start_time": "2022-03-12T16:43:43.940Z"
   },
   {
    "duration": 8,
    "start_time": "2022-03-12T16:43:50.269Z"
   },
   {
    "duration": 14,
    "start_time": "2022-03-12T16:44:10.569Z"
   },
   {
    "duration": 14,
    "start_time": "2022-03-12T16:44:41.862Z"
   },
   {
    "duration": 2508,
    "start_time": "2022-03-12T16:44:45.731Z"
   },
   {
    "duration": 2669,
    "start_time": "2022-03-12T16:46:20.374Z"
   },
   {
    "duration": 9149,
    "start_time": "2022-03-12T16:46:23.046Z"
   },
   {
    "duration": 510,
    "start_time": "2022-03-12T16:46:32.198Z"
   },
   {
    "duration": 7003,
    "start_time": "2022-03-12T16:46:32.711Z"
   },
   {
    "duration": 4649,
    "start_time": "2022-03-12T16:46:39.716Z"
   },
   {
    "duration": 4296,
    "start_time": "2022-03-12T16:46:44.368Z"
   },
   {
    "duration": 1084,
    "start_time": "2022-03-12T16:46:48.666Z"
   },
   {
    "duration": 4166,
    "start_time": "2022-03-12T16:46:49.752Z"
   },
   {
    "duration": 2623,
    "start_time": "2022-03-12T16:46:53.922Z"
   },
   {
    "duration": 3365,
    "start_time": "2022-03-12T16:46:56.548Z"
   },
   {
    "duration": 223,
    "start_time": "2022-03-12T16:47:01.752Z"
   },
   {
    "duration": 318,
    "start_time": "2022-03-12T16:47:29.386Z"
   },
   {
    "duration": 11,
    "start_time": "2022-03-12T16:48:02.327Z"
   },
   {
    "duration": 46,
    "start_time": "2022-03-12T16:48:05.006Z"
   },
   {
    "duration": 63,
    "start_time": "2022-03-12T16:57:20.266Z"
   },
   {
    "duration": 30,
    "start_time": "2022-03-12T16:57:34.749Z"
   },
   {
    "duration": 14,
    "start_time": "2022-03-12T16:58:02.288Z"
   },
   {
    "duration": 165,
    "start_time": "2022-03-12T16:59:12.747Z"
   },
   {
    "duration": 5,
    "start_time": "2022-03-12T17:00:00.493Z"
   },
   {
    "duration": 5,
    "start_time": "2022-03-12T17:00:12.766Z"
   },
   {
    "duration": 207,
    "start_time": "2022-03-12T17:00:32.319Z"
   },
   {
    "duration": 5,
    "start_time": "2022-03-12T17:00:34.332Z"
   },
   {
    "duration": 16,
    "start_time": "2022-03-12T17:01:01.225Z"
   },
   {
    "duration": 769,
    "start_time": "2022-03-12T17:01:06.125Z"
   },
   {
    "duration": 11,
    "start_time": "2022-03-12T17:01:09.310Z"
   },
   {
    "duration": 26,
    "start_time": "2022-03-12T17:02:15.413Z"
   },
   {
    "duration": 10,
    "start_time": "2022-03-12T17:02:16.912Z"
   },
   {
    "duration": 31,
    "start_time": "2022-03-12T17:02:32.825Z"
   },
   {
    "duration": 12,
    "start_time": "2022-03-12T17:04:09.525Z"
   },
   {
    "duration": 9,
    "start_time": "2022-03-12T17:04:19.823Z"
   },
   {
    "duration": 28,
    "start_time": "2022-03-12T17:05:15.512Z"
   },
   {
    "duration": 1217,
    "start_time": "2022-03-12T17:05:18.960Z"
   },
   {
    "duration": 29,
    "start_time": "2022-03-12T17:05:53.325Z"
   },
   {
    "duration": 28,
    "start_time": "2022-03-12T17:06:36.915Z"
   },
   {
    "duration": 9,
    "start_time": "2022-03-12T17:06:44.247Z"
   },
   {
    "duration": 62,
    "start_time": "2022-03-12T17:06:53.468Z"
   },
   {
    "duration": 70,
    "start_time": "2022-03-12T17:07:01.820Z"
   },
   {
    "duration": 2571,
    "start_time": "2022-03-12T17:07:04.557Z"
   },
   {
    "duration": 65,
    "start_time": "2022-03-12T17:08:38.571Z"
   },
   {
    "duration": 45,
    "start_time": "2022-03-12T17:08:57.188Z"
   },
   {
    "duration": 3,
    "start_time": "2022-03-12T17:49:03.198Z"
   },
   {
    "duration": 3,
    "start_time": "2022-03-12T17:51:16.288Z"
   },
   {
    "duration": 4,
    "start_time": "2022-03-12T17:53:58.601Z"
   },
   {
    "duration": 170,
    "start_time": "2022-03-12T17:56:48.572Z"
   },
   {
    "duration": 347,
    "start_time": "2022-03-12T17:57:50.333Z"
   },
   {
    "duration": 4,
    "start_time": "2022-03-12T18:00:44.826Z"
   },
   {
    "duration": 119,
    "start_time": "2022-03-12T18:00:46.383Z"
   },
   {
    "duration": 5,
    "start_time": "2022-03-12T18:01:10.530Z"
   },
   {
    "duration": 4,
    "start_time": "2022-03-12T18:02:20.288Z"
   },
   {
    "duration": 4,
    "start_time": "2022-03-12T18:02:26.879Z"
   },
   {
    "duration": 3,
    "start_time": "2022-03-12T18:02:36.702Z"
   },
   {
    "duration": 495,
    "start_time": "2022-03-12T18:02:59.682Z"
   },
   {
    "duration": 3,
    "start_time": "2022-03-12T18:03:50.825Z"
   },
   {
    "duration": 36,
    "start_time": "2022-03-12T18:04:00.777Z"
   },
   {
    "duration": 4,
    "start_time": "2022-03-12T18:04:12.848Z"
   },
   {
    "duration": 4,
    "start_time": "2022-03-12T18:04:19.895Z"
   },
   {
    "duration": 5,
    "start_time": "2022-03-12T18:04:26.484Z"
   },
   {
    "duration": 2017,
    "start_time": "2022-03-12T18:04:29.869Z"
   },
   {
    "duration": 180,
    "start_time": "2022-03-12T18:05:04.063Z"
   },
   {
    "duration": 4,
    "start_time": "2022-03-12T18:05:09.990Z"
   },
   {
    "duration": 6,
    "start_time": "2022-03-12T18:05:16.559Z"
   },
   {
    "duration": 5,
    "start_time": "2022-03-12T18:05:33.312Z"
   },
   {
    "duration": 113,
    "start_time": "2022-03-12T18:05:56.289Z"
   },
   {
    "duration": 4,
    "start_time": "2022-03-12T18:06:15.115Z"
   },
   {
    "duration": 3499,
    "start_time": "2022-03-12T18:06:15.485Z"
   },
   {
    "duration": 1989,
    "start_time": "2022-03-12T18:06:19.714Z"
   },
   {
    "duration": 178,
    "start_time": "2022-03-12T18:06:34.091Z"
   },
   {
    "duration": 4,
    "start_time": "2022-03-12T18:07:25.331Z"
   },
   {
    "duration": 61,
    "start_time": "2022-03-12T18:07:26.441Z"
   },
   {
    "duration": 10,
    "start_time": "2022-03-12T18:07:28.309Z"
   },
   {
    "duration": 5,
    "start_time": "2022-03-12T18:07:30.281Z"
   },
   {
    "duration": 5,
    "start_time": "2022-03-12T18:07:32.428Z"
   },
   {
    "duration": 6,
    "start_time": "2022-03-12T18:10:21.401Z"
   },
   {
    "duration": 184,
    "start_time": "2022-03-12T18:11:45.777Z"
   },
   {
    "duration": 5,
    "start_time": "2022-03-12T18:11:59.478Z"
   },
   {
    "duration": 190,
    "start_time": "2022-03-12T18:14:17.701Z"
   },
   {
    "duration": 183,
    "start_time": "2022-03-12T18:14:59.383Z"
   },
   {
    "duration": 11,
    "start_time": "2022-03-12T18:15:09.074Z"
   },
   {
    "duration": 12,
    "start_time": "2022-03-12T18:15:27.487Z"
   },
   {
    "duration": 11,
    "start_time": "2022-03-12T19:34:28.963Z"
   },
   {
    "duration": 213,
    "start_time": "2022-03-12T19:37:21.685Z"
   },
   {
    "duration": 15,
    "start_time": "2022-03-12T19:37:27.005Z"
   },
   {
    "duration": 197,
    "start_time": "2022-03-12T19:37:39.216Z"
   },
   {
    "duration": 12,
    "start_time": "2022-03-12T19:37:51.342Z"
   },
   {
    "duration": 11,
    "start_time": "2022-03-12T19:39:26.580Z"
   },
   {
    "duration": 13,
    "start_time": "2022-03-12T19:39:59.133Z"
   },
   {
    "duration": 13,
    "start_time": "2022-03-12T19:41:17.098Z"
   },
   {
    "duration": 58,
    "start_time": "2022-03-12T19:43:27.738Z"
   },
   {
    "duration": 187,
    "start_time": "2022-03-12T19:43:36.913Z"
   },
   {
    "duration": 4,
    "start_time": "2022-03-12T19:44:17.148Z"
   },
   {
    "duration": 10,
    "start_time": "2022-03-12T19:44:39.225Z"
   },
   {
    "duration": 2494,
    "start_time": "2022-03-12T19:44:52.888Z"
   },
   {
    "duration": 2179,
    "start_time": "2022-03-12T19:44:55.384Z"
   },
   {
    "duration": 385,
    "start_time": "2022-03-12T19:44:57.566Z"
   },
   {
    "duration": 2,
    "start_time": "2022-03-12T19:44:57.953Z"
   },
   {
    "duration": 8,
    "start_time": "2022-03-12T19:44:57.957Z"
   },
   {
    "duration": 6,
    "start_time": "2022-03-12T19:44:57.967Z"
   },
   {
    "duration": 45,
    "start_time": "2022-03-12T19:44:57.975Z"
   },
   {
    "duration": 3,
    "start_time": "2022-03-12T19:44:58.022Z"
   },
   {
    "duration": 18,
    "start_time": "2022-03-12T19:44:58.027Z"
   },
   {
    "duration": 66,
    "start_time": "2022-03-12T19:44:58.047Z"
   },
   {
    "duration": 31,
    "start_time": "2022-03-12T19:44:58.115Z"
   },
   {
    "duration": 86,
    "start_time": "2022-03-12T19:44:58.148Z"
   },
   {
    "duration": 48,
    "start_time": "2022-03-12T19:44:58.236Z"
   },
   {
    "duration": 15,
    "start_time": "2022-03-12T19:44:58.286Z"
   },
   {
    "duration": 99,
    "start_time": "2022-03-12T19:44:58.303Z"
   },
   {
    "duration": 385,
    "start_time": "2022-03-12T19:44:58.405Z"
   },
   {
    "duration": 15,
    "start_time": "2022-03-12T19:45:20.881Z"
   },
   {
    "duration": 18,
    "start_time": "2022-03-12T19:46:17.510Z"
   },
   {
    "duration": 13,
    "start_time": "2022-03-12T19:46:24.426Z"
   },
   {
    "duration": 250,
    "start_time": "2022-03-12T19:50:52.356Z"
   },
   {
    "duration": 176,
    "start_time": "2022-03-12T19:51:01.522Z"
   },
   {
    "duration": 5,
    "start_time": "2022-03-12T19:53:02.550Z"
   },
   {
    "duration": 5,
    "start_time": "2022-03-12T19:53:09.614Z"
   },
   {
    "duration": 7,
    "start_time": "2022-03-12T19:53:36.214Z"
   },
   {
    "duration": 10,
    "start_time": "2022-03-12T19:54:20.294Z"
   },
   {
    "duration": 10,
    "start_time": "2022-03-12T19:54:52.393Z"
   },
   {
    "duration": 9,
    "start_time": "2022-03-12T19:55:50.912Z"
   },
   {
    "duration": 12,
    "start_time": "2022-03-12T19:56:56.476Z"
   },
   {
    "duration": 13,
    "start_time": "2022-03-12T19:58:04.119Z"
   },
   {
    "duration": 3,
    "start_time": "2022-03-12T20:10:50.925Z"
   },
   {
    "duration": 3,
    "start_time": "2022-03-12T20:15:20.114Z"
   },
   {
    "duration": 3,
    "start_time": "2022-03-12T20:15:33.748Z"
   },
   {
    "duration": 2,
    "start_time": "2022-03-12T20:17:43.450Z"
   },
   {
    "duration": 5,
    "start_time": "2022-03-12T20:18:31.040Z"
   },
   {
    "duration": 4,
    "start_time": "2022-03-12T20:19:00.076Z"
   },
   {
    "duration": 14,
    "start_time": "2022-03-12T20:20:50.248Z"
   },
   {
    "duration": 4591,
    "start_time": "2022-03-12T20:21:11.162Z"
   },
   {
    "duration": 4366,
    "start_time": "2022-03-12T20:21:21.220Z"
   },
   {
    "duration": 10,
    "start_time": "2022-03-12T20:21:31.534Z"
   },
   {
    "duration": 10,
    "start_time": "2022-03-12T20:21:40.664Z"
   },
   {
    "duration": 9,
    "start_time": "2022-03-12T20:21:46.967Z"
   },
   {
    "duration": 11,
    "start_time": "2022-03-12T20:21:53.240Z"
   },
   {
    "duration": 199,
    "start_time": "2022-03-12T20:22:25.568Z"
   },
   {
    "duration": 7,
    "start_time": "2022-03-12T20:22:38.310Z"
   },
   {
    "duration": 8,
    "start_time": "2022-03-12T20:22:49.171Z"
   },
   {
    "duration": 7,
    "start_time": "2022-03-12T20:22:56.296Z"
   },
   {
    "duration": 7,
    "start_time": "2022-03-12T20:23:35.193Z"
   },
   {
    "duration": 7,
    "start_time": "2022-03-12T20:26:27.425Z"
   },
   {
    "duration": 4,
    "start_time": "2022-03-12T20:43:23.267Z"
   },
   {
    "duration": 198,
    "start_time": "2022-03-12T20:47:09.001Z"
   },
   {
    "duration": 387,
    "start_time": "2022-03-12T20:47:26.141Z"
   },
   {
    "duration": 4,
    "start_time": "2022-03-12T20:47:53.954Z"
   },
   {
    "duration": 426,
    "start_time": "2022-03-12T20:47:54.904Z"
   },
   {
    "duration": 398,
    "start_time": "2022-03-12T20:48:38.319Z"
   },
   {
    "duration": 349,
    "start_time": "2022-03-12T20:48:51.023Z"
   },
   {
    "duration": 356,
    "start_time": "2022-03-12T20:49:13.381Z"
   },
   {
    "duration": 4,
    "start_time": "2022-03-12T20:49:27.329Z"
   },
   {
    "duration": 354,
    "start_time": "2022-03-12T20:49:29.084Z"
   },
   {
    "duration": 3,
    "start_time": "2022-03-12T20:50:02.637Z"
   },
   {
    "duration": 491,
    "start_time": "2022-03-12T20:50:08.100Z"
   },
   {
    "duration": 4,
    "start_time": "2022-03-12T20:54:43.898Z"
   },
   {
    "duration": 361,
    "start_time": "2022-03-12T20:54:45.526Z"
   },
   {
    "duration": 5,
    "start_time": "2022-03-12T20:55:22.411Z"
   },
   {
    "duration": 209,
    "start_time": "2022-03-12T20:55:32.492Z"
   },
   {
    "duration": 11,
    "start_time": "2022-03-12T20:55:40.685Z"
   },
   {
    "duration": 4,
    "start_time": "2022-03-12T20:56:39.774Z"
   },
   {
    "duration": 372,
    "start_time": "2022-03-12T20:56:54.157Z"
   },
   {
    "duration": 171,
    "start_time": "2022-03-12T20:58:28.869Z"
   },
   {
    "duration": 186,
    "start_time": "2022-03-12T20:58:46.373Z"
   },
   {
    "duration": 5,
    "start_time": "2022-03-12T20:58:57.265Z"
   },
   {
    "duration": 236,
    "start_time": "2022-03-12T20:59:05.239Z"
   },
   {
    "duration": 6,
    "start_time": "2022-03-12T20:59:12.732Z"
   },
   {
    "duration": 5,
    "start_time": "2022-03-12T20:59:27.367Z"
   },
   {
    "duration": 6,
    "start_time": "2022-03-12T21:00:00.341Z"
   },
   {
    "duration": 5,
    "start_time": "2022-03-12T21:00:45.297Z"
   },
   {
    "duration": 6,
    "start_time": "2022-03-12T21:00:47.726Z"
   },
   {
    "duration": 6,
    "start_time": "2022-03-12T21:00:47.968Z"
   },
   {
    "duration": 370,
    "start_time": "2022-03-12T21:00:48.804Z"
   },
   {
    "duration": 8,
    "start_time": "2022-03-12T21:01:24.251Z"
   },
   {
    "duration": 10,
    "start_time": "2022-03-12T21:01:30.306Z"
   },
   {
    "duration": 2383,
    "start_time": "2022-03-12T21:03:03.173Z"
   },
   {
    "duration": 2339,
    "start_time": "2022-03-12T21:03:16.385Z"
   },
   {
    "duration": 2262,
    "start_time": "2022-03-12T21:03:50.506Z"
   },
   {
    "duration": 4,
    "start_time": "2022-03-12T21:04:04.866Z"
   },
   {
    "duration": 7,
    "start_time": "2022-03-12T21:04:09.334Z"
   },
   {
    "duration": 5,
    "start_time": "2022-03-12T21:04:28.871Z"
   },
   {
    "duration": 6,
    "start_time": "2022-03-12T21:04:40.383Z"
   },
   {
    "duration": 4,
    "start_time": "2022-03-12T21:05:31.821Z"
   },
   {
    "duration": 23,
    "start_time": "2022-03-12T21:05:35.052Z"
   },
   {
    "duration": 24,
    "start_time": "2022-03-12T21:06:15.795Z"
   },
   {
    "duration": 291,
    "start_time": "2022-03-12T21:08:04.237Z"
   },
   {
    "duration": 178,
    "start_time": "2022-03-12T21:08:37.644Z"
   },
   {
    "duration": 191,
    "start_time": "2022-03-12T21:09:12.450Z"
   },
   {
    "duration": 4,
    "start_time": "2022-03-12T21:09:21.204Z"
   },
   {
    "duration": 192,
    "start_time": "2022-03-12T21:09:22.043Z"
   },
   {
    "duration": 4,
    "start_time": "2022-03-12T21:09:27.919Z"
   },
   {
    "duration": 174,
    "start_time": "2022-03-12T21:09:28.287Z"
   },
   {
    "duration": 2420,
    "start_time": "2022-03-12T21:09:34.030Z"
   },
   {
    "duration": 2425,
    "start_time": "2022-03-12T21:09:36.453Z"
   },
   {
    "duration": 565,
    "start_time": "2022-03-12T21:09:38.881Z"
   },
   {
    "duration": 3,
    "start_time": "2022-03-12T21:09:39.449Z"
   },
   {
    "duration": 7,
    "start_time": "2022-03-12T21:09:39.454Z"
   },
   {
    "duration": 7,
    "start_time": "2022-03-12T21:09:39.463Z"
   },
   {
    "duration": 60,
    "start_time": "2022-03-12T21:09:39.472Z"
   },
   {
    "duration": 3,
    "start_time": "2022-03-12T21:09:39.536Z"
   },
   {
    "duration": 27,
    "start_time": "2022-03-12T21:09:39.542Z"
   },
   {
    "duration": 84,
    "start_time": "2022-03-12T21:09:39.571Z"
   },
   {
    "duration": 50,
    "start_time": "2022-03-12T21:09:39.658Z"
   },
   {
    "duration": 73,
    "start_time": "2022-03-12T21:09:39.710Z"
   },
   {
    "duration": 63,
    "start_time": "2022-03-12T21:09:39.785Z"
   },
   {
    "duration": 4,
    "start_time": "2022-03-12T21:09:39.850Z"
   },
   {
    "duration": 64,
    "start_time": "2022-03-12T21:09:39.855Z"
   },
   {
    "duration": 183,
    "start_time": "2022-03-12T21:09:39.921Z"
   },
   {
    "duration": 10,
    "start_time": "2022-03-12T21:09:40.106Z"
   },
   {
    "duration": 27,
    "start_time": "2022-03-12T21:09:40.118Z"
   },
   {
    "duration": 11,
    "start_time": "2022-03-12T21:09:40.147Z"
   },
   {
    "duration": 8,
    "start_time": "2022-03-12T21:09:40.159Z"
   },
   {
    "duration": 304,
    "start_time": "2022-03-12T21:09:40.169Z"
   },
   {
    "duration": 213,
    "start_time": "2022-03-12T21:11:04.946Z"
   },
   {
    "duration": 4,
    "start_time": "2022-03-12T21:11:07.796Z"
   },
   {
    "duration": 239,
    "start_time": "2022-03-12T21:11:08.126Z"
   },
   {
    "duration": 26,
    "start_time": "2022-03-12T21:11:26.634Z"
   },
   {
    "duration": 3,
    "start_time": "2022-03-12T21:11:28.987Z"
   },
   {
    "duration": 24,
    "start_time": "2022-03-12T21:11:29.282Z"
   },
   {
    "duration": 24,
    "start_time": "2022-03-12T21:11:58.494Z"
   },
   {
    "duration": 28,
    "start_time": "2022-03-12T21:12:43.684Z"
   },
   {
    "duration": 4,
    "start_time": "2022-03-12T21:13:08.804Z"
   },
   {
    "duration": 27,
    "start_time": "2022-03-12T21:15:19.124Z"
   },
   {
    "duration": 26,
    "start_time": "2022-03-12T21:15:21.911Z"
   },
   {
    "duration": 37,
    "start_time": "2022-03-12T21:15:28.138Z"
   },
   {
    "duration": 23,
    "start_time": "2022-03-12T21:16:32.285Z"
   },
   {
    "duration": 207,
    "start_time": "2022-03-13T08:07:59.664Z"
   },
   {
    "duration": 25805,
    "start_time": "2022-03-13T08:08:06.206Z"
   },
   {
    "duration": 5726,
    "start_time": "2022-03-13T08:08:32.013Z"
   },
   {
    "duration": 364,
    "start_time": "2022-03-13T08:08:37.744Z"
   },
   {
    "duration": 3,
    "start_time": "2022-03-13T08:08:38.110Z"
   },
   {
    "duration": 14,
    "start_time": "2022-03-13T08:08:38.115Z"
   },
   {
    "duration": 5,
    "start_time": "2022-03-13T08:08:38.131Z"
   },
   {
    "duration": 33,
    "start_time": "2022-03-13T08:08:38.137Z"
   },
   {
    "duration": 3,
    "start_time": "2022-03-13T08:08:38.174Z"
   },
   {
    "duration": 14,
    "start_time": "2022-03-13T08:08:38.179Z"
   },
   {
    "duration": 69,
    "start_time": "2022-03-13T08:08:38.195Z"
   },
   {
    "duration": 21,
    "start_time": "2022-03-13T08:08:38.266Z"
   },
   {
    "duration": 51,
    "start_time": "2022-03-13T08:08:38.288Z"
   },
   {
    "duration": 55,
    "start_time": "2022-03-13T08:08:38.341Z"
   },
   {
    "duration": 3,
    "start_time": "2022-03-13T08:08:38.399Z"
   },
   {
    "duration": 168,
    "start_time": "2022-03-13T08:08:38.404Z"
   },
   {
    "duration": 105,
    "start_time": "2022-03-13T08:08:38.665Z"
   },
   {
    "duration": 8,
    "start_time": "2022-03-13T08:08:38.772Z"
   },
   {
    "duration": 14,
    "start_time": "2022-03-13T08:08:38.781Z"
   },
   {
    "duration": 16,
    "start_time": "2022-03-13T08:08:38.797Z"
   },
   {
    "duration": 9,
    "start_time": "2022-03-13T08:08:38.815Z"
   },
   {
    "duration": 21,
    "start_time": "2022-03-13T08:08:38.826Z"
   },
   {
    "duration": 16,
    "start_time": "2022-03-13T08:08:38.849Z"
   },
   {
    "duration": 64,
    "start_time": "2022-03-13T08:08:38.866Z"
   },
   {
    "duration": 6,
    "start_time": "2022-03-13T08:13:33.208Z"
   },
   {
    "duration": 340,
    "start_time": "2022-03-13T08:13:44.403Z"
   },
   {
    "duration": 5,
    "start_time": "2022-03-13T08:13:50.819Z"
   },
   {
    "duration": 6,
    "start_time": "2022-03-13T08:14:04.978Z"
   },
   {
    "duration": 3,
    "start_time": "2022-03-13T08:21:53.822Z"
   },
   {
    "duration": 21,
    "start_time": "2022-03-13T08:22:01.024Z"
   },
   {
    "duration": 4,
    "start_time": "2022-03-13T08:22:23.833Z"
   },
   {
    "duration": 76,
    "start_time": "2022-03-13T08:22:44.909Z"
   },
   {
    "duration": 260,
    "start_time": "2022-03-13T08:22:53.490Z"
   },
   {
    "duration": 5,
    "start_time": "2022-03-13T08:23:33.289Z"
   },
   {
    "duration": 4,
    "start_time": "2022-03-13T08:23:43.748Z"
   },
   {
    "duration": 181,
    "start_time": "2022-03-13T08:24:40.838Z"
   },
   {
    "duration": 548,
    "start_time": "2022-03-13T08:24:55.310Z"
   },
   {
    "duration": 3,
    "start_time": "2022-03-13T08:25:13.634Z"
   },
   {
    "duration": 4,
    "start_time": "2022-03-13T08:25:16.037Z"
   },
   {
    "duration": 3,
    "start_time": "2022-03-13T08:25:56.551Z"
   },
   {
    "duration": 4,
    "start_time": "2022-03-13T08:25:57.251Z"
   },
   {
    "duration": 4,
    "start_time": "2022-03-13T08:26:24.843Z"
   },
   {
    "duration": 4,
    "start_time": "2022-03-13T08:26:26.082Z"
   },
   {
    "duration": 2473,
    "start_time": "2022-03-13T08:26:45.945Z"
   },
   {
    "duration": 2665,
    "start_time": "2022-03-13T08:26:48.422Z"
   },
   {
    "duration": 351,
    "start_time": "2022-03-13T08:26:51.090Z"
   },
   {
    "duration": 2,
    "start_time": "2022-03-13T08:26:51.444Z"
   },
   {
    "duration": 8,
    "start_time": "2022-03-13T08:26:51.448Z"
   },
   {
    "duration": 5,
    "start_time": "2022-03-13T08:26:51.458Z"
   },
   {
    "duration": 30,
    "start_time": "2022-03-13T08:26:51.464Z"
   },
   {
    "duration": 2,
    "start_time": "2022-03-13T08:26:51.497Z"
   },
   {
    "duration": 17,
    "start_time": "2022-03-13T08:26:51.501Z"
   },
   {
    "duration": 68,
    "start_time": "2022-03-13T08:26:51.520Z"
   },
   {
    "duration": 21,
    "start_time": "2022-03-13T08:26:51.590Z"
   },
   {
    "duration": 66,
    "start_time": "2022-03-13T08:26:51.613Z"
   },
   {
    "duration": 35,
    "start_time": "2022-03-13T08:26:51.681Z"
   },
   {
    "duration": 3,
    "start_time": "2022-03-13T08:26:51.718Z"
   },
   {
    "duration": 141,
    "start_time": "2022-03-13T08:26:51.722Z"
   },
   {
    "duration": 102,
    "start_time": "2022-03-13T08:26:51.868Z"
   },
   {
    "duration": 14,
    "start_time": "2022-03-13T08:26:51.971Z"
   },
   {
    "duration": 3,
    "start_time": "2022-03-13T08:26:51.987Z"
   },
   {
    "duration": 9,
    "start_time": "2022-03-13T08:26:51.991Z"
   },
   {
    "duration": 11,
    "start_time": "2022-03-13T08:26:52.002Z"
   },
   {
    "duration": 26,
    "start_time": "2022-03-13T08:26:52.014Z"
   },
   {
    "duration": 24,
    "start_time": "2022-03-13T08:26:52.041Z"
   },
   {
    "duration": 7,
    "start_time": "2022-03-13T08:26:52.068Z"
   },
   {
    "duration": 678,
    "start_time": "2022-03-13T08:26:52.077Z"
   },
   {
    "duration": -154,
    "start_time": "2022-03-13T08:26:52.911Z"
   },
   {
    "duration": 3,
    "start_time": "2022-03-13T08:30:31.787Z"
   },
   {
    "duration": 4,
    "start_time": "2022-03-13T08:30:32.559Z"
   },
   {
    "duration": 3,
    "start_time": "2022-03-13T08:30:50.012Z"
   },
   {
    "duration": 4,
    "start_time": "2022-03-13T08:30:53.701Z"
   },
   {
    "duration": 450,
    "start_time": "2022-03-13T08:31:09.168Z"
   },
   {
    "duration": 595,
    "start_time": "2022-03-13T08:31:19.158Z"
   },
   {
    "duration": 4,
    "start_time": "2022-03-13T08:31:41.095Z"
   },
   {
    "duration": 5,
    "start_time": "2022-03-13T08:31:42.921Z"
   },
   {
    "duration": 2,
    "start_time": "2022-03-13T08:31:52.381Z"
   },
   {
    "duration": 5,
    "start_time": "2022-03-13T08:31:54.372Z"
   },
   {
    "duration": 2,
    "start_time": "2022-03-13T08:31:56.234Z"
   },
   {
    "duration": 3,
    "start_time": "2022-03-13T08:32:02.381Z"
   },
   {
    "duration": 3,
    "start_time": "2022-03-13T08:32:24.394Z"
   },
   {
    "duration": 4,
    "start_time": "2022-03-13T08:32:24.710Z"
   },
   {
    "duration": 4,
    "start_time": "2022-03-13T08:32:25.166Z"
   },
   {
    "duration": 3,
    "start_time": "2022-03-13T08:32:25.741Z"
   },
   {
    "duration": 3,
    "start_time": "2022-03-13T08:32:32.097Z"
   },
   {
    "duration": 4,
    "start_time": "2022-03-13T08:32:32.287Z"
   },
   {
    "duration": 4,
    "start_time": "2022-03-13T08:32:32.495Z"
   },
   {
    "duration": 4,
    "start_time": "2022-03-13T08:32:32.932Z"
   },
   {
    "duration": 4,
    "start_time": "2022-03-13T08:33:24.283Z"
   },
   {
    "duration": 4,
    "start_time": "2022-03-13T08:33:24.458Z"
   },
   {
    "duration": 5,
    "start_time": "2022-03-13T08:33:24.704Z"
   },
   {
    "duration": 5,
    "start_time": "2022-03-13T08:33:35.163Z"
   },
   {
    "duration": 4,
    "start_time": "2022-03-13T08:33:36.019Z"
   },
   {
    "duration": 4,
    "start_time": "2022-03-13T08:33:36.222Z"
   },
   {
    "duration": 5,
    "start_time": "2022-03-13T08:33:36.455Z"
   },
   {
    "duration": 3,
    "start_time": "2022-03-13T08:33:50.628Z"
   },
   {
    "duration": 5,
    "start_time": "2022-03-13T08:33:50.823Z"
   },
   {
    "duration": 4,
    "start_time": "2022-03-13T08:33:51.012Z"
   },
   {
    "duration": 4,
    "start_time": "2022-03-13T08:33:51.797Z"
   },
   {
    "duration": 3,
    "start_time": "2022-03-13T08:34:34.776Z"
   },
   {
    "duration": 5,
    "start_time": "2022-03-13T08:34:34.969Z"
   },
   {
    "duration": 5,
    "start_time": "2022-03-13T08:34:35.177Z"
   },
   {
    "duration": 9,
    "start_time": "2022-03-13T08:34:35.374Z"
   },
   {
    "duration": 5,
    "start_time": "2022-03-13T09:17:04.079Z"
   },
   {
    "duration": 4,
    "start_time": "2022-03-13T09:17:04.268Z"
   },
   {
    "duration": 5,
    "start_time": "2022-03-13T09:17:04.776Z"
   },
   {
    "duration": 3,
    "start_time": "2022-03-13T09:18:12.537Z"
   },
   {
    "duration": 4,
    "start_time": "2022-03-13T09:18:12.988Z"
   },
   {
    "duration": 5,
    "start_time": "2022-03-13T09:18:13.519Z"
   },
   {
    "duration": 6,
    "start_time": "2022-03-13T09:18:26.384Z"
   },
   {
    "duration": 5,
    "start_time": "2022-03-13T09:18:26.714Z"
   },
   {
    "duration": 6,
    "start_time": "2022-03-13T09:18:27.234Z"
   },
   {
    "duration": 4,
    "start_time": "2022-03-13T09:18:51.186Z"
   },
   {
    "duration": 5,
    "start_time": "2022-03-13T09:18:51.391Z"
   },
   {
    "duration": 365,
    "start_time": "2022-03-13T09:18:51.756Z"
   },
   {
    "duration": -111,
    "start_time": "2022-03-13T09:18:52.234Z"
   },
   {
    "duration": 6,
    "start_time": "2022-03-13T09:18:53.389Z"
   },
   {
    "duration": 3,
    "start_time": "2022-03-13T09:19:03.322Z"
   },
   {
    "duration": 4,
    "start_time": "2022-03-13T09:19:03.527Z"
   },
   {
    "duration": 6,
    "start_time": "2022-03-13T09:19:03.872Z"
   },
   {
    "duration": 6,
    "start_time": "2022-03-13T09:19:04.438Z"
   },
   {
    "duration": 5,
    "start_time": "2022-03-13T09:19:05.404Z"
   },
   {
    "duration": 5,
    "start_time": "2022-03-13T09:21:40.950Z"
   },
   {
    "duration": 6,
    "start_time": "2022-03-13T09:21:43.387Z"
   },
   {
    "duration": 268,
    "start_time": "2022-03-13T09:21:45.728Z"
   },
   {
    "duration": 7,
    "start_time": "2022-03-13T09:22:00.644Z"
   },
   {
    "duration": 3,
    "start_time": "2022-03-13T09:22:02.497Z"
   },
   {
    "duration": 4,
    "start_time": "2022-03-13T09:22:11.613Z"
   },
   {
    "duration": 6,
    "start_time": "2022-03-13T09:22:20.166Z"
   },
   {
    "duration": 7,
    "start_time": "2022-03-13T09:22:20.451Z"
   },
   {
    "duration": 4,
    "start_time": "2022-03-13T09:22:20.769Z"
   },
   {
    "duration": 4,
    "start_time": "2022-03-13T09:23:23.787Z"
   },
   {
    "duration": 6,
    "start_time": "2022-03-13T09:23:24.728Z"
   },
   {
    "duration": 3,
    "start_time": "2022-03-13T09:23:25.834Z"
   },
   {
    "duration": 3,
    "start_time": "2022-03-13T09:23:32.435Z"
   },
   {
    "duration": 5,
    "start_time": "2022-03-13T09:23:32.730Z"
   },
   {
    "duration": 6,
    "start_time": "2022-03-13T09:23:33.209Z"
   },
   {
    "duration": 3,
    "start_time": "2022-03-13T09:23:33.586Z"
   },
   {
    "duration": 4,
    "start_time": "2022-03-13T09:23:44.009Z"
   },
   {
    "duration": 6,
    "start_time": "2022-03-13T09:23:44.495Z"
   },
   {
    "duration": 3,
    "start_time": "2022-03-13T09:23:44.769Z"
   },
   {
    "duration": 4,
    "start_time": "2022-03-13T09:25:29.467Z"
   },
   {
    "duration": 7,
    "start_time": "2022-03-13T09:25:30.007Z"
   },
   {
    "duration": 3,
    "start_time": "2022-03-13T09:25:30.457Z"
   },
   {
    "duration": 4,
    "start_time": "2022-03-13T09:40:38.289Z"
   },
   {
    "duration": 6,
    "start_time": "2022-03-13T09:40:38.785Z"
   },
   {
    "duration": 6,
    "start_time": "2022-03-13T09:40:41.109Z"
   },
   {
    "duration": 3,
    "start_time": "2022-03-13T09:40:42.156Z"
   },
   {
    "duration": 4,
    "start_time": "2022-03-13T09:41:05.104Z"
   },
   {
    "duration": 6,
    "start_time": "2022-03-13T09:41:10.802Z"
   },
   {
    "duration": 3,
    "start_time": "2022-03-13T09:41:11.538Z"
   },
   {
    "duration": 4,
    "start_time": "2022-03-13T09:41:18.501Z"
   },
   {
    "duration": 6,
    "start_time": "2022-03-13T09:41:18.958Z"
   },
   {
    "duration": 4,
    "start_time": "2022-03-13T09:41:19.228Z"
   },
   {
    "duration": 5,
    "start_time": "2022-03-13T09:41:41.028Z"
   },
   {
    "duration": 6,
    "start_time": "2022-03-13T09:41:41.349Z"
   },
   {
    "duration": 4,
    "start_time": "2022-03-13T09:41:42.362Z"
   },
   {
    "duration": 8,
    "start_time": "2022-03-13T09:43:04.289Z"
   },
   {
    "duration": 6,
    "start_time": "2022-03-13T09:43:05.796Z"
   },
   {
    "duration": 7,
    "start_time": "2022-03-13T09:43:05.989Z"
   },
   {
    "duration": 207,
    "start_time": "2022-03-13T09:43:14.472Z"
   },
   {
    "duration": 232,
    "start_time": "2022-03-13T09:43:24.589Z"
   },
   {
    "duration": 3,
    "start_time": "2022-03-13T09:43:31.959Z"
   },
   {
    "duration": 4,
    "start_time": "2022-03-13T09:43:37.571Z"
   },
   {
    "duration": 6,
    "start_time": "2022-03-13T09:44:02.313Z"
   },
   {
    "duration": 7,
    "start_time": "2022-03-13T09:44:02.947Z"
   },
   {
    "duration": 6,
    "start_time": "2022-03-13T09:44:03.497Z"
   },
   {
    "duration": 26,
    "start_time": "2022-03-13T09:54:29.815Z"
   },
   {
    "duration": 4,
    "start_time": "2022-03-13T09:56:08.592Z"
   },
   {
    "duration": 7,
    "start_time": "2022-03-13T09:56:09.690Z"
   },
   {
    "duration": 476,
    "start_time": "2022-03-13T09:56:11.997Z"
   },
   {
    "duration": -152,
    "start_time": "2022-03-13T09:56:12.630Z"
   },
   {
    "duration": 5,
    "start_time": "2022-03-13T09:56:19.552Z"
   },
   {
    "duration": 6,
    "start_time": "2022-03-13T09:56:20.044Z"
   },
   {
    "duration": 3,
    "start_time": "2022-03-13T09:56:21.394Z"
   },
   {
    "duration": 229,
    "start_time": "2022-03-13T09:59:37.760Z"
   },
   {
    "duration": 268,
    "start_time": "2022-03-13T09:59:41.954Z"
   },
   {
    "duration": 9,
    "start_time": "2022-03-13T10:00:08.378Z"
   },
   {
    "duration": 6,
    "start_time": "2022-03-13T10:02:09.793Z"
   },
   {
    "duration": 6,
    "start_time": "2022-03-13T10:09:33.450Z"
   },
   {
    "duration": 379,
    "start_time": "2022-03-13T10:09:58.568Z"
   },
   {
    "duration": 6,
    "start_time": "2022-03-13T10:11:13.418Z"
   },
   {
    "duration": 11,
    "start_time": "2022-03-13T10:11:17.324Z"
   },
   {
    "duration": 8,
    "start_time": "2022-03-13T10:11:29.062Z"
   },
   {
    "duration": 4,
    "start_time": "2022-03-13T10:11:32.301Z"
   },
   {
    "duration": 83,
    "start_time": "2022-03-13T10:11:45.216Z"
   },
   {
    "duration": 3,
    "start_time": "2022-03-13T10:11:52.153Z"
   },
   {
    "duration": 14,
    "start_time": "2022-03-13T10:12:30.479Z"
   },
   {
    "duration": 7,
    "start_time": "2022-03-13T10:12:31.677Z"
   },
   {
    "duration": 7,
    "start_time": "2022-03-13T10:12:36.917Z"
   },
   {
    "duration": 4,
    "start_time": "2022-03-13T10:12:37.096Z"
   },
   {
    "duration": 6,
    "start_time": "2022-03-13T10:12:41.023Z"
   },
   {
    "duration": 7,
    "start_time": "2022-03-13T10:12:41.338Z"
   },
   {
    "duration": 4,
    "start_time": "2022-03-13T10:12:44.013Z"
   },
   {
    "duration": 7,
    "start_time": "2022-03-13T10:13:17.721Z"
   },
   {
    "duration": 5,
    "start_time": "2022-03-13T10:13:19.192Z"
   },
   {
    "duration": 6,
    "start_time": "2022-03-13T10:13:19.410Z"
   },
   {
    "duration": 5,
    "start_time": "2022-03-13T10:13:23.431Z"
   },
   {
    "duration": 8,
    "start_time": "2022-03-13T10:13:48.822Z"
   },
   {
    "duration": 7,
    "start_time": "2022-03-13T10:13:49.122Z"
   },
   {
    "duration": 3,
    "start_time": "2022-03-13T10:13:51.241Z"
   },
   {
    "duration": 6,
    "start_time": "2022-03-13T10:13:58.320Z"
   },
   {
    "duration": 4,
    "start_time": "2022-03-13T10:13:58.550Z"
   },
   {
    "duration": 4,
    "start_time": "2022-03-13T10:14:03.413Z"
   },
   {
    "duration": 7,
    "start_time": "2022-03-13T10:14:11.598Z"
   },
   {
    "duration": 6,
    "start_time": "2022-03-13T10:14:20.463Z"
   },
   {
    "duration": 6,
    "start_time": "2022-03-13T10:14:21.197Z"
   },
   {
    "duration": 3,
    "start_time": "2022-03-13T10:14:21.504Z"
   },
   {
    "duration": 5,
    "start_time": "2022-03-13T10:14:36.030Z"
   },
   {
    "duration": 8,
    "start_time": "2022-03-13T10:14:36.741Z"
   },
   {
    "duration": 4,
    "start_time": "2022-03-13T10:14:36.956Z"
   },
   {
    "duration": 5,
    "start_time": "2022-03-13T10:15:34.730Z"
   },
   {
    "duration": 7,
    "start_time": "2022-03-13T10:15:35.380Z"
   },
   {
    "duration": 4,
    "start_time": "2022-03-13T10:15:35.638Z"
   },
   {
    "duration": 6,
    "start_time": "2022-03-13T10:15:38.886Z"
   },
   {
    "duration": 7,
    "start_time": "2022-03-13T10:15:39.215Z"
   },
   {
    "duration": 4,
    "start_time": "2022-03-13T10:15:39.468Z"
   },
   {
    "duration": 7,
    "start_time": "2022-03-13T10:15:41.891Z"
   },
   {
    "duration": 8,
    "start_time": "2022-03-13T10:15:42.136Z"
   },
   {
    "duration": 4,
    "start_time": "2022-03-13T10:15:42.355Z"
   },
   {
    "duration": 7,
    "start_time": "2022-03-13T10:15:50.580Z"
   },
   {
    "duration": 8,
    "start_time": "2022-03-13T10:15:50.918Z"
   },
   {
    "duration": 4,
    "start_time": "2022-03-13T10:15:51.177Z"
   },
   {
    "duration": 7,
    "start_time": "2022-03-13T10:15:55.692Z"
   },
   {
    "duration": 11,
    "start_time": "2022-03-13T10:15:55.994Z"
   },
   {
    "duration": 3,
    "start_time": "2022-03-13T10:15:56.246Z"
   },
   {
    "duration": 5,
    "start_time": "2022-03-13T10:15:59.648Z"
   },
   {
    "duration": 6,
    "start_time": "2022-03-13T10:16:01.111Z"
   },
   {
    "duration": 4,
    "start_time": "2022-03-13T10:16:01.481Z"
   },
   {
    "duration": 11,
    "start_time": "2022-03-13T10:16:07.489Z"
   },
   {
    "duration": 6,
    "start_time": "2022-03-13T10:16:07.832Z"
   },
   {
    "duration": 4,
    "start_time": "2022-03-13T10:16:08.753Z"
   },
   {
    "duration": 5,
    "start_time": "2022-03-13T10:16:28.450Z"
   },
   {
    "duration": 376,
    "start_time": "2022-03-13T10:16:28.801Z"
   },
   {
    "duration": -84,
    "start_time": "2022-03-13T10:16:29.263Z"
   },
   {
    "duration": 5,
    "start_time": "2022-03-13T10:16:50.127Z"
   },
   {
    "duration": 403,
    "start_time": "2022-03-13T10:16:50.644Z"
   },
   {
    "duration": 6,
    "start_time": "2022-03-13T10:17:08.259Z"
   },
   {
    "duration": 1642,
    "start_time": "2022-03-13T10:17:08.983Z"
   },
   {
    "duration": 4,
    "start_time": "2022-03-13T10:17:11.525Z"
   },
   {
    "duration": 4,
    "start_time": "2022-03-13T10:17:15.302Z"
   },
   {
    "duration": 153,
    "start_time": "2022-03-13T10:17:15.688Z"
   },
   {
    "duration": 4,
    "start_time": "2022-03-13T10:17:15.997Z"
   },
   {
    "duration": 5,
    "start_time": "2022-03-13T10:17:25.960Z"
   },
   {
    "duration": 388,
    "start_time": "2022-03-13T10:17:26.138Z"
   },
   {
    "duration": -80,
    "start_time": "2022-03-13T10:17:26.609Z"
   },
   {
    "duration": 5,
    "start_time": "2022-03-13T10:17:29.746Z"
   },
   {
    "duration": 2257,
    "start_time": "2022-03-13T10:17:30.248Z"
   },
   {
    "duration": 5,
    "start_time": "2022-03-13T10:17:34.807Z"
   },
   {
    "duration": 6,
    "start_time": "2022-03-13T10:19:51.234Z"
   },
   {
    "duration": 2040,
    "start_time": "2022-03-13T10:19:51.876Z"
   },
   {
    "duration": 1684,
    "start_time": "2022-03-13T10:20:02.579Z"
   },
   {
    "duration": 4,
    "start_time": "2022-03-13T10:20:06.612Z"
   },
   {
    "duration": 7,
    "start_time": "2022-03-13T10:20:25.307Z"
   },
   {
    "duration": 1752,
    "start_time": "2022-03-13T10:20:26.013Z"
   },
   {
    "duration": 8,
    "start_time": "2022-03-13T10:20:27.767Z"
   },
   {
    "duration": 6,
    "start_time": "2022-03-13T10:20:31.995Z"
   },
   {
    "duration": 8,
    "start_time": "2022-03-13T10:20:39.762Z"
   },
   {
    "duration": 1603,
    "start_time": "2022-03-13T10:20:40.092Z"
   },
   {
    "duration": 4,
    "start_time": "2022-03-13T10:20:41.697Z"
   },
   {
    "duration": 6,
    "start_time": "2022-03-13T10:20:52.879Z"
   },
   {
    "duration": 1653,
    "start_time": "2022-03-13T10:20:53.042Z"
   },
   {
    "duration": 171,
    "start_time": "2022-03-13T10:20:54.697Z"
   },
   {
    "duration": 7,
    "start_time": "2022-03-13T10:20:59.851Z"
   },
   {
    "duration": 2323,
    "start_time": "2022-03-13T10:21:00.292Z"
   },
   {
    "duration": 3,
    "start_time": "2022-03-13T10:21:02.618Z"
   },
   {
    "duration": 6,
    "start_time": "2022-03-13T10:21:05.635Z"
   },
   {
    "duration": 1568,
    "start_time": "2022-03-13T10:21:05.988Z"
   },
   {
    "duration": 11,
    "start_time": "2022-03-13T10:21:07.558Z"
   },
   {
    "duration": 7,
    "start_time": "2022-03-13T10:21:12.955Z"
   },
   {
    "duration": 1699,
    "start_time": "2022-03-13T10:21:13.176Z"
   },
   {
    "duration": 3,
    "start_time": "2022-03-13T10:21:14.877Z"
   },
   {
    "duration": 8,
    "start_time": "2022-03-13T10:22:17.103Z"
   },
   {
    "duration": 644,
    "start_time": "2022-03-13T10:22:17.280Z"
   },
   {
    "duration": -173,
    "start_time": "2022-03-13T10:22:18.099Z"
   },
   {
    "duration": 8,
    "start_time": "2022-03-13T10:22:34.456Z"
   },
   {
    "duration": 1591,
    "start_time": "2022-03-13T10:22:34.652Z"
   },
   {
    "duration": 1571,
    "start_time": "2022-03-13T10:22:36.466Z"
   },
   {
    "duration": 4,
    "start_time": "2022-03-13T10:22:38.039Z"
   },
   {
    "duration": 6,
    "start_time": "2022-03-13T10:22:41.204Z"
   },
   {
    "duration": 1570,
    "start_time": "2022-03-13T10:22:42.336Z"
   },
   {
    "duration": 4,
    "start_time": "2022-03-13T10:22:43.908Z"
   },
   {
    "duration": 6,
    "start_time": "2022-03-13T10:22:45.856Z"
   },
   {
    "duration": 1658,
    "start_time": "2022-03-13T10:22:46.130Z"
   },
   {
    "duration": 4,
    "start_time": "2022-03-13T10:22:47.790Z"
   },
   {
    "duration": 6,
    "start_time": "2022-03-13T10:22:48.731Z"
   },
   {
    "duration": 1562,
    "start_time": "2022-03-13T10:22:48.947Z"
   },
   {
    "duration": 4,
    "start_time": "2022-03-13T10:22:50.511Z"
   },
   {
    "duration": 12,
    "start_time": "2022-03-13T10:22:54.075Z"
   },
   {
    "duration": 1570,
    "start_time": "2022-03-13T10:22:54.323Z"
   },
   {
    "duration": 4,
    "start_time": "2022-03-13T10:22:55.894Z"
   },
   {
    "duration": 6,
    "start_time": "2022-03-13T10:23:05.053Z"
   },
   {
    "duration": 1584,
    "start_time": "2022-03-13T10:23:05.852Z"
   },
   {
    "duration": 5,
    "start_time": "2022-03-13T10:23:07.438Z"
   },
   {
    "duration": 293,
    "start_time": "2022-03-13T10:26:48.155Z"
   },
   {
    "duration": 4856,
    "start_time": "2022-03-13T10:26:55.425Z"
   },
   {
    "duration": 3,
    "start_time": "2022-03-13T10:28:57.401Z"
   },
   {
    "duration": 3,
    "start_time": "2022-03-13T10:29:33.955Z"
   },
   {
    "duration": 5,
    "start_time": "2022-03-13T10:29:50.354Z"
   },
   {
    "duration": 184,
    "start_time": "2022-03-13T10:30:28.055Z"
   },
   {
    "duration": 241,
    "start_time": "2022-03-13T10:32:00.701Z"
   },
   {
    "duration": 178,
    "start_time": "2022-03-13T10:32:05.120Z"
   },
   {
    "duration": 176,
    "start_time": "2022-03-13T10:32:18.326Z"
   },
   {
    "duration": 167,
    "start_time": "2022-03-13T10:32:27.130Z"
   },
   {
    "duration": 2238,
    "start_time": "2022-03-13T10:32:36.755Z"
   },
   {
    "duration": 2656,
    "start_time": "2022-03-13T10:32:38.996Z"
   },
   {
    "duration": 905,
    "start_time": "2022-03-13T10:32:41.655Z"
   },
   {
    "duration": 3,
    "start_time": "2022-03-13T10:32:42.562Z"
   },
   {
    "duration": 5,
    "start_time": "2022-03-13T10:32:42.567Z"
   },
   {
    "duration": 5,
    "start_time": "2022-03-13T10:32:42.574Z"
   },
   {
    "duration": 31,
    "start_time": "2022-03-13T10:32:42.580Z"
   },
   {
    "duration": 3,
    "start_time": "2022-03-13T10:32:42.613Z"
   },
   {
    "duration": 14,
    "start_time": "2022-03-13T10:32:42.618Z"
   },
   {
    "duration": 72,
    "start_time": "2022-03-13T10:32:42.634Z"
   },
   {
    "duration": 23,
    "start_time": "2022-03-13T10:32:42.708Z"
   },
   {
    "duration": 68,
    "start_time": "2022-03-13T10:32:42.732Z"
   },
   {
    "duration": 38,
    "start_time": "2022-03-13T10:32:42.802Z"
   },
   {
    "duration": 4,
    "start_time": "2022-03-13T10:32:42.842Z"
   },
   {
    "duration": 110,
    "start_time": "2022-03-13T10:32:42.863Z"
   },
   {
    "duration": 97,
    "start_time": "2022-03-13T10:32:42.975Z"
   },
   {
    "duration": 7,
    "start_time": "2022-03-13T10:32:43.074Z"
   },
   {
    "duration": 7,
    "start_time": "2022-03-13T10:32:43.083Z"
   },
   {
    "duration": 9,
    "start_time": "2022-03-13T10:32:43.091Z"
   },
   {
    "duration": 4,
    "start_time": "2022-03-13T10:32:43.102Z"
   },
   {
    "duration": 20,
    "start_time": "2022-03-13T10:32:43.107Z"
   },
   {
    "duration": 36,
    "start_time": "2022-03-13T10:32:43.129Z"
   },
   {
    "duration": 24,
    "start_time": "2022-03-13T10:32:43.168Z"
   },
   {
    "duration": 1539,
    "start_time": "2022-03-13T10:32:43.193Z"
   },
   {
    "duration": 4640,
    "start_time": "2022-03-13T10:32:44.733Z"
   },
   {
    "duration": 3,
    "start_time": "2022-03-13T10:32:49.375Z"
   },
   {
    "duration": 9,
    "start_time": "2022-03-13T10:33:45.345Z"
   },
   {
    "duration": 327,
    "start_time": "2022-03-13T10:35:09.324Z"
   },
   {
    "duration": 58,
    "start_time": "2022-03-13T10:35:37.428Z"
   },
   {
    "duration": 60,
    "start_time": "2022-03-13T10:35:40.442Z"
   },
   {
    "duration": 4,
    "start_time": "2022-03-13T10:35:46.751Z"
   },
   {
    "duration": 10,
    "start_time": "2022-03-13T10:36:23.318Z"
   },
   {
    "duration": 62,
    "start_time": "2022-03-13T10:46:02.726Z"
   },
   {
    "duration": 206,
    "start_time": "2022-03-13T10:46:58.289Z"
   },
   {
    "duration": 10,
    "start_time": "2022-03-13T10:47:21.241Z"
   },
   {
    "duration": 62,
    "start_time": "2022-03-13T10:47:35.514Z"
   },
   {
    "duration": 246,
    "start_time": "2022-03-13T10:47:41.978Z"
   },
   {
    "duration": 87,
    "start_time": "2022-03-13T10:47:53.089Z"
   },
   {
    "duration": 10,
    "start_time": "2022-03-13T10:48:01.674Z"
   },
   {
    "duration": 10,
    "start_time": "2022-03-13T10:48:20.328Z"
   },
   {
    "duration": 187,
    "start_time": "2022-03-13T10:48:27.698Z"
   },
   {
    "duration": 12,
    "start_time": "2022-03-13T10:48:33.604Z"
   },
   {
    "duration": 2392,
    "start_time": "2022-03-13T10:51:03.067Z"
   },
   {
    "duration": 2730,
    "start_time": "2022-03-13T10:51:05.462Z"
   },
   {
    "duration": 392,
    "start_time": "2022-03-13T10:51:08.194Z"
   },
   {
    "duration": 15,
    "start_time": "2022-03-13T10:51:08.589Z"
   },
   {
    "duration": 12,
    "start_time": "2022-03-13T10:51:08.605Z"
   },
   {
    "duration": 11,
    "start_time": "2022-03-13T10:51:08.618Z"
   },
   {
    "duration": 51,
    "start_time": "2022-03-13T10:51:08.631Z"
   },
   {
    "duration": 2,
    "start_time": "2022-03-13T10:51:08.685Z"
   },
   {
    "duration": 14,
    "start_time": "2022-03-13T10:51:08.689Z"
   },
   {
    "duration": 65,
    "start_time": "2022-03-13T10:51:08.705Z"
   },
   {
    "duration": 28,
    "start_time": "2022-03-13T10:51:08.772Z"
   },
   {
    "duration": 90,
    "start_time": "2022-03-13T10:51:08.802Z"
   },
   {
    "duration": 39,
    "start_time": "2022-03-13T10:51:08.895Z"
   },
   {
    "duration": 3,
    "start_time": "2022-03-13T10:51:08.936Z"
   },
   {
    "duration": 133,
    "start_time": "2022-03-13T10:51:08.941Z"
   },
   {
    "duration": 193,
    "start_time": "2022-03-13T10:51:09.077Z"
   },
   {
    "duration": 11,
    "start_time": "2022-03-13T10:51:09.272Z"
   },
   {
    "duration": 8,
    "start_time": "2022-03-13T10:51:09.284Z"
   },
   {
    "duration": 8,
    "start_time": "2022-03-13T10:51:09.294Z"
   },
   {
    "duration": 4,
    "start_time": "2022-03-13T10:51:09.306Z"
   },
   {
    "duration": 21,
    "start_time": "2022-03-13T10:51:09.311Z"
   },
   {
    "duration": 32,
    "start_time": "2022-03-13T10:51:09.333Z"
   },
   {
    "duration": 7,
    "start_time": "2022-03-13T10:51:09.368Z"
   },
   {
    "duration": 1572,
    "start_time": "2022-03-13T10:51:09.376Z"
   },
   {
    "duration": 4682,
    "start_time": "2022-03-13T10:51:10.950Z"
   },
   {
    "duration": 10,
    "start_time": "2022-03-13T10:51:15.634Z"
   },
   {
    "duration": 2928,
    "start_time": "2022-03-13T10:59:18.507Z"
   },
   {
    "duration": 9,
    "start_time": "2022-03-13T10:59:24.565Z"
   },
   {
    "duration": 464,
    "start_time": "2022-03-13T10:59:30.465Z"
   },
   {
    "duration": 17,
    "start_time": "2022-03-13T10:59:31.627Z"
   },
   {
    "duration": 3242,
    "start_time": "2022-03-13T11:00:05.163Z"
   },
   {
    "duration": 3272,
    "start_time": "2022-03-13T11:00:08.407Z"
   },
   {
    "duration": 452,
    "start_time": "2022-03-13T11:00:11.683Z"
   },
   {
    "duration": 15,
    "start_time": "2022-03-13T11:00:12.137Z"
   },
   {
    "duration": 24,
    "start_time": "2022-03-13T11:00:12.153Z"
   },
   {
    "duration": 19,
    "start_time": "2022-03-13T11:00:12.181Z"
   },
   {
    "duration": 27,
    "start_time": "2022-03-13T11:00:12.202Z"
   },
   {
    "duration": 3,
    "start_time": "2022-03-13T11:00:12.231Z"
   },
   {
    "duration": 30,
    "start_time": "2022-03-13T11:00:12.264Z"
   },
   {
    "duration": 54,
    "start_time": "2022-03-13T11:00:12.299Z"
   },
   {
    "duration": 25,
    "start_time": "2022-03-13T11:00:12.355Z"
   },
   {
    "duration": 60,
    "start_time": "2022-03-13T11:00:12.382Z"
   },
   {
    "duration": 58,
    "start_time": "2022-03-13T11:00:12.444Z"
   },
   {
    "duration": 4,
    "start_time": "2022-03-13T11:00:12.504Z"
   },
   {
    "duration": 72,
    "start_time": "2022-03-13T11:00:12.510Z"
   },
   {
    "duration": 48,
    "start_time": "2022-03-13T11:00:12.663Z"
   },
   {
    "duration": 9,
    "start_time": "2022-03-13T11:00:12.712Z"
   },
   {
    "duration": 4,
    "start_time": "2022-03-13T11:00:12.763Z"
   },
   {
    "duration": 24,
    "start_time": "2022-03-13T11:00:12.769Z"
   },
   {
    "duration": 18,
    "start_time": "2022-03-13T11:00:12.795Z"
   },
   {
    "duration": 27,
    "start_time": "2022-03-13T11:00:12.815Z"
   },
   {
    "duration": 3,
    "start_time": "2022-03-13T11:00:12.844Z"
   },
   {
    "duration": 26,
    "start_time": "2022-03-13T11:00:12.849Z"
   },
   {
    "duration": 2292,
    "start_time": "2022-03-13T11:00:12.877Z"
   },
   {
    "duration": 6528,
    "start_time": "2022-03-13T11:00:15.174Z"
   },
   {
    "duration": 10,
    "start_time": "2022-03-13T11:00:21.703Z"
   },
   {
    "duration": 67,
    "start_time": "2022-03-13T11:00:59.724Z"
   },
   {
    "duration": -178,
    "start_time": "2022-03-13T11:00:59.972Z"
   },
   {
    "duration": -189,
    "start_time": "2022-03-13T11:00:59.984Z"
   },
   {
    "duration": -193,
    "start_time": "2022-03-13T11:00:59.989Z"
   },
   {
    "duration": -196,
    "start_time": "2022-03-13T11:00:59.993Z"
   },
   {
    "duration": -206,
    "start_time": "2022-03-13T11:01:00.004Z"
   },
   {
    "duration": -209,
    "start_time": "2022-03-13T11:01:00.008Z"
   },
   {
    "duration": -212,
    "start_time": "2022-03-13T11:01:00.012Z"
   },
   {
    "duration": -215,
    "start_time": "2022-03-13T11:01:00.016Z"
   },
   {
    "duration": -219,
    "start_time": "2022-03-13T11:01:00.021Z"
   },
   {
    "duration": -223,
    "start_time": "2022-03-13T11:01:00.026Z"
   },
   {
    "duration": -225,
    "start_time": "2022-03-13T11:01:00.029Z"
   },
   {
    "duration": -227,
    "start_time": "2022-03-13T11:01:00.032Z"
   },
   {
    "duration": -237,
    "start_time": "2022-03-13T11:01:00.043Z"
   },
   {
    "duration": -238,
    "start_time": "2022-03-13T11:01:00.045Z"
   },
   {
    "duration": -240,
    "start_time": "2022-03-13T11:01:00.048Z"
   },
   {
    "duration": -241,
    "start_time": "2022-03-13T11:01:00.050Z"
   },
   {
    "duration": -242,
    "start_time": "2022-03-13T11:01:00.052Z"
   },
   {
    "duration": -242,
    "start_time": "2022-03-13T11:01:00.054Z"
   },
   {
    "duration": -244,
    "start_time": "2022-03-13T11:01:00.057Z"
   },
   {
    "duration": -246,
    "start_time": "2022-03-13T11:01:00.059Z"
   },
   {
    "duration": -246,
    "start_time": "2022-03-13T11:01:00.061Z"
   },
   {
    "duration": -247,
    "start_time": "2022-03-13T11:01:00.063Z"
   },
   {
    "duration": -254,
    "start_time": "2022-03-13T11:01:00.071Z"
   },
   {
    "duration": -254,
    "start_time": "2022-03-13T11:01:00.073Z"
   },
   {
    "duration": -257,
    "start_time": "2022-03-13T11:01:00.077Z"
   },
   {
    "duration": 7012,
    "start_time": "2022-03-13T11:01:11.734Z"
   },
   {
    "duration": 2760,
    "start_time": "2022-03-13T11:01:18.749Z"
   },
   {
    "duration": 378,
    "start_time": "2022-03-13T11:01:21.514Z"
   },
   {
    "duration": 13149,
    "start_time": "2022-03-13T11:01:21.894Z"
   },
   {
    "duration": 13880,
    "start_time": "2022-03-13T11:01:35.045Z"
   },
   {
    "duration": 14239,
    "start_time": "2022-03-13T11:01:48.927Z"
   },
   {
    "duration": 31,
    "start_time": "2022-03-13T11:02:03.169Z"
   },
   {
    "duration": 3,
    "start_time": "2022-03-13T11:02:03.203Z"
   },
   {
    "duration": 63,
    "start_time": "2022-03-13T11:02:03.208Z"
   },
   {
    "duration": 43,
    "start_time": "2022-03-13T11:02:03.277Z"
   },
   {
    "duration": 46,
    "start_time": "2022-03-13T11:02:03.322Z"
   },
   {
    "duration": 57,
    "start_time": "2022-03-13T11:02:03.371Z"
   },
   {
    "duration": 50,
    "start_time": "2022-03-13T11:02:03.430Z"
   },
   {
    "duration": 3,
    "start_time": "2022-03-13T11:02:03.481Z"
   },
   {
    "duration": 26,
    "start_time": "2022-03-13T11:02:03.486Z"
   },
   {
    "duration": 66,
    "start_time": "2022-03-13T11:02:03.514Z"
   },
   {
    "duration": 96,
    "start_time": "2022-03-13T11:02:03.583Z"
   },
   {
    "duration": 9,
    "start_time": "2022-03-13T11:02:03.681Z"
   },
   {
    "duration": 10,
    "start_time": "2022-03-13T11:02:03.692Z"
   },
   {
    "duration": 7,
    "start_time": "2022-03-13T11:02:03.704Z"
   },
   {
    "duration": 21,
    "start_time": "2022-03-13T11:02:03.713Z"
   },
   {
    "duration": 4,
    "start_time": "2022-03-13T11:02:03.762Z"
   },
   {
    "duration": 13,
    "start_time": "2022-03-13T11:02:03.770Z"
   },
   {
    "duration": 1620,
    "start_time": "2022-03-13T11:02:03.785Z"
   },
   {
    "duration": 4856,
    "start_time": "2022-03-13T11:02:05.407Z"
   },
   {
    "duration": 17,
    "start_time": "2022-03-13T11:02:10.265Z"
   },
   {
    "duration": 390,
    "start_time": "2022-03-13T11:28:54.442Z"
   },
   {
    "duration": 1099,
    "start_time": "2022-03-13T11:29:02.499Z"
   },
   {
    "duration": 449,
    "start_time": "2022-03-13T11:29:03.864Z"
   },
   {
    "duration": 647,
    "start_time": "2022-03-13T11:29:11.091Z"
   },
   {
    "duration": 493,
    "start_time": "2022-03-13T11:29:14.674Z"
   },
   {
    "duration": 42,
    "start_time": "2022-03-13T11:29:20.384Z"
   },
   {
    "duration": 4,
    "start_time": "2022-03-13T11:30:34.224Z"
   },
   {
    "duration": 16,
    "start_time": "2022-03-13T11:30:34.795Z"
   },
   {
    "duration": 62,
    "start_time": "2022-03-13T11:30:36.201Z"
   },
   {
    "duration": 32,
    "start_time": "2022-03-13T11:30:36.787Z"
   },
   {
    "duration": 86,
    "start_time": "2022-03-13T11:30:38.313Z"
   },
   {
    "duration": 64,
    "start_time": "2022-03-13T11:30:38.828Z"
   },
   {
    "duration": 5,
    "start_time": "2022-03-13T11:31:23.605Z"
   },
   {
    "duration": 47,
    "start_time": "2022-03-13T11:31:24.199Z"
   },
   {
    "duration": 23,
    "start_time": "2022-03-13T11:31:25.626Z"
   },
   {
    "duration": 12,
    "start_time": "2022-03-13T11:31:28.106Z"
   },
   {
    "duration": 4,
    "start_time": "2022-03-13T11:32:14.726Z"
   },
   {
    "duration": 12,
    "start_time": "2022-03-13T11:32:14.733Z"
   },
   {
    "duration": 5,
    "start_time": "2022-03-13T11:32:51.267Z"
   },
   {
    "duration": 29,
    "start_time": "2022-03-13T11:32:51.788Z"
   },
   {
    "duration": 5,
    "start_time": "2022-03-13T11:33:22.557Z"
   },
   {
    "duration": 8,
    "start_time": "2022-03-13T11:33:23.183Z"
   },
   {
    "duration": 5855,
    "start_time": "2022-03-13T11:33:24.105Z"
   },
   {
    "duration": 17544,
    "start_time": "2022-03-13T11:33:29.963Z"
   },
   {
    "duration": 24,
    "start_time": "2022-03-13T11:33:47.511Z"
   },
   {
    "duration": 49027,
    "start_time": "2022-03-13T17:28:46.640Z"
   },
   {
    "duration": 4247,
    "start_time": "2022-03-13T17:29:35.670Z"
   },
   {
    "duration": 414,
    "start_time": "2022-03-13T17:29:39.920Z"
   },
   {
    "duration": 17131,
    "start_time": "2022-03-13T17:29:40.337Z"
   },
   {
    "duration": 16802,
    "start_time": "2022-03-13T17:29:57.470Z"
   },
   {
    "duration": 16805,
    "start_time": "2022-03-13T17:30:14.275Z"
   },
   {
    "duration": 76,
    "start_time": "2022-03-13T17:30:31.083Z"
   },
   {
    "duration": 4,
    "start_time": "2022-03-13T17:30:31.163Z"
   },
   {
    "duration": 14,
    "start_time": "2022-03-13T17:30:31.170Z"
   },
   {
    "duration": 106,
    "start_time": "2022-03-13T17:30:31.187Z"
   },
   {
    "duration": 30,
    "start_time": "2022-03-13T17:30:31.295Z"
   },
   {
    "duration": 97,
    "start_time": "2022-03-13T17:30:31.328Z"
   },
   {
    "duration": 73,
    "start_time": "2022-03-13T17:30:31.428Z"
   },
   {
    "duration": 5,
    "start_time": "2022-03-13T17:30:31.503Z"
   },
   {
    "duration": 245,
    "start_time": "2022-03-13T17:30:31.510Z"
   },
   {
    "duration": 194,
    "start_time": "2022-03-13T17:30:31.759Z"
   },
   {
    "duration": 13,
    "start_time": "2022-03-13T17:30:31.955Z"
   },
   {
    "duration": 7,
    "start_time": "2022-03-13T17:30:31.970Z"
   },
   {
    "duration": 12,
    "start_time": "2022-03-13T17:30:31.980Z"
   },
   {
    "duration": 4,
    "start_time": "2022-03-13T17:30:31.995Z"
   },
   {
    "duration": 71,
    "start_time": "2022-03-13T17:30:32.002Z"
   },
   {
    "duration": 5,
    "start_time": "2022-03-13T17:30:32.075Z"
   },
   {
    "duration": 13,
    "start_time": "2022-03-13T17:30:32.084Z"
   },
   {
    "duration": 2404,
    "start_time": "2022-03-13T17:30:32.100Z"
   },
   {
    "duration": 7569,
    "start_time": "2022-03-13T17:30:34.507Z"
   },
   {
    "duration": 14,
    "start_time": "2022-03-13T17:30:42.079Z"
   },
   {
    "duration": 122,
    "start_time": "2022-03-14T12:47:08.488Z"
   }
  ],
  "kernelspec": {
   "display_name": "Python 3 (ipykernel)",
   "language": "python",
   "name": "python3"
  },
  "language_info": {
   "codemirror_mode": {
    "name": "ipython",
    "version": 3
   },
   "file_extension": ".py",
   "mimetype": "text/x-python",
   "name": "python",
   "nbconvert_exporter": "python",
   "pygments_lexer": "ipython3",
   "version": "3.10.12"
  },
  "toc": {
   "base_numbering": 1,
   "nav_menu": {},
   "number_sections": true,
   "sideBar": true,
   "skip_h1_title": true,
   "title_cell": "Table of Contents",
   "title_sidebar": "Contents",
   "toc_cell": false,
   "toc_position": {
    "height": "calc(100% - 180px)",
    "left": "10px",
    "top": "150px",
    "width": "164.988px"
   },
   "toc_section_display": true,
   "toc_window_display": false
  }
 },
 "nbformat": 4,
 "nbformat_minor": 2
}
